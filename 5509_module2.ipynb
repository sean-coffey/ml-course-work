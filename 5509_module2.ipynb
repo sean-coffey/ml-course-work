{
 "cells": [
  {
   "cell_type": "markdown",
   "metadata": {
    "deletable": false,
    "editable": false,
    "nbgrader": {
     "cell_type": "markdown",
     "checksum": "9b94c0552360fd39a72a27fbf2d6a549",
     "grade": false,
     "grade_id": "cell-4987257505ec9884",
     "locked": true,
     "schema_version": 3,
     "solution": false,
     "task": false
    }
   },
   "source": [
    "### WARNING\n",
    "Please refrain from using **print statements/anything that dumps large outputs(>500 lines) to STDOUT** to avoid running to into **memory issues**. \n",
    "Doing so requires your entire lab to be reset which may also result in loss of progress and you will be required to reach out to Coursera for assistance with this.\n",
    "This process usually takes time causing delays to your submission."
   ]
  },
  {
   "cell_type": "markdown",
   "metadata": {
    "deletable": false,
    "editable": false,
    "nbgrader": {
     "cell_type": "markdown",
     "checksum": "7b8938a1b09f02ca333311638e75dc1b",
     "grade": false,
     "grade_id": "cell-77449491740be285",
     "locked": true,
     "schema_version": 3,
     "solution": false,
     "task": false
    }
   },
   "source": [
    "### Validate Button\n",
    "Please note that this assignment uses nbgrader to facilitate grading. You will see a **validate button** at the top of your Jupyter notebook. If you hit this button, it will run tests cases for the lab that aren't hidden. It is good to use the validate button before submitting the lab. Do know that the labs in the course contain hidden test cases. The validate button will not let you know whether these test cases pass. After submitting your lab, you can see more information about these hidden test cases in the Grader Output. <br>\n",
    "***Cells with longer execution times will cause the validate button to time out and freeze. Please know that if you run into Validate time-outs, it will not affect the final submission grading.*** <br>"
   ]
  },
  {
   "cell_type": "code",
   "metadata": {
    "deletable": false,
    "editable": false,
    "nbgrader": {
     "cell_type": "code",
     "checksum": "5fcf04359e4f58318a4f49068f7ed7cc",
     "grade": false,
     "grade_id": "cell-e4b3b8e5dba94833",
     "locked": true,
     "schema_version": 3,
     "solution": false,
     "task": false
    },
    "ExecuteTime": {
     "end_time": "2025-09-02T09:37:04.989403Z",
     "start_time": "2025-09-02T09:37:04.639619Z"
    }
   },
   "source": [
    "%matplotlib inline\n",
    "import numpy as np\n",
    "import scipy as sp\n",
    "import scipy.stats as stats\n",
    "import pandas as pd\n",
    "import matplotlib.pyplot as plt\n",
    "import seaborn as sns\n",
    "# Set color map to have light blue background\n",
    "sns.set()\n",
    "import statsmodels.formula.api as smf\n",
    "import statsmodels.api as sm"
   ],
   "outputs": [],
   "execution_count": 1
  },
  {
   "cell_type": "markdown",
   "metadata": {
    "deletable": false,
    "editable": false,
    "nbgrader": {
     "cell_type": "markdown",
     "checksum": "5321ddafe1d106af0ce1198bbe0bf5b1",
     "grade": false,
     "grade_id": "cell-9053db523658abe7",
     "locked": true,
     "schema_version": 3,
     "solution": false,
     "task": false
    }
   },
   "source": [
    "N.B.: I recommend that you use the `statsmodel` library to do the regression analysis as opposed to *e.g.* `sklearn`. The `sklearn` library is great for advanced topics, but it's easier to get lost in a sea of details and it's not needed for these problems."
   ]
  },
  {
   "cell_type": "markdown",
   "metadata": {
    "deletable": false,
    "editable": false,
    "nbgrader": {
     "cell_type": "markdown",
     "checksum": "941726f345e5985f9de17219118382c0",
     "grade": false,
     "grade_id": "cell-b1e4ef7d92635e96",
     "locked": true,
     "schema_version": 3,
     "solution": false,
     "task": false
    }
   },
   "source": [
    "# 1.  Polynomial regression using MPG data [25 pts, Peer Review]\n",
    "We will be using Auto MPG data from UCI datasets (https://archive.ics.uci.edu/ml/datasets/Auto+MPG) to study polynomial regression."
   ]
  },
  {
   "cell_type": "code",
   "metadata": {
    "deletable": false,
    "editable": false,
    "nbgrader": {
     "cell_type": "code",
     "checksum": "99b68acb494ea289b6845d14c5621157",
     "grade": false,
     "grade_id": "cell-6ab9f7cc3182ff00",
     "locked": true,
     "schema_version": 3,
     "solution": false,
     "task": false
    },
    "ExecuteTime": {
     "end_time": "2025-09-02T09:55:32.858360Z",
     "start_time": "2025-09-02T09:55:32.841808Z"
    }
   },
   "source": [
    "columns = ['mpg','cylinders','displacement','horsepower','weight','acceleration','model_year','origin','car_name']\n",
    "df = pd.read_csv(\"data/auto-mpg.data\", header=None, delimiter=r\"\\s+\", names=columns) \n",
    "print(df.info())\n",
    "df.describe()"
   ],
   "outputs": [
    {
     "name": "stdout",
     "output_type": "stream",
     "text": [
      "<class 'pandas.core.frame.DataFrame'>\n",
      "RangeIndex: 398 entries, 0 to 397\n",
      "Data columns (total 9 columns):\n",
      " #   Column        Non-Null Count  Dtype  \n",
      "---  ------        --------------  -----  \n",
      " 0   mpg           398 non-null    float64\n",
      " 1   cylinders     398 non-null    int64  \n",
      " 2   displacement  398 non-null    float64\n",
      " 3   horsepower    398 non-null    object \n",
      " 4   weight        398 non-null    float64\n",
      " 5   acceleration  398 non-null    float64\n",
      " 6   model_year    398 non-null    int64  \n",
      " 7   origin        398 non-null    int64  \n",
      " 8   car_name      398 non-null    object \n",
      "dtypes: float64(4), int64(3), object(2)\n",
      "memory usage: 28.1+ KB\n",
      "None\n"
     ]
    },
    {
     "data": {
      "text/plain": [
       "              mpg   cylinders  displacement       weight  acceleration  \\\n",
       "count  398.000000  398.000000    398.000000   398.000000    398.000000   \n",
       "mean    23.514573    5.454774    193.425879  2970.424623     15.568090   \n",
       "std      7.815984    1.701004    104.269838   846.841774      2.757689   \n",
       "min      9.000000    3.000000     68.000000  1613.000000      8.000000   \n",
       "25%     17.500000    4.000000    104.250000  2223.750000     13.825000   \n",
       "50%     23.000000    4.000000    148.500000  2803.500000     15.500000   \n",
       "75%     29.000000    8.000000    262.000000  3608.000000     17.175000   \n",
       "max     46.600000    8.000000    455.000000  5140.000000     24.800000   \n",
       "\n",
       "       model_year      origin  \n",
       "count  398.000000  398.000000  \n",
       "mean    76.010050    1.572864  \n",
       "std      3.697627    0.802055  \n",
       "min     70.000000    1.000000  \n",
       "25%     73.000000    1.000000  \n",
       "50%     76.000000    1.000000  \n",
       "75%     79.000000    2.000000  \n",
       "max     82.000000    3.000000  "
      ],
      "text/html": [
       "<div>\n",
       "<style scoped>\n",
       "    .dataframe tbody tr th:only-of-type {\n",
       "        vertical-align: middle;\n",
       "    }\n",
       "\n",
       "    .dataframe tbody tr th {\n",
       "        vertical-align: top;\n",
       "    }\n",
       "\n",
       "    .dataframe thead th {\n",
       "        text-align: right;\n",
       "    }\n",
       "</style>\n",
       "<table border=\"1\" class=\"dataframe\">\n",
       "  <thead>\n",
       "    <tr style=\"text-align: right;\">\n",
       "      <th></th>\n",
       "      <th>mpg</th>\n",
       "      <th>cylinders</th>\n",
       "      <th>displacement</th>\n",
       "      <th>weight</th>\n",
       "      <th>acceleration</th>\n",
       "      <th>model_year</th>\n",
       "      <th>origin</th>\n",
       "    </tr>\n",
       "  </thead>\n",
       "  <tbody>\n",
       "    <tr>\n",
       "      <th>count</th>\n",
       "      <td>398.000000</td>\n",
       "      <td>398.000000</td>\n",
       "      <td>398.000000</td>\n",
       "      <td>398.000000</td>\n",
       "      <td>398.000000</td>\n",
       "      <td>398.000000</td>\n",
       "      <td>398.000000</td>\n",
       "    </tr>\n",
       "    <tr>\n",
       "      <th>mean</th>\n",
       "      <td>23.514573</td>\n",
       "      <td>5.454774</td>\n",
       "      <td>193.425879</td>\n",
       "      <td>2970.424623</td>\n",
       "      <td>15.568090</td>\n",
       "      <td>76.010050</td>\n",
       "      <td>1.572864</td>\n",
       "    </tr>\n",
       "    <tr>\n",
       "      <th>std</th>\n",
       "      <td>7.815984</td>\n",
       "      <td>1.701004</td>\n",
       "      <td>104.269838</td>\n",
       "      <td>846.841774</td>\n",
       "      <td>2.757689</td>\n",
       "      <td>3.697627</td>\n",
       "      <td>0.802055</td>\n",
       "    </tr>\n",
       "    <tr>\n",
       "      <th>min</th>\n",
       "      <td>9.000000</td>\n",
       "      <td>3.000000</td>\n",
       "      <td>68.000000</td>\n",
       "      <td>1613.000000</td>\n",
       "      <td>8.000000</td>\n",
       "      <td>70.000000</td>\n",
       "      <td>1.000000</td>\n",
       "    </tr>\n",
       "    <tr>\n",
       "      <th>25%</th>\n",
       "      <td>17.500000</td>\n",
       "      <td>4.000000</td>\n",
       "      <td>104.250000</td>\n",
       "      <td>2223.750000</td>\n",
       "      <td>13.825000</td>\n",
       "      <td>73.000000</td>\n",
       "      <td>1.000000</td>\n",
       "    </tr>\n",
       "    <tr>\n",
       "      <th>50%</th>\n",
       "      <td>23.000000</td>\n",
       "      <td>4.000000</td>\n",
       "      <td>148.500000</td>\n",
       "      <td>2803.500000</td>\n",
       "      <td>15.500000</td>\n",
       "      <td>76.000000</td>\n",
       "      <td>1.000000</td>\n",
       "    </tr>\n",
       "    <tr>\n",
       "      <th>75%</th>\n",
       "      <td>29.000000</td>\n",
       "      <td>8.000000</td>\n",
       "      <td>262.000000</td>\n",
       "      <td>3608.000000</td>\n",
       "      <td>17.175000</td>\n",
       "      <td>79.000000</td>\n",
       "      <td>2.000000</td>\n",
       "    </tr>\n",
       "    <tr>\n",
       "      <th>max</th>\n",
       "      <td>46.600000</td>\n",
       "      <td>8.000000</td>\n",
       "      <td>455.000000</td>\n",
       "      <td>5140.000000</td>\n",
       "      <td>24.800000</td>\n",
       "      <td>82.000000</td>\n",
       "      <td>3.000000</td>\n",
       "    </tr>\n",
       "  </tbody>\n",
       "</table>\n",
       "</div>"
      ]
     },
     "execution_count": 19,
     "metadata": {},
     "output_type": "execute_result"
    }
   ],
   "execution_count": 19
  },
  {
   "cell_type": "markdown",
   "metadata": {
    "deletable": false,
    "editable": false,
    "nbgrader": {
     "cell_type": "markdown",
     "checksum": "d66e4cc0322f58a9600526aad669d932",
     "grade": false,
     "grade_id": "cell-0970d31c4644246a",
     "locked": true,
     "schema_version": 3,
     "solution": false,
     "task": false
    }
   },
   "source": [
    "### 1a) Clean the data [5 pts] \n",
    "\n",
    "1. Fix data types\n",
    "2. Remove null or undefined values \n",
    "3. Drop the column car_name\n",
    "\n",
    "Replace the data frame with the cleaned data frame. Do not change the column names, and do not add new columns.\n",
    "\n",
    "Hint: 1. Dtype of one column is incorrect.  "
   ]
  },
  {
   "cell_type": "code",
   "metadata": {
    "deletable": false,
    "nbgrader": {
     "cell_type": "code",
     "checksum": "3d3715f95049cdf5a98cf782436c42d0",
     "grade": false,
     "grade_id": "cell-62afc4802962eabb",
     "locked": false,
     "schema_version": 3,
     "solution": true,
     "task": false
    },
    "ExecuteTime": {
     "end_time": "2025-09-02T09:57:07.936043Z",
     "start_time": "2025-09-02T09:57:07.927183Z"
    }
   },
   "source": [
    "# replace data frame with cleaned data frame\n",
    "# fix data types, remove null or undefined values, drop the column car_name\n",
    "# NOTE: do not change the column names or add new columns \n",
    "df['horsepower'] = pd.to_numeric(df['horsepower'], errors='coerce')\n",
    "print(df.isna().sum())\n",
    "print(df.loc[df.isnull().any(axis=1)])\n",
    "df.dropna(inplace=True)\n",
    "df.drop('car_name', axis=1, inplace=True)\n",
    "df.head()"
   ],
   "outputs": [
    {
     "name": "stdout",
     "output_type": "stream",
     "text": [
      "mpg             0\n",
      "cylinders       0\n",
      "displacement    0\n",
      "horsepower      0\n",
      "weight          0\n",
      "acceleration    0\n",
      "model_year      0\n",
      "origin          0\n",
      "car_name        0\n",
      "dtype: int64\n",
      "Empty DataFrame\n",
      "Columns: [mpg, cylinders, displacement, horsepower, weight, acceleration, model_year, origin, car_name]\n",
      "Index: []\n"
     ]
    },
    {
     "data": {
      "text/plain": [
       "    mpg  cylinders  displacement  horsepower  weight  acceleration  \\\n",
       "0  18.0          8         307.0       130.0  3504.0          12.0   \n",
       "1  15.0          8         350.0       165.0  3693.0          11.5   \n",
       "2  18.0          8         318.0       150.0  3436.0          11.0   \n",
       "3  16.0          8         304.0       150.0  3433.0          12.0   \n",
       "4  17.0          8         302.0       140.0  3449.0          10.5   \n",
       "\n",
       "   model_year  origin  \n",
       "0          70       1  \n",
       "1          70       1  \n",
       "2          70       1  \n",
       "3          70       1  \n",
       "4          70       1  "
      ],
      "text/html": [
       "<div>\n",
       "<style scoped>\n",
       "    .dataframe tbody tr th:only-of-type {\n",
       "        vertical-align: middle;\n",
       "    }\n",
       "\n",
       "    .dataframe tbody tr th {\n",
       "        vertical-align: top;\n",
       "    }\n",
       "\n",
       "    .dataframe thead th {\n",
       "        text-align: right;\n",
       "    }\n",
       "</style>\n",
       "<table border=\"1\" class=\"dataframe\">\n",
       "  <thead>\n",
       "    <tr style=\"text-align: right;\">\n",
       "      <th></th>\n",
       "      <th>mpg</th>\n",
       "      <th>cylinders</th>\n",
       "      <th>displacement</th>\n",
       "      <th>horsepower</th>\n",
       "      <th>weight</th>\n",
       "      <th>acceleration</th>\n",
       "      <th>model_year</th>\n",
       "      <th>origin</th>\n",
       "    </tr>\n",
       "  </thead>\n",
       "  <tbody>\n",
       "    <tr>\n",
       "      <th>0</th>\n",
       "      <td>18.0</td>\n",
       "      <td>8</td>\n",
       "      <td>307.0</td>\n",
       "      <td>130.0</td>\n",
       "      <td>3504.0</td>\n",
       "      <td>12.0</td>\n",
       "      <td>70</td>\n",
       "      <td>1</td>\n",
       "    </tr>\n",
       "    <tr>\n",
       "      <th>1</th>\n",
       "      <td>15.0</td>\n",
       "      <td>8</td>\n",
       "      <td>350.0</td>\n",
       "      <td>165.0</td>\n",
       "      <td>3693.0</td>\n",
       "      <td>11.5</td>\n",
       "      <td>70</td>\n",
       "      <td>1</td>\n",
       "    </tr>\n",
       "    <tr>\n",
       "      <th>2</th>\n",
       "      <td>18.0</td>\n",
       "      <td>8</td>\n",
       "      <td>318.0</td>\n",
       "      <td>150.0</td>\n",
       "      <td>3436.0</td>\n",
       "      <td>11.0</td>\n",
       "      <td>70</td>\n",
       "      <td>1</td>\n",
       "    </tr>\n",
       "    <tr>\n",
       "      <th>3</th>\n",
       "      <td>16.0</td>\n",
       "      <td>8</td>\n",
       "      <td>304.0</td>\n",
       "      <td>150.0</td>\n",
       "      <td>3433.0</td>\n",
       "      <td>12.0</td>\n",
       "      <td>70</td>\n",
       "      <td>1</td>\n",
       "    </tr>\n",
       "    <tr>\n",
       "      <th>4</th>\n",
       "      <td>17.0</td>\n",
       "      <td>8</td>\n",
       "      <td>302.0</td>\n",
       "      <td>140.0</td>\n",
       "      <td>3449.0</td>\n",
       "      <td>10.5</td>\n",
       "      <td>70</td>\n",
       "      <td>1</td>\n",
       "    </tr>\n",
       "  </tbody>\n",
       "</table>\n",
       "</div>"
      ]
     },
     "execution_count": 21,
     "metadata": {},
     "output_type": "execute_result"
    }
   ],
   "execution_count": 21
  },
  {
   "cell_type": "code",
   "metadata": {
    "deletable": false,
    "editable": false,
    "nbgrader": {
     "cell_type": "code",
     "checksum": "b73dab50aa3325ac620f85bd856bc662",
     "grade": true,
     "grade_id": "cell-3bb1f13b2e888fa2",
     "locked": true,
     "points": 5,
     "schema_version": 3,
     "solution": false,
     "task": false
    },
    "ExecuteTime": {
     "end_time": "2025-09-02T09:57:26.558170Z",
     "start_time": "2025-09-02T09:57:26.555402Z"
    }
   },
   "source": [
    "# this cell will test that you properly cleaned the dataframe "
   ],
   "outputs": [],
   "execution_count": 22
  },
  {
   "cell_type": "markdown",
   "metadata": {
    "deletable": false,
    "editable": false,
    "nbgrader": {
     "cell_type": "markdown",
     "checksum": "3c568a653610a889a8f07e47b03f9c17",
     "grade": false,
     "grade_id": "cell-cae84acc6222fae0",
     "locked": true,
     "schema_version": 3,
     "solution": false,
     "task": false
    }
   },
   "source": [
    "### 1b) Fit a simple linear regression model with a feature that maximizes $R^2$. [5 pts]\n",
    "Which feature is the best predictor, and the resulting r-squared value? Update your answer below."
   ]
  },
  {
   "cell_type": "code",
   "metadata": {
    "deletable": false,
    "nbgrader": {
     "cell_type": "code",
     "checksum": "85cafbf2b087159b9395f8c00b78d365",
     "grade": false,
     "grade_id": "cell-95afec916a05fed8",
     "locked": false,
     "schema_version": 3,
     "solution": true,
     "task": false
    },
    "ExecuteTime": {
     "end_time": "2025-09-02T10:17:03.291254Z",
     "start_time": "2025-09-02T10:17:03.264604Z"
    }
   },
   "source": [
    "predictors = df.columns[1:].to_list()\n",
    "results = {}\n",
    "for p in predictors:\n",
    "    formula = f'mpg ~ {p}'\n",
    "    model = smf.ols(formula=formula, data=df).fit()\n",
    "    R2 = float(model.rsquared)\n",
    "    results[p] = R2\n",
    "results = dict(sorted(results.items(), key=lambda x: x[1], reverse=True))\n",
    "for k, v in results.items():\n",
    "    print(f\"{k}: {v}\")\n",
    "\n",
    "best_predictor=max(results, key=results.get)\n",
    "best_r_squared=results[best_predictor]\n",
    "print(f\"Best predictor: {best_predictor}\")\n",
    "print(f\"Best r-squared: {best_r_squared}\")"
   ],
   "outputs": [
    {
     "name": "stdout",
     "output_type": "stream",
     "text": [
      "weight: 0.6926304331206254\n",
      "displacement: 0.6482294003193045\n",
      "horsepower: 0.6059482578894348\n",
      "cylinders: 0.6046889889441246\n",
      "model_year: 0.3370278133096226\n",
      "origin: 0.3194609386689675\n",
      "acceleration: 0.1792070501562547\n",
      "Best predictor: weight\n",
      "Best r-squared: 0.6926304331206254\n"
     ]
    }
   ],
   "execution_count": 31
  },
  {
   "cell_type": "code",
   "metadata": {
    "deletable": false,
    "editable": false,
    "nbgrader": {
     "cell_type": "code",
     "checksum": "17ae5a597735e5ef5199487fa27c7e43",
     "grade": true,
     "grade_id": "cell-a0a1c4e81af87837",
     "locked": true,
     "points": 5,
     "schema_version": 3,
     "solution": false,
     "task": false
    },
    "ExecuteTime": {
     "end_time": "2025-09-02T10:17:30.753206Z",
     "start_time": "2025-09-02T10:17:30.750649Z"
    }
   },
   "source": [
    "# this cell will test best_predictor and best_r_squared"
   ],
   "outputs": [],
   "execution_count": 32
  },
  {
   "cell_type": "markdown",
   "metadata": {
    "deletable": false,
    "editable": false,
    "nbgrader": {
     "cell_type": "markdown",
     "checksum": "03507eba7d8f7b250feb4379aacc2822",
     "grade": false,
     "grade_id": "cell-9decb69047193e5b",
     "locked": true,
     "schema_version": 3,
     "solution": false,
     "task": false
    }
   },
   "source": [
    "### 1c) Using the feature found above (without normalizing), fit polynomial regression up to N=10 and report $R^2$. Which polynomial degree gives the best result? [10 pts]\n",
    "Hint: For N-degree polynomial fit, **you have to include all orders upto N**. Use a for loop instead of running it manually. The `statsmodels.formula.api` formula string can understand **`np.power(x,n)`** function to include a feature representing $x^n$.\n",
    "\n",
    "For example, the formula for n = 4 ---> mpg ~ weight + np.power(weight,2) + np.power(weight,3) + np.power(weight,4)"
   ]
  },
  {
   "cell_type": "code",
   "metadata": {
    "deletable": false,
    "nbgrader": {
     "cell_type": "code",
     "checksum": "5eff5fe01be3ea4606103764c9baf7b0",
     "grade": false,
     "grade_id": "cell-006f7fbcfed58b23",
     "locked": false,
     "schema_version": 3,
     "solution": true,
     "task": false
    },
    "ExecuteTime": {
     "end_time": "2025-09-02T10:59:32.669894Z",
     "start_time": "2025-09-02T10:59:32.563760Z"
    }
   },
   "source": [
    "# return updated best_degree and best_r_squared \n",
    "# best_degree = 1\n",
    "# best_r_squared = 0\n",
    "def polyfit(best_predictor, data, N=10):\n",
    "    results = {}\n",
    "    for n in range(N):\n",
    "        degree = n + 1\n",
    "        formula_terms = [best_predictor] + [f'np.power({best_predictor},{i})' for i in range(2, degree+1)]\n",
    "        formula = 'mpg ~ ' + '+'.join(formula_terms)\n",
    "        model = smf.ols(formula=formula, data=data).fit()\n",
    "        print(model.summary())\n",
    "        results[degree] = model.rsquared\n",
    "    return results\n",
    "\n",
    "results = polyfit(best_predictor, df)\n",
    "for k, v in results.items():\n",
    "    print(f\"{k}: {v}\")\n",
    "\n",
    "best_degree = max(results, key=results.get)\n",
    "best_r_squared=results[best_degree]\n",
    "print(f\"Best degree: {best_degree}\")\n",
    "print(f\"Best r-squared: {best_r_squared}\")"
   ],
   "outputs": [
    {
     "name": "stdout",
     "output_type": "stream",
     "text": [
      "                            OLS Regression Results                            \n",
      "==============================================================================\n",
      "Dep. Variable:                    mpg   R-squared:                       0.693\n",
      "Model:                            OLS   Adj. R-squared:                  0.692\n",
      "Method:                 Least Squares   F-statistic:                     878.8\n",
      "Date:                Tue, 02 Sep 2025   Prob (F-statistic):          6.02e-102\n",
      "Time:                        11:59:32   Log-Likelihood:                -1130.0\n",
      "No. Observations:                 392   AIC:                             2264.\n",
      "Df Residuals:                     390   BIC:                             2272.\n",
      "Df Model:                           1                                         \n",
      "Covariance Type:            nonrobust                                         \n",
      "==============================================================================\n",
      "                 coef    std err          t      P>|t|      [0.025      0.975]\n",
      "------------------------------------------------------------------------------\n",
      "Intercept     46.2165      0.799     57.867      0.000      44.646      47.787\n",
      "weight        -0.0076      0.000    -29.645      0.000      -0.008      -0.007\n",
      "==============================================================================\n",
      "Omnibus:                       41.682   Durbin-Watson:                   0.808\n",
      "Prob(Omnibus):                  0.000   Jarque-Bera (JB):               60.039\n",
      "Skew:                           0.727   Prob(JB):                     9.18e-14\n",
      "Kurtosis:                       4.251   Cond. No.                     1.13e+04\n",
      "==============================================================================\n",
      "\n",
      "Notes:\n",
      "[1] Standard Errors assume that the covariance matrix of the errors is correctly specified.\n",
      "[2] The condition number is large, 1.13e+04. This might indicate that there are\n",
      "strong multicollinearity or other numerical problems.\n",
      "                            OLS Regression Results                            \n",
      "==============================================================================\n",
      "Dep. Variable:                    mpg   R-squared:                       0.715\n",
      "Model:                            OLS   Adj. R-squared:                  0.714\n",
      "Method:                 Least Squares   F-statistic:                     488.3\n",
      "Date:                Tue, 02 Sep 2025   Prob (F-statistic):          8.39e-107\n",
      "Time:                        11:59:32   Log-Likelihood:                -1115.1\n",
      "No. Observations:                 392   AIC:                             2236.\n",
      "Df Residuals:                     389   BIC:                             2248.\n",
      "Df Model:                           2                                         \n",
      "Covariance Type:            nonrobust                                         \n",
      "=======================================================================================\n",
      "                          coef    std err          t      P>|t|      [0.025      0.975]\n",
      "---------------------------------------------------------------------------------------\n",
      "Intercept              62.2555      2.993     20.800      0.000      56.371      68.140\n",
      "weight                 -0.0185      0.002     -9.379      0.000      -0.022      -0.015\n",
      "np.power(weight, 2)  1.697e-06   3.06e-07      5.545      0.000     1.1e-06     2.3e-06\n",
      "==============================================================================\n",
      "Omnibus:                       53.804   Durbin-Watson:                   0.770\n",
      "Prob(Omnibus):                  0.000   Jarque-Bera (JB):               93.923\n",
      "Skew:                           0.809   Prob(JB):                     4.03e-21\n",
      "Kurtosis:                       4.770   Cond. No.                     1.57e+08\n",
      "==============================================================================\n",
      "\n",
      "Notes:\n",
      "[1] Standard Errors assume that the covariance matrix of the errors is correctly specified.\n",
      "[2] The condition number is large, 1.57e+08. This might indicate that there are\n",
      "strong multicollinearity or other numerical problems.\n",
      "                            OLS Regression Results                            \n",
      "==============================================================================\n",
      "Dep. Variable:                    mpg   R-squared:                       0.715\n",
      "Model:                            OLS   Adj. R-squared:                  0.713\n",
      "Method:                 Least Squares   F-statistic:                     324.7\n",
      "Date:                Tue, 02 Sep 2025   Prob (F-statistic):          2.09e-105\n",
      "Time:                        11:59:32   Log-Likelihood:                -1115.1\n",
      "No. Observations:                 392   AIC:                             2238.\n",
      "Df Residuals:                     388   BIC:                             2254.\n",
      "Df Model:                           3                                         \n",
      "Covariance Type:            nonrobust                                         \n",
      "=======================================================================================\n",
      "                          coef    std err          t      P>|t|      [0.025      0.975]\n",
      "---------------------------------------------------------------------------------------\n",
      "Intercept              61.6952     11.043      5.587      0.000      39.984      83.407\n",
      "weight                 -0.0179      0.011     -1.643      0.101      -0.039       0.004\n",
      "np.power(weight, 2)  1.515e-06   3.45e-06      0.439      0.661   -5.27e-06     8.3e-06\n",
      "np.power(weight, 3)  1.846e-11    3.5e-10      0.053      0.958    -6.7e-10    7.07e-10\n",
      "==============================================================================\n",
      "Omnibus:                       53.711   Durbin-Watson:                   0.770\n",
      "Prob(Omnibus):                  0.000   Jarque-Bera (JB):               93.724\n",
      "Skew:                           0.808   Prob(JB):                     4.45e-21\n",
      "Kurtosis:                       4.768   Cond. No.                     2.27e+12\n",
      "==============================================================================\n",
      "\n",
      "Notes:\n",
      "[1] Standard Errors assume that the covariance matrix of the errors is correctly specified.\n",
      "[2] The condition number is large, 2.27e+12. This might indicate that there are\n",
      "strong multicollinearity or other numerical problems.\n",
      "                            OLS Regression Results                            \n",
      "==============================================================================\n",
      "Dep. Variable:                    mpg   R-squared:                       0.715\n",
      "Model:                            OLS   Adj. R-squared:                  0.713\n",
      "Method:                 Least Squares   F-statistic:                     324.2\n",
      "Date:                Tue, 02 Sep 2025   Prob (F-statistic):          2.63e-105\n",
      "Time:                        11:59:32   Log-Likelihood:                -1115.3\n",
      "No. Observations:                 392   AIC:                             2239.\n",
      "Df Residuals:                     388   BIC:                             2254.\n",
      "Df Model:                           3                                         \n",
      "Covariance Type:            nonrobust                                         \n",
      "=======================================================================================\n",
      "                          coef    std err          t      P>|t|      [0.025      0.975]\n",
      "---------------------------------------------------------------------------------------\n",
      "Intercept            8.409e-05   5.22e-06     16.105      0.000    7.38e-05    9.44e-05\n",
      "weight                  0.0639      0.004     16.105      0.000       0.056       0.072\n",
      "np.power(weight, 2)  -3.77e-05   3.72e-06    -10.137      0.000    -4.5e-05   -3.04e-05\n",
      "np.power(weight, 3)   8.07e-09   1.12e-09      7.224      0.000    5.87e-09    1.03e-08\n",
      "np.power(weight, 4) -5.996e-13   1.08e-13     -5.542      0.000   -8.12e-13   -3.87e-13\n",
      "==============================================================================\n",
      "Omnibus:                       51.631   Durbin-Watson:                   0.764\n",
      "Prob(Omnibus):                  0.000   Jarque-Bera (JB):               90.845\n",
      "Skew:                           0.777   Prob(JB):                     1.88e-20\n",
      "Kurtosis:                       4.774   Cond. No.                     3.32e+16\n",
      "==============================================================================\n",
      "\n",
      "Notes:\n",
      "[1] Standard Errors assume that the covariance matrix of the errors is correctly specified.\n",
      "[2] The condition number is large, 3.32e+16. This might indicate that there are\n",
      "strong multicollinearity or other numerical problems.\n",
      "                            OLS Regression Results                            \n",
      "==============================================================================\n",
      "Dep. Variable:                    mpg   R-squared:                       0.693\n",
      "Model:                            OLS   Adj. R-squared:                  0.691\n",
      "Method:                 Least Squares   F-statistic:                     292.6\n",
      "Date:                Tue, 02 Sep 2025   Prob (F-statistic):           3.17e-99\n",
      "Time:                        11:59:32   Log-Likelihood:                -1129.4\n",
      "No. Observations:                 392   AIC:                             2267.\n",
      "Df Residuals:                     388   BIC:                             2283.\n",
      "Df Model:                           3                                         \n",
      "Covariance Type:            nonrobust                                         \n",
      "=======================================================================================\n",
      "                          coef    std err          t      P>|t|      [0.025      0.975]\n",
      "---------------------------------------------------------------------------------------\n",
      "Intercept            4.355e-11    1.5e-12     29.073      0.000    4.06e-11    4.65e-11\n",
      "weight                 5.2e-08   1.79e-09     29.073      0.000    4.85e-08    5.55e-08\n",
      "np.power(weight, 2)  4.249e-05   1.46e-06     29.073      0.000    3.96e-05    4.54e-05\n",
      "np.power(weight, 3) -2.827e-08    1.3e-09    -21.829      0.000   -3.08e-08   -2.57e-08\n",
      "np.power(weight, 4)  6.478e-12    3.7e-13     17.503      0.000    5.75e-12    7.21e-12\n",
      "np.power(weight, 5) -5.017e-16   3.43e-17    -14.638      0.000   -5.69e-16   -4.34e-16\n",
      "==============================================================================\n",
      "Omnibus:                       38.869   Durbin-Watson:                   0.787\n",
      "Prob(Omnibus):                  0.000   Jarque-Bera (JB):               61.210\n",
      "Skew:                           0.648   Prob(JB):                     5.11e-14\n",
      "Kurtosis:                       4.438   Cond. No.                     5.11e+20\n",
      "==============================================================================\n",
      "\n",
      "Notes:\n",
      "[1] Standard Errors assume that the covariance matrix of the errors is correctly specified.\n",
      "[2] The condition number is large, 5.11e+20. This might indicate that there are\n",
      "strong multicollinearity or other numerical problems.\n",
      "                            OLS Regression Results                            \n",
      "==============================================================================\n",
      "Dep. Variable:                    mpg   R-squared:                       0.589\n",
      "Model:                            OLS   Adj. R-squared:                  0.586\n",
      "Method:                 Least Squares   F-statistic:                     185.2\n",
      "Date:                Tue, 02 Sep 2025   Prob (F-statistic):           1.61e-74\n",
      "Time:                        11:59:32   Log-Likelihood:                -1187.0\n",
      "No. Observations:                 392   AIC:                             2382.\n",
      "Df Residuals:                     388   BIC:                             2398.\n",
      "Df Model:                           3                                         \n",
      "Covariance Type:            nonrobust                                         \n",
      "=======================================================================================\n",
      "                          coef    std err          t      P>|t|      [0.025      0.975]\n",
      "---------------------------------------------------------------------------------------\n",
      "Intercept             1.37e-17   3.65e-19     37.523      0.000     1.3e-17    1.44e-17\n",
      "weight              -4.161e-13   1.11e-14    -37.523      0.000   -4.38e-13   -3.94e-13\n",
      "np.power(weight, 2)   2.73e-11   7.27e-13     37.523      0.000    2.59e-11    2.87e-11\n",
      "np.power(weight, 3)  2.253e-08      6e-10     37.523      0.000    2.14e-08    2.37e-08\n",
      "np.power(weight, 4) -1.552e-11   5.03e-13    -30.849      0.000   -1.65e-11   -1.45e-11\n",
      "np.power(weight, 5)  3.608e-15   1.37e-16     26.326      0.000    3.34e-15    3.88e-15\n",
      "np.power(weight, 6) -2.803e-19   1.22e-20    -23.053      0.000   -3.04e-19   -2.56e-19\n",
      "==============================================================================\n",
      "Omnibus:                       23.090   Durbin-Watson:                   0.908\n",
      "Prob(Omnibus):                  0.000   Jarque-Bera (JB):               26.698\n",
      "Skew:                           0.544   Prob(JB):                     1.59e-06\n",
      "Kurtosis:                       3.671   Cond. No.                     7.40e+24\n",
      "==============================================================================\n",
      "\n",
      "Notes:\n",
      "[1] Standard Errors assume that the covariance matrix of the errors is correctly specified.\n",
      "[2] The condition number is large, 7.4e+24. This might indicate that there are\n",
      "strong multicollinearity or other numerical problems.\n",
      "                            OLS Regression Results                            \n",
      "==============================================================================\n",
      "Dep. Variable:                    mpg   R-squared:                       0.296\n",
      "Model:                            OLS   Adj. R-squared:                  0.291\n",
      "Method:                 Least Squares   F-statistic:                     54.48\n",
      "Date:                Tue, 02 Sep 2025   Prob (F-statistic):           2.07e-29\n",
      "Time:                        11:59:32   Log-Likelihood:                -1292.3\n",
      "No. Observations:                 392   AIC:                             2593.\n",
      "Df Residuals:                     388   BIC:                             2608.\n",
      "Df Model:                           3                                         \n",
      "Covariance Type:            nonrobust                                         \n",
      "=======================================================================================\n",
      "                          coef    std err          t      P>|t|      [0.025      0.975]\n",
      "---------------------------------------------------------------------------------------\n",
      "Intercept            3.041e-24    8.3e-26     36.653      0.000    2.88e-24     3.2e-24\n",
      "weight               4.968e-15   1.36e-16     36.653      0.000     4.7e-15    5.23e-15\n",
      "np.power(weight, 2)  8.941e-18   2.44e-19     36.653      0.000    8.46e-18    9.42e-18\n",
      "np.power(weight, 3)  1.184e-14   3.23e-16     36.653      0.000    1.12e-14    1.25e-14\n",
      "np.power(weight, 4)  1.017e-11   2.78e-13     36.653      0.000    9.63e-12    1.07e-11\n",
      "np.power(weight, 5) -7.057e-15   2.21e-16    -31.937      0.000   -7.49e-15   -6.62e-15\n",
      "np.power(weight, 6)  1.636e-18   5.76e-20     28.434      0.000    1.52e-18    1.75e-18\n",
      "np.power(weight, 7) -1.263e-22   4.91e-24    -25.722      0.000   -1.36e-22   -1.17e-22\n",
      "==============================================================================\n",
      "Omnibus:                       22.999   Durbin-Watson:                   1.068\n",
      "Prob(Omnibus):                  0.000   Jarque-Bera (JB):               25.353\n",
      "Skew:                           0.599   Prob(JB):                     3.12e-06\n",
      "Kurtosis:                       3.341   Cond. No.                     1.05e+29\n",
      "==============================================================================\n",
      "\n",
      "Notes:\n",
      "[1] Standard Errors assume that the covariance matrix of the errors is correctly specified.\n",
      "[2] The condition number is large, 1.05e+29. This might indicate that there are\n",
      "strong multicollinearity or other numerical problems.\n",
      "                            OLS Regression Results                            \n",
      "==============================================================================\n",
      "Dep. Variable:                    mpg   R-squared:                      -0.288\n",
      "Model:                            OLS   Adj. R-squared:                 -0.298\n",
      "Method:                 Least Squares   F-statistic:                    -28.90\n",
      "Date:                Tue, 02 Sep 2025   Prob (F-statistic):               1.00\n",
      "Time:                        11:59:32   Log-Likelihood:                -1410.8\n",
      "No. Observations:                 392   AIC:                             2830.\n",
      "Df Residuals:                     388   BIC:                             2845.\n",
      "Df Model:                           3                                         \n",
      "Covariance Type:            nonrobust                                         \n",
      "=======================================================================================\n",
      "                          coef    std err          t      P>|t|      [0.025      0.975]\n",
      "---------------------------------------------------------------------------------------\n",
      "Intercept            5.028e-31   1.64e-32     30.732      0.000    4.71e-31    5.35e-31\n",
      "weight              -4.864e-18   1.58e-19    -30.732      0.000   -5.18e-18   -4.55e-18\n",
      "np.power(weight, 2)  7.566e-23   2.46e-24     30.732      0.000    7.08e-23    8.05e-23\n",
      "np.power(weight, 3)  3.202e-21   1.04e-22     30.732      0.000       3e-21    3.41e-21\n",
      "np.power(weight, 4)  4.466e-18   1.45e-19     30.732      0.000    4.18e-18    4.75e-18\n",
      "np.power(weight, 5)  3.994e-15    1.3e-16     30.732      0.000    3.74e-15    4.25e-15\n",
      "np.power(weight, 6) -2.756e-18   9.91e-20    -27.818      0.000   -2.95e-18   -2.56e-18\n",
      "np.power(weight, 7)  6.336e-22   2.48e-23     25.505      0.000    5.85e-22    6.82e-22\n",
      "np.power(weight, 8) -4.838e-26   2.05e-27    -23.622      0.000   -5.24e-26   -4.44e-26\n",
      "==============================================================================\n",
      "Omnibus:                       23.006   Durbin-Watson:                   1.125\n",
      "Prob(Omnibus):                  0.000   Jarque-Bera (JB):               25.555\n",
      "Skew:                           0.619   Prob(JB):                     2.82e-06\n",
      "Kurtosis:                       3.173   Cond. No.                     1.15e+33\n",
      "==============================================================================\n",
      "\n",
      "Notes:\n",
      "[1] Standard Errors assume that the covariance matrix of the errors is correctly specified.\n",
      "[2] The condition number is large, 1.15e+33. This might indicate that there are\n",
      "strong multicollinearity or other numerical problems.\n",
      "                            OLS Regression Results                            \n",
      "==============================================================================\n",
      "Dep. Variable:                    mpg   R-squared:                      -1.186\n",
      "Model:                            OLS   Adj. R-squared:                 -1.202\n",
      "Method:                 Least Squares   F-statistic:                    -70.16\n",
      "Date:                Tue, 02 Sep 2025   Prob (F-statistic):               1.00\n",
      "Time:                        11:59:32   Log-Likelihood:                -1514.4\n",
      "No. Observations:                 392   AIC:                             3037.\n",
      "Df Residuals:                     388   BIC:                             3053.\n",
      "Df Model:                           3                                         \n",
      "Covariance Type:            nonrobust                                         \n",
      "=======================================================================================\n",
      "                          coef    std err          t      P>|t|      [0.025      0.975]\n",
      "---------------------------------------------------------------------------------------\n",
      "Intercept            6.339e-38   2.59e-39     24.439      0.000    5.83e-38    6.85e-38\n",
      "weight               1.347e-21   5.51e-23     24.439      0.000    1.24e-21    1.46e-21\n",
      "np.power(weight, 2)  7.143e-26   2.92e-27     24.439      0.000    6.57e-26    7.72e-26\n",
      "np.power(weight, 3)  5.731e-28   2.34e-29     24.439      0.000    5.27e-28    6.19e-28\n",
      "np.power(weight, 4)  1.013e-24   4.15e-26     24.439      0.000    9.32e-25    1.09e-24\n",
      "np.power(weight, 5)  1.476e-21   6.04e-23     24.439      0.000    1.36e-21    1.59e-21\n",
      "np.power(weight, 6)  1.374e-18   5.62e-20     24.439      0.000    1.26e-18    1.48e-18\n",
      "np.power(weight, 7) -9.383e-22   4.14e-23    -22.659      0.000   -1.02e-21   -8.57e-22\n",
      "np.power(weight, 8)  2.131e-25   1.01e-26     21.178      0.000    1.93e-25    2.33e-25\n",
      "np.power(weight, 9) -1.608e-29   8.07e-31    -19.928      0.000   -1.77e-29   -1.45e-29\n",
      "==============================================================================\n",
      "Omnibus:                       18.226   Durbin-Watson:                   1.051\n",
      "Prob(Omnibus):                  0.000   Jarque-Bera (JB):               19.983\n",
      "Skew:                           0.547   Prob(JB):                     4.58e-05\n",
      "Kurtosis:                       2.835   Cond. No.                     2.40e+37\n",
      "==============================================================================\n",
      "\n",
      "Notes:\n",
      "[1] Standard Errors assume that the covariance matrix of the errors is correctly specified.\n",
      "[2] The condition number is large, 2.4e+37. This might indicate that there are\n",
      "strong multicollinearity or other numerical problems.\n",
      "                            OLS Regression Results                            \n",
      "==============================================================================\n",
      "Dep. Variable:                    mpg   R-squared:                      -2.286\n",
      "Model:                            OLS   Adj. R-squared:                 -2.311\n",
      "Method:                 Least Squares   F-statistic:                    -89.97\n",
      "Date:                Tue, 02 Sep 2025   Prob (F-statistic):               1.00\n",
      "Time:                        11:59:32   Log-Likelihood:                -1594.4\n",
      "No. Observations:                 392   AIC:                             3197.\n",
      "Df Residuals:                     388   BIC:                             3213.\n",
      "Df Model:                           3                                         \n",
      "Covariance Type:            nonrobust                                         \n",
      "========================================================================================\n",
      "                           coef    std err          t      P>|t|      [0.025      0.975]\n",
      "----------------------------------------------------------------------------------------\n",
      "Intercept             6.262e-45   3.24e-46     19.335      0.000    5.63e-45     6.9e-45\n",
      "weight               -3.709e-25   1.92e-26    -19.335      0.000   -4.09e-25   -3.33e-25\n",
      "np.power(weight, 2)   1.406e-29   7.27e-31     19.335      0.000    1.26e-29    1.55e-29\n",
      "np.power(weight, 3)  -3.867e-34      2e-35    -19.335      0.000   -4.26e-34   -3.47e-34\n",
      "np.power(weight, 4)   1.536e-31   7.95e-33     19.335      0.000    1.38e-31    1.69e-31\n",
      "np.power(weight, 5)   2.854e-28   1.48e-29     19.335      0.000    2.56e-28    3.14e-28\n",
      "np.power(weight, 6)   4.333e-25   2.24e-26     19.335      0.000    3.89e-25    4.77e-25\n",
      "np.power(weight, 7)   4.191e-22   2.17e-23     19.335      0.000    3.77e-22    4.62e-22\n",
      "np.power(weight, 8)  -2.825e-25   1.55e-26    -18.188      0.000   -3.13e-25   -2.52e-25\n",
      "np.power(weight, 9)   6.333e-29   3.68e-30     17.204      0.000    5.61e-29    7.06e-29\n",
      "np.power(weight, 10) -4.716e-33   2.88e-34    -16.350      0.000   -5.28e-33   -4.15e-33\n",
      "==============================================================================\n",
      "Omnibus:                       19.964   Durbin-Watson:                   0.896\n",
      "Prob(Omnibus):                  0.000   Jarque-Bera (JB):               16.595\n",
      "Skew:                           0.422   Prob(JB):                     0.000249\n",
      "Kurtosis:                       2.449   Cond. No.                     3.05e+41\n",
      "==============================================================================\n",
      "\n",
      "Notes:\n",
      "[1] Standard Errors assume that the covariance matrix of the errors is correctly specified.\n",
      "[2] The condition number is large, 3.05e+41. This might indicate that there are\n",
      "strong multicollinearity or other numerical problems.\n",
      "1: 0.6926304331206254\n",
      "2: 0.7151475557845139\n",
      "3: 0.7151495954869236\n",
      "4: 0.7148116175517797\n",
      "5: 0.6934461040518454\n",
      "6: 0.5888075333603134\n",
      "7: 0.29640666419456274\n",
      "8: -0.2877883374011818\n",
      "9: -1.1855766593591177\n",
      "10: -2.2860186616809735\n",
      "Best degree: 3\n",
      "Best r-squared: 0.7151495954869236\n"
     ]
    }
   ],
   "execution_count": 46
  },
  {
   "cell_type": "code",
   "metadata": {
    "deletable": false,
    "editable": false,
    "nbgrader": {
     "cell_type": "code",
     "checksum": "d77794138a992b7fac1bd43440657795",
     "grade": true,
     "grade_id": "cell-f1eadefb34bd33c2",
     "locked": true,
     "points": 10,
     "schema_version": 3,
     "solution": false,
     "task": false
    },
    "ExecuteTime": {
     "end_time": "2025-09-02T10:38:51.471287Z",
     "start_time": "2025-09-02T10:38:51.469243Z"
    }
   },
   "source": [
    "# this cell tests best_degree and best_r_squared "
   ],
   "outputs": [],
   "execution_count": 39
  },
  {
   "cell_type": "markdown",
   "metadata": {
    "deletable": false,
    "editable": false,
    "nbgrader": {
     "cell_type": "markdown",
     "checksum": "77322bb635e2ba9cc3f27a382fede78f",
     "grade": false,
     "grade_id": "cell-b7b1be7a931d2728",
     "locked": true,
     "schema_version": 3,
     "solution": false,
     "task": false
    }
   },
   "source": [
    "### 1d) Now, let's make a new feature called 'weight_norm' which is weight normalized by the mean value. [5 pts]\n",
    "Run training with polynomial models with polynomial degrees up to 20. Print out each polynomial degree and $R^2$ value. What do you observe from the result? What are the best_degree and best_r_qaured just based on $R^2$ value?\n",
    "Inspect model summary from each model. What is the highest order model that makes sense (fill the value for the sound_degree)? \n",
    "\n",
    "Note: For N-degree polynomial fit, you have to include all orders upto N."
   ]
  },
  {
   "cell_type": "code",
   "metadata": {
    "deletable": false,
    "nbgrader": {
     "cell_type": "code",
     "checksum": "9f8eb6a5bea83f6fd4f455ab5423fa8f",
     "grade": false,
     "grade_id": "cell-6b06ce4c2b694439",
     "locked": false,
     "schema_version": 3,
     "solution": true,
     "task": false
    },
    "ExecuteTime": {
     "end_time": "2025-09-02T10:59:50.244407Z",
     "start_time": "2025-09-02T10:59:49.884869Z"
    }
   },
   "source": [
    "# best_degree = 1\n",
    "# best_r_squared = 0 \n",
    "# sound_degree = 1\n",
    "\n",
    "df['weight_norm'] = df['weight']/df['weight'].mean()\n",
    "results = polyfit('weight_norm', df,N=20)\n",
    "\n",
    "for k, v in results.items():\n",
    "    print(f\"{k}: {v}\")\n",
    "\n",
    "plot_df = pd.DataFrame(list(results.items()), columns=['degree', 'rsquared'])\n",
    "sns.lineplot(data=plot_df, x='degree', y='rsquared')\n",
    "plt.show()\n",
    "\n",
    "best_degree = 20\n",
    "best_rsquared = results[best_degree]\n",
    "sound_degree = 2"
   ],
   "outputs": [
    {
     "name": "stdout",
     "output_type": "stream",
     "text": [
      "                            OLS Regression Results                            \n",
      "==============================================================================\n",
      "Dep. Variable:                    mpg   R-squared:                       0.693\n",
      "Model:                            OLS   Adj. R-squared:                  0.692\n",
      "Method:                 Least Squares   F-statistic:                     878.8\n",
      "Date:                Tue, 02 Sep 2025   Prob (F-statistic):          6.02e-102\n",
      "Time:                        11:59:49   Log-Likelihood:                -1130.0\n",
      "No. Observations:                 392   AIC:                             2264.\n",
      "Df Residuals:                     390   BIC:                             2272.\n",
      "Df Model:                           1                                         \n",
      "Covariance Type:            nonrobust                                         \n",
      "===============================================================================\n",
      "                  coef    std err          t      P>|t|      [0.025      0.975]\n",
      "-------------------------------------------------------------------------------\n",
      "Intercept      46.2165      0.799     57.867      0.000      44.646      47.787\n",
      "weight_norm   -22.7706      0.768    -29.645      0.000     -24.281     -21.260\n",
      "==============================================================================\n",
      "Omnibus:                       41.682   Durbin-Watson:                   0.808\n",
      "Prob(Omnibus):                  0.000   Jarque-Bera (JB):               60.039\n",
      "Skew:                           0.727   Prob(JB):                     9.18e-14\n",
      "Kurtosis:                       4.251   Cond. No.                         7.17\n",
      "==============================================================================\n",
      "\n",
      "Notes:\n",
      "[1] Standard Errors assume that the covariance matrix of the errors is correctly specified.\n",
      "                            OLS Regression Results                            \n",
      "==============================================================================\n",
      "Dep. Variable:                    mpg   R-squared:                       0.715\n",
      "Model:                            OLS   Adj. R-squared:                  0.714\n",
      "Method:                 Least Squares   F-statistic:                     488.3\n",
      "Date:                Tue, 02 Sep 2025   Prob (F-statistic):          8.39e-107\n",
      "Time:                        11:59:49   Log-Likelihood:                -1115.1\n",
      "No. Observations:                 392   AIC:                             2236.\n",
      "Df Residuals:                     389   BIC:                             2248.\n",
      "Df Model:                           2                                         \n",
      "Covariance Type:            nonrobust                                         \n",
      "============================================================================================\n",
      "                               coef    std err          t      P>|t|      [0.025      0.975]\n",
      "--------------------------------------------------------------------------------------------\n",
      "Intercept                   62.2555      2.993     20.800      0.000      56.371      68.140\n",
      "weight_norm                -55.0722      5.872     -9.379      0.000     -66.617     -43.527\n",
      "np.power(weight_norm, 2)    15.0418      2.713      5.545      0.000       9.709      20.375\n",
      "==============================================================================\n",
      "Omnibus:                       53.804   Durbin-Watson:                   0.770\n",
      "Prob(Omnibus):                  0.000   Jarque-Bera (JB):               93.923\n",
      "Skew:                           0.809   Prob(JB):                     4.03e-21\n",
      "Kurtosis:                       4.770   Cond. No.                         62.8\n",
      "==============================================================================\n",
      "\n",
      "Notes:\n",
      "[1] Standard Errors assume that the covariance matrix of the errors is correctly specified.\n",
      "                            OLS Regression Results                            \n",
      "==============================================================================\n",
      "Dep. Variable:                    mpg   R-squared:                       0.715\n",
      "Model:                            OLS   Adj. R-squared:                  0.713\n",
      "Method:                 Least Squares   F-statistic:                     324.7\n",
      "Date:                Tue, 02 Sep 2025   Prob (F-statistic):          2.09e-105\n",
      "Time:                        11:59:49   Log-Likelihood:                -1115.1\n",
      "No. Observations:                 392   AIC:                             2238.\n",
      "Df Residuals:                     388   BIC:                             2254.\n",
      "Df Model:                           3                                         \n",
      "Covariance Type:            nonrobust                                         \n",
      "============================================================================================\n",
      "                               coef    std err          t      P>|t|      [0.025      0.975]\n",
      "--------------------------------------------------------------------------------------------\n",
      "Intercept                   61.6952     11.043      5.587      0.000      39.984      83.407\n",
      "weight_norm                -53.3874     32.500     -1.643      0.101    -117.285      10.510\n",
      "np.power(weight_norm, 2)    13.4357     30.592      0.439      0.661     -46.710      73.582\n",
      "np.power(weight_norm, 3)     0.4874      9.247      0.053      0.958     -17.692      18.667\n",
      "==============================================================================\n",
      "Omnibus:                       53.711   Durbin-Watson:                   0.770\n",
      "Prob(Omnibus):                  0.000   Jarque-Bera (JB):               93.724\n",
      "Skew:                           0.808   Prob(JB):                     4.45e-21\n",
      "Kurtosis:                       4.768   Cond. No.                         540.\n",
      "==============================================================================\n",
      "\n",
      "Notes:\n",
      "[1] Standard Errors assume that the covariance matrix of the errors is correctly specified.\n",
      "                            OLS Regression Results                            \n",
      "==============================================================================\n",
      "Dep. Variable:                    mpg   R-squared:                       0.715\n",
      "Model:                            OLS   Adj. R-squared:                  0.713\n",
      "Method:                 Least Squares   F-statistic:                     243.3\n",
      "Date:                Tue, 02 Sep 2025   Prob (F-statistic):          3.27e-104\n",
      "Time:                        11:59:49   Log-Likelihood:                -1114.8\n",
      "No. Observations:                 392   AIC:                             2240.\n",
      "Df Residuals:                     387   BIC:                             2260.\n",
      "Df Model:                           4                                         \n",
      "Covariance Type:            nonrobust                                         \n",
      "============================================================================================\n",
      "                               coef    std err          t      P>|t|      [0.025      0.975]\n",
      "--------------------------------------------------------------------------------------------\n",
      "Intercept                   36.8538     38.636      0.954      0.341     -39.109     112.817\n",
      "weight_norm                 46.0811    151.766      0.304      0.762    -252.309     344.471\n",
      "np.power(weight_norm, 2)  -130.3063    216.399     -0.602      0.547    -555.771     295.158\n",
      "np.power(weight_norm, 3)    89.4576    132.917      0.673      0.501    -171.872     350.788\n",
      "np.power(weight_norm, 4)   -19.9560     29.741     -0.671      0.503     -78.430      38.518\n",
      "==============================================================================\n",
      "Omnibus:                       53.250   Durbin-Watson:                   0.767\n",
      "Prob(Omnibus):                  0.000   Jarque-Bera (JB):               93.572\n",
      "Skew:                           0.799   Prob(JB):                     4.80e-21\n",
      "Kurtosis:                       4.782   Cond. No.                     4.68e+03\n",
      "==============================================================================\n",
      "\n",
      "Notes:\n",
      "[1] Standard Errors assume that the covariance matrix of the errors is correctly specified.\n",
      "[2] The condition number is large, 4.68e+03. This might indicate that there are\n",
      "strong multicollinearity or other numerical problems.\n",
      "                            OLS Regression Results                            \n",
      "==============================================================================\n",
      "Dep. Variable:                    mpg   R-squared:                       0.716\n",
      "Model:                            OLS   Adj. R-squared:                  0.712\n",
      "Method:                 Least Squares   F-statistic:                     194.7\n",
      "Date:                Tue, 02 Sep 2025   Prob (F-statistic):          3.59e-103\n",
      "Time:                        11:59:49   Log-Likelihood:                -1114.4\n",
      "No. Observations:                 392   AIC:                             2241.\n",
      "Df Residuals:                     386   BIC:                             2265.\n",
      "Df Model:                           5                                         \n",
      "Covariance Type:            nonrobust                                         \n",
      "============================================================================================\n",
      "                               coef    std err          t      P>|t|      [0.025      0.975]\n",
      "--------------------------------------------------------------------------------------------\n",
      "Intercept                  -80.8344    134.290     -0.602      0.548    -344.867     183.198\n",
      "weight_norm                639.8446    666.387      0.960      0.338    -670.358    1950.047\n",
      "np.power(weight_norm, 2) -1291.1196   1286.875     -1.003      0.316   -3821.281    1239.041\n",
      "np.power(weight_norm, 3)  1189.1977   1209.132      0.984      0.326   -1188.111    3566.506\n",
      "np.power(weight_norm, 4)  -525.5006    553.262     -0.950      0.343   -1613.284     562.283\n",
      "np.power(weight_norm, 5)    90.3757     98.763      0.915      0.361    -103.805     284.556\n",
      "==============================================================================\n",
      "Omnibus:                       52.577   Durbin-Watson:                   0.764\n",
      "Prob(Omnibus):                  0.000   Jarque-Bera (JB):               92.901\n",
      "Skew:                           0.788   Prob(JB):                     6.71e-21\n",
      "Kurtosis:                       4.790   Cond. No.                     4.36e+04\n",
      "==============================================================================\n",
      "\n",
      "Notes:\n",
      "[1] Standard Errors assume that the covariance matrix of the errors is correctly specified.\n",
      "[2] The condition number is large, 4.36e+04. This might indicate that there are\n",
      "strong multicollinearity or other numerical problems.\n",
      "                            OLS Regression Results                            \n",
      "==============================================================================\n",
      "Dep. Variable:                    mpg   R-squared:                       0.717\n",
      "Model:                            OLS   Adj. R-squared:                  0.712\n",
      "Method:                 Least Squares   F-statistic:                     162.2\n",
      "Date:                Tue, 02 Sep 2025   Prob (F-statistic):          3.84e-102\n",
      "Time:                        11:59:49   Log-Likelihood:                -1114.1\n",
      "No. Observations:                 392   AIC:                             2242.\n",
      "Df Residuals:                     385   BIC:                             2270.\n",
      "Df Model:                           6                                         \n",
      "Covariance Type:            nonrobust                                         \n",
      "============================================================================================\n",
      "                               coef    std err          t      P>|t|      [0.025      0.975]\n",
      "--------------------------------------------------------------------------------------------\n",
      "Intercept                 -429.2032    457.407     -0.938      0.349   -1328.532     470.125\n",
      "weight_norm               2766.6708   2751.333      1.006      0.315   -2642.849    8176.191\n",
      "np.power(weight_norm, 2) -6555.5555   6731.550     -0.974      0.331   -1.98e+04    6679.646\n",
      "np.power(weight_norm, 3)  7954.0686   8576.189      0.927      0.354   -8907.961    2.48e+04\n",
      "np.power(weight_norm, 4) -5289.0658   6004.217     -0.881      0.379   -1.71e+04    6516.094\n",
      "np.power(weight_norm, 5)  1835.1712   2192.083      0.837      0.403   -2474.782    6145.124\n",
      "np.power(weight_norm, 6)  -260.0591    326.395     -0.797      0.426    -901.798     381.680\n",
      "==============================================================================\n",
      "Omnibus:                       51.551   Durbin-Watson:                   0.769\n",
      "Prob(Omnibus):                  0.000   Jarque-Bera (JB):               90.102\n",
      "Skew:                           0.779   Prob(JB):                     2.72e-20\n",
      "Kurtosis:                       4.758   Cond. No.                     4.19e+05\n",
      "==============================================================================\n",
      "\n",
      "Notes:\n",
      "[1] Standard Errors assume that the covariance matrix of the errors is correctly specified.\n",
      "[2] The condition number is large, 4.19e+05. This might indicate that there are\n",
      "strong multicollinearity or other numerical problems.\n",
      "                            OLS Regression Results                            \n",
      "==============================================================================\n",
      "Dep. Variable:                    mpg   R-squared:                       0.718\n",
      "Model:                            OLS   Adj. R-squared:                  0.713\n",
      "Method:                 Least Squares   F-statistic:                     139.5\n",
      "Date:                Tue, 02 Sep 2025   Prob (F-statistic):          2.23e-101\n",
      "Time:                        11:59:49   Log-Likelihood:                -1113.2\n",
      "No. Observations:                 392   AIC:                             2242.\n",
      "Df Residuals:                     384   BIC:                             2274.\n",
      "Df Model:                           7                                         \n",
      "Covariance Type:            nonrobust                                         \n",
      "============================================================================================\n",
      "                               coef    std err          t      P>|t|      [0.025      0.975]\n",
      "--------------------------------------------------------------------------------------------\n",
      "Intercept                -2354.7912   1560.446     -1.509      0.132   -5422.880     713.298\n",
      "weight_norm               1.651e+04    1.1e+04      1.501      0.134   -5111.991    3.81e+04\n",
      "np.power(weight_norm, 2) -4.757e+04   3.25e+04     -1.464      0.144   -1.11e+05    1.63e+04\n",
      "np.power(weight_norm, 3)  7.436e+04   5.22e+04      1.426      0.155   -2.82e+04    1.77e+05\n",
      "np.power(weight_norm, 4) -6.833e+04   4.92e+04     -1.388      0.166   -1.65e+05    2.84e+04\n",
      "np.power(weight_norm, 5)  3.695e+04   2.73e+04      1.354      0.177   -1.67e+04    9.06e+04\n",
      "np.power(weight_norm, 6)  -1.09e+04   8247.471     -1.321      0.187   -2.71e+04    5320.029\n",
      "np.power(weight_norm, 7)  1353.0270   1048.380      1.291      0.198    -708.256    3414.310\n",
      "==============================================================================\n",
      "Omnibus:                       51.813   Durbin-Watson:                   0.781\n",
      "Prob(Omnibus):                  0.000   Jarque-Bera (JB):               89.789\n",
      "Skew:                           0.786   Prob(JB):                     3.18e-20\n",
      "Kurtosis:                       4.740   Cond. No.                     4.11e+06\n",
      "==============================================================================\n",
      "\n",
      "Notes:\n",
      "[1] Standard Errors assume that the covariance matrix of the errors is correctly specified.\n",
      "[2] The condition number is large, 4.11e+06. This might indicate that there are\n",
      "strong multicollinearity or other numerical problems.\n",
      "                            OLS Regression Results                            \n",
      "==============================================================================\n",
      "Dep. Variable:                    mpg   R-squared:                       0.718\n",
      "Model:                            OLS   Adj. R-squared:                  0.712\n",
      "Method:                 Least Squares   F-statistic:                     121.8\n",
      "Date:                Tue, 02 Sep 2025   Prob (F-statistic):          2.72e-100\n",
      "Time:                        11:59:49   Log-Likelihood:                -1113.2\n",
      "No. Observations:                 392   AIC:                             2244.\n",
      "Df Residuals:                     383   BIC:                             2280.\n",
      "Df Model:                           8                                         \n",
      "Covariance Type:            nonrobust                                         \n",
      "============================================================================================\n",
      "                               coef    std err          t      P>|t|      [0.025      0.975]\n",
      "--------------------------------------------------------------------------------------------\n",
      "Intercept                -2968.4601   5187.274     -0.572      0.567   -1.32e+04    7230.640\n",
      "weight_norm               2.153e+04    4.2e+04      0.513      0.608    -6.1e+04    1.04e+05\n",
      "np.power(weight_norm, 2)  -6.52e+04   1.46e+05     -0.447      0.655   -3.52e+05    2.22e+05\n",
      "np.power(weight_norm, 3)   1.09e+05   2.84e+05      0.384      0.701   -4.49e+05    6.67e+05\n",
      "np.power(weight_norm, 4) -1.099e+05   3.39e+05     -0.324      0.746   -7.76e+05    5.56e+05\n",
      "np.power(weight_norm, 5)  6.827e+04   2.54e+05      0.269      0.788   -4.31e+05    5.68e+05\n",
      "np.power(weight_norm, 6) -2.536e+04   1.17e+05     -0.217      0.828   -2.55e+05    2.04e+05\n",
      "np.power(weight_norm, 7)  5097.9849   3.02e+04      0.169      0.866   -5.43e+04    6.45e+04\n",
      "np.power(weight_norm, 8)  -416.7308   3358.984     -0.124      0.901   -7021.089    6187.627\n",
      "==============================================================================\n",
      "Omnibus:                       52.013   Durbin-Watson:                   0.783\n",
      "Prob(Omnibus):                  0.000   Jarque-Bera (JB):               90.251\n",
      "Skew:                           0.788   Prob(JB):                     2.52e-20\n",
      "Kurtosis:                       4.744   Cond. No.                     4.07e+07\n",
      "==============================================================================\n",
      "\n",
      "Notes:\n",
      "[1] Standard Errors assume that the covariance matrix of the errors is correctly specified.\n",
      "[2] The smallest eigenvalue is 5.91e-11. This might indicate that there are\n",
      "strong multicollinearity problems or that the design matrix is singular.\n",
      "                            OLS Regression Results                            \n",
      "==============================================================================\n",
      "Dep. Variable:                    mpg   R-squared:                       0.718\n",
      "Model:                            OLS   Adj. R-squared:                  0.712\n",
      "Method:                 Least Squares   F-statistic:                     108.2\n",
      "Date:                Tue, 02 Sep 2025   Prob (F-statistic):           2.36e-99\n",
      "Time:                        11:59:49   Log-Likelihood:                -1112.9\n",
      "No. Observations:                 392   AIC:                             2246.\n",
      "Df Residuals:                     382   BIC:                             2286.\n",
      "Df Model:                           9                                         \n",
      "Covariance Type:            nonrobust                                         \n",
      "============================================================================================\n",
      "                               coef    std err          t      P>|t|      [0.025      0.975]\n",
      "--------------------------------------------------------------------------------------------\n",
      "Intercept                 9896.1069    1.8e+04      0.549      0.584   -2.56e+04    4.54e+04\n",
      "weight_norm              -9.741e+04   1.65e+05     -0.590      0.556   -4.22e+05    2.27e+05\n",
      "np.power(weight_norm, 2)  4.141e+05    6.6e+05      0.627      0.531   -8.84e+05    1.71e+06\n",
      "np.power(weight_norm, 3) -9.961e+05   1.51e+06     -0.659      0.510   -3.97e+06    1.97e+06\n",
      "np.power(weight_norm, 4)  1.497e+06   2.18e+06      0.685      0.494    -2.8e+06    5.79e+06\n",
      "np.power(weight_norm, 5) -1.461e+06   2.07e+06     -0.706      0.481   -5.53e+06    2.61e+06\n",
      "np.power(weight_norm, 6)  9.275e+05   1.29e+06      0.722      0.471    -1.6e+06    3.45e+06\n",
      "np.power(weight_norm, 7)   -3.7e+05   5.05e+05     -0.733      0.464   -1.36e+06    6.22e+05\n",
      "np.power(weight_norm, 8)  8.429e+04   1.14e+05      0.741      0.459   -1.39e+05    3.08e+05\n",
      "np.power(weight_norm, 9) -8365.4798   1.12e+04     -0.745      0.457   -3.05e+04    1.37e+04\n",
      "==============================================================================\n",
      "Omnibus:                       50.843   Durbin-Watson:                   0.777\n",
      "Prob(Omnibus):                  0.000   Jarque-Bera (JB):               86.844\n",
      "Skew:                           0.779   Prob(JB):                     1.39e-19\n",
      "Kurtosis:                       4.700   Cond. No.                     4.31e+08\n",
      "==============================================================================\n",
      "\n",
      "Notes:\n",
      "[1] Standard Errors assume that the covariance matrix of the errors is correctly specified.\n",
      "[2] The smallest eigenvalue is 1.28e-12. This might indicate that there are\n",
      "strong multicollinearity problems or that the design matrix is singular.\n",
      "                            OLS Regression Results                            \n",
      "==============================================================================\n",
      "Dep. Variable:                    mpg   R-squared:                       0.720\n",
      "Model:                            OLS   Adj. R-squared:                  0.713\n",
      "Method:                 Least Squares   F-statistic:                     97.92\n",
      "Date:                Tue, 02 Sep 2025   Prob (F-statistic):           8.13e-99\n",
      "Time:                        11:59:49   Log-Likelihood:                -1111.8\n",
      "No. Observations:                 392   AIC:                             2246.\n",
      "Df Residuals:                     381   BIC:                             2289.\n",
      "Df Model:                          10                                         \n",
      "Covariance Type:            nonrobust                                         \n",
      "=============================================================================================\n",
      "                                coef    std err          t      P>|t|      [0.025      0.975]\n",
      "---------------------------------------------------------------------------------------------\n",
      "Intercept                  1.047e+05   6.52e+04      1.606      0.109   -2.35e+04    2.33e+05\n",
      "weight_norm               -1.071e+06   6.64e+05     -1.612      0.108   -2.38e+06    2.35e+05\n",
      "np.power(weight_norm, 2)   4.839e+06      3e+06      1.614      0.107   -1.06e+06    1.07e+07\n",
      "np.power(weight_norm, 3)   -1.27e+07   7.88e+06     -1.611      0.108   -2.82e+07     2.8e+06\n",
      "np.power(weight_norm, 4)   2.147e+07   1.34e+07      1.605      0.109   -4.84e+06    4.78e+07\n",
      "np.power(weight_norm, 5)  -2.444e+07   1.53e+07     -1.594      0.112   -5.46e+07     5.7e+06\n",
      "np.power(weight_norm, 6)   1.899e+07    1.2e+07      1.582      0.115   -4.62e+06    4.26e+07\n",
      "np.power(weight_norm, 7)  -9.949e+06   6.35e+06     -1.566      0.118   -2.24e+07    2.54e+06\n",
      "np.power(weight_norm, 8)   3.367e+06   2.17e+06      1.550      0.122   -9.05e+05    7.64e+06\n",
      "np.power(weight_norm, 9)  -6.651e+05   4.34e+05     -1.532      0.126   -1.52e+06    1.89e+05\n",
      "np.power(weight_norm, 10)  5.828e+04   3.85e+04      1.513      0.131   -1.75e+04    1.34e+05\n",
      "==============================================================================\n",
      "Omnibus:                       51.509   Durbin-Watson:                   0.772\n",
      "Prob(Omnibus):                  0.000   Jarque-Bera (JB):               88.045\n",
      "Skew:                           0.787   Prob(JB):                     7.61e-20\n",
      "Kurtosis:                       4.706   Cond. No.                     4.78e+09\n",
      "==============================================================================\n",
      "\n",
      "Notes:\n",
      "[1] Standard Errors assume that the covariance matrix of the errors is correctly specified.\n",
      "[2] The smallest eigenvalue is 2.6e-14. This might indicate that there are\n",
      "strong multicollinearity problems or that the design matrix is singular.\n",
      "                            OLS Regression Results                            \n",
      "==============================================================================\n",
      "Dep. Variable:                    mpg   R-squared:                       0.721\n",
      "Model:                            OLS   Adj. R-squared:                  0.713\n",
      "Method:                 Least Squares   F-statistic:                     89.23\n",
      "Date:                Tue, 02 Sep 2025   Prob (F-statistic):           4.16e-98\n",
      "Time:                        11:59:50   Log-Likelihood:                -1111.1\n",
      "No. Observations:                 392   AIC:                             2246.\n",
      "Df Residuals:                     380   BIC:                             2294.\n",
      "Df Model:                          11                                         \n",
      "Covariance Type:            nonrobust                                         \n",
      "=============================================================================================\n",
      "                                coef    std err          t      P>|t|      [0.025      0.975]\n",
      "---------------------------------------------------------------------------------------------\n",
      "Intercept                  3.816e+05   2.44e+05      1.564      0.119   -9.81e+04    8.61e+05\n",
      "weight_norm               -4.206e+06   2.74e+06     -1.533      0.126    -9.6e+06    1.19e+06\n",
      "np.power(weight_norm, 2)   2.071e+07   1.38e+07      1.500      0.134   -6.43e+06    4.79e+07\n",
      "np.power(weight_norm, 3)  -6.017e+07   4.11e+07     -1.465      0.144   -1.41e+08    2.06e+07\n",
      "np.power(weight_norm, 4)   1.146e+08   8.02e+07      1.429      0.154   -4.31e+07    2.72e+08\n",
      "np.power(weight_norm, 5)  -1.505e+08   1.08e+08     -1.392      0.165   -3.63e+08    6.21e+07\n",
      "np.power(weight_norm, 6)   1.389e+08   1.03e+08      1.355      0.176   -6.27e+07    3.41e+08\n",
      "np.power(weight_norm, 7)  -9.031e+07   6.85e+07     -1.318      0.188   -2.25e+08    4.44e+07\n",
      "np.power(weight_norm, 8)   4.052e+07   3.16e+07      1.282      0.201   -2.16e+07    1.03e+08\n",
      "np.power(weight_norm, 9)  -1.196e+07    9.6e+06     -1.246      0.214   -3.08e+07    6.91e+06\n",
      "np.power(weight_norm, 10)   2.09e+06   1.73e+06      1.211      0.227    -1.3e+06    5.48e+06\n",
      "np.power(weight_norm, 11)  -1.64e+05   1.39e+05     -1.178      0.240   -4.38e+05     1.1e+05\n",
      "==============================================================================\n",
      "Omnibus:                       54.966   Durbin-Watson:                   0.770\n",
      "Prob(Omnibus):                  0.000   Jarque-Bera (JB):               96.904\n",
      "Skew:                           0.820   Prob(JB):                     9.07e-22\n",
      "Kurtosis:                       4.800   Cond. No.                     5.59e+10\n",
      "==============================================================================\n",
      "\n",
      "Notes:\n",
      "[1] Standard Errors assume that the covariance matrix of the errors is correctly specified.\n",
      "[2] The smallest eigenvalue is 4.82e-16. This might indicate that there are\n",
      "strong multicollinearity problems or that the design matrix is singular.\n",
      "                            OLS Regression Results                            \n",
      "==============================================================================\n",
      "Dep. Variable:                    mpg   R-squared:                       0.721\n",
      "Model:                            OLS   Adj. R-squared:                  0.712\n",
      "Method:                 Least Squares   F-statistic:                     81.59\n",
      "Date:                Tue, 02 Sep 2025   Prob (F-statistic):           3.98e-97\n",
      "Time:                        11:59:50   Log-Likelihood:                -1111.0\n",
      "No. Observations:                 392   AIC:                             2248.\n",
      "Df Residuals:                     379   BIC:                             2300.\n",
      "Df Model:                          12                                         \n",
      "Covariance Type:            nonrobust                                         \n",
      "=============================================================================================\n",
      "                                coef    std err          t      P>|t|      [0.025      0.975]\n",
      "---------------------------------------------------------------------------------------------\n",
      "Intercept                   2.42e+05   9.39e+05      0.258      0.797    -1.6e+06    2.09e+06\n",
      "weight_norm               -2.479e+06   1.15e+07     -0.215      0.830   -2.52e+07    2.02e+07\n",
      "np.power(weight_norm, 2)   1.106e+07   6.42e+07      0.172      0.863   -1.15e+08    1.37e+08\n",
      "np.power(weight_norm, 3)  -2.793e+07   2.13e+08     -0.131      0.896   -4.47e+08    3.91e+08\n",
      "np.power(weight_norm, 4)     4.3e+07   4.72e+08      0.091      0.927   -8.85e+08    9.71e+08\n",
      "np.power(weight_norm, 5)  -3.887e+07   7.33e+08     -0.053      0.958   -1.48e+09     1.4e+09\n",
      "np.power(weight_norm, 6)    1.39e+07   8.18e+08      0.017      0.986    -1.6e+09    1.62e+09\n",
      "np.power(weight_norm, 7)   1.124e+07   6.63e+08      0.017      0.986   -1.29e+09    1.31e+09\n",
      "np.power(weight_norm, 8)  -1.883e+07   3.87e+08     -0.049      0.961   -7.79e+08    7.41e+08\n",
      "np.power(weight_norm, 9)   1.239e+07   1.58e+08      0.078      0.938   -2.99e+08    3.24e+08\n",
      "np.power(weight_norm, 10) -4.569e+06   4.33e+07     -0.106      0.916   -8.97e+07    8.05e+07\n",
      "np.power(weight_norm, 11)  9.263e+05   7.08e+06      0.131      0.896    -1.3e+07    1.48e+07\n",
      "np.power(weight_norm, 12) -8.087e+04   5.25e+05     -0.154      0.878   -1.11e+06    9.52e+05\n",
      "==============================================================================\n",
      "Omnibus:                       54.731   Durbin-Watson:                   0.769\n",
      "Prob(Omnibus):                  0.000   Jarque-Bera (JB):               96.283\n",
      "Skew:                           0.818   Prob(JB):                     1.24e-21\n",
      "Kurtosis:                       4.794   Cond. No.                     6.82e+11\n",
      "==============================================================================\n",
      "\n",
      "Notes:\n",
      "[1] Standard Errors assume that the covariance matrix of the errors is correctly specified.\n",
      "[2] The smallest eigenvalue is 8.38e-18. This might indicate that there are\n",
      "strong multicollinearity problems or that the design matrix is singular.\n",
      "                            OLS Regression Results                            \n",
      "==============================================================================\n",
      "Dep. Variable:                    mpg   R-squared:                       0.723\n",
      "Model:                            OLS   Adj. R-squared:                  0.713\n",
      "Method:                 Least Squares   F-statistic:                     75.82\n",
      "Date:                Tue, 02 Sep 2025   Prob (F-statistic):           1.05e-96\n",
      "Time:                        11:59:50   Log-Likelihood:                -1109.7\n",
      "No. Observations:                 392   AIC:                             2247.\n",
      "Df Residuals:                     378   BIC:                             2303.\n",
      "Df Model:                          13                                         \n",
      "Covariance Type:            nonrobust                                         \n",
      "=============================================================================================\n",
      "                                coef    std err          t      P>|t|      [0.025      0.975]\n",
      "---------------------------------------------------------------------------------------------\n",
      "Intercept                 -5.435e+06   3.68e+06     -1.476      0.141   -1.27e+07     1.8e+06\n",
      "weight_norm                7.361e+07   4.91e+07      1.499      0.135   -2.29e+07     1.7e+08\n",
      "np.power(weight_norm, 2)  -4.535e+08   2.98e+08     -1.520      0.129   -1.04e+09    1.33e+08\n",
      "np.power(weight_norm, 3)   1.682e+09   1.09e+09      1.538      0.125   -4.68e+08    3.83e+09\n",
      "np.power(weight_norm, 4)  -4.195e+09    2.7e+09     -1.554      0.121    -9.5e+09    1.11e+09\n",
      "np.power(weight_norm, 5)   7.426e+09   4.74e+09      1.567      0.118   -1.89e+09    1.67e+10\n",
      "np.power(weight_norm, 6)  -9.604e+09   6.09e+09     -1.578      0.115   -2.16e+10    2.37e+09\n",
      "np.power(weight_norm, 7)   9.189e+09   5.79e+09      1.586      0.114    -2.2e+09    2.06e+10\n",
      "np.power(weight_norm, 8)  -6.508e+09   4.09e+09     -1.592      0.112   -1.45e+10    1.53e+09\n",
      "np.power(weight_norm, 9)   3.371e+09   2.11e+09      1.596      0.111   -7.82e+08    7.52e+09\n",
      "np.power(weight_norm, 10) -1.242e+09   7.77e+08     -1.598      0.111   -2.77e+09    2.86e+08\n",
      "np.power(weight_norm, 11)  3.081e+08   1.93e+08      1.598      0.111    -7.1e+07    6.87e+08\n",
      "np.power(weight_norm, 12) -4.617e+07   2.89e+07     -1.597      0.111   -1.03e+08    1.07e+07\n",
      "np.power(weight_norm, 13)  3.159e+06   1.98e+06      1.594      0.112   -7.37e+05    7.05e+06\n",
      "==============================================================================\n",
      "Omnibus:                       58.403   Durbin-Watson:                   0.779\n",
      "Prob(Omnibus):                  0.000   Jarque-Bera (JB):              106.899\n",
      "Skew:                           0.850   Prob(JB):                     6.13e-24\n",
      "Kurtosis:                       4.912   Cond. No.                     8.51e+12\n",
      "==============================================================================\n",
      "\n",
      "Notes:\n",
      "[1] Standard Errors assume that the covariance matrix of the errors is correctly specified.\n",
      "[2] The smallest eigenvalue is 1.42e-19. This might indicate that there are\n",
      "strong multicollinearity problems or that the design matrix is singular.\n",
      "                            OLS Regression Results                            \n",
      "==============================================================================\n",
      "Dep. Variable:                    mpg   R-squared:                       0.724\n",
      "Model:                            OLS   Adj. R-squared:                  0.714\n",
      "Method:                 Least Squares   F-statistic:                     70.64\n",
      "Date:                Tue, 02 Sep 2025   Prob (F-statistic):           4.13e-96\n",
      "Time:                        11:59:50   Log-Likelihood:                -1108.9\n",
      "No. Observations:                 392   AIC:                             2248.\n",
      "Df Residuals:                     377   BIC:                             2307.\n",
      "Df Model:                          14                                         \n",
      "Covariance Type:            nonrobust                                         \n",
      "=============================================================================================\n",
      "                                coef    std err          t      P>|t|      [0.025      0.975]\n",
      "---------------------------------------------------------------------------------------------\n",
      "Intercept                 -2.127e+07   1.28e+07     -1.657      0.098   -4.65e+07    3.98e+06\n",
      "weight_norm                3.021e+08   1.84e+08      1.641      0.102      -6e+07    6.64e+08\n",
      "np.power(weight_norm, 2)  -1.965e+09   1.21e+09     -1.622      0.106   -4.35e+09    4.17e+08\n",
      "np.power(weight_norm, 3)   7.766e+09   4.85e+09      1.601      0.110   -1.77e+09    1.73e+10\n",
      "np.power(weight_norm, 4)  -2.083e+10   1.32e+10     -1.578      0.115   -4.68e+10    5.13e+09\n",
      "np.power(weight_norm, 5)    4.01e+10   2.58e+10      1.553      0.121   -1.07e+10    9.09e+10\n",
      "np.power(weight_norm, 6)   -5.72e+10   3.75e+10     -1.526      0.128   -1.31e+11    1.65e+10\n",
      "np.power(weight_norm, 7)   6.141e+10    4.1e+10      1.499      0.135   -1.92e+10    1.42e+11\n",
      "np.power(weight_norm, 8)  -4.988e+10   3.39e+10     -1.470      0.142   -1.17e+11    1.69e+10\n",
      "np.power(weight_norm, 9)   3.051e+10   2.12e+10      1.440      0.151   -1.12e+10    7.22e+10\n",
      "np.power(weight_norm, 10) -1.384e+10   9.82e+09     -1.410      0.159   -3.32e+10    5.47e+09\n",
      "np.power(weight_norm, 11)  4.519e+09   3.28e+09      1.379      0.169   -1.92e+09     1.1e+10\n",
      "np.power(weight_norm, 12) -1.004e+09   7.44e+08     -1.348      0.178   -2.47e+09     4.6e+08\n",
      "np.power(weight_norm, 13)  1.358e+08   1.03e+08      1.318      0.188   -6.68e+07    3.38e+08\n",
      "np.power(weight_norm, 14) -8.445e+06   6.56e+06     -1.287      0.199   -2.13e+07    4.45e+06\n",
      "==============================================================================\n",
      "Omnibus:                       61.008   Durbin-Watson:                   0.781\n",
      "Prob(Omnibus):                  0.000   Jarque-Bera (JB):              115.133\n",
      "Skew:                           0.871   Prob(JB):                     9.98e-26\n",
      "Kurtosis:                       5.004   Cond. No.                     9.40e+13\n",
      "==============================================================================\n",
      "\n",
      "Notes:\n",
      "[1] Standard Errors assume that the covariance matrix of the errors is correctly specified.\n",
      "[2] The smallest eigenvalue is 3.08e-21. This might indicate that there are\n",
      "strong multicollinearity problems or that the design matrix is singular.\n",
      "                            OLS Regression Results                            \n",
      "==============================================================================\n",
      "Dep. Variable:                    mpg   R-squared:                       0.724\n",
      "Model:                            OLS   Adj. R-squared:                  0.714\n",
      "Method:                 Least Squares   F-statistic:                     70.58\n",
      "Date:                Tue, 02 Sep 2025   Prob (F-statistic):           4.65e-96\n",
      "Time:                        11:59:50   Log-Likelihood:                -1109.0\n",
      "No. Observations:                 392   AIC:                             2248.\n",
      "Df Residuals:                     377   BIC:                             2308.\n",
      "Df Model:                          14                                         \n",
      "Covariance Type:            nonrobust                                         \n",
      "=============================================================================================\n",
      "                                coef    std err          t      P>|t|      [0.025      0.975]\n",
      "---------------------------------------------------------------------------------------------\n",
      "Intercept                  -1.13e+07   6.67e+06     -1.693      0.091   -2.44e+07    1.82e+06\n",
      "weight_norm                1.493e+08   8.85e+07      1.687      0.092   -2.47e+07    3.23e+08\n",
      "np.power(weight_norm, 2)  -8.846e+08   5.27e+08     -1.677      0.094   -1.92e+09    1.52e+08\n",
      "np.power(weight_norm, 3)   3.088e+09   1.85e+09      1.664      0.097    -5.6e+08    6.73e+09\n",
      "np.power(weight_norm, 4)  -6.962e+09   4.22e+09     -1.648      0.100   -1.53e+10    1.34e+09\n",
      "np.power(weight_norm, 5)   1.031e+10   6.33e+09      1.627      0.105   -2.15e+09    2.28e+10\n",
      "np.power(weight_norm, 6)  -9.217e+09   5.78e+09     -1.596      0.111   -2.06e+10    2.14e+09\n",
      "np.power(weight_norm, 7)   2.442e+09   1.67e+09      1.465      0.144   -8.35e+08    5.72e+09\n",
      "np.power(weight_norm, 8)   5.884e+09   3.59e+09      1.638      0.102   -1.18e+09    1.29e+10\n",
      "np.power(weight_norm, 9)  -1.007e+10   6.36e+09     -1.585      0.114   -2.26e+10    2.43e+09\n",
      "np.power(weight_norm, 10)  8.713e+09   5.61e+09      1.552      0.121   -2.32e+09    1.97e+10\n",
      "np.power(weight_norm, 11) -4.884e+09   3.21e+09     -1.524      0.128   -1.12e+10    1.42e+09\n",
      "np.power(weight_norm, 12)  1.843e+09   1.23e+09      1.496      0.136    -5.8e+08    4.27e+09\n",
      "np.power(weight_norm, 13) -4.551e+08    3.1e+08     -1.468      0.143   -1.06e+09    1.54e+08\n",
      "np.power(weight_norm, 14)  6.677e+07   4.63e+07      1.441      0.150   -2.43e+07    1.58e+08\n",
      "np.power(weight_norm, 15) -4.428e+06   3.13e+06     -1.414      0.158   -1.06e+07    1.73e+06\n",
      "==============================================================================\n",
      "Omnibus:                       60.913   Durbin-Watson:                   0.780\n",
      "Prob(Omnibus):                  0.000   Jarque-Bera (JB):              114.778\n",
      "Skew:                           0.870   Prob(JB):                     1.19e-25\n",
      "Kurtosis:                       4.999   Cond. No.                     1.04e+15\n",
      "==============================================================================\n",
      "\n",
      "Notes:\n",
      "[1] Standard Errors assume that the covariance matrix of the errors is correctly specified.\n",
      "[2] The smallest eigenvalue is 6.82e-23. This might indicate that there are\n",
      "strong multicollinearity problems or that the design matrix is singular.\n",
      "                            OLS Regression Results                            \n",
      "==============================================================================\n",
      "Dep. Variable:                    mpg   R-squared:                       0.724\n",
      "Model:                            OLS   Adj. R-squared:                  0.714\n",
      "Method:                 Least Squares   F-statistic:                     70.74\n",
      "Date:                Tue, 02 Sep 2025   Prob (F-statistic):           3.42e-96\n",
      "Time:                        11:59:50   Log-Likelihood:                -1108.7\n",
      "No. Observations:                 392   AIC:                             2247.\n",
      "Df Residuals:                     377   BIC:                             2307.\n",
      "Df Model:                          14                                         \n",
      "Covariance Type:            nonrobust                                         \n",
      "=============================================================================================\n",
      "                                coef    std err          t      P>|t|      [0.025      0.975]\n",
      "---------------------------------------------------------------------------------------------\n",
      "Intercept                   -2.9e+07   2.33e+07     -1.244      0.214   -7.49e+07    1.69e+07\n",
      "weight_norm                 4.04e+08   3.33e+08      1.213      0.226   -2.51e+08    1.06e+09\n",
      "np.power(weight_norm, 2)  -2.548e+09   2.16e+09     -1.180      0.239   -6.79e+09     1.7e+09\n",
      "np.power(weight_norm, 3)   9.577e+09   8.36e+09      1.146      0.252   -6.85e+09     2.6e+10\n",
      "np.power(weight_norm, 4)  -2.366e+10   2.13e+10     -1.110      0.268   -6.56e+10    1.82e+10\n",
      "np.power(weight_norm, 5)    3.96e+10   3.69e+10      1.072      0.284    -3.3e+10    1.12e+11\n",
      "np.power(weight_norm, 6)  -4.334e+10   4.22e+10     -1.026      0.305   -1.26e+11    3.97e+10\n",
      "np.power(weight_norm, 7)   2.438e+10   2.57e+10      0.949      0.343   -2.61e+10    7.49e+10\n",
      "np.power(weight_norm, 8)   9.221e+09    7.2e+09      1.282      0.201   -4.93e+09    2.34e+10\n",
      "np.power(weight_norm, 9)  -3.541e+10   3.48e+10     -1.017      0.310   -1.04e+11     3.3e+10\n",
      "np.power(weight_norm, 10)      4e+10   4.15e+10      0.963      0.336   -4.16e+10    1.22e+11\n",
      "np.power(weight_norm, 11) -2.809e+10   3.04e+10     -0.925      0.356   -8.78e+10    3.16e+10\n",
      "np.power(weight_norm, 12)  1.352e+10   1.52e+10      0.891      0.374   -1.63e+10    4.34e+10\n",
      "np.power(weight_norm, 13) -4.503e+09   5.24e+09     -0.860      0.390   -1.48e+10    5.79e+09\n",
      "np.power(weight_norm, 14)  9.978e+08    1.2e+09      0.831      0.406   -1.36e+09    3.36e+09\n",
      "np.power(weight_norm, 15) -1.329e+08   1.65e+08     -0.804      0.422   -4.58e+08    1.92e+08\n",
      "np.power(weight_norm, 16)  8.076e+06   1.04e+07      0.778      0.437   -1.23e+07    2.85e+07\n",
      "==============================================================================\n",
      "Omnibus:                       60.686   Durbin-Watson:                   0.783\n",
      "Prob(Omnibus):                  0.000   Jarque-Bera (JB):              114.499\n",
      "Skew:                           0.867   Prob(JB):                     1.37e-25\n",
      "Kurtosis:                       5.001   Cond. No.                     1.18e+16\n",
      "==============================================================================\n",
      "\n",
      "Notes:\n",
      "[1] Standard Errors assume that the covariance matrix of the errors is correctly specified.\n",
      "[2] The smallest eigenvalue is 1.44e-24. This might indicate that there are\n",
      "strong multicollinearity problems or that the design matrix is singular.\n",
      "                            OLS Regression Results                            \n",
      "==============================================================================\n",
      "Dep. Variable:                    mpg   R-squared:                       0.724\n",
      "Model:                            OLS   Adj. R-squared:                  0.713\n",
      "Method:                 Least Squares   F-statistic:                     65.88\n",
      "Date:                Tue, 02 Sep 2025   Prob (F-statistic):           2.73e-95\n",
      "Time:                        11:59:50   Log-Likelihood:                -1108.6\n",
      "No. Observations:                 392   AIC:                             2249.\n",
      "Df Residuals:                     376   BIC:                             2313.\n",
      "Df Model:                          15                                         \n",
      "Covariance Type:            nonrobust                                         \n",
      "=============================================================================================\n",
      "                                coef    std err          t      P>|t|      [0.025      0.975]\n",
      "---------------------------------------------------------------------------------------------\n",
      "Intercept                 -1.907e+07   1.27e+07     -1.502      0.134    -4.4e+07    5.89e+06\n",
      "weight_norm                2.498e+08   1.69e+08      1.476      0.141   -8.29e+07    5.82e+08\n",
      "np.power(weight_norm, 2)  -1.456e+09   1.01e+09     -1.448      0.148   -3.43e+09    5.21e+08\n",
      "np.power(weight_norm, 3)   4.921e+09   3.47e+09      1.417      0.157   -1.91e+09    1.17e+10\n",
      "np.power(weight_norm, 4)  -1.046e+10   7.57e+09     -1.382      0.168   -2.53e+10    4.42e+09\n",
      "np.power(weight_norm, 5)   1.375e+10   1.03e+10      1.340      0.181   -6.43e+09    3.39e+10\n",
      "np.power(weight_norm, 6)  -8.937e+09   7.06e+09     -1.265      0.207   -2.28e+10    4.95e+09\n",
      "np.power(weight_norm, 7)  -2.838e+09   1.78e+09     -1.594      0.112   -6.34e+09    6.62e+08\n",
      "np.power(weight_norm, 8)   1.108e+10   8.45e+09      1.311      0.191   -5.53e+09    2.77e+10\n",
      "np.power(weight_norm, 9)  -7.402e+09   6.13e+09     -1.208      0.228   -1.94e+10    4.64e+09\n",
      "np.power(weight_norm, 10) -3.867e+09   2.66e+09     -1.455      0.147   -9.09e+09    1.36e+09\n",
      "np.power(weight_norm, 11)  1.166e+10   9.19e+09      1.269      0.205    -6.4e+09    2.97e+10\n",
      "np.power(weight_norm, 12) -1.126e+10   9.24e+09     -1.218      0.224   -2.94e+10    6.92e+09\n",
      "np.power(weight_norm, 13)  6.511e+09   5.52e+09      1.180      0.239   -4.34e+09    1.74e+10\n",
      "np.power(weight_norm, 14) -2.457e+09   2.14e+09     -1.147      0.252   -6.67e+09    1.75e+09\n",
      "np.power(weight_norm, 15)  5.977e+08   5.35e+08      1.117      0.265   -4.54e+08    1.65e+09\n",
      "np.power(weight_norm, 16) -8.563e+07   7.86e+07     -1.089      0.277    -2.4e+08     6.9e+07\n",
      "np.power(weight_norm, 17)  5.519e+06   5.19e+06      1.062      0.289    -4.7e+06    1.57e+07\n",
      "==============================================================================\n",
      "Omnibus:                       61.024   Durbin-Watson:                   0.784\n",
      "Prob(Omnibus):                  0.000   Jarque-Bera (JB):              115.613\n",
      "Skew:                           0.870   Prob(JB):                     7.85e-26\n",
      "Kurtosis:                       5.013   Cond. No.                     1.30e+17\n",
      "==============================================================================\n",
      "\n",
      "Notes:\n",
      "[1] Standard Errors assume that the covariance matrix of the errors is correctly specified.\n",
      "[2] The smallest eigenvalue is 3.24e-26. This might indicate that there are\n",
      "strong multicollinearity problems or that the design matrix is singular.\n",
      "                            OLS Regression Results                            \n",
      "==============================================================================\n",
      "Dep. Variable:                    mpg   R-squared:                       0.724\n",
      "Model:                            OLS   Adj. R-squared:                  0.713\n",
      "Method:                 Least Squares   F-statistic:                     65.89\n",
      "Date:                Tue, 02 Sep 2025   Prob (F-statistic):           2.68e-95\n",
      "Time:                        11:59:50   Log-Likelihood:                -1108.6\n",
      "No. Observations:                 392   AIC:                             2249.\n",
      "Df Residuals:                     376   BIC:                             2313.\n",
      "Df Model:                          15                                         \n",
      "Covariance Type:            nonrobust                                         \n",
      "=============================================================================================\n",
      "                                coef    std err          t      P>|t|      [0.025      0.975]\n",
      "---------------------------------------------------------------------------------------------\n",
      "Intercept                 -1.186e+07   7.08e+06     -1.676      0.095   -2.58e+07    2.06e+06\n",
      "weight_norm                1.463e+08   8.83e+07      1.657      0.098   -2.73e+07     3.2e+08\n",
      "np.power(weight_norm, 2)  -7.883e+08   4.82e+08     -1.635      0.103   -1.74e+09     1.6e+08\n",
      "np.power(weight_norm, 3)   2.397e+09   1.49e+09      1.609      0.108   -5.32e+08    5.32e+09\n",
      "np.power(weight_norm, 4)  -4.346e+09   2.76e+09     -1.577      0.116   -9.76e+09    1.07e+09\n",
      "np.power(weight_norm, 5)   4.267e+09   2.79e+09      1.529      0.127   -1.22e+09    9.75e+09\n",
      "np.power(weight_norm, 6)  -7.036e+08   5.72e+08     -1.231      0.219   -1.83e+09    4.21e+08\n",
      "np.power(weight_norm, 7)  -3.303e+09   2.11e+09     -1.565      0.118   -7.45e+09    8.47e+08\n",
      "np.power(weight_norm, 8)   2.897e+09   1.99e+09      1.457      0.146   -1.01e+09    6.81e+09\n",
      "np.power(weight_norm, 9)   1.387e+09   8.27e+08      1.677      0.094   -2.39e+08    3.01e+09\n",
      "np.power(weight_norm, 10) -3.686e+09   2.48e+09     -1.484      0.139   -8.57e+09     1.2e+09\n",
      "np.power(weight_norm, 11)  1.113e+09   8.68e+08      1.283      0.200   -5.93e+08    2.82e+09\n",
      "np.power(weight_norm, 12)  2.868e+09   1.89e+09      1.518      0.130   -8.46e+08    6.58e+09\n",
      "np.power(weight_norm, 13) -4.213e+09   2.92e+09     -1.443      0.150   -9.95e+09    1.53e+09\n",
      "np.power(weight_norm, 14)  2.942e+09    2.1e+09      1.403      0.162   -1.18e+09    7.07e+09\n",
      "np.power(weight_norm, 15) -1.251e+09   9.13e+08     -1.369      0.172   -3.05e+09    5.45e+08\n",
      "np.power(weight_norm, 16)  3.312e+08   2.47e+08      1.340      0.181   -1.55e+08    8.17e+08\n",
      "np.power(weight_norm, 17) -5.064e+07   3.86e+07     -1.312      0.190   -1.27e+08    2.52e+07\n",
      "np.power(weight_norm, 18)  3.437e+06   2.67e+06      1.286      0.199   -1.82e+06    8.69e+06\n",
      "==============================================================================\n",
      "Omnibus:                       61.373   Durbin-Watson:                   0.784\n",
      "Prob(Omnibus):                  0.000   Jarque-Bera (JB):              116.707\n",
      "Skew:                           0.873   Prob(JB):                     4.54e-26\n",
      "Kurtosis:                       5.025   Cond. No.                     4.62e+17\n",
      "==============================================================================\n",
      "\n",
      "Notes:\n",
      "[1] Standard Errors assume that the covariance matrix of the errors is correctly specified.\n",
      "[2] The smallest eigenvalue is 7.05e-27. This might indicate that there are\n",
      "strong multicollinearity problems or that the design matrix is singular.\n",
      "                            OLS Regression Results                            \n",
      "==============================================================================\n",
      "Dep. Variable:                    mpg   R-squared:                       0.724\n",
      "Model:                            OLS   Adj. R-squared:                  0.713\n",
      "Method:                 Least Squares   F-statistic:                     65.90\n",
      "Date:                Tue, 02 Sep 2025   Prob (F-statistic):           2.66e-95\n",
      "Time:                        11:59:50   Log-Likelihood:                -1108.6\n",
      "No. Observations:                 392   AIC:                             2249.\n",
      "Df Residuals:                     376   BIC:                             2313.\n",
      "Df Model:                          15                                         \n",
      "Covariance Type:            nonrobust                                         \n",
      "=============================================================================================\n",
      "                                coef    std err          t      P>|t|      [0.025      0.975]\n",
      "---------------------------------------------------------------------------------------------\n",
      "Intercept                 -1.622e+07    2.5e+07     -0.649      0.517   -6.54e+07    3.29e+07\n",
      "weight_norm                2.062e+08   3.38e+08      0.610      0.542   -4.58e+08    8.71e+08\n",
      "np.power(weight_norm, 2)  -1.156e+09   2.02e+09     -0.571      0.568   -5.14e+09    2.83e+09\n",
      "np.power(weight_norm, 3)   3.703e+09   6.99e+09      0.529      0.597   -1.01e+10    1.75e+10\n",
      "np.power(weight_norm, 4)  -7.261e+09    1.5e+10     -0.484      0.629   -3.68e+10    2.22e+10\n",
      "np.power(weight_norm, 5)   8.289e+09   1.93e+10      0.429      0.668   -2.97e+10    4.63e+10\n",
      "np.power(weight_norm, 6)  -3.482e+09   1.09e+10     -0.319      0.750    -2.5e+10     1.8e+10\n",
      "np.power(weight_norm, 7)  -3.986e+09   7.11e+09     -0.560      0.576    -1.8e+10       1e+10\n",
      "np.power(weight_norm, 8)   5.996e+09    1.6e+10      0.376      0.707   -2.54e+10    3.74e+10\n",
      "np.power(weight_norm, 9)  -3.683e+08   4.51e+09     -0.082      0.935   -9.23e+09    8.49e+09\n",
      "np.power(weight_norm, 10)  -5.23e+09   1.27e+10     -0.411      0.681   -3.03e+10    1.98e+10\n",
      "np.power(weight_norm, 11)  3.875e+09   1.34e+10      0.289      0.772   -2.25e+10    3.02e+10\n",
      "np.power(weight_norm, 12)  1.924e+09   2.55e+09      0.756      0.450   -3.08e+09    6.93e+09\n",
      "np.power(weight_norm, 13) -5.565e+09   1.64e+10     -0.339      0.735   -3.78e+10    2.67e+10\n",
      "np.power(weight_norm, 14)  4.964e+09   1.75e+10      0.284      0.777   -2.95e+10    3.94e+10\n",
      "np.power(weight_norm, 15)  -2.61e+09   1.06e+10     -0.247      0.805   -2.34e+10    1.82e+10\n",
      "np.power(weight_norm, 16)  8.847e+08   4.07e+09      0.217      0.828   -7.11e+09    8.88e+09\n",
      "np.power(weight_norm, 17) -1.914e+08   9.99e+08     -0.192      0.848   -2.16e+09    1.77e+09\n",
      "np.power(weight_norm, 18)  2.415e+07   1.44e+08      0.168      0.867   -2.58e+08    3.07e+08\n",
      "np.power(weight_norm, 19) -1.358e+06   9.26e+06     -0.147      0.883   -1.96e+07    1.68e+07\n",
      "==============================================================================\n",
      "Omnibus:                       61.179   Durbin-Watson:                   0.784\n",
      "Prob(Omnibus):                  0.000   Jarque-Bera (JB):              116.065\n",
      "Skew:                           0.871   Prob(JB):                     6.26e-26\n",
      "Kurtosis:                       5.018   Cond. No.                     7.75e+17\n",
      "==============================================================================\n",
      "\n",
      "Notes:\n",
      "[1] Standard Errors assume that the covariance matrix of the errors is correctly specified.\n",
      "[2] The smallest eigenvalue is 6.97e-27. This might indicate that there are\n",
      "strong multicollinearity problems or that the design matrix is singular.\n",
      "                            OLS Regression Results                            \n",
      "==============================================================================\n",
      "Dep. Variable:                    mpg   R-squared:                       0.725\n",
      "Model:                            OLS   Adj. R-squared:                  0.714\n",
      "Method:                 Least Squares   F-statistic:                     65.93\n",
      "Date:                Tue, 02 Sep 2025   Prob (F-statistic):           2.49e-95\n",
      "Time:                        11:59:50   Log-Likelihood:                -1108.5\n",
      "No. Observations:                 392   AIC:                             2249.\n",
      "Df Residuals:                     376   BIC:                             2313.\n",
      "Df Model:                          15                                         \n",
      "Covariance Type:            nonrobust                                         \n",
      "=============================================================================================\n",
      "                                coef    std err          t      P>|t|      [0.025      0.975]\n",
      "---------------------------------------------------------------------------------------------\n",
      "Intercept                 -1.448e+07   1.43e+07     -1.011      0.313   -4.27e+07    1.37e+07\n",
      "weight_norm                1.777e+08   1.82e+08      0.975      0.330   -1.81e+08    5.36e+08\n",
      "np.power(weight_norm, 2)  -9.483e+08   1.01e+09     -0.936      0.350   -2.94e+09    1.04e+09\n",
      "np.power(weight_norm, 3)   2.832e+09   3.17e+09      0.894      0.372    -3.4e+09    9.06e+09\n",
      "np.power(weight_norm, 4)  -4.964e+09   5.88e+09     -0.845      0.399   -1.65e+10    6.59e+09\n",
      "np.power(weight_norm, 5)   4.496e+09   5.81e+09      0.774      0.439   -6.93e+09    1.59e+10\n",
      "np.power(weight_norm, 6)  -1.439e+08   8.18e+08     -0.176      0.861   -1.75e+09    1.47e+09\n",
      "np.power(weight_norm, 7)  -3.846e+09   4.72e+09     -0.814      0.416   -1.31e+10    5.44e+09\n",
      "np.power(weight_norm, 8)   2.227e+09   3.45e+09      0.645      0.519   -4.56e+09    9.01e+09\n",
      "np.power(weight_norm, 9)   2.543e+09   2.91e+09      0.872      0.384   -3.19e+09    8.27e+09\n",
      "np.power(weight_norm, 10) -3.114e+09   4.58e+09     -0.680      0.497   -1.21e+10    5.89e+09\n",
      "np.power(weight_norm, 11) -1.154e+09   1.02e+09     -1.135      0.257   -3.15e+09    8.46e+08\n",
      "np.power(weight_norm, 12)  3.565e+09    5.1e+09      0.699      0.485   -6.46e+09    1.36e+10\n",
      "np.power(weight_norm, 13) -9.077e+08   1.93e+09     -0.471      0.638   -4.69e+09    2.88e+09\n",
      "np.power(weight_norm, 14) -2.929e+09   3.97e+09     -0.739      0.461   -1.07e+10    4.87e+09\n",
      "np.power(weight_norm, 15)  3.967e+09   6.11e+09      0.649      0.517   -8.05e+09     1.6e+10\n",
      "np.power(weight_norm, 16) -2.605e+09   4.31e+09     -0.605      0.546   -1.11e+10    5.87e+09\n",
      "np.power(weight_norm, 17)  1.043e+09   1.83e+09      0.570      0.569   -2.55e+09    4.64e+09\n",
      "np.power(weight_norm, 18) -2.602e+08   4.81e+08     -0.541      0.589   -1.21e+09    6.86e+08\n",
      "np.power(weight_norm, 19)  3.748e+07   7.29e+07      0.514      0.607   -1.06e+08    1.81e+08\n",
      "np.power(weight_norm, 20) -2.398e+06   4.89e+06     -0.490      0.624    -1.2e+07    7.22e+06\n",
      "==============================================================================\n",
      "Omnibus:                       60.948   Durbin-Watson:                   0.784\n",
      "Prob(Omnibus):                  0.000   Jarque-Bera (JB):              115.566\n",
      "Skew:                           0.868   Prob(JB):                     8.04e-26\n",
      "Kurtosis:                       5.015   Cond. No.                     1.32e+18\n",
      "==============================================================================\n",
      "\n",
      "Notes:\n",
      "[1] Standard Errors assume that the covariance matrix of the errors is correctly specified.\n",
      "[2] The smallest eigenvalue is 6.75e-27. This might indicate that there are\n",
      "strong multicollinearity problems or that the design matrix is singular.\n",
      "1: 0.6926304331206254\n",
      "2: 0.7151475557845139\n",
      "3: 0.7151495954869257\n",
      "4: 0.7154806032756433\n",
      "5: 0.7160964869848888\n",
      "6: 0.7165638483081991\n",
      "7: 0.717787956884247\n",
      "8: 0.717799297970616\n",
      "9: 0.7182083307060492\n",
      "10: 0.7198912804634656\n",
      "11: 0.7209101751470355\n",
      "12: 0.7209276396053428\n",
      "13: 0.7227919069223399\n",
      "14: 0.7240045792865738\n",
      "15: 0.7238304202487583\n",
      "16: 0.7242828953553875\n",
      "17: 0.7243902150772804\n",
      "18: 0.7244186959161092\n",
      "19: 0.7244319427564229\n",
      "20: 0.7245256288737596\n"
     ]
    },
    {
     "data": {
      "text/plain": [
       "<Figure size 640x480 with 1 Axes>"
      ],
      "image/png": "[encoded data removed]"
     },
     "metadata": {},
     "output_type": "display_data"
    }
   ],
   "execution_count": 47
  },
  {
   "cell_type": "code",
   "metadata": {
    "deletable": false,
    "editable": false,
    "nbgrader": {
     "cell_type": "code",
     "checksum": "04aa0d5c7219e7b75c5c2c40f6977f25",
     "grade": true,
     "grade_id": "cell-9e5cf0218fc7223e",
     "locked": true,
     "points": 5,
     "schema_version": 3,
     "solution": false,
     "task": false
    },
    "ExecuteTime": {
     "end_time": "2025-09-02T10:52:43.903257Z",
     "start_time": "2025-09-02T10:52:43.900564Z"
    }
   },
   "source": [
    "# tests best_degree, best_r_squared, and sound_degree"
   ],
   "outputs": [],
   "execution_count": 45
  },
  {
   "cell_type": "markdown",
   "metadata": {
    "deletable": false,
    "editable": false,
    "nbgrader": {
     "cell_type": "markdown",
     "checksum": "b3a40a495119e5f20a1f1a5d71cd9a5a",
     "grade": false,
     "grade_id": "cell-6a0c0f990a4d625c",
     "locked": true,
     "schema_version": 3,
     "solution": false,
     "task": false
    }
   },
   "source": "Open the Peer Review assignment for this week to answer a question for section 1d."
  },
  {
   "cell_type": "markdown",
   "metadata": {
    "deletable": false,
    "editable": false,
    "nbgrader": {
     "cell_type": "markdown",
     "checksum": "bcdeca2ee3a270b46760bb39695fcfab",
     "grade": false,
     "grade_id": "cell-e8cf71ca601f0306",
     "locked": true,
     "schema_version": 3,
     "solution": false,
     "task": false
    }
   },
   "source": [
    "# 2. Multi-Linear Regression [15 pts, Peer Review]"
   ]
  },
  {
   "cell_type": "markdown",
   "metadata": {
    "deletable": false,
    "editable": false,
    "nbgrader": {
     "cell_type": "markdown",
     "checksum": "bb6ec556f086d3c6ce58fe22f538f691",
     "grade": false,
     "grade_id": "cell-e9eaa96657b9c0dd",
     "locked": true,
     "schema_version": 3,
     "solution": false,
     "task": false
    }
   },
   "source": [
    "In the following problem, you will construct a simple multi-linear regression model, identify interaction terms and use diagnostic plots to identify outliers in the data. The original problem is as described by John Verzani in the [excellent tutorial 'SimplR' on the R statistics language](https://cran.r-project.org/doc/contrib/Verzani-SimpleR.pdf) and uses data from the 2000 presidential election in Florida. The problem is interesting because it contains a small number of highly leveraged points that influence the model."
   ]
  },
  {
   "cell_type": "code",
   "metadata": {
    "deletable": false,
    "editable": false,
    "nbgrader": {
     "cell_type": "code",
     "checksum": "650e938a68d060bacf43eadb71c05f76",
     "grade": false,
     "grade_id": "cell-3c062b1300f9a41e",
     "locked": true,
     "schema_version": 3,
     "solution": false,
     "task": false
    },
    "ExecuteTime": {
     "end_time": "2025-09-02T11:17:04.623862Z",
     "start_time": "2025-09-02T11:17:04.608257Z"
    }
   },
   "source": [
    "votes = pd.read_csv('data/fl2000.txt', delim_whitespace=True, comment='#')\n",
    "votes = votes[['county', 'Bush', 'Gore', 'Nader', 'Buchanan']]\n",
    "votes.describe(include='all')"
   ],
   "outputs": [
    {
     "name": "stderr",
     "output_type": "stream",
     "text": [
      "/var/folders/kz/34dp2r_x2zlgffjysxmy1_1r0000gn/T/ipykernel_20806/1617688238.py:1: FutureWarning: The 'delim_whitespace' keyword in pd.read_csv is deprecated and will be removed in a future version. Use ``sep='\\s+'`` instead\n",
      "  votes = pd.read_csv('data/fl2000.txt', delim_whitespace=True, comment='#')\n"
     ]
    },
    {
     "data": {
      "text/plain": [
       "         county           Bush           Gore         Nader     Buchanan\n",
       "count        67      67.000000      67.000000     67.000000    67.000000\n",
       "unique       67            NaN            NaN           NaN          NaN\n",
       "top     Alachua            NaN            NaN           NaN          NaN\n",
       "freq          1            NaN            NaN           NaN          NaN\n",
       "mean        NaN   43450.970149   43453.985075   1454.119403   260.880597\n",
       "std         NaN   57182.620266   75070.435056   2033.620972   450.498092\n",
       "min         NaN    1317.000000     789.000000     19.000000     9.000000\n",
       "25%         NaN    4757.000000    3058.000000     95.500000    46.500000\n",
       "50%         NaN   20206.000000   14167.000000    562.000000   120.000000\n",
       "75%         NaN   56546.500000   46015.000000   1870.500000   285.500000\n",
       "max         NaN  289533.000000  387703.000000  10022.000000  3411.000000"
      ],
      "text/html": [
       "<div>\n",
       "<style scoped>\n",
       "    .dataframe tbody tr th:only-of-type {\n",
       "        vertical-align: middle;\n",
       "    }\n",
       "\n",
       "    .dataframe tbody tr th {\n",
       "        vertical-align: top;\n",
       "    }\n",
       "\n",
       "    .dataframe thead th {\n",
       "        text-align: right;\n",
       "    }\n",
       "</style>\n",
       "<table border=\"1\" class=\"dataframe\">\n",
       "  <thead>\n",
       "    <tr style=\"text-align: right;\">\n",
       "      <th></th>\n",
       "      <th>county</th>\n",
       "      <th>Bush</th>\n",
       "      <th>Gore</th>\n",
       "      <th>Nader</th>\n",
       "      <th>Buchanan</th>\n",
       "    </tr>\n",
       "  </thead>\n",
       "  <tbody>\n",
       "    <tr>\n",
       "      <th>count</th>\n",
       "      <td>67</td>\n",
       "      <td>67.000000</td>\n",
       "      <td>67.000000</td>\n",
       "      <td>67.000000</td>\n",
       "      <td>67.000000</td>\n",
       "    </tr>\n",
       "    <tr>\n",
       "      <th>unique</th>\n",
       "      <td>67</td>\n",
       "      <td>NaN</td>\n",
       "      <td>NaN</td>\n",
       "      <td>NaN</td>\n",
       "      <td>NaN</td>\n",
       "    </tr>\n",
       "    <tr>\n",
       "      <th>top</th>\n",
       "      <td>Alachua</td>\n",
       "      <td>NaN</td>\n",
       "      <td>NaN</td>\n",
       "      <td>NaN</td>\n",
       "      <td>NaN</td>\n",
       "    </tr>\n",
       "    <tr>\n",
       "      <th>freq</th>\n",
       "      <td>1</td>\n",
       "      <td>NaN</td>\n",
       "      <td>NaN</td>\n",
       "      <td>NaN</td>\n",
       "      <td>NaN</td>\n",
       "    </tr>\n",
       "    <tr>\n",
       "      <th>mean</th>\n",
       "      <td>NaN</td>\n",
       "      <td>43450.970149</td>\n",
       "      <td>43453.985075</td>\n",
       "      <td>1454.119403</td>\n",
       "      <td>260.880597</td>\n",
       "    </tr>\n",
       "    <tr>\n",
       "      <th>std</th>\n",
       "      <td>NaN</td>\n",
       "      <td>57182.620266</td>\n",
       "      <td>75070.435056</td>\n",
       "      <td>2033.620972</td>\n",
       "      <td>450.498092</td>\n",
       "    </tr>\n",
       "    <tr>\n",
       "      <th>min</th>\n",
       "      <td>NaN</td>\n",
       "      <td>1317.000000</td>\n",
       "      <td>789.000000</td>\n",
       "      <td>19.000000</td>\n",
       "      <td>9.000000</td>\n",
       "    </tr>\n",
       "    <tr>\n",
       "      <th>25%</th>\n",
       "      <td>NaN</td>\n",
       "      <td>4757.000000</td>\n",
       "      <td>3058.000000</td>\n",
       "      <td>95.500000</td>\n",
       "      <td>46.500000</td>\n",
       "    </tr>\n",
       "    <tr>\n",
       "      <th>50%</th>\n",
       "      <td>NaN</td>\n",
       "      <td>20206.000000</td>\n",
       "      <td>14167.000000</td>\n",
       "      <td>562.000000</td>\n",
       "      <td>120.000000</td>\n",
       "    </tr>\n",
       "    <tr>\n",
       "      <th>75%</th>\n",
       "      <td>NaN</td>\n",
       "      <td>56546.500000</td>\n",
       "      <td>46015.000000</td>\n",
       "      <td>1870.500000</td>\n",
       "      <td>285.500000</td>\n",
       "    </tr>\n",
       "    <tr>\n",
       "      <th>max</th>\n",
       "      <td>NaN</td>\n",
       "      <td>289533.000000</td>\n",
       "      <td>387703.000000</td>\n",
       "      <td>10022.000000</td>\n",
       "      <td>3411.000000</td>\n",
       "    </tr>\n",
       "  </tbody>\n",
       "</table>\n",
       "</div>"
      ]
     },
     "execution_count": 48,
     "metadata": {},
     "output_type": "execute_result"
    }
   ],
   "execution_count": 48
  },
  {
   "cell_type": "markdown",
   "metadata": {
    "deletable": false,
    "editable": false,
    "nbgrader": {
     "cell_type": "markdown",
     "checksum": "ac095a5f66f36f290efc3daa77753f1d",
     "grade": false,
     "grade_id": "cell-34a57617922dd7b2",
     "locked": true,
     "schema_version": 3,
     "solution": false,
     "task": false
    }
   },
   "source": [
    "### 2a. Plot a pair plot of the data using the `seaborn` library. [Peer Review]\n",
    "Upload a screenshot or saved copy of your plot for this week's Peer Review assignment.<br>\n",
    "**Note:** your code for this section may cause the Validate button to time out. If you want to run the Validate button prior to submitting, you could comment out the code in this section after completing the Peer Review."
   ]
  },
  {
   "cell_type": "code",
   "metadata": {
    "deletable": false,
    "nbgrader": {
     "cell_type": "code",
     "checksum": "4580e4653feab570c9b0fa3db7ba3444",
     "grade": false,
     "grade_id": "cell-6295591c65139c70",
     "locked": false,
     "schema_version": 3,
     "solution": true,
     "task": false
    },
    "ExecuteTime": {
     "end_time": "2025-09-02T16:01:08.892115Z",
     "start_time": "2025-09-02T16:01:05.984519Z"
    }
   },
   "source": [
    "# plot a pair plot of the data using the seaborn library\n",
    "numeric_votes = votes.drop('county', axis=1)\n",
    "numeric_votes['total_votes'] = numeric_votes.sum(axis=1)\n",
    "\n",
    "sns.pairplot(\n",
    "    numeric_votes,\n",
    "    diag_kind='kde'\n",
    "    )\n",
    "\n",
    "plt.savefig('pair_plot.png', dpi = 300, bbox_inches = 'tight')\n",
    "plt.show()\n",
    "\n",
    "corr = numeric_votes.corr()\n",
    "mask = np.triu(np.ones_like(corr, dtype=bool))\n",
    "\n",
    "plt.figure(figsize=(10, 8))\n",
    "plt.title(\"Candidate Votes - Correlation Heatmap\", fontsize=14)\n",
    "\n",
    "sns.heatmap(\n",
    "    corr,\n",
    "    cmap=\"coolwarm\",\n",
    "    center=0,\n",
    "    vmin=-1,\n",
    "    vmax=1,\n",
    "    annot=True,\n",
    "    fmt=\".1f\",\n",
    "    annot_kws={\"size\": 7},\n",
    "    mask=mask,            # hide upper triangle\n",
    "    linewidths=0.5,\n",
    "    square=True\n",
    ")\n",
    "\n",
    "plt.show()"
   ],
   "outputs": [
    {
     "data": {
      "text/plain": [
       "<Figure size 1250x1250 with 30 Axes>"
      ],
      "image/png": "[encoded data removed]"
     },
     "metadata": {},
     "output_type": "display_data"
    },
    {
     "data": {
      "text/plain": [
       "<Figure size 1000x800 with 2 Axes>"
      ],
      "image/png": "[encoded data removed]"
     },
     "metadata": {},
     "output_type": "display_data"
    }
   ],
   "execution_count": 262
  },
  {
   "cell_type": "markdown",
   "metadata": {
    "deletable": false,
    "editable": false,
    "nbgrader": {
     "cell_type": "markdown",
     "checksum": "77eba6c741c09bd255b273a9f3d77519",
     "grade": false,
     "grade_id": "cell-b72a220a013a11eb",
     "locked": true,
     "schema_version": 3,
     "solution": false,
     "task": false
    }
   },
   "source": [
    "### 2b. Comment on the relationship between the quantiative datasets. Are they correlated? Collinear? [Peer Review]\n",
    "You will answer this question in this week's Peer Review assignment."
   ]
  },
  {
   "cell_type": "markdown",
   "metadata": {
    "deletable": false,
    "editable": false,
    "nbgrader": {
     "cell_type": "markdown",
     "checksum": "0ce62030747239510e2a7f5e6537bb6e",
     "grade": false,
     "grade_id": "cell-27c84c69998660fd",
     "locked": true,
     "schema_version": 3,
     "solution": false,
     "task": false
    }
   },
   "source": [
    "### 2c. Multi-linear [5 pts, Peer Review]\n",
    "\n",
    "Construct a multi-linear model called `model` without interaction terms predicting the Bush column on the other columns and print out the summary table. You should name your model's object as `model` in order to pass the autograder. Use the full data (not train-test split for now) and do not scale features."
   ]
  },
  {
   "cell_type": "code",
   "metadata": {
    "deletable": false,
    "nbgrader": {
     "cell_type": "code",
     "checksum": "f1f04143151d86d74cce9f60e1b84c2e",
     "grade": false,
     "grade_id": "cell-3e217b35eef74be5",
     "locked": false,
     "schema_version": 3,
     "solution": true,
     "task": false
    },
    "ExecuteTime": {
     "end_time": "2025-09-16T12:34:50.731544Z",
     "start_time": "2025-09-16T12:34:50.580664Z"
    }
   },
   "source": [
    "# uncomment and construct a multi-linear model \n",
    "model = smf.ols(formula='Bush ~ Gore + Nader + Buchanan', data=votes).fit()\n",
    "print(model.summary())"
   ],
   "outputs": [
    {
     "ename": "NameError",
     "evalue": "name 'smf' is not defined",
     "output_type": "error",
     "traceback": [
      "\u001B[0;31m---------------------------------------------------------------------------\u001B[0m",
      "\u001B[0;31mNameError\u001B[0m                                 Traceback (most recent call last)",
      "Cell \u001B[0;32mIn[1], line 2\u001B[0m\n\u001B[1;32m      1\u001B[0m \u001B[38;5;66;03m# uncomment and construct a multi-linear model \u001B[39;00m\n\u001B[0;32m----> 2\u001B[0m model \u001B[38;5;241m=\u001B[39m \u001B[43msmf\u001B[49m\u001B[38;5;241m.\u001B[39mols(formula\u001B[38;5;241m=\u001B[39m\u001B[38;5;124m'\u001B[39m\u001B[38;5;124mBush ~ Gore + Nader + Buchanan\u001B[39m\u001B[38;5;124m'\u001B[39m, data\u001B[38;5;241m=\u001B[39mvotes)\u001B[38;5;241m.\u001B[39mfit()\n\u001B[1;32m      3\u001B[0m \u001B[38;5;28mprint\u001B[39m(model\u001B[38;5;241m.\u001B[39msummary())\n",
      "\u001B[0;31mNameError\u001B[0m: name 'smf' is not defined"
     ]
    }
   ],
   "execution_count": 1
  },
  {
   "cell_type": "code",
   "metadata": {
    "deletable": false,
    "editable": false,
    "nbgrader": {
     "cell_type": "code",
     "checksum": "5a50f4cd807b1853c12a678d548bcb88",
     "grade": true,
     "grade_id": "cell-0f446ca83e177241",
     "locked": true,
     "points": 3,
     "schema_version": 3,
     "solution": false,
     "task": false
    },
    "ExecuteTime": {
     "end_time": "2025-09-02T12:29:16.743299Z",
     "start_time": "2025-09-02T12:29:16.741174Z"
    }
   },
   "source": [
    "# tests model"
   ],
   "outputs": [],
   "execution_count": 65
  },
  {
   "cell_type": "markdown",
   "metadata": {
    "deletable": false,
    "editable": false,
    "nbgrader": {
     "cell_type": "markdown",
     "checksum": "2ad4bc982aba8cbc23dbd612ccefe4e3",
     "grade": false,
     "grade_id": "cell-5ec540187e23c55b",
     "locked": true,
     "schema_version": 3,
     "solution": false,
     "task": false
    }
   },
   "source": [
    "Is there any insignificant feature(s)? Explain your answer in this week's Peer Review assignment. "
   ]
  },
  {
   "cell_type": "markdown",
   "metadata": {
    "deletable": false,
    "editable": false,
    "nbgrader": {
     "cell_type": "markdown",
     "checksum": "3716f4db7d6130148683606b82775b62",
     "grade": false,
     "grade_id": "cell-91b57f0a9964a836",
     "locked": true,
     "schema_version": 3,
     "solution": false,
     "task": false
    }
   },
   "source": [
    "### 2d. Multi-linear with interactions [Peer Review]\n",
    "\n",
    "Construct a multi-linear model with interactions that are statistically significant at the $p = 0.05$ level. You can start with full interactions and then eliminate interactions that do not meet the $p = 0.05$ threshold. You will share your solution in this week's Peer Review assignment. \n",
    "\n",
    "Note: Name this model object as **`model_multi`**."
   ]
  },
  {
   "cell_type": "code",
   "metadata": {
    "deletable": false,
    "nbgrader": {
     "cell_type": "code",
     "checksum": "7aaee7a000ff2b1f1692f0a2384934ca",
     "grade": false,
     "grade_id": "cell-22c0b20ec31ac9c9",
     "locked": false,
     "schema_version": 3,
     "solution": true,
     "task": false
    },
    "ExecuteTime": {
     "end_time": "2025-09-03T09:52:52.380093Z",
     "start_time": "2025-09-03T09:52:52.364547Z"
    }
   },
   "source": [
    "formula_final = 'Bush ~ Gore + Nader + Buchanan + Nader:Buchanan'\n",
    "model_multi = smf.ols(formula=formula_final, data=votes).fit()\n",
    "print(model_multi.summary())\n"
   ],
   "outputs": [
    {
     "name": "stdout",
     "output_type": "stream",
     "text": [
      "                            OLS Regression Results                            \n",
      "==============================================================================\n",
      "Dep. Variable:                   Bush   R-squared:                       0.910\n",
      "Model:                            OLS   Adj. R-squared:                  0.904\n",
      "Method:                 Least Squares   F-statistic:                     155.9\n",
      "Date:                Wed, 03 Sep 2025   Prob (F-statistic):           1.30e-31\n",
      "Time:                        10:52:52   Log-Likelihood:                -747.99\n",
      "No. Observations:                  67   AIC:                             1506.\n",
      "Df Residuals:                      62   BIC:                             1517.\n",
      "Df Model:                           4                                         \n",
      "Covariance Type:            nonrobust                                         \n",
      "==================================================================================\n",
      "                     coef    std err          t      P>|t|      [0.025      0.975]\n",
      "----------------------------------------------------------------------------------\n",
      "Intercept      -1980.5222   3516.613     -0.563      0.575   -9010.132    5049.088\n",
      "Gore               0.4302      0.061      7.004      0.000       0.307       0.553\n",
      "Nader             16.2123      2.350      6.898      0.000      11.514      20.910\n",
      "Buchanan          64.4286     16.584      3.885      0.000      31.278      97.580\n",
      "Nader:Buchanan    -0.0141      0.003     -4.735      0.000      -0.020      -0.008\n",
      "==============================================================================\n",
      "Omnibus:                       21.432   Durbin-Watson:                   1.966\n",
      "Prob(Omnibus):                  0.000   Jarque-Bera (JB):              177.985\n",
      "Skew:                          -0.152   Prob(JB):                     2.24e-39\n",
      "Kurtosis:                      10.979   Cond. No.                     4.74e+06\n",
      "==============================================================================\n",
      "\n",
      "Notes:\n",
      "[1] Standard Errors assume that the covariance matrix of the errors is correctly specified.\n",
      "[2] The condition number is large, 4.74e+06. This might indicate that there are\n",
      "strong multicollinearity or other numerical problems.\n"
     ]
    }
   ],
   "execution_count": 293
  },
  {
   "cell_type": "code",
   "metadata": {
    "deletable": false,
    "editable": false,
    "nbgrader": {
     "cell_type": "code",
     "checksum": "397523e7e29f6c551cbeba67df1a5f7c",
     "grade": true,
     "grade_id": "cell-eb632c2993a3a21e",
     "locked": true,
     "points": 5,
     "schema_version": 3,
     "solution": false,
     "task": false
    },
    "ExecuteTime": {
     "end_time": "2025-09-03T09:52:53.583938Z",
     "start_time": "2025-09-03T09:52:53.581597Z"
    }
   },
   "source": [
    "# tests model_multi"
   ],
   "outputs": [],
   "execution_count": 294
  },
  {
   "cell_type": "code",
   "metadata": {
    "deletable": false,
    "nbgrader": {
     "cell_type": "code",
     "checksum": "ec85a9f2a7e62c09573b60c001b95905",
     "grade": false,
     "grade_id": "cell-07dd7f2ef51e935d",
     "locked": false,
     "schema_version": 3,
     "solution": true,
     "task": false
    },
    "ExecuteTime": {
     "end_time": "2025-09-03T09:52:54.459140Z",
     "start_time": "2025-09-03T09:52:54.457491Z"
    }
   },
   "source": [
    "# tests model_multi \n",
    "# your code here\n"
   ],
   "outputs": [],
   "execution_count": 295
  },
  {
   "cell_type": "markdown",
   "metadata": {
    "deletable": false,
    "editable": false,
    "nbgrader": {
     "cell_type": "markdown",
     "checksum": "bc78817205e93cacf8ea393d590ed6f3",
     "grade": false,
     "grade_id": "cell-b98112cfec169f01",
     "locked": true,
     "schema_version": 3,
     "solution": false,
     "task": false
    }
   },
   "source": [
    "### 2e. Leverage [Peer Review]\n",
    "\n",
    "Plot the *leverage* vs. the square of the residual.\n",
    "\n",
    "These resources might be helpful    \n",
    "- https://rpubs.com/Amrabdelhamed611/669768\n",
    "- https://www.statsmodels.org/dev/generated/statsmodels.graphics.regressionplots.plot_leverage_resid2.html"
   ]
  },
  {
   "cell_type": "code",
   "metadata": {
    "deletable": false,
    "nbgrader": {
     "cell_type": "code",
     "checksum": "ea95ea232eeea5861a9228d0362fee40",
     "grade": false,
     "grade_id": "cell-ef11baefdcff42ae",
     "locked": false,
     "schema_version": 3,
     "solution": true,
     "task": false
    },
    "ExecuteTime": {
     "end_time": "2025-09-03T09:53:00.677098Z",
     "start_time": "2025-09-03T09:53:00.584316Z"
    }
   },
   "source": [
    "# plot the leverage vs. the square of the residual\n",
    "sm.graphics.plot_leverage_resid2(model_multi)\n",
    "plt.show()\n"
   ],
   "outputs": [
    {
     "data": {
      "text/plain": [
       "<Figure size 640x480 with 1 Axes>"
      ],
      "image/png": "[encoded data removed]"
     },
     "metadata": {},
     "output_type": "display_data"
    }
   ],
   "execution_count": 296
  },
  {
   "cell_type": "code",
   "metadata": {
    "deletable": false,
    "nbgrader": {
     "cell_type": "code",
     "checksum": "4ffc57759fcc7aaa641d4c9f29792a01",
     "grade": false,
     "grade_id": "cell-ee3769e1988a26ba",
     "locked": false,
     "schema_version": 3,
     "solution": true,
     "task": false
    },
    "ExecuteTime": {
     "end_time": "2025-09-03T09:53:03.265317Z",
     "start_time": "2025-09-03T09:53:03.263601Z"
    }
   },
   "source": [
    "# you can use this cell to try different plots \n",
    "# your code here\n"
   ],
   "outputs": [],
   "execution_count": 297
  },
  {
   "cell_type": "markdown",
   "metadata": {
    "deletable": false,
    "editable": false,
    "nbgrader": {
     "cell_type": "markdown",
     "checksum": "a1109f70cd913c619846729dbaea6dc2",
     "grade": false,
     "grade_id": "cell-0de43916d160a061",
     "locked": true,
     "schema_version": 3,
     "solution": false,
     "task": false
    }
   },
   "source": [
    "Upload your plot for this week's Peer Review assignment. If you tried out multiple models, upload a single model."
   ]
  },
  {
   "cell_type": "markdown",
   "metadata": {
    "deletable": false,
    "editable": false,
    "nbgrader": {
     "cell_type": "markdown",
     "checksum": "4f2ab521eca2939f6be06b0324812089",
     "grade": false,
     "grade_id": "cell-36cc68329e51f35e",
     "locked": true,
     "schema_version": 3,
     "solution": false,
     "task": false
    }
   },
   "source": [
    "### 2f. Identify and Clean [5pts]\n",
    "\n",
    "The leverage *vs* residual plot indicates that some rows have high leverage but small residuals and others have high residual. The $R^2$ of the model is determined by the residual. The data is from the disputed 2000 election [where one county](https://en.wikipedia.org/wiki/2000_United_States_presidential_election_recount_in_Florida) caused significant issues.\n",
    "\n",
    "Display the *3 or more* rows for the points indicated having high leverage and/or high residual squared. You will use this to improve the model $R^2$.\n",
    "\n",
    "Name the list of indices for those high-leverage and/or high-residual points as `unusual`."
   ]
  },
  {
   "cell_type": "code",
   "metadata": {
    "deletable": false,
    "nbgrader": {
     "cell_type": "code",
     "checksum": "49583c6c1bd160606c55538ed81cda65",
     "grade": false,
     "grade_id": "cell-86a3970d8f212d25",
     "locked": false,
     "schema_version": 3,
     "solution": true,
     "task": false
    },
    "ExecuteTime": {
     "end_time": "2025-09-03T09:53:08.568326Z",
     "start_time": "2025-09-03T09:53:08.563395Z"
    }
   },
   "source": [
    "# uncomment and fill unusual with list of indices for high-leverage and/or high-residual points\n",
    "unusual = [42,5,49,51]\n",
    "print(votes.loc[unusual])\n"
   ],
   "outputs": [
    {
     "name": "stdout",
     "output_type": "stream",
     "text": [
      "       county    Bush    Gore  Nader  Buchanan\n",
      "42  MiamiDade  289533  328808   5352       560\n",
      "5     Broward  177902  387703   7104       795\n",
      "49  PalmBeach  152951  269732   5565      3411\n",
      "51   Pinellas  184825  200630  10022      1013\n"
     ]
    }
   ],
   "execution_count": 298
  },
  {
   "cell_type": "code",
   "metadata": {
    "deletable": false,
    "editable": false,
    "nbgrader": {
     "cell_type": "code",
     "checksum": "8640ed3902ec093d908ae2a9e59d564b",
     "grade": true,
     "grade_id": "cell-371a2f9390cc1bac",
     "locked": true,
     "points": 5,
     "schema_version": 3,
     "solution": false,
     "task": false
    },
    "ExecuteTime": {
     "end_time": "2025-09-03T09:53:09.607967Z",
     "start_time": "2025-09-03T09:53:09.605868Z"
    }
   },
   "source": [
    "# tests your list of indices for high-leverage and/or high-residual points "
   ],
   "outputs": [],
   "execution_count": 299
  },
  {
   "cell_type": "markdown",
   "metadata": {
    "deletable": false,
    "editable": false,
    "nbgrader": {
     "cell_type": "markdown",
     "checksum": "20911234c5ee4bb73c6f0162a584c89b",
     "grade": false,
     "grade_id": "cell-92e61512d63f64b4",
     "locked": true,
     "schema_version": 3,
     "solution": false,
     "task": false
    }
   },
   "source": [
    "### 2g. Final model [5 pts]\n",
    "\n",
    "Develop your final model by dropping *one or more* of the troublesome data points indicated in the leverage *vs* residual plot and insuring any interactions in your model are still significant at $p=0.05$. Your model should have an $R^2$ great than 0.95. Call your model `model_final`."
   ]
  },
  {
   "cell_type": "code",
   "metadata": {
    "deletable": false,
    "nbgrader": {
     "cell_type": "code",
     "checksum": "cee47438644e06f44f3855e40d2aa42f",
     "grade": false,
     "grade_id": "cell-e44af38914a74eca",
     "locked": false,
     "schema_version": 3,
     "solution": true,
     "task": false
    },
    "ExecuteTime": {
     "end_time": "2025-09-03T09:54:45.111560Z",
     "start_time": "2025-09-03T09:54:45.093217Z"
    }
   },
   "source": [
    "# develop your model_final here\n",
    "clean_votes = votes.drop([5])\n",
    "model_final = smf.ols(formula=formula_final, data=clean_votes).fit()\n",
    "print(model_final.summary())\n",
    "clean_votes.head(10)\n"
   ],
   "outputs": [
    {
     "name": "stdout",
     "output_type": "stream",
     "text": [
      "                            OLS Regression Results                            \n",
      "==============================================================================\n",
      "Dep. Variable:                   Bush   R-squared:                       0.958\n",
      "Model:                            OLS   Adj. R-squared:                  0.956\n",
      "Method:                 Least Squares   F-statistic:                     350.3\n",
      "Date:                Wed, 03 Sep 2025   Prob (F-statistic):           2.51e-41\n",
      "Time:                        10:54:45   Log-Likelihood:                -708.85\n",
      "No. Observations:                  66   AIC:                             1428.\n",
      "Df Residuals:                      61   BIC:                             1439.\n",
      "Df Model:                           4                                         \n",
      "Covariance Type:            nonrobust                                         \n",
      "==================================================================================\n",
      "                     coef    std err          t      P>|t|      [0.025      0.975]\n",
      "----------------------------------------------------------------------------------\n",
      "Intercept       -446.9976   2309.096     -0.194      0.847   -5064.320    4170.325\n",
      "Gore               0.7518      0.053     14.069      0.000       0.645       0.859\n",
      "Nader             10.8957      1.645      6.622      0.000       7.606      14.186\n",
      "Buchanan          33.2969     11.382      2.925      0.005      10.537      56.057\n",
      "Nader:Buchanan    -0.0114      0.002     -5.772      0.000      -0.015      -0.007\n",
      "==============================================================================\n",
      "Omnibus:                       10.510   Durbin-Watson:                   1.725\n",
      "Prob(Omnibus):                  0.005   Jarque-Bera (JB):               28.430\n",
      "Skew:                           0.124   Prob(JB):                     6.71e-07\n",
      "Kurtosis:                       6.206   Cond. No.                     4.62e+06\n",
      "==============================================================================\n",
      "\n",
      "Notes:\n",
      "[1] Standard Errors assume that the covariance matrix of the errors is correctly specified.\n",
      "[2] The condition number is large, 4.62e+06. This might indicate that there are\n",
      "strong multicollinearity or other numerical problems.\n"
     ]
    },
    {
     "data": {
      "text/plain": [
       "       county    Bush   Gore  Nader  Buchanan\n",
       "0     Alachua   34124  47365   3226       263\n",
       "1       Baker    5610   2392     53        73\n",
       "2         Bay   38637  18850    828       248\n",
       "3    Bradford    5414   3075     84        65\n",
       "4     Brevard  115185  97318   4470       570\n",
       "6     Calhoun    2873   2155     39        90\n",
       "7   Charlotte   35426  29645   1462       182\n",
       "8      Citrus   29767  25525   1379       270\n",
       "9        Clay   41736  14632    562       186\n",
       "10    Collier   60450  29921   1400       122"
      ],
      "text/html": [
       "<div>\n",
       "<style scoped>\n",
       "    .dataframe tbody tr th:only-of-type {\n",
       "        vertical-align: middle;\n",
       "    }\n",
       "\n",
       "    .dataframe tbody tr th {\n",
       "        vertical-align: top;\n",
       "    }\n",
       "\n",
       "    .dataframe thead th {\n",
       "        text-align: right;\n",
       "    }\n",
       "</style>\n",
       "<table border=\"1\" class=\"dataframe\">\n",
       "  <thead>\n",
       "    <tr style=\"text-align: right;\">\n",
       "      <th></th>\n",
       "      <th>county</th>\n",
       "      <th>Bush</th>\n",
       "      <th>Gore</th>\n",
       "      <th>Nader</th>\n",
       "      <th>Buchanan</th>\n",
       "    </tr>\n",
       "  </thead>\n",
       "  <tbody>\n",
       "    <tr>\n",
       "      <th>0</th>\n",
       "      <td>Alachua</td>\n",
       "      <td>34124</td>\n",
       "      <td>47365</td>\n",
       "      <td>3226</td>\n",
       "      <td>263</td>\n",
       "    </tr>\n",
       "    <tr>\n",
       "      <th>1</th>\n",
       "      <td>Baker</td>\n",
       "      <td>5610</td>\n",
       "      <td>2392</td>\n",
       "      <td>53</td>\n",
       "      <td>73</td>\n",
       "    </tr>\n",
       "    <tr>\n",
       "      <th>2</th>\n",
       "      <td>Bay</td>\n",
       "      <td>38637</td>\n",
       "      <td>18850</td>\n",
       "      <td>828</td>\n",
       "      <td>248</td>\n",
       "    </tr>\n",
       "    <tr>\n",
       "      <th>3</th>\n",
       "      <td>Bradford</td>\n",
       "      <td>5414</td>\n",
       "      <td>3075</td>\n",
       "      <td>84</td>\n",
       "      <td>65</td>\n",
       "    </tr>\n",
       "    <tr>\n",
       "      <th>4</th>\n",
       "      <td>Brevard</td>\n",
       "      <td>115185</td>\n",
       "      <td>97318</td>\n",
       "      <td>4470</td>\n",
       "      <td>570</td>\n",
       "    </tr>\n",
       "    <tr>\n",
       "      <th>6</th>\n",
       "      <td>Calhoun</td>\n",
       "      <td>2873</td>\n",
       "      <td>2155</td>\n",
       "      <td>39</td>\n",
       "      <td>90</td>\n",
       "    </tr>\n",
       "    <tr>\n",
       "      <th>7</th>\n",
       "      <td>Charlotte</td>\n",
       "      <td>35426</td>\n",
       "      <td>29645</td>\n",
       "      <td>1462</td>\n",
       "      <td>182</td>\n",
       "    </tr>\n",
       "    <tr>\n",
       "      <th>8</th>\n",
       "      <td>Citrus</td>\n",
       "      <td>29767</td>\n",
       "      <td>25525</td>\n",
       "      <td>1379</td>\n",
       "      <td>270</td>\n",
       "    </tr>\n",
       "    <tr>\n",
       "      <th>9</th>\n",
       "      <td>Clay</td>\n",
       "      <td>41736</td>\n",
       "      <td>14632</td>\n",
       "      <td>562</td>\n",
       "      <td>186</td>\n",
       "    </tr>\n",
       "    <tr>\n",
       "      <th>10</th>\n",
       "      <td>Collier</td>\n",
       "      <td>60450</td>\n",
       "      <td>29921</td>\n",
       "      <td>1400</td>\n",
       "      <td>122</td>\n",
       "    </tr>\n",
       "  </tbody>\n",
       "</table>\n",
       "</div>"
      ]
     },
     "execution_count": 303,
     "metadata": {},
     "output_type": "execute_result"
    }
   ],
   "execution_count": 303
  },
  {
   "cell_type": "code",
   "metadata": {
    "deletable": false,
    "editable": false,
    "nbgrader": {
     "cell_type": "code",
     "checksum": "0998aa6a3e2d69f7c3f8860187436a84",
     "grade": true,
     "grade_id": "cell-9020c6d93ec1e5ff",
     "locked": true,
     "points": 5,
     "schema_version": 3,
     "solution": false,
     "task": false
    },
    "ExecuteTime": {
     "end_time": "2025-09-03T09:55:07.909901Z",
     "start_time": "2025-09-03T09:55:07.907380Z"
    }
   },
   "source": "# tests model_final",
   "outputs": [],
   "execution_count": 304
  },
  {
   "cell_type": "markdown",
   "metadata": {
    "deletable": false,
    "editable": false,
    "nbgrader": {
     "cell_type": "markdown",
     "checksum": "ba3301db38167d7f5d60a9ad16e9f3bf",
     "grade": false,
     "grade_id": "cell-aaa41e66895bed82",
     "locked": true,
     "schema_version": 3,
     "solution": false,
     "task": false
    }
   },
   "source": [
    "\n",
    "## 3. Body Mass Index Model [20 points, Peer Review]"
   ]
  },
  {
   "cell_type": "markdown",
   "metadata": {
    "deletable": false,
    "editable": false,
    "nbgrader": {
     "cell_type": "markdown",
     "checksum": "d34d6b307eda25bb4b005ddaaeffeb92",
     "grade": false,
     "grade_id": "cell-e0a612fa6afff5b7",
     "locked": true,
     "schema_version": 3,
     "solution": false,
     "task": false
    }
   },
   "source": [
    "In this problem, you will first clean a data set and create a model to estimate body fat based on the common BMI measure. Then, you will use the **forward stepwise selection** method to create more accurate predictors for body fat.\n",
    "\n",
    "The body density dataset in file `bodyfat` includes the following 15 variables listed from left to right:\n",
    "* Density : Density determined from underwater weighing\n",
    "* Fat : Percent body fat from Siri’s (1956) equation\n",
    "* Age : Age (years)\n",
    "* Weight : Weight (kg)\n",
    "* Height : Height (cm)\n",
    "* Neck : Neck circumference (cm)\n",
    "* Chest: Chest circumference (cm)\n",
    "* Abdomen : Abdomen circumference (cm)\n",
    "* Hip : Hip circumference (cm)\n",
    "* Thigh : Thigh circumference (cm)\n",
    "* Knee : Knee circumference (cm)\n",
    "* Ankle : Ankle circumference (cm)\n",
    "* Biceps : Biceps (extended) circumference (cm)\n",
    "* Forearm : Forearm circumference (cm)\n",
    "* Wrist : Wrist circumference (cm)\n",
    "\n",
    "The `Density` column is the \"gold standard\" -- it is a measure of body density obtained by dunking people in water and measuring the displacement. The `Fat` column is a prediction using another statistical model. The body mass index (BMI) is [calculated as Kg/m^2](https://en.wikipedia.org/wiki/Body_mass_index) and is used to classify people into different weight categories with a [BMI over 30 being 'obese'](https://www.medicalnewstoday.com/info/obesity). You will find that BMI is a poor predictor of the `Density` information it purports to predict. You will try to find better models using measurements and regression.\n",
    "\n",
    "Unfortunately for us, the dataset we have has imperial units for weight and height, so we will convert those to metric and then calculate the BMI and plot the KDE of the data."
   ]
  },
  {
   "cell_type": "code",
   "metadata": {
    "deletable": false,
    "editable": false,
    "nbgrader": {
     "cell_type": "code",
     "checksum": "abbebf927df5eeb0b1be132a5eb82741",
     "grade": false,
     "grade_id": "cell-c1702a843e3fb544",
     "locked": true,
     "schema_version": 3,
     "solution": false,
     "task": false
    },
    "ExecuteTime": {
     "end_time": "2025-09-03T09:55:12.450256Z",
     "start_time": "2025-09-03T09:55:12.325057Z"
    }
   },
   "source": [
    "fat = pd.read_csv('data/bodyfat.csv')\n",
    "fat = fat.drop('Unnamed: 0', axis=1)\n",
    "fat.Weight = fat.Weight * 0.453592 # Convert to Kg\n",
    "fat.Height = fat.Height * 0.0254 # convert inches to m\n",
    "fat['BMI'] = fat.Weight / (fat.Height**2)\n",
    "fat.BMI.plot.kde();"
   ],
   "outputs": [
    {
     "data": {
      "text/plain": [
       "<Figure size 640x480 with 1 Axes>"
      ],
      "image/png": "[encoded data removed]"
     },
     "metadata": {},
     "output_type": "display_data"
    }
   ],
   "execution_count": 305
  },
  {
   "cell_type": "markdown",
   "metadata": {
    "deletable": false,
    "editable": false,
    "nbgrader": {
     "cell_type": "markdown",
     "checksum": "8550853b789cd652d5fd5158f3a58b14",
     "grade": false,
     "grade_id": "cell-ce6b7bb9427aa898",
     "locked": true,
     "schema_version": 3,
     "solution": false,
     "task": false
    }
   },
   "source": [
    "### 3a. [5 pts]\n",
    "The BMI has at least one outlier since it's unlikely anyone has a BMI of 165, even [Arnold Schwarzenegger](http://www.health.com/health/gallery/0,,20460621,00.html).\n",
    "\n",
    "Form a new table `cfat` (cleaned fat) that removes any rows with a BMI greater than 40 and calculate the regression model predicting the `Density` from the `BMI`. Display the summary of the regression model. Call your model as `bmi`. You should achieve an $R^2$ of at least 0.53."
   ]
  },
  {
   "cell_type": "code",
   "metadata": {
    "deletable": false,
    "nbgrader": {
     "cell_type": "code",
     "checksum": "9a989034d531571a7081f4bafefb65a8",
     "grade": false,
     "grade_id": "cell-8d4f2e33481cd87a",
     "locked": false,
     "schema_version": 3,
     "solution": true,
     "task": false
    },
    "ExecuteTime": {
     "end_time": "2025-09-03T09:55:15.125736Z",
     "start_time": "2025-09-03T09:55:15.112333Z"
    }
   },
   "source": [
    "# form new table cfat and model bmi\n",
    "# cfat = \n",
    "# bmi = \n",
    "# your code here\n",
    "\n",
    "cfat = fat[fat['BMI'] <= 40]\n",
    "bmi = smf.ols('Density ~ BMI', data=cfat).fit()\n",
    "print(bmi.summary())\n"
   ],
   "outputs": [
    {
     "name": "stdout",
     "output_type": "stream",
     "text": [
      "                            OLS Regression Results                            \n",
      "==============================================================================\n",
      "Dep. Variable:                Density   R-squared:                       0.536\n",
      "Model:                            OLS   Adj. R-squared:                  0.534\n",
      "Method:                 Least Squares   F-statistic:                     286.2\n",
      "Date:                Wed, 03 Sep 2025   Prob (F-statistic):           3.25e-43\n",
      "Time:                        10:55:15   Log-Likelihood:                 734.17\n",
      "No. Observations:                 250   AIC:                            -1464.\n",
      "Df Residuals:                     248   BIC:                            -1457.\n",
      "Df Model:                           1                                         \n",
      "Covariance Type:            nonrobust                                         \n",
      "==============================================================================\n",
      "                 coef    std err          t      P>|t|      [0.025      0.975]\n",
      "------------------------------------------------------------------------------\n",
      "Intercept      1.1602      0.006    186.410      0.000       1.148       1.172\n",
      "BMI           -0.0041      0.000    -16.918      0.000      -0.005      -0.004\n",
      "==============================================================================\n",
      "Omnibus:                        2.262   Durbin-Watson:                   1.576\n",
      "Prob(Omnibus):                  0.323   Jarque-Bera (JB):                2.259\n",
      "Skew:                           0.229   Prob(JB):                        0.323\n",
      "Kurtosis:                       2.916   Cond. No.                         195.\n",
      "==============================================================================\n",
      "\n",
      "Notes:\n",
      "[1] Standard Errors assume that the covariance matrix of the errors is correctly specified.\n"
     ]
    }
   ],
   "execution_count": 306
  },
  {
   "cell_type": "code",
   "metadata": {
    "deletable": false,
    "editable": false,
    "nbgrader": {
     "cell_type": "code",
     "checksum": "714dea913dae8e58616d084c59533edc",
     "grade": true,
     "grade_id": "cell-aa74523671aef549",
     "locked": true,
     "points": 5,
     "schema_version": 3,
     "solution": false,
     "task": false
    },
    "ExecuteTime": {
     "end_time": "2025-09-03T09:55:18.247453Z",
     "start_time": "2025-09-03T09:55:18.245141Z"
    }
   },
   "source": [
    "# tests your bmi model "
   ],
   "outputs": [],
   "execution_count": 307
  },
  {
   "cell_type": "markdown",
   "metadata": {
    "deletable": false,
    "editable": false,
    "nbgrader": {
     "cell_type": "markdown",
     "checksum": "059cd2984bb14fc6a468cb93c33b67c4",
     "grade": false,
     "grade_id": "cell-dcbbddf49b488ed2",
     "locked": true,
     "schema_version": 3,
     "solution": false,
     "task": false
    }
   },
   "source": [
    "### 3b. [Peer Review]\n",
    "Plot your regression model against the BMI measurement, properly labeling the scatterplot axes and showing the regression line. In subsequent models, you will not be able to plot the Density *vs* your predictors because you will have too many predictors, but it's useful to visually understand the relationship between the BMI predictor and the `Density` because you should find that the regression line goes through the data but there is too much variability in the data to achieve a good $R^2$.\n",
    "Upload a copy or screensho of your plot for this week's Peer Review assignment. "
   ]
  },
  {
   "cell_type": "code",
   "metadata": {
    "deletable": false,
    "nbgrader": {
     "cell_type": "code",
     "checksum": "de3be70195cd8940e2307d82b09bb9c6",
     "grade": false,
     "grade_id": "cell-d0c9f3ade1d75f1a",
     "locked": false,
     "schema_version": 3,
     "solution": true,
     "task": false
    },
    "ExecuteTime": {
     "end_time": "2025-09-03T09:55:21.924941Z",
     "start_time": "2025-09-03T09:55:21.794277Z"
    }
   },
   "source": [
    "plt.figure(figsize=(10, 8))\n",
    "\n",
    "sns.regplot(data=cfat, x='BMI', y='Density', line_kws=dict(color=\"r\"))\n",
    "\n",
    "plt.xlabel(\"Body Mass Index (BMI) kg/m^2\")\n",
    "plt.ylabel(\"Density kg/m^2\")\n",
    "plt.title(\"Regression Plot of BMI vs Density\")\n",
    "plt.show()\n"
   ],
   "outputs": [
    {
     "data": {
      "text/plain": [
       "<Figure size 1000x800 with 1 Axes>"
      ],
      "image/png": "[encoded data removed]"
     },
     "metadata": {},
     "output_type": "display_data"
    }
   ],
   "execution_count": 308
  },
  {
   "cell_type": "markdown",
   "metadata": {
    "deletable": false,
    "editable": false,
    "nbgrader": {
     "cell_type": "markdown",
     "checksum": "5f010f2bc1083261d56a9682bc987e5e",
     "grade": false,
     "grade_id": "cell-cce39b340a979434",
     "locked": true,
     "schema_version": 3,
     "solution": false,
     "task": false
    }
   },
   "source": [
    " The `BMI` model uses easy-to-measure predictors, but has a poor $R^2 \\sim 0.54$. We will use structured subset selection methods from ISLR Chapter 6.1 to derive two better predictors. That chapter covers *best subset*, *forward stepwise* and *backware stepwise* selection. I have implemented the *best subset* selection which searches across all combinations of $1, 2, \\ldots, p$ predictors and selects the best predictor based on the $\\textit{adjusted}~R^2$ metric. This method involved analyzing $2^{13} = 8192$ regression models (programming and computers for the win). The resulting $\\textit{adjusted}~R^2$ plot is shown below (Since the data split can be different, your result may look slightly different):\n",
    " \n",
    " <img src='fat-best-rsqadj.png'>\n",
    " \n",
    "In this plot, `test_fat` and `train_fat` datasets each containing 200 randomly selected samples were derived from the `cfat` dataset using `np.random.choice` over the `cfat.index` and selected using the Pandas `loc` method. Then, following the algorithm of ISLR Algorithm 6.1 *Best Subset Selection*, all $p \\choose k$ models with $k$ predictors were evaluated on the training data and the model returning the best $\\textit{Adjusted}~R^2$ was selected. These models are indicated by the data points for the solid blue line. As the text indicates, other measures (AIC, BIC, $C_p$) would be better than the $\\textit{Adjusted}~R^2$, but we use it becuase because you've already seen the $R^2$ and should have an understanding of what it means.\n",
    "\n",
    "Then, the best models for each $k$ were evaluated for the `test_fat` data. These results are shown as the red dots below the blue line. Note that because the test and train datasets are randomly selected subsets, the results vary from run-to-run and it may that your test data produces better $R^2$ than your training data.\n",
    "\n",
    "In the following exercises, you can not use the `Density`, `Fat` or `BMI` columns in your predictive models. You can only use the 13 predictors in the `allowed_factors` list."
   ]
  },
  {
   "cell_type": "code",
   "metadata": {
    "deletable": false,
    "editable": false,
    "nbgrader": {
     "cell_type": "code",
     "checksum": "58fb469514a139386f9ab0b11eb5987e",
     "grade": false,
     "grade_id": "cell-1d56e6ab9fac5370",
     "locked": true,
     "schema_version": 3,
     "solution": false,
     "task": false
    },
    "ExecuteTime": {
     "end_time": "2025-09-03T09:55:31.965087Z",
     "start_time": "2025-09-03T09:55:31.962423Z"
    }
   },
   "source": [
    "allowed_factors = ['Age', 'Weight', 'Height', 'Neck', 'Chest',\n",
    "       'Abdomen', 'Hip', 'Thigh', 'Knee', 'Ankle', 'Biceps', 'Forearm',\n",
    "       'Wrist']"
   ],
   "outputs": [],
   "execution_count": 309
  },
  {
   "cell_type": "markdown",
   "metadata": {
    "deletable": false,
    "editable": false,
    "nbgrader": {
     "cell_type": "markdown",
     "checksum": "800ff145f89c12e9eaff9ca004242fe4",
     "grade": false,
     "grade_id": "cell-edb9411d1ec54550",
     "locked": true,
     "schema_version": 3,
     "solution": false,
     "task": false
    }
   },
   "source": [
    "## Forward Stepwise Refinement"
   ]
  },
  {
   "cell_type": "markdown",
   "metadata": {
    "deletable": false,
    "editable": false,
    "nbgrader": {
     "cell_type": "markdown",
     "checksum": "74d464e8f0d0634c91bf1ea0ca64f373",
     "grade": false,
     "grade_id": "cell-3a584210ba67dbdc",
     "locked": true,
     "schema_version": 3,
     "solution": false,
     "task": false
    }
   },
   "source": [
    "You will manually perform the steps of the *forward stepwise selection* method for four parameters. You will do this following Algorithm 6.2 from ISLR. For $k = 1\\ldots 4$:\n",
    "* Set up a regression model with $k$ factors that involves the fixed predictors from the previous step $k-1$\n",
    "* Try all $p$ predictors in the new $k$th position\n",
    "* Select the best parameter using $\\textit{Adjusted}-R^2$ (e.g. `model.rsquared_adj`) given your training data\n",
    "* Fix the new parameter and continue the process for $k+1$\n",
    "\n",
    "Then, you will construct a plot similar to the one above, plotting the $\\textit{Adjusted}-R^2$ for each of your $k$ steps and plotting the $\\textit{Adjusted}-R^2$ from the test set using that model."
   ]
  },
  {
   "cell_type": "markdown",
   "metadata": {
    "deletable": false,
    "editable": false,
    "nbgrader": {
     "cell_type": "markdown",
     "checksum": "0eb7bd586e2532b4441455ffea847c96",
     "grade": false,
     "grade_id": "cell-935c52c843c6c61c",
     "locked": true,
     "schema_version": 3,
     "solution": false,
     "task": false
    }
   },
   "source": [
    "### 3c. [5 pts]\n",
    "First, construct your training and test sets from your `cfat` dataset. Call the resulting data frame to train_fat and test_fat. train_fat includes randomly selected 125 observations and the test_fat has the rest.\n",
    "\n",
    "Note: Set **random_state = 0** in sklearn's split function"
   ]
  },
  {
   "cell_type": "code",
   "metadata": {
    "deletable": false,
    "nbgrader": {
     "cell_type": "code",
     "checksum": "b8e2e7e3b3c238091e2a2a1fc46ed153",
     "grade": false,
     "grade_id": "cell-0d264dd9fa39a3c6",
     "locked": false,
     "schema_version": 3,
     "solution": true,
     "task": false
    },
    "ExecuteTime": {
     "end_time": "2025-09-03T09:55:36.492603Z",
     "start_time": "2025-09-03T09:55:36.487775Z"
    }
   },
   "source": [
    "from sklearn.model_selection import train_test_split\n",
    "\n",
    "train_fat,test_fat = train_test_split(cfat, train_size = 125, random_state=0)\n",
    "print(len(train_fat),len(test_fat))"
   ],
   "outputs": [
    {
     "name": "stdout",
     "output_type": "stream",
     "text": [
      "125 125\n"
     ]
    }
   ],
   "execution_count": 310
  },
  {
   "cell_type": "code",
   "metadata": {
    "deletable": false,
    "editable": false,
    "nbgrader": {
     "cell_type": "code",
     "checksum": "03a442d106b1296488fe77cc4f3b8c21",
     "grade": true,
     "grade_id": "cell-8891dbeb743bcd14",
     "locked": true,
     "points": 5,
     "schema_version": 3,
     "solution": false,
     "task": false
    },
    "ExecuteTime": {
     "end_time": "2025-09-03T09:55:48.591078Z",
     "start_time": "2025-09-03T09:55:48.588603Z"
    }
   },
   "source": [
    "# tests your training and test sets "
   ],
   "outputs": [],
   "execution_count": 311
  },
  {
   "cell_type": "markdown",
   "metadata": {
    "deletable": false,
    "editable": false,
    "nbgrader": {
     "cell_type": "markdown",
     "checksum": "1e3c4c3cf91f57b05659f8e60e1d59bf",
     "grade": false,
     "grade_id": "cell-1417b71024495889",
     "locked": true,
     "schema_version": 3,
     "solution": false,
     "task": false
    }
   },
   "source": [
    "### 3d. Conduct the algorithm above for $k=1$, leaving your best solution as the answer [5 pts]\n",
    "Call your resulting model `train_bmi1`."
   ]
  },
  {
   "cell_type": "code",
   "metadata": {
    "deletable": false,
    "editable": false,
    "nbgrader": {
     "cell_type": "code",
     "checksum": "f205041286df71c59acee817abca7820",
     "grade": false,
     "grade_id": "cell-c968f5bc7b9e363c",
     "locked": true,
     "schema_version": 3,
     "solution": false,
     "task": false
    },
    "ExecuteTime": {
     "end_time": "2025-09-03T09:55:52.767748Z",
     "start_time": "2025-09-03T09:55:52.736389Z"
    }
   },
   "source": [
    "best = ['',0]\n",
    "for p in allowed_factors:\n",
    "    model  = smf.ols(formula='Density~'+p, data=train_fat).fit()\n",
    "    print(p, model.rsquared)\n",
    "    if model.rsquared>best[1]:\n",
    "        best = [p, model.rsquared]\n",
    "print('best:',best)"
   ],
   "outputs": [
    {
     "name": "stdout",
     "output_type": "stream",
     "text": [
      "Age 0.11891818526391718\n",
      "Weight 0.3118316510507503\n",
      "Height 0.01360449953514542\n",
      "Neck 0.23659704375100232\n",
      "Chest 0.48319067404353433\n",
      "Abdomen 0.6569981103212712\n",
      "Hip 0.3096110044465227\n",
      "Thigh 0.2052343726511262\n",
      "Knee 0.14348108465750486\n",
      "Ankle 0.08478533257962151\n",
      "Biceps 0.23065760452385475\n",
      "Forearm 0.0897400332336078\n",
      "Wrist 0.10016498175577249\n",
      "best: ['Abdomen', np.float64(0.6569981103212712)]\n"
     ]
    }
   ],
   "execution_count": 312
  },
  {
   "cell_type": "code",
   "metadata": {
    "deletable": false,
    "nbgrader": {
     "cell_type": "code",
     "checksum": "f40e751b05ac46dbc738c65b1016e193",
     "grade": false,
     "grade_id": "cell-b653a38505843acf",
     "locked": false,
     "schema_version": 3,
     "solution": true,
     "task": false
    },
    "ExecuteTime": {
     "end_time": "2025-09-03T09:55:56.555165Z",
     "start_time": "2025-09-03T09:55:56.542312Z"
    }
   },
   "source": [
    "# uncomment and update your solution\n",
    "formula_k1 = 'Density ~ '+ best[0]\n",
    "train_bmi1 = smf.ols(formula=formula_k1, data = train_fat).fit()\n",
    "print(train_bmi1.summary())"
   ],
   "outputs": [
    {
     "name": "stdout",
     "output_type": "stream",
     "text": [
      "                            OLS Regression Results                            \n",
      "==============================================================================\n",
      "Dep. Variable:                Density   R-squared:                       0.657\n",
      "Model:                            OLS   Adj. R-squared:                  0.654\n",
      "Method:                 Least Squares   F-statistic:                     235.6\n",
      "Date:                Wed, 03 Sep 2025   Prob (F-statistic):           2.32e-30\n",
      "Time:                        10:55:56   Log-Likelihood:                 380.21\n",
      "No. Observations:                 125   AIC:                            -756.4\n",
      "Df Residuals:                     123   BIC:                            -750.8\n",
      "Df Model:                           1                                         \n",
      "Covariance Type:            nonrobust                                         \n",
      "==============================================================================\n",
      "                 coef    std err          t      P>|t|      [0.025      0.975]\n",
      "------------------------------------------------------------------------------\n",
      "Intercept      1.1961      0.009    130.307      0.000       1.178       1.214\n",
      "Abdomen       -0.0015   9.85e-05    -15.349      0.000      -0.002      -0.001\n",
      "==============================================================================\n",
      "Omnibus:                       19.876   Durbin-Watson:                   1.931\n",
      "Prob(Omnibus):                  0.000   Jarque-Bera (JB):               37.245\n",
      "Skew:                           0.686   Prob(JB):                     8.17e-09\n",
      "Kurtosis:                       5.296   Cond. No.                         821.\n",
      "==============================================================================\n",
      "\n",
      "Notes:\n",
      "[1] Standard Errors assume that the covariance matrix of the errors is correctly specified.\n"
     ]
    }
   ],
   "execution_count": 313
  },
  {
   "cell_type": "code",
   "metadata": {
    "deletable": false,
    "editable": false,
    "nbgrader": {
     "cell_type": "code",
     "checksum": "92255eb2a0660046e3c000e99000e2f8",
     "grade": true,
     "grade_id": "cell-70be923706ef2bba",
     "locked": true,
     "points": 5,
     "schema_version": 3,
     "solution": false,
     "task": false
    },
    "ExecuteTime": {
     "end_time": "2025-09-03T09:55:57.801814Z",
     "start_time": "2025-09-03T09:55:57.800051Z"
    }
   },
   "source": [
    "# tests train_bmi1 model "
   ],
   "outputs": [],
   "execution_count": 314
  },
  {
   "cell_type": "markdown",
   "metadata": {
    "deletable": false,
    "editable": false,
    "nbgrader": {
     "cell_type": "markdown",
     "checksum": "ba7ebfb99efed0f1c5863b4c6223f38d",
     "grade": false,
     "grade_id": "cell-b8a4543e21990a4e",
     "locked": true,
     "schema_version": 3,
     "solution": false,
     "task": false
    }
   },
   "source": [
    "### 3e. Conduct the algorithm above for $k=2$, leaving your best solution as the answer [Peer Review]\n",
    "Name your model object as `train_bmi2`.<br>\n",
    "Look at this week's Peer Review assignment for questions about $k=2$ through $k=5$. "
   ]
  },
  {
   "cell_type": "code",
   "metadata": {
    "deletable": false,
    "nbgrader": {
     "cell_type": "code",
     "checksum": "06cda9d0a1a81c337fb14831e60acfbf",
     "grade": false,
     "grade_id": "cell-c1bb769fe2f4652a",
     "locked": false,
     "schema_version": 3,
     "solution": true,
     "task": false
    },
    "ExecuteTime": {
     "end_time": "2025-09-03T10:00:12.518338Z",
     "start_time": "2025-09-03T10:00:12.461434Z"
    }
   },
   "source": [
    "from sklearn.metrics import r2_score\n",
    "\n",
    "# as this logic is going top be needed in the next few questions - worth writing a function\n",
    "def add_factor(formula, allowed_factors = allowed_factors,  data = train_fat):\n",
    "    best = ['','',0]\n",
    "    for p in allowed_factors:\n",
    "        if p not in formula:\n",
    "            formula_k = formula + ' + ' + p\n",
    "            model  = smf.ols(formula=formula_k, data=data).fit()\n",
    "            print(f'The formula for 2 predictors: {formula_k}     R^2_adj of  {round(model.rsquared_adj,3)}')\n",
    "            if model.rsquared_adj>best[2]:\n",
    "                best = [model, formula_k, float(model.rsquared_adj)]\n",
    "\n",
    "    print(f'\\nThe best formula with 2 predictors is : {best[1]}      R^2_adj of  {round(best[2],3)}\\n')\n",
    "    return best\n",
    "\n",
    "# function to calculate adj_R2 on the test data set - used later in the notebook\n",
    "def calc_test_adjR2(model, data = test_fat):\n",
    "    y_test = data['Density']\n",
    "    y_pred = model.predict(data)\n",
    "    # R² on test set\n",
    "    r2 = r2_score(y_test, y_pred)\n",
    "    # Compute adjusted R²\n",
    "    n = len(y_test)                      # number of observations\n",
    "    p = model.df_model                  # number of predictors (excludes intercept)\n",
    "    r2_adj = 1 - (1 - r2) * (n - 1) / (n - p - 1)\n",
    "\n",
    "    return r2_adj\n",
    "\n",
    "# initialize dictionary - to hold k, formula and adj_R2 for both train and test datasets\n",
    "k_dict = {}\n",
    "k_dict[1] = [formula_k1, float(train_bmi1.rsquared_adj), calc_test_adjR2(train_bmi1)]\n",
    "\n",
    "best = add_factor(formula_k1, allowed_factors, data=train_fat)\n",
    "best.append(calc_test_adjR2(best[0]))\n",
    "\n",
    "formula_k2 = best[1]\n",
    "train_bmi2 = best[0]\n",
    "k_dict[2] = [best[1], best[2], best[3]]\n",
    "\n",
    "\n",
    "print(train_bmi2.summary())\n",
    "\n"
   ],
   "outputs": [
    {
     "name": "stdout",
     "output_type": "stream",
     "text": [
      "The formula for 2 predictors: Density ~ Abdomen + Age     R^2_adj of  0.671\n",
      "The formula for 2 predictors: Density ~ Abdomen + Weight     R^2_adj of  0.73\n",
      "The formula for 2 predictors: Density ~ Abdomen + Height     R^2_adj of  0.691\n",
      "The formula for 2 predictors: Density ~ Abdomen + Neck     R^2_adj of  0.681\n",
      "The formula for 2 predictors: Density ~ Abdomen + Chest     R^2_adj of  0.675\n",
      "The formula for 2 predictors: Density ~ Abdomen + Hip     R^2_adj of  0.721\n",
      "The formula for 2 predictors: Density ~ Abdomen + Thigh     R^2_adj of  0.679\n",
      "The formula for 2 predictors: Density ~ Abdomen + Knee     R^2_adj of  0.689\n",
      "The formula for 2 predictors: Density ~ Abdomen + Ankle     R^2_adj of  0.68\n",
      "The formula for 2 predictors: Density ~ Abdomen + Biceps     R^2_adj of  0.656\n",
      "The formula for 2 predictors: Density ~ Abdomen + Forearm     R^2_adj of  0.67\n",
      "The formula for 2 predictors: Density ~ Abdomen + Wrist     R^2_adj of  0.701\n",
      "\n",
      "The best formula with 2 predictors is : Density ~ Abdomen + Weight      R^2_adj of  0.73\n",
      "\n",
      "                            OLS Regression Results                            \n",
      "==============================================================================\n",
      "Dep. Variable:                Density   R-squared:                       0.734\n",
      "Model:                            OLS   Adj. R-squared:                  0.730\n",
      "Method:                 Least Squares   F-statistic:                     168.5\n",
      "Date:                Wed, 03 Sep 2025   Prob (F-statistic):           7.81e-36\n",
      "Time:                        11:00:12   Log-Likelihood:                 396.16\n",
      "No. Observations:                 125   AIC:                            -786.3\n",
      "Df Residuals:                     122   BIC:                            -777.8\n",
      "Df Model:                           2                                         \n",
      "Covariance Type:            nonrobust                                         \n",
      "==============================================================================\n",
      "                 coef    std err          t      P>|t|      [0.025      0.975]\n",
      "------------------------------------------------------------------------------\n",
      "Intercept      1.2084      0.008    144.306      0.000       1.192       1.225\n",
      "Abdomen       -0.0024      0.000    -13.926      0.000      -0.003      -0.002\n",
      "Weight         0.0009      0.000      5.955      0.000       0.001       0.001\n",
      "==============================================================================\n",
      "Omnibus:                       11.620   Durbin-Watson:                   1.890\n",
      "Prob(Omnibus):                  0.003   Jarque-Bera (JB):               13.391\n",
      "Skew:                           0.588   Prob(JB):                      0.00124\n",
      "Kurtosis:                       4.090   Cond. No.                     1.13e+03\n",
      "==============================================================================\n",
      "\n",
      "Notes:\n",
      "[1] Standard Errors assume that the covariance matrix of the errors is correctly specified.\n",
      "[2] The condition number is large, 1.13e+03. This might indicate that there are\n",
      "strong multicollinearity or other numerical problems.\n"
     ]
    }
   ],
   "execution_count": 317
  },
  {
   "cell_type": "markdown",
   "metadata": {
    "deletable": false,
    "editable": false,
    "nbgrader": {
     "cell_type": "markdown",
     "checksum": "6dc65243db88c57ade297d5d0297432c",
     "grade": false,
     "grade_id": "cell-c01c83243d830766",
     "locked": true,
     "schema_version": 3,
     "solution": false,
     "task": false
    }
   },
   "source": [
    "### 3f. Conduct the algorithm above for $k=3$, leaving your best solution as the answer [Peer Review]"
   ]
  },
  {
   "cell_type": "code",
   "metadata": {
    "deletable": false,
    "nbgrader": {
     "cell_type": "code",
     "checksum": "8fcc079c84b8b0c596ead094a5dd4036",
     "grade": false,
     "grade_id": "cell-4291b82327d46a06",
     "locked": false,
     "schema_version": 3,
     "solution": true,
     "task": false
    },
    "ExecuteTime": {
     "end_time": "2025-09-03T10:00:19.820798Z",
     "start_time": "2025-09-03T10:00:19.768549Z"
    }
   },
   "source": [
    "best = add_factor(formula_k2, allowed_factors, data=train_fat)\n",
    "best.append(calc_test_adjR2(best[0]))\n",
    "\n",
    "formula_k3 = best[1]\n",
    "train_bmi3 = best[0]\n",
    "k_dict[3] = [best[1], best[2], best[3]]\n",
    "print(train_bmi3.summary())"
   ],
   "outputs": [
    {
     "name": "stdout",
     "output_type": "stream",
     "text": [
      "The formula for 2 predictors: Density ~ Abdomen + Weight + Age     R^2_adj of  0.728\n",
      "The formula for 2 predictors: Density ~ Abdomen + Weight + Height     R^2_adj of  0.728\n",
      "The formula for 2 predictors: Density ~ Abdomen + Weight + Neck     R^2_adj of  0.729\n",
      "The formula for 2 predictors: Density ~ Abdomen + Weight + Chest     R^2_adj of  0.73\n",
      "The formula for 2 predictors: Density ~ Abdomen + Weight + Hip     R^2_adj of  0.734\n",
      "The formula for 2 predictors: Density ~ Abdomen + Weight + Thigh     R^2_adj of  0.73\n",
      "The formula for 2 predictors: Density ~ Abdomen + Weight + Knee     R^2_adj of  0.728\n",
      "The formula for 2 predictors: Density ~ Abdomen + Weight + Ankle     R^2_adj of  0.729\n",
      "The formula for 2 predictors: Density ~ Abdomen + Weight + Biceps     R^2_adj of  0.744\n",
      "The formula for 2 predictors: Density ~ Abdomen + Weight + Forearm     R^2_adj of  0.729\n",
      "The formula for 2 predictors: Density ~ Abdomen + Weight + Wrist     R^2_adj of  0.733\n",
      "\n",
      "The best formula with 2 predictors is : Density ~ Abdomen + Weight + Biceps      R^2_adj of  0.744\n",
      "\n",
      "                            OLS Regression Results                            \n",
      "==============================================================================\n",
      "Dep. Variable:                Density   R-squared:                       0.750\n",
      "Model:                            OLS   Adj. R-squared:                  0.744\n",
      "Method:                 Least Squares   F-statistic:                     121.2\n",
      "Date:                Wed, 03 Sep 2025   Prob (F-statistic):           2.64e-36\n",
      "Time:                        11:00:19   Log-Likelihood:                 400.07\n",
      "No. Observations:                 125   AIC:                            -792.1\n",
      "Df Residuals:                     121   BIC:                            -780.8\n",
      "Df Model:                           3                                         \n",
      "Covariance Type:            nonrobust                                         \n",
      "==============================================================================\n",
      "                 coef    std err          t      P>|t|      [0.025      0.975]\n",
      "------------------------------------------------------------------------------\n",
      "Intercept      1.2348      0.012     98.987      0.000       1.210       1.260\n",
      "Abdomen       -0.0024      0.000    -14.529      0.000      -0.003      -0.002\n",
      "Weight         0.0012      0.000      6.548      0.000       0.001       0.002\n",
      "Biceps        -0.0014      0.001     -2.795      0.006      -0.002      -0.000\n",
      "==============================================================================\n",
      "Omnibus:                        6.462   Durbin-Watson:                   1.794\n",
      "Prob(Omnibus):                  0.040   Jarque-Bera (JB):                5.977\n",
      "Skew:                           0.480   Prob(JB):                       0.0504\n",
      "Kurtosis:                       3.477   Cond. No.                     1.79e+03\n",
      "==============================================================================\n",
      "\n",
      "Notes:\n",
      "[1] Standard Errors assume that the covariance matrix of the errors is correctly specified.\n",
      "[2] The condition number is large, 1.79e+03. This might indicate that there are\n",
      "strong multicollinearity or other numerical problems.\n"
     ]
    }
   ],
   "execution_count": 318
  },
  {
   "cell_type": "markdown",
   "metadata": {
    "deletable": false,
    "editable": false,
    "nbgrader": {
     "cell_type": "markdown",
     "checksum": "5ed7d175c220a1e949f4f3fc735d109a",
     "grade": false,
     "grade_id": "cell-a65e999c326a5638",
     "locked": true,
     "schema_version": 3,
     "solution": false,
     "task": false
    }
   },
   "source": [
    "### 3g. Conduct the algorithm above for $k=4$, leaving your best solution as the answer [Peer Review]"
   ]
  },
  {
   "cell_type": "code",
   "metadata": {
    "deletable": false,
    "nbgrader": {
     "cell_type": "code",
     "checksum": "33b029c381341908d29ea3ea3e099c28",
     "grade": false,
     "grade_id": "cell-9338360b551afae7",
     "locked": false,
     "schema_version": 3,
     "solution": true,
     "task": false
    },
    "ExecuteTime": {
     "end_time": "2025-09-03T10:00:22.408989Z",
     "start_time": "2025-09-03T10:00:22.353346Z"
    }
   },
   "source": [
    "best = add_factor(formula_k3, allowed_factors, data=train_fat)\n",
    "best.append(calc_test_adjR2(best[0]))\n",
    "\n",
    "formula_k4 = best[1]\n",
    "train_bmi4 = best[0]\n",
    "k_dict[4] = [best[1], best[2], best[3]]\n",
    "print(train_bmi4.summary())"
   ],
   "outputs": [
    {
     "name": "stdout",
     "output_type": "stream",
     "text": [
      "The formula for 2 predictors: Density ~ Abdomen + Weight + Biceps + Age     R^2_adj of  0.742\n",
      "The formula for 2 predictors: Density ~ Abdomen + Weight + Biceps + Height     R^2_adj of  0.745\n",
      "The formula for 2 predictors: Density ~ Abdomen + Weight + Biceps + Neck     R^2_adj of  0.747\n",
      "The formula for 2 predictors: Density ~ Abdomen + Weight + Biceps + Chest     R^2_adj of  0.744\n",
      "The formula for 2 predictors: Density ~ Abdomen + Weight + Biceps + Hip     R^2_adj of  0.747\n",
      "The formula for 2 predictors: Density ~ Abdomen + Weight + Biceps + Thigh     R^2_adj of  0.742\n",
      "The formula for 2 predictors: Density ~ Abdomen + Weight + Biceps + Knee     R^2_adj of  0.742\n",
      "The formula for 2 predictors: Density ~ Abdomen + Weight + Biceps + Ankle     R^2_adj of  0.744\n",
      "The formula for 2 predictors: Density ~ Abdomen + Weight + Biceps + Forearm     R^2_adj of  0.742\n",
      "The formula for 2 predictors: Density ~ Abdomen + Weight + Biceps + Wrist     R^2_adj of  0.751\n",
      "\n",
      "The best formula with 2 predictors is : Density ~ Abdomen + Weight + Biceps + Wrist      R^2_adj of  0.751\n",
      "\n",
      "                            OLS Regression Results                            \n",
      "==============================================================================\n",
      "Dep. Variable:                Density   R-squared:                       0.759\n",
      "Model:                            OLS   Adj. R-squared:                  0.751\n",
      "Method:                 Least Squares   F-statistic:                     94.30\n",
      "Date:                Wed, 03 Sep 2025   Prob (F-statistic):           4.24e-36\n",
      "Time:                        11:00:22   Log-Likelihood:                 402.18\n",
      "No. Observations:                 125   AIC:                            -794.4\n",
      "Df Residuals:                     120   BIC:                            -780.2\n",
      "Df Model:                           4                                         \n",
      "Covariance Type:            nonrobust                                         \n",
      "==============================================================================\n",
      "                 coef    std err          t      P>|t|      [0.025      0.975]\n",
      "------------------------------------------------------------------------------\n",
      "Intercept      1.1948      0.023     51.329      0.000       1.149       1.241\n",
      "Abdomen       -0.0024      0.000    -14.362      0.000      -0.003      -0.002\n",
      "Weight         0.0010      0.000      5.092      0.000       0.001       0.001\n",
      "Biceps        -0.0016      0.001     -3.068      0.003      -0.003      -0.001\n",
      "Wrist          0.0030      0.001      2.029      0.045    7.19e-05       0.006\n",
      "==============================================================================\n",
      "Omnibus:                        3.832   Durbin-Watson:                   1.816\n",
      "Prob(Omnibus):                  0.147   Jarque-Bera (JB):                3.311\n",
      "Skew:                           0.380   Prob(JB):                        0.191\n",
      "Kurtosis:                       3.240   Cond. No.                     3.41e+03\n",
      "==============================================================================\n",
      "\n",
      "Notes:\n",
      "[1] Standard Errors assume that the covariance matrix of the errors is correctly specified.\n",
      "[2] The condition number is large, 3.41e+03. This might indicate that there are\n",
      "strong multicollinearity or other numerical problems.\n"
     ]
    }
   ],
   "execution_count": 319
  },
  {
   "cell_type": "markdown",
   "metadata": {
    "deletable": false,
    "editable": false,
    "nbgrader": {
     "cell_type": "markdown",
     "checksum": "5fb18e9e520ea2c3792c120072da73c2",
     "grade": false,
     "grade_id": "cell-a3566ec9e61c94fd",
     "locked": true,
     "schema_version": 3,
     "solution": false,
     "task": false
    }
   },
   "source": [
    "### 3h. Conduct the algorithm above for $k=5$, leaving your best solution as the answer [Peer Review]"
   ]
  },
  {
   "cell_type": "code",
   "metadata": {
    "deletable": false,
    "nbgrader": {
     "cell_type": "code",
     "checksum": "23c03629d41b2b311820e860083e3946",
     "grade": false,
     "grade_id": "cell-8ce53b966f091dc0",
     "locked": false,
     "schema_version": 3,
     "solution": true,
     "task": false
    },
    "ExecuteTime": {
     "end_time": "2025-09-03T10:01:13.806476Z",
     "start_time": "2025-09-03T10:01:13.750045Z"
    }
   },
   "source": [
    "# Note: uses the function add_factor, defined above in the response to question 3e.\n",
    "best = add_factor(formula_k4, allowed_factors, data=train_fat)\n",
    "best.append(calc_test_adjR2(best[0]))\n",
    "# the variables and dictionary store the output of the function for later use.\n",
    "formula_k5 = best[1]\n",
    "train_bmi5 = best[0]\n",
    "k_dict[5] = [best[1], best[2], best[3]]\n",
    "\n",
    "print('Using a forward stepwise approach, we only need to check we are adding the predictor that maximises the adjusted R^2\\n')\n",
    "print(train_bmi5.summary())"
   ],
   "outputs": [
    {
     "name": "stdout",
     "output_type": "stream",
     "text": [
      "The formula for 2 predictors: Density ~ Abdomen + Weight + Biceps + Wrist + Age     R^2_adj of  0.749\n",
      "The formula for 2 predictors: Density ~ Abdomen + Weight + Biceps + Wrist + Height     R^2_adj of  0.751\n",
      "The formula for 2 predictors: Density ~ Abdomen + Weight + Biceps + Wrist + Neck     R^2_adj of  0.75\n",
      "The formula for 2 predictors: Density ~ Abdomen + Weight + Biceps + Wrist + Chest     R^2_adj of  0.75\n",
      "The formula for 2 predictors: Density ~ Abdomen + Weight + Biceps + Wrist + Hip     R^2_adj of  0.758\n",
      "The formula for 2 predictors: Density ~ Abdomen + Weight + Biceps + Wrist + Thigh     R^2_adj of  0.749\n",
      "The formula for 2 predictors: Density ~ Abdomen + Weight + Biceps + Wrist + Knee     R^2_adj of  0.749\n",
      "The formula for 2 predictors: Density ~ Abdomen + Weight + Biceps + Wrist + Ankle     R^2_adj of  0.753\n",
      "The formula for 2 predictors: Density ~ Abdomen + Weight + Biceps + Wrist + Forearm     R^2_adj of  0.749\n",
      "\n",
      "The best formula with 2 predictors is : Density ~ Abdomen + Weight + Biceps + Wrist + Hip      R^2_adj of  0.758\n",
      "\n",
      "Using a forward stepwise approach, we only need to check we are adding the predictor that maximises the adjusted R^2\n",
      "\n",
      "                            OLS Regression Results                            \n",
      "==============================================================================\n",
      "Dep. Variable:                Density   R-squared:                       0.768\n",
      "Model:                            OLS   Adj. R-squared:                  0.758\n",
      "Method:                 Least Squares   F-statistic:                     78.63\n",
      "Date:                Wed, 03 Sep 2025   Prob (F-statistic):           4.67e-36\n",
      "Time:                        11:01:13   Log-Likelihood:                 404.55\n",
      "No. Observations:                 125   AIC:                            -797.1\n",
      "Df Residuals:                     119   BIC:                            -780.1\n",
      "Df Model:                           5                                         \n",
      "Covariance Type:            nonrobust                                         \n",
      "==============================================================================\n",
      "                 coef    std err          t      P>|t|      [0.025      0.975]\n",
      "------------------------------------------------------------------------------\n",
      "Intercept      1.1362      0.036     31.887      0.000       1.066       1.207\n",
      "Abdomen       -0.0025      0.000    -14.673      0.000      -0.003      -0.002\n",
      "Weight         0.0006      0.000      2.147      0.034     4.5e-05       0.001\n",
      "Biceps        -0.0015      0.001     -3.030      0.003      -0.003      -0.001\n",
      "Wrist          0.0038      0.001      2.522      0.013       0.001       0.007\n",
      "Hip            0.0008      0.000      2.146      0.034    6.48e-05       0.002\n",
      "==============================================================================\n",
      "Omnibus:                        6.193   Durbin-Watson:                   1.808\n",
      "Prob(Omnibus):                  0.045   Jarque-Bera (JB):                5.809\n",
      "Skew:                           0.432   Prob(JB):                       0.0548\n",
      "Kurtosis:                       3.606   Cond. No.                     6.70e+03\n",
      "==============================================================================\n",
      "\n",
      "Notes:\n",
      "[1] Standard Errors assume that the covariance matrix of the errors is correctly specified.\n",
      "[2] The condition number is large, 6.7e+03. This might indicate that there are\n",
      "strong multicollinearity or other numerical problems.\n"
     ]
    }
   ],
   "execution_count": 322
  },
  {
   "cell_type": "markdown",
   "metadata": {
    "deletable": false,
    "editable": false,
    "nbgrader": {
     "cell_type": "markdown",
     "checksum": "dde7b8cb6ae4fcb0c2e153ab619563f4",
     "grade": false,
     "grade_id": "cell-c97e8cf99ad0752c",
     "locked": true,
     "schema_version": 3,
     "solution": false,
     "task": false
    }
   },
   "source": [
    "### 3i. Plot [5 pts]\n",
    "Plot your resulting $\\textit{adjusted}~R^2$ *vs* number of predictors (k=1,2,3,4,5) and overlay the $\\textit{adjusted}~R^2$ for the test data. Call the list of the five adjusted r-squared values from the five train_bmi# models as `adjr2_train` and the one from the test data as `adjr2_test`."
   ]
  },
  {
   "cell_type": "code",
   "metadata": {
    "deletable": false,
    "nbgrader": {
     "cell_type": "code",
     "checksum": "828928fc6a49f4d0ce213624709fc37b",
     "grade": false,
     "grade_id": "cell-5a4df8b7ac835693",
     "locked": false,
     "schema_version": 3,
     "solution": true,
     "task": false
    },
    "ExecuteTime": {
     "end_time": "2025-09-03T10:05:40.396750Z",
     "start_time": "2025-09-03T10:05:40.300375Z"
    }
   },
   "source": [
    "# plot resulting adjusted rsquared vs number of predictors (k=1,2,3,4,5)\n",
    "# overlay the adjusted rsquared for the test data \n",
    "# your code here\n",
    "plot_df = pd.DataFrame.from_dict(k_dict, orient='index')\n",
    "plot_df.rename(columns={0:'formula',1:'adjr2_train',2:'adjr2_test'}, inplace=True)\n",
    "adjr2_train = plot_df['adjr2_train'].to_list()\n",
    "adjr2_test = plot_df['adjr2_test'].to_list()\n",
    "\n",
    "sns.lineplot(data=plot_df, x=plot_df.index, y='adjr2_test', label='Test Adjusted R²')\n",
    "sns.lineplot(data=plot_df, x=plot_df.index, y='adjr2_train', label='Train Adjusted R²')\n",
    "\n",
    "plt.legend(loc='best')  # Optional: 'best' automatically places it nicely\n",
    "plt.title('Adjusted R² for Train and Test Sets')\n",
    "plt.xlabel('Model Index')  # Optional: customize as needed\n",
    "plt.ylabel('Adjusted R²')\n",
    "plt.xticks(ticks=range(len(plot_df)))\n",
    "plt.show()\n"
   ],
   "outputs": [
    {
     "data": {
      "text/plain": [
       "<Figure size 640x480 with 1 Axes>"
      ],
      "image/png": "[encoded data removed]"
     },
     "metadata": {},
     "output_type": "display_data"
    }
   ],
   "execution_count": 323
  },
  {
   "cell_type": "code",
   "metadata": {
    "deletable": false,
    "editable": false,
    "nbgrader": {
     "cell_type": "code",
     "checksum": "9e4f0833530cd9432de6b26938a3585a",
     "grade": true,
     "grade_id": "cell-ee76423a1d5d1bc2",
     "locked": true,
     "points": 5,
     "schema_version": 3,
     "solution": false,
     "task": false
    },
    "ExecuteTime": {
     "end_time": "2025-09-03T10:05:48.394717Z",
     "start_time": "2025-09-03T10:05:48.392159Z"
    }
   },
   "source": [
    "# tests adjusted r-squared plot vs. number of factors "
   ],
   "outputs": [],
   "execution_count": 324
  },
  {
   "cell_type": "markdown",
   "metadata": {
    "deletable": false,
    "editable": false,
    "nbgrader": {
     "cell_type": "markdown",
     "checksum": "9f44fec7c036f10bc7c2ef8c7ccf9a8e",
     "grade": false,
     "grade_id": "cell-ba314ee660e30e67",
     "locked": true,
     "schema_version": 3,
     "solution": false,
     "task": false
    }
   },
   "source": [
    "### 3j. Discussion [Peer Review]\n",
    "The BMI model has the benefit being simple (two measurements, height and wright). Looking at your resulting regression model, how many parameters would you suggest to use for your enhanced BMI model? Justify your answer using your models. Submit your answer with this week's Peer Review assignment."
   ]
  },
  {
   "metadata": {},
   "cell_type": "code",
   "outputs": [],
   "execution_count": null,
   "source": ""
  }
 ],
 "metadata": {
  "kernelspec": {
   "display_name": "Python 3",
   "language": "python",
   "name": "python3"
  },
  "language_info": {
   "codemirror_mode": {
    "name": "ipython",
    "version": 3
   },
   "file_extension": ".py",
   "mimetype": "text/x-python",
   "name": "python",
   "nbconvert_exporter": "python",
   "pygments_lexer": "ipython3",
   "version": "3.7.6"
  }
 },
 "nbformat": 4,
 "nbformat_minor": 4
}
