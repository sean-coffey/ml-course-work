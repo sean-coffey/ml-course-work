{
 "cells": [
  {
   "metadata": {},
   "cell_type": "code",
   "source": [
    "from IPython.display import HTML, Javascript\n",
    "\n",
    "HTML(\"\"\"\n",
    "<style>\n",
    "/* Initialize counters once for the whole document */\n",
    "body { counter-reset: h1 h2 h3 h4; }\n",
    "\n",
    "/* Number headings inside rendered markdown blocks */\n",
    ".jp-Notebook .jp-RenderedHTMLCommon h1::before {\n",
    "  counter-increment: h1;\n",
    "  counter-reset: h2;\n",
    "  content: counter(h1) \". \";\n",
    "}\n",
    "\n",
    ".jp-Notebook .jp-RenderedHTMLCommon h2::before {\n",
    "  counter-increment: h2;\n",
    "  counter-reset: h3;\n",
    "  content: counter(h1) \".\" counter(h2) \" \";\n",
    "}\n",
    "\n",
    ".jp-Notebook .jp-RenderedHTMLCommon h3::before {\n",
    "  counter-increment: h3;\n",
    "  counter-reset: h4;\n",
    "  content: counter(h1) \".\" counter(h2) \".\" counter(h3) \" \";\n",
    "}\n",
    "\n",
    ".jp-Notebook .jp-RenderedHTMLCommon h4::before {\n",
    "  counter-increment: h4;\n",
    "  content: counter(h1) \".\" counter(h2) \".\" counter(h3) \".\" counter(h4) \" \";\n",
    "}\n",
    "\n",
    "/* Hide the number for the single, global title H1 (but keep the increment) */\n",
    ".jp-Notebook .jp-RenderedHTMLCommon h1.jp-title-skip::before {\n",
    "  content: \"\";\n",
    "  display: none;\n",
    "}\n",
    "</style>\n",
    "\"\"\")\n",
    "# ... existing code ...\n",
    "\n",
    "# Tag the first H1 in the entire notebook so we can hide its number without breaking counters\n",
    "Javascript(\"\"\"\n",
    "(() => {\n",
    "  const nb = document.querySelector('.jp-Notebook');\n",
    "  if (!nb) return;\n",
    "  const h1s = nb.querySelectorAll('.jp-RenderedHTMLCommon h1');\n",
    "  if (h1s.length) {\n",
    "    h1s[0].classList.add('jp-title-skip');\n",
    "  }\n",
    "})();\n",
    "\"\"\")\n"
   ],
   "id": "78656c7b3f78d961",
   "outputs": [],
   "execution_count": null
  },
  {
   "metadata": {},
   "cell_type": "markdown",
   "source": [
    "# Heart Disease Prediction\n",
    "Author: Seán Coffey\n",
    "Date: September 2025\n"
   ],
   "id": "f2f9df6de3143584"
  },
  {
   "metadata": {},
   "cell_type": "markdown",
   "source": [
    "## Objectives\n",
    "Purpose: Build and evaluate models to predict heart disease from clinical features.\n",
    "Key outcomes: a) clean dataset, b) strong baseline, c) validated model, d) interpretable insights."
   ],
   "id": "9667218bd5dfca8d"
  },
  {
   "metadata": {},
   "cell_type": "markdown",
   "source": "## Project Setup\n",
   "id": "73f63ff833408b13"
  },
  {
   "cell_type": "markdown",
   "id": "eb6920ae",
   "metadata": {},
   "source": "### Reproducibility\n"
  },
  {
   "cell_type": "code",
   "id": "d893fe20",
   "metadata": {
    "ExecuteTime": {
     "end_time": "2025-09-13T15:34:39.729200Z",
     "start_time": "2025-09-13T15:34:39.720444Z"
    }
   },
   "source": [
    "import os\n",
    "import sys\n",
    "import random\n",
    "import numpy as np\n",
    "import pandas as pd\n",
    "import kagglehub   # need this to download dataset\n",
    "import math\n",
    "\n",
    "import matplotlib.pyplot as plt\n",
    "from matplotlib.colors import Normalize\n",
    "import seaborn as sns\n",
    "%matplotlib inline\n",
    "\n",
    "from sklearn.model_selection import train_test_split, StratifiedKFold, KFold, cross_val_score, GridSearchCV\n",
    "from sklearn.impute import SimpleImputer, KNNImputer\n",
    "from sklearn.preprocessing import OneHotEncoder, StandardScaler\n",
    "from sklearn.compose import ColumnTransformer, make_column_selector\n",
    "from sklearn.linear_model import LogisticRegression, LinearRegression, Ridge, Lasso\n",
    "from sklearn.ensemble import RandomForestClassifier, RandomForestRegressor\n",
    "from sklearn.svm import SVC, SVR\n",
    "from sklearn.neighbors import KNeighborsClassifier, KNeighborsRegressor\n",
    "from sklearn.pipeline import Pipeline\n",
    "from sklearn.calibration import CalibratedClassifierCV\n",
    "from sklearn.metrics import (\n",
    "    classification_report, confusion_matrix, roc_auc_score, roc_curve,\n",
    "    RocCurveDisplay, PrecisionRecallDisplay,\n",
    "    mean_squared_error, mean_absolute_error, r2_score,\n",
    "    f1_score, accuracy_score, precision_score, recall_score\n",
    ")\n",
    "\n",
    "from pathlib import Path\n",
    "from tqdm.autonotebook import tqdm as notebook_tqdm\n",
    "\n",
    "# Reproducibility\n",
    "SEED = 42\n",
    "random.seed(SEED)\n",
    "np.random.seed(SEED)\n",
    "\n",
    "# Plotting defaults\n",
    "sns.set_theme(context=\"notebook\", style=\"darkgrid\", palette=\"deep\")\n",
    "plt.rcParams.update({\n",
    "    \"figure.figsize\": (8, 5),\n",
    "    \"figure.dpi\": 120,\n",
    "    \"axes.titlesize\": 14,\n",
    "    \"axes.labelsize\": 12\n",
    "})\n",
    "\n",
    "print(\"Python:\", sys.version.split()[0])\n",
    "print(\"Pandas:\", pd.__version__)"
   ],
   "outputs": [
    {
     "name": "stdout",
     "output_type": "stream",
     "text": [
      "Python: 3.11.13\n",
      "Pandas: 2.3.2\n"
     ]
    }
   ],
   "execution_count": 216
  },
  {
   "cell_type": "markdown",
   "id": "b91c86e8",
   "metadata": {},
   "source": "### Data Access"
  },
  {
   "cell_type": "code",
   "id": "f4412105",
   "metadata": {
    "ExecuteTime": {
     "end_time": "2025-09-11T13:59:44.661040Z",
     "start_time": "2025-09-11T13:59:44.363184Z"
    }
   },
   "source": [
    "# Download latest version of dataset\n",
    "path = kagglehub.dataset_download(\"redwankarimsony/heart-disease-data\")\n",
    "print(\"Path to dataset files:\", path)\n",
    "p = Path(path)\n",
    "\n",
    "files = [f.name for f in p.iterdir() if f.is_file()]\n",
    "print(\"Files in folder:\")\n",
    "for name in files:\n",
    "    print(\"-\", name)\n",
    "\n",
    "csv_files = sorted(p.rglob(\"*.csv\"))  # search recursively\n",
    "if not csv_files:\n",
    "    raise FileNotFoundError(f\"No CSV files found under {p}\")\n",
    "heart_data = pd.read_csv(csv_files[0])\n",
    "print(\"Loaded:\", csv_files[0].name, heart_data.shape)\n",
    "heart_data.head()"
   ],
   "outputs": [
    {
     "name": "stdout",
     "output_type": "stream",
     "text": [
      "Path to dataset files: /Users/seancoffey/.cache/kagglehub/datasets/redwankarimsony/heart-disease-data/versions/6\n",
      "Files in folder:\n",
      "- heart_disease_uci.csv\n",
      "Loaded: heart_disease_uci.csv (920, 16)\n"
     ]
    },
    {
     "data": {
      "text/plain": [
       "   id  age     sex    dataset               cp  trestbps   chol    fbs  \\\n",
       "0   1   63    Male  Cleveland   typical angina     145.0  233.0   True   \n",
       "1   2   67    Male  Cleveland     asymptomatic     160.0  286.0  False   \n",
       "2   3   67    Male  Cleveland     asymptomatic     120.0  229.0  False   \n",
       "3   4   37    Male  Cleveland      non-anginal     130.0  250.0  False   \n",
       "4   5   41  Female  Cleveland  atypical angina     130.0  204.0  False   \n",
       "\n",
       "          restecg  thalch  exang  oldpeak        slope   ca  \\\n",
       "0  lv hypertrophy   150.0  False      2.3  downsloping  0.0   \n",
       "1  lv hypertrophy   108.0   True      1.5         flat  3.0   \n",
       "2  lv hypertrophy   129.0   True      2.6         flat  2.0   \n",
       "3          normal   187.0  False      3.5  downsloping  0.0   \n",
       "4  lv hypertrophy   172.0  False      1.4    upsloping  0.0   \n",
       "\n",
       "                thal  num  \n",
       "0       fixed defect    0  \n",
       "1             normal    2  \n",
       "2  reversable defect    1  \n",
       "3             normal    0  \n",
       "4             normal    0  "
      ],
      "text/html": [
       "<div>\n",
       "<style scoped>\n",
       "    .dataframe tbody tr th:only-of-type {\n",
       "        vertical-align: middle;\n",
       "    }\n",
       "\n",
       "    .dataframe tbody tr th {\n",
       "        vertical-align: top;\n",
       "    }\n",
       "\n",
       "    .dataframe thead th {\n",
       "        text-align: right;\n",
       "    }\n",
       "</style>\n",
       "<table border=\"1\" class=\"dataframe\">\n",
       "  <thead>\n",
       "    <tr style=\"text-align: right;\">\n",
       "      <th></th>\n",
       "      <th>id</th>\n",
       "      <th>age</th>\n",
       "      <th>sex</th>\n",
       "      <th>dataset</th>\n",
       "      <th>cp</th>\n",
       "      <th>trestbps</th>\n",
       "      <th>chol</th>\n",
       "      <th>fbs</th>\n",
       "      <th>restecg</th>\n",
       "      <th>thalch</th>\n",
       "      <th>exang</th>\n",
       "      <th>oldpeak</th>\n",
       "      <th>slope</th>\n",
       "      <th>ca</th>\n",
       "      <th>thal</th>\n",
       "      <th>num</th>\n",
       "    </tr>\n",
       "  </thead>\n",
       "  <tbody>\n",
       "    <tr>\n",
       "      <th>0</th>\n",
       "      <td>1</td>\n",
       "      <td>63</td>\n",
       "      <td>Male</td>\n",
       "      <td>Cleveland</td>\n",
       "      <td>typical angina</td>\n",
       "      <td>145.0</td>\n",
       "      <td>233.0</td>\n",
       "      <td>True</td>\n",
       "      <td>lv hypertrophy</td>\n",
       "      <td>150.0</td>\n",
       "      <td>False</td>\n",
       "      <td>2.3</td>\n",
       "      <td>downsloping</td>\n",
       "      <td>0.0</td>\n",
       "      <td>fixed defect</td>\n",
       "      <td>0</td>\n",
       "    </tr>\n",
       "    <tr>\n",
       "      <th>1</th>\n",
       "      <td>2</td>\n",
       "      <td>67</td>\n",
       "      <td>Male</td>\n",
       "      <td>Cleveland</td>\n",
       "      <td>asymptomatic</td>\n",
       "      <td>160.0</td>\n",
       "      <td>286.0</td>\n",
       "      <td>False</td>\n",
       "      <td>lv hypertrophy</td>\n",
       "      <td>108.0</td>\n",
       "      <td>True</td>\n",
       "      <td>1.5</td>\n",
       "      <td>flat</td>\n",
       "      <td>3.0</td>\n",
       "      <td>normal</td>\n",
       "      <td>2</td>\n",
       "    </tr>\n",
       "    <tr>\n",
       "      <th>2</th>\n",
       "      <td>3</td>\n",
       "      <td>67</td>\n",
       "      <td>Male</td>\n",
       "      <td>Cleveland</td>\n",
       "      <td>asymptomatic</td>\n",
       "      <td>120.0</td>\n",
       "      <td>229.0</td>\n",
       "      <td>False</td>\n",
       "      <td>lv hypertrophy</td>\n",
       "      <td>129.0</td>\n",
       "      <td>True</td>\n",
       "      <td>2.6</td>\n",
       "      <td>flat</td>\n",
       "      <td>2.0</td>\n",
       "      <td>reversable defect</td>\n",
       "      <td>1</td>\n",
       "    </tr>\n",
       "    <tr>\n",
       "      <th>3</th>\n",
       "      <td>4</td>\n",
       "      <td>37</td>\n",
       "      <td>Male</td>\n",
       "      <td>Cleveland</td>\n",
       "      <td>non-anginal</td>\n",
       "      <td>130.0</td>\n",
       "      <td>250.0</td>\n",
       "      <td>False</td>\n",
       "      <td>normal</td>\n",
       "      <td>187.0</td>\n",
       "      <td>False</td>\n",
       "      <td>3.5</td>\n",
       "      <td>downsloping</td>\n",
       "      <td>0.0</td>\n",
       "      <td>normal</td>\n",
       "      <td>0</td>\n",
       "    </tr>\n",
       "    <tr>\n",
       "      <th>4</th>\n",
       "      <td>5</td>\n",
       "      <td>41</td>\n",
       "      <td>Female</td>\n",
       "      <td>Cleveland</td>\n",
       "      <td>atypical angina</td>\n",
       "      <td>130.0</td>\n",
       "      <td>204.0</td>\n",
       "      <td>False</td>\n",
       "      <td>lv hypertrophy</td>\n",
       "      <td>172.0</td>\n",
       "      <td>False</td>\n",
       "      <td>1.4</td>\n",
       "      <td>upsloping</td>\n",
       "      <td>0.0</td>\n",
       "      <td>normal</td>\n",
       "      <td>0</td>\n",
       "    </tr>\n",
       "  </tbody>\n",
       "</table>\n",
       "</div>"
      ]
     },
     "execution_count": 37,
     "metadata": {},
     "output_type": "execute_result"
    }
   ],
   "execution_count": 37
  },
  {
   "metadata": {},
   "cell_type": "markdown",
   "source": [
    "### About the Dataset\n",
    "\n",
    "**Kaggle web-page:** https://www.kaggle.com/datasets/redwankarimsony/heart-disease-data/data\n",
    "\n",
    "#### Summary\n",
    "\n",
    "This is a multivariate type of dataset which means providing or involving a variety of separate mathematical or statistical variables, multivariate numerical data analysis. It is composed of 14 attributes which are age, sex, chest pain type, resting blood pressure, serum cholesterol, fasting blood sugar, resting electrocardiographic results, maximum heart rate achieved, exercise-induced angina, oldpeak — ST depression induced by exercise relative to rest, the slope of the peak exercise ST segment, number of major vessels and Thalassemia. This database includes 76 attributes, but all published studies relate to the use of a subset of 14 of them. The Cleveland database is the only one used by ML researchers to date. One of the major tasks on this dataset is to predict based on the given attributes of a patient that whether that particular person has heart disease or not and other is the experimental task to diagnose and find out various insights from this dataset which could help in understanding the problem more.\n",
    "\n",
    "#### Features\n",
    "\n",
    "- id (Unique id for each patient)\n",
    "- age (Age of the patient in years) - range: 28 to 77\n",
    "- sex (Male/Female)\n",
    "- dataset (place of study) ['Cleveland' 'Hungary' 'Switzerland' 'VA Long Beach']\n",
    "- cp chest pain type ([typical angina, atypical angina, non-anginal, asymptomatic])\n",
    "- trestbps resting blood pressure (resting blood pressure (in mm Hg on admission to the hospital))\n",
    "- chol (serum cholesterol in mg/dl) - range: 0(missing value?) to 603\n",
    "- fbs (if fasting blood sugar > 120 mg/dl) - Boolean (1 = true; 0 = false)\n",
    "- restecg (resting electrocardiographic results), Values: [normal, stt abnormality, lv hypertrophy]\n",
    "- thalach: maximum heart rate achieved - range: 60 to 202\n",
    "- exang: exercise-induced angina (True/ False)\n",
    "- oldpeak: ST depression induced by exercise relative to rest, it indicates an abnormality in heart's electrical activity and is characterized by a downward deflection of ST segment (in ECG results). Range: -2.6 to 6.2\n",
    "- slope: the slope of the peak exercise ST segment, Values: [upsloping, flat, downsloping]\n",
    "- ca: number of major vessels (0-3) colored by fluoroscopy\n",
    "- thal: [normal; fixed defect; reversible defect]\n",
    "- num: the predicted attribute, Values: [0,1,2,3,4] - meaning the extent of heart disease [none, mild, moderate, severe, critical]\n",
    "\n",
    "#### The Target Variable\n",
    "The target variable 'num'[0,1,2,3,4] can be considered to be categorical with five classes [none, mild, moderate, severe, critical]. But these classes are clearly ordinal, severity increases with increasing values of num.\n",
    "There are some important decisions to be made when constructing a predictive model:\n",
    "1. Use the variable as a multi-class classifier, although this could cause complications in data-preprocessing (construct one or others versions) or limit our choice of model (those that support multi-class classification).\n",
    "2. Change to a binary classification problem with the target variable 'num_binary' as the class label. (Potentially 0 = False and 1,2,3,4 = True)\n",
    "4. Use 'num' as a numerical value and solve as a regression problem.\n",
    "\n",
    "Domain knowledge would help here, (e.g. is a binary predictor useful? would it be better to include 'mild' in False?). For the purposes of this project, let's create a 'num_bin' as above and compare models for 'multi-class', 'bin' and 'regression'.\n",
    "\n",
    "This will also require that some thought goes into the choice of metric to evaluate accuracy and predictive power."
   ],
   "id": "dca3e6bb558195d3"
  },
  {
   "metadata": {},
   "cell_type": "code",
   "outputs": [],
   "execution_count": null,
   "source": [
    "display(heart_data.info())\n",
    "display(heart_data.describe(include=\"all\"))"
   ],
   "id": "f9e69c88ec2eb26e"
  },
  {
   "metadata": {},
   "cell_type": "markdown",
   "source": "##  Exploratory Data Analysis (EDA)",
   "id": "629a454850953cec"
  },
  {
   "metadata": {
    "ExecuteTime": {
     "end_time": "2025-09-13T13:38:30.106015Z",
     "start_time": "2025-09-13T13:38:30.097532Z"
    }
   },
   "cell_type": "code",
   "source": [
    "# Check data for categorical columns\n",
    "catgoricals = ['sex','dataset','cp','fbs','restecg','exang','slope','thal','num']\n",
    "for col in catgoricals:\n",
    "    print(f'{col}: {heart_data[col].unique()}')\n",
    "#heart_data[catgoricals] = heart_data[catgoricals].astype('category')\n",
    "print(f\"\\nFor {heart_data.shape[0]} rows we have [heart_data['id'].nunique()] patient IDs.\\n\") # check num rows = num patients\n",
    "\n",
    "target_col = \"num\"  # adjust to your dataset\n",
    "ratios_pct_str = (heart_data[target_col].value_counts(normalize=True).mul(100).round(1).astype(str) + \"%\")\n",
    "print(f'The class ratios given target variable {ratios_pct_str}')"
   ],
   "id": "615460723a56133",
   "outputs": [
    {
     "name": "stdout",
     "output_type": "stream",
     "text": [
      "sex: ['Male' 'Female']\n",
      "dataset: ['Cleveland' 'Hungary' 'Switzerland' 'VA Long Beach']\n",
      "cp: ['typical angina' 'asymptomatic' 'non-anginal' 'atypical angina']\n",
      "fbs: [True False nan]\n",
      "restecg: ['lv hypertrophy' 'normal' 'st-t abnormality' nan]\n",
      "exang: [False True nan]\n",
      "slope: ['downsloping' 'flat' 'upsloping' nan]\n",
      "thal: ['fixed defect' 'normal' 'reversable defect' nan]\n",
      "num: [0 2 1 3 4]\n",
      "\n",
      "For 920 rows we have [heart_data['id'].nunique()] patient IDs.\n",
      "\n",
      "The class ratios given target variable num\n",
      "0    44.7%\n",
      "1    28.8%\n",
      "2    11.8%\n",
      "3    11.6%\n",
      "4     3.0%\n",
      "Name: proportion, dtype: object\n"
     ]
    }
   ],
   "execution_count": 186
  },
  {
   "metadata": {},
   "cell_type": "code",
   "outputs": [],
   "execution_count": null,
   "source": [
    "# Explore categoricals\n",
    "n = len(catgoricals)\n",
    "n_cols = 3\n",
    "n_rows = math.ceil(n / n_cols)\n",
    "\n",
    "def section_split(width=200, char=\"-\"):\n",
    "    print(\"\\n\", char * width, \"\\n\")\n",
    "\n",
    "def stacked_count_plot(stack):\n",
    "    fig, axes = plt.subplots(n_rows, n_cols, figsize=(n_cols * 4.5, n_rows * 3.5), constrained_layout=True)\n",
    "    axes = np.array(axes).reshape(-1)  # flatten in case of single row/col\n",
    "\n",
    "    for i, col in enumerate(catgoricals):\n",
    "        ax = axes[i]\n",
    "        pd.crosstab(heart_data[col], heart_data[stack]).plot(kind=\"bar\", stacked=True, ax=ax)\n",
    "        ax.set_xlabel(col)\n",
    "        ax.set_ylabel(\"Count\")\n",
    "\n",
    "    for j in range(i + 1, len(axes)):\n",
    "        axes[j].set_visible(False)\n",
    "\n",
    "    fig.suptitle(\"Distributions of Categorical Features - stacked by: \" + stack)\n",
    "    plt.show()\n",
    "\n",
    "# Stacking by target variable - a visual indication of which categorical features are most important\n",
    "stacked_count_plot(\"num\")\n",
    "section_split()\n",
    "\n",
    "# Stacking by sex - is the data very different for male/female?\n",
    "stacked_count_plot('sex')\n",
    "section_split()\n",
    "\n",
    "# Stacking by dataset - is the data different for different locations?\n",
    "stacked_count_plot('dataset')\n",
    "section_split()\n"
   ],
   "id": "59cca43100216a2c"
  },
  {
   "metadata": {},
   "cell_type": "markdown",
   "source": [
    "### Categorical Data Observations\n",
    "1. The ratio of male to female in the data is approx 3:1 overall and there is almost no female data in the Switzerland or VA Long Beach datasets\n",
    "2. The data by location(dataset) is very differently distributed. Hungary has no serious cases of serious heart disease (or were they using a more limited binary classification?)\n",
    "3. Resting ECG (restecg) seems to be (based on visual inspection) a strong indicator of likelihood of heart disease.\n",
    "4. As does exercised induced angina (exang).\n"
   ],
   "id": "fb613589f18b686a"
  },
  {
   "metadata": {},
   "cell_type": "code",
   "outputs": [],
   "execution_count": null,
   "source": [
    "# Explore numeric columns\n",
    "numeric_cols = ['age', 'trestbps', 'chol', 'thalch', 'oldpeak', 'ca']\n",
    "n = len(numeric_cols)\n",
    "n_cols = 3\n",
    "n_rows = math.ceil(n / n_cols)\n",
    "\n",
    "## Let's start with a simple pairplot\n",
    "sns.pairplot(heart_data, hue=target_col, vars=numeric_cols, diag_kind=\"kde\")\n",
    "plt.show()\n",
    "\n",
    "fig, axes = plt.subplots(n_rows, n_cols, figsize=(n_cols * 4.5, n_rows * 3.5), constrained_layout=True)\n",
    "axes = np.array(axes).reshape(-1)  # flatten in case of single row/col\n",
    "\n",
    "# Plot distributions for numeric columns - a little more clarity on the distributions\n",
    "for i, col in enumerate(numeric_cols):\n",
    "    ax = axes[i]\n",
    "    sns.histplot(heart_data[col].dropna(), bins=30, kde=False, ax=ax)\n",
    "    ax.set_title(col)\n",
    "    ax.set_xlabel(\"\")\n",
    "    ax.set_ylabel(\"Count\")\n",
    "\n",
    "# Hide any unused subplots\n",
    "for j in range(i + 1, len(axes)):\n",
    "    axes[j].set_visible(False)\n",
    "\n",
    "fig.suptitle(\"Distributions of Numeric Features\")\n",
    "plt.show()\n",
    "\n",
    "fig, axes = plt.subplots(n_rows, n_cols, figsize=(n_cols * 4.5, n_rows * 3.5), constrained_layout=True)\n",
    "axes = np.array(axes).reshape(-1)  # flatten in case of single row/col\n",
    "\n",
    "# Show outliers for numeric columns\n",
    "colors = [\"skyblue\", \"salmon\", \"lightgreen\", \"orange\", \"violet\", \"gold\"]\n",
    "for i, col in enumerate(numeric_cols):\n",
    "    ax = axes[i]\n",
    "    sns.boxplot(x = heart_data[col], ax=ax, color=colors[i])\n",
    "    ax.set_title(col)\n",
    "    ax.set_xlabel(\"\")\n",
    "\n",
    "# Hide any unused subplots\n",
    "for j in range(i + 1, len(axes)):\n",
    "    axes[j].set_visible(False)\n",
    "\n",
    "fig.suptitle(\"Outliers for Numeric Features\")\n",
    "plt.show()\n",
    "\n",
    "# Correlation heatmap\n",
    "corr = heart_data[numeric_cols].corr(numeric_only=True)\n",
    "sns.heatmap(corr, cmap=\"coolwarm\", center=0, square=True, cbar_kws={\"shrink\": 0.7})\n",
    "plt.title(\"Feature Correlation\")\n",
    "plt.show()\n"
   ],
   "id": "4a0787c879452cf5"
  },
  {
   "metadata": {},
   "cell_type": "markdown",
   "source": [
    "### Numerical Feature Observations\n",
    "1. There are no strong correlations between numerical features to concern us.\n",
    "2. The age distribution is a little skewed to the right, and older patients tend to show greater likelihood of more serious conditions.\n",
    "3. Distributions look ok, but we should worry about the meaning of zero values for cholesterol and oldpeak\n",
    "4. We may need to remove outliers for trestbps, chol, thalch, oldpeak and ca. (need to check further first)"
   ],
   "id": "b2b502e8330f8590"
  },
  {
   "metadata": {},
   "cell_type": "code",
   "outputs": [],
   "execution_count": null,
   "source": [
    "# Explore Missing Values\n",
    "print(round(heart_data.isnull().sum() * 100 / len(heart_data), 2).astype(str) + '%')\n",
    "sns.heatmap(heart_data.isnull())\n",
    "plt.title('Missing values before imputation')\n",
    "plt.show()\n",
    "\n",
    "# do missing values vary by location (dataset)?\n",
    "group_col = \"dataset\"\n",
    "value_cols = heart_data.columns.drop(group_col)\n",
    "\n",
    "row_counts = heart_data[group_col].value_counts(dropna=False)\n",
    "print(\"Rows per dataset:\\n\", row_counts, \"\\n\")\n",
    "\n",
    "null_pct_by_dataset = (\n",
    "    heart_data\n",
    "    .groupby(group_col, dropna=False)[value_cols]\n",
    "    .apply(lambda g: g.isna().mean().mul(100))\n",
    "    .round(2)\n",
    ")\n",
    "\n",
    "print(null_pct_by_dataset)\n"
   ],
   "id": "d50f8de63276b652"
  },
  {
   "metadata": {},
   "cell_type": "markdown",
   "source": [
    "### Missing Value Observations\n",
    "1. ca, slope and thal are to a large extent missing from all locations except Cleveland.\n",
    "2. In fact the only location that doesn't have some form of missing data is Cleveland.\n",
    "3. VA Long Beach has significant missing data in all features that are likely to have predictive value.\n",
    "\n",
    "The extent of the missing data suggests that blanket use of imputation may not be a good idea:\n",
    "1. Deep domain knowledge is needed to know whether imputing a mean, a mode or using KNN is really the right thing to do.\n",
    "2. Any predictive model (the objective of this project) would have limited credibility with this number of manufactured features.\n",
    "\n",
    "There are two possible ways forward\n",
    "1. Produce a model limited to the Cleveland dataset, which still has n = 304\n",
    "2. Remove the features with missing data (slope, ca and thal) and train a model on the remaining features. For this option, we would still need to remove VA Long Beach if we want any features beyond chol and ecg to play with, so n = 720.\n",
    "\n",
    "At this stage, I am uncertain which option I prefer. It is uncomfortable to give-up 2/3 of the data. But equally, it seems overly limiting to give up 4 of the 12 predictive features. It is already becoming clear how important domain knowledge is to effective modelling. If the objective was to produce a model usable in the field, I would first find a way to get some domain help with these data issues. However, for this project I am focusing on the modelling aspects and my own learning.\n",
    "\n",
    "One of the reasons that I selected this dataset to work with is that there are a number of solutions published on Kaggle that are based on it. This means that I can compare my approach with how others have done it and hopefully learn from such comparisons. From the first few I have examined:\n",
    "- 3 made heavy use of SimpleImputer based imputation to replace missing categoricals with the most frequent value.\n",
    "- I couldn't find one that took a similar approach to the one I am proposing\n",
    "- Although there is extensive EDA exhibited in the samples I viewed, I couldn't find one that explored the missing data by location. For me, this is the explanation for why others chose Imputation to resolve the missing data.\n",
    "\n",
    "Decision: I am comfortable with my decision making, I will work with Cleveland first and then try to judge how it may or may not be extendable to include the other locations and if it is worth modelling with fewer predictors. This may mean revisiting the pre-processing steps for the broader dataset.\n"
   ],
   "id": "a8941f71f4200a10"
  },
  {
   "metadata": {},
   "cell_type": "markdown",
   "source": [
    "## Preprocessing\n",
    "- Add a binary target column (1 = heart disease, 0 = no heart disease)\n",
    "- Basic imputation/cleanup\n",
    "- Train/test split\n",
    "\n",
    "Note: I will handle scaling and one-hot encoding as needed inside a pipeline with ColumnTransformer."
   ],
   "id": "be2a2e180ff7bba8"
  },
  {
   "metadata": {
    "ExecuteTime": {
     "end_time": "2025-09-12T08:19:54.677091Z",
     "start_time": "2025-09-12T08:19:54.670980Z"
    }
   },
   "cell_type": "code",
   "source": [
    "# Start by adding a binary target column\n",
    "heart_data['num_bin'] = heart_data[target_col].map({0: False, 1: True, 2: True, 3: True, 4: True})\n",
    "print(heart_data['num_bin'].value_counts())\n",
    "# Create two possible splits of the data according to missing value observations\n",
    "# cleveland_heart with only one location but maintaining all the features\n",
    "cleveland_heart = heart_data[heart_data['dataset'] == 'Cleveland'].copy()\n",
    "# in case we need it later the simple_heart extended datasets with removed features\n",
    "simple_heart = heart_data[heart_data['dataset'] != 'VA Long Beach'].copy()\n",
    "simple_heart.drop(['slope','ca','thal'], axis=1, inplace=True)"
   ],
   "id": "e6d91a51c6df9902",
   "outputs": [
    {
     "name": "stdout",
     "output_type": "stream",
     "text": [
      "num_bin\n",
      "True     509\n",
      "False    411\n",
      "Name: count, dtype: int64\n"
     ]
    }
   ],
   "execution_count": 111
  },
  {
   "metadata": {
    "ExecuteTime": {
     "end_time": "2025-09-12T08:35:39.601297Z",
     "start_time": "2025-09-12T08:35:39.592243Z"
    }
   },
   "cell_type": "code",
   "source": [
    "# Look at the missing values again for Cleveland\n",
    "cols_with_missing = cleveland_heart.columns[cleveland_heart.isna().any()].tolist()\n",
    "subset = cleveland_heart.loc[:, cols_with_missing]\n",
    "rows_with_counts = (\n",
    "    subset.assign(n_missing=subset.isna().sum(axis=1))\n",
    "          .query(\"n_missing > 0\")\n",
    "          .sort_values(\"n_missing\", ascending=False)\n",
    ")\n",
    "print(rows_with_counts)"
   ],
   "id": "cfaf71caa64b99f8",
   "outputs": [
    {
     "name": "stdout",
     "output_type": "stream",
     "text": [
      "         slope   ca               thal  n_missing\n",
      "303        NaN  NaN                NaN          3\n",
      "87   upsloping  0.0                NaN          1\n",
      "166  upsloping  NaN             normal          1\n",
      "192       flat  NaN  reversable defect          1\n",
      "266       flat  0.0                NaN          1\n",
      "287       flat  NaN  reversable defect          1\n",
      "302  upsloping  NaN             normal          1\n"
     ]
    }
   ],
   "execution_count": 126
  },
  {
   "metadata": {},
   "cell_type": "markdown",
   "source": [
    "### Missing Values and Outliers\n",
    "For the Cleveland dataset:\n",
    "- Remove row 303 which has 3 missing values\n",
    "- The other 6 rows with missing values have one missing value, all of them are categorical (ca is ordinal), so using a simple imputer is a reasonable choice.\n",
    "- Without domain knowledge, it is probably best to keep the outliers, I have no idea if they are plausible or not. None of them seem to have a data-quality based explanation (e.g. 0 or infinity as entries)"
   ],
   "id": "cd0ee0b75fa105af"
  },
  {
   "metadata": {
    "ExecuteTime": {
     "end_time": "2025-09-12T08:37:16.558290Z",
     "start_time": "2025-09-12T08:37:16.550133Z"
    }
   },
   "cell_type": "code",
   "source": [
    "# Cleveland Cleaning\n",
    "# Drop row 303 which has 3 missing values\n",
    "if 303 in cleveland_heart.index:\n",
    "    cleveland_heart = cleveland_heart.drop(index=303)\n",
    "# impute missing values for slope, ca and thal using most frequent value\n",
    "cat_imp = SimpleImputer(strategy=\"most_frequent\")\n",
    "imputed_cols = pd.DataFrame(\n",
    "    cat_imp.fit_transform(cleveland_heart[['thal', 'ca']]),\n",
    "    columns=['thal', 'ca'],\n",
    "    index=cleveland_heart.index\n",
    ")\n",
    "cleveland_clean = cleveland_heart.copy()\n",
    "cleveland_clean[['thal', 'ca']] = imputed_cols\n",
    "# check cleaning removed all missing values\n",
    "assert cleveland_clean.isnull().sum().sum() == 0, \"Missing values remain after imputation\"\n"
   ],
   "id": "4ea9dc76aa3c3fc7",
   "outputs": [],
   "execution_count": 128
  },
  {
   "metadata": {
    "ExecuteTime": {
     "end_time": "2025-09-12T08:37:18.791397Z",
     "start_time": "2025-09-12T08:37:18.286855Z"
    }
   },
   "cell_type": "code",
   "source": [
    "# Recheck outliers\n",
    "# Show outliers for numeric columns\n",
    "fig, axes = plt.subplots(n_rows, n_cols, figsize=(n_cols * 4.5, n_rows * 3.5), constrained_layout=True)\n",
    "axes = np.array(axes).reshape(-1)  # flatten in case of single row/col\n",
    "for i, col in enumerate(numeric_cols):\n",
    "    ax = axes[i]\n",
    "    sns.boxplot(x = cleveland_clean[col], ax=ax, color=colors[i])\n",
    "    ax.set_title(col)\n",
    "    ax.set_xlabel(\"\")\n",
    "\n",
    "# Hide any unused subplots\n",
    "for j in range(i + 1, len(axes)):\n",
    "    axes[j].set_visible(False)\n",
    "\n",
    "fig.suptitle(\"Outliers for Numeric Features - Cleveland Dataset\")\n",
    "plt.show()"
   ],
   "id": "ff82075ee2186e22",
   "outputs": [
    {
     "data": {
      "text/plain": [
       "<Figure size 1620x840 with 6 Axes>"
      ],
      "image/png": "[encoded data removed]"
     },
     "metadata": {},
     "output_type": "display_data",
     "jetTransient": {
      "display_id": null
     }
    }
   ],
   "execution_count": 129
  },
  {
   "metadata": {
    "ExecuteTime": {
     "end_time": "2025-09-12T10:42:23.980793Z",
     "start_time": "2025-09-12T10:42:23.973677Z"
    }
   },
   "cell_type": "code",
   "source": [
    "df_clean = cleveland_clean.copy()   # I want to try to keep it easy to replace cleveland_clean with simple_heart later\n",
    "df_clean = df_clean.dropna(axis=0)  # just in case we missed any missing values\n",
    "target_cols = ['num', 'num_bin']    # remembering we want to end up with a multi-class target, a binary target and a regression problem.\n",
    "\n",
    "X = df_clean.drop(columns=target_cols)\n",
    "y = df_clean[target_cols]\n",
    "\n",
    "X_train, X_test, y_train, y_test = train_test_split(\n",
    "    X, y,\n",
    "    test_size = 0.20,\n",
    "    stratify = y['num'],\n",
    "    random_state = SEED\n",
    ")\n",
    "# create two versions of y, one for binary classification and one for regression/multi-class\n",
    "y_bin_train = y_train['num_bin']\n",
    "y_bin_test = y_test['num_bin']\n",
    "y_reg_train = y_train['num']\n",
    "y_reg_test = y_test['num']\n",
    "\n",
    "# Print shapes to check that we have the right data for the models\n",
    "X_train.shape, X_test.shape, y_bin_train.shape, y_bin_test.shape, y_reg_train.shape, y_reg_test.shape"
   ],
   "id": "4ca8adcf8dd21f06",
   "outputs": [
    {
     "data": {
      "text/plain": [
       "((242, 15), (61, 15), (242,), (61,), (242,), (61,))"
      ]
     },
     "execution_count": 139,
     "metadata": {},
     "output_type": "execute_result"
    }
   ],
   "execution_count": 139
  },
  {
   "cell_type": "markdown",
   "id": "1f3d4f3f",
   "metadata": {},
   "source": [
    "## Models\n",
    "### Baseline Model Comparison\n",
    "- Try a few baseline models (Logistic Regression, Random Forest, SVM)\n",
    "- Use StratifiedKFold for consistent estimates\n",
    "- Compare models using AUC (ROC AUC)\n",
    "- Try a few standard classifiers with sane defaults\n",
    "- Use StratifiedKFold for consistent estimates"
   ]
  },
  {
   "metadata": {
    "ExecuteTime": {
     "end_time": "2025-09-13T08:06:18.932300Z",
     "start_time": "2025-09-13T08:06:18.914609Z"
    }
   },
   "cell_type": "code",
   "source": [
    "def compare_classifiers(candidates, X_train, y_train, X_test, y_test, cv=5, scoring=\"roc_auc\"):\n",
    "    \"\"\"\n",
    "    Compare classification pipelines.\n",
    "    Prints Test score, AUC(cv) and Test AUC(test) for binary and multi-class cases.\n",
    "    \"\"\"\n",
    "    for name, model in candidates.items():\n",
    "        try:\n",
    "            auc = cross_val_score(model, X_train, y_train, cv=cv, scoring=scoring).mean()\n",
    "            print(f\"{name:8s} AUC (cv): {auc:.3f}\")\n",
    "            model.fit(X_train, y_train)\n",
    "            print(f\"{name:8s} Test score: {model.score(X_test, y_test):.3f}\")\n",
    "            # Compute test ROC AUC robustly for binary and multi-class cases\n",
    "            y_score = None\n",
    "            if hasattr(model, \"predict_proba\"):\n",
    "                y_score = model.predict_proba(X_test)\n",
    "            if y_score is None:\n",
    "                print(f\"{name:8s} AUC (test): n/a\")\n",
    "            else:\n",
    "                n_classes = np.unique(y_test).size\n",
    "                if n_classes <= 2:\n",
    "                    # Binary: use positive-class scores\n",
    "                    if y_score.ndim == 2 and y_score.shape[1] == 2:\n",
    "                        classes = getattr(model, \"classes_\", None)\n",
    "                        if classes is not None and len(classes) == 2:\n",
    "                            # Prefer 1 or True as the positive class if present\n",
    "                            if 1 in classes:\n",
    "                                pos_idx = list(classes).index(1)\n",
    "                            elif True in classes:\n",
    "                                pos_idx = list(classes).index(True)\n",
    "                            else:\n",
    "                                pos_idx = 1\n",
    "                        else:\n",
    "                            pos_idx = 1\n",
    "                        y_score_vec = y_score[:, pos_idx]\n",
    "                    else:\n",
    "                        # decision_function may be 1D for binary\n",
    "                        y_score_vec = y_score.ravel()\n",
    "                    auc_test = roc_auc_score(y_test, y_score_vec)\n",
    "                    print(f\"{name:8s} AUC (test): {auc_test:.3f}\")\n",
    "                else:\n",
    "                    # Multi-class: provide full scores and strategy\n",
    "                    if y_score.ndim == 1:\n",
    "                        # Ensure y_score is 2D if a model returns a 1D decision_function\n",
    "                        y_score = y_score.reshape(-1, 1)\n",
    "                    auc_test = roc_auc_score(y_test, y_score, multi_class=\"ovr\", average=\"macro\")\n",
    "                    print(f\"{name:8s} AUC (test, ovr-macro): {auc_test:.3f}\")\n",
    "        except Exception as e:\n",
    "            print(f\"{name:8s} issue:\", e)\n",
    "\n",
    "def compare_regressors(candidates, X_train, y_train, X_test, y_test, cv=5, scoring=\"neg_root_mean_squared_error\"):\n",
    "    \"\"\"\n",
    "    Compare regression pipelines.\n",
    "    Prints CV mean RMSE (lower is better), and Test RMSE/MAE/R2.\n",
    "    \"\"\"\n",
    "    for name, model in candidates.items():\n",
    "        try:\n",
    "            cv_scores = cross_val_score(model, X_train, y_train, cv=cv, scoring=scoring)\n",
    "            cv_rmse = -cv_scores.mean()  # scoring is neg RMSE\n",
    "            print(f\"{name:10s} RMSE (cv): {cv_rmse:.3f}\")\n",
    "            model.fit(X_train, y_train)\n",
    "            y_pred = model.predict(X_test)\n",
    "            rmse = mean_squared_error(y_test, y_pred)\n",
    "            mae = mean_absolute_error(y_test, y_pred)\n",
    "            r2 = r2_score(y_test, y_pred)\n",
    "            print(f\"{name:10s} Test RMSE: {rmse:.3f} | MAE: {mae:.3f} | R2: {r2:.3f}\")\n",
    "        except Exception as e:\n",
    "            print(f\"{name:10s} issue:\",e)\n",
    "\n",
    "\n",
    "# Define preprocessing steps\n",
    "num_sel = make_column_selector(dtype_include=[\"number\"])\n",
    "cat_sel = make_column_selector(dtype_include=[\"object\", \"category\", \"bool\"])\n",
    "\n",
    "preprocess = ColumnTransformer(\n",
    "    transformers=[\n",
    "        (\"num\", StandardScaler(), num_sel),\n",
    "        (\"cat\", OneHotEncoder(handle_unknown=\"ignore\", sparse_output=False), cat_sel),\n",
    "    ],\n",
    "    remainder=\"drop\"\n",
    ")\n",
    "\n",
    "# Define candidate models\n",
    "logreg = Pipeline(steps=[\n",
    "    (\"prep\", preprocess),\n",
    "    (\"clf_lr\", LogisticRegression(max_iter=1000, random_state=42))\n",
    "])\n",
    "\n",
    "svc_rbf = Pipeline(steps = [\n",
    "    (\"prep\", preprocess),\n",
    "    (\"clf_svc\", SVC(kernel=\"rbf\", probability=True, random_state=SEED))\n",
    "])\n",
    "\n",
    "rf = Pipeline(steps = [\n",
    "    (\"prep\", preprocess),\n",
    "    (\"clf_rf\", RandomForestClassifier(n_estimators=300, random_state=SEED))\n",
    "])\n",
    "\n",
    "knn = Pipeline(steps=[\n",
    "    (\"prep\", preprocess),\n",
    "    (\"clf_knn\", KNeighborsClassifier(\n",
    "        n_neighbors=11,\n",
    "        weights=\"distance\",\n",
    "        metric=\"minkowski\",\n",
    "        p=2\n",
    "    ))\n",
    "])\n",
    "\n",
    "linreg = Pipeline(steps=[\n",
    "    (\"prep\", preprocess),\n",
    "    (\"reg_lr\", LinearRegression())\n",
    "])\n",
    "\n",
    "ridge = Pipeline(steps=[\n",
    "    (\"prep\", preprocess),\n",
    "    (\"reg_ridge\", Ridge(alpha=1.0, random_state=SEED))\n",
    "])\n",
    "\n",
    "lasso = Pipeline(steps=[\n",
    "    (\"prep\", preprocess),\n",
    "    (\"reg_lasso\", Lasso(alpha=0.01, random_state=SEED, max_iter=10000))\n",
    "])\n",
    "\n",
    "svr_rbf = Pipeline(steps=[\n",
    "    (\"prep\", preprocess),\n",
    "    (\"reg_svr\", SVR(kernel=\"rbf\", C=10.0, gamma=\"scale\"))\n",
    "])\n",
    "\n",
    "rfr = Pipeline(steps=[\n",
    "    (\"prep\", preprocess),\n",
    "    (\"reg_rfr\", RandomForestRegressor(n_estimators=300, random_state=SEED, n_jobs=-1))\n",
    "])\n",
    "\n",
    "knn_reg = Pipeline(steps=[\n",
    "    (\"prep\", preprocess),\n",
    "    (\"reg_knn\", KNeighborsRegressor(n_neighbors=11, weights=\"distance\", p=2))\n",
    "])\n",
    "\n",
    "classifiers = {\n",
    "    \"LogReg\": logreg,\n",
    "    \"SVC-rbf\": svc_rbf,\n",
    "    \"RF\": rf,\n",
    "    \"KNN\": knn\n",
    "}\n",
    "\n",
    "regressors = {\n",
    "    \"Linear\": linreg,\n",
    "    \"Ridge\": ridge,\n",
    "    \"Lasso\": lasso,\n",
    "    \"SVR-rbf\": svr_rbf,\n",
    "    \"RFReg\": rfr,\n",
    "    \"KNNReg\": knn_reg,\n",
    "}\n",
    "\n",
    "# Define cross-validation strategy\n",
    "cv = StratifiedKFold(n_splits=5, shuffle=True, random_state=SEED)\n",
    "reg_cv = KFold(n_splits=5, shuffle=True, random_state=SEED)\n"
   ],
   "id": "bba14877c0906960",
   "outputs": [],
   "execution_count": 183
  },
  {
   "metadata": {
    "ExecuteTime": {
     "end_time": "2025-09-13T08:06:23.649844Z",
     "start_time": "2025-09-13T08:06:19.894908Z"
    }
   },
   "cell_type": "code",
   "source": [
    "# Compare model performance with cross-validation\n",
    "print(\"Baseline models performance for binary classification:\")\n",
    "compare_classifiers(classifiers, X_train, y_bin_train, X_test, y_bin_test, cv=cv, scoring=\"roc_auc\")\n",
    "section_split(width=100)\n",
    "print(\"Baseline models performance for multi-class classification:\")\n",
    "compare_classifiers(classifiers, X_train, y_reg_train, X_test, y_reg_test, cv=cv, scoring=\"roc_auc_ovr\")\n",
    "section_split(width=100)\n",
    "print(\"Baseline models performance for regression models:\")\n",
    "compare_regressors(regressors, X_train, y_reg_train, X_test, y_reg_test, cv=reg_cv, scoring=\"neg_root_mean_squared_error\")\n"
   ],
   "id": "6f334cb3af861225",
   "outputs": [
    {
     "name": "stdout",
     "output_type": "stream",
     "text": [
      "Baseline models performance for binary classification:\n",
      "LogReg   AUC (cv): 0.903\n",
      "LogReg   Test score: 0.836\n",
      "LogReg   AUC (test): 0.932\n",
      "SVC-rbf  AUC (cv): 0.891\n",
      "SVC-rbf  Test score: 0.918\n",
      "SVC-rbf  AUC (test): 0.950\n",
      "RF       AUC (cv): 0.907\n",
      "RF       Test score: 0.852\n",
      "RF       AUC (test): 0.930\n",
      "KNN      AUC (cv): 0.882\n",
      "KNN      Test score: 0.869\n",
      "KNN      AUC (test): 0.959\n",
      "\n",
      " ---------------------------------------------------------------------------------------------------- \n",
      "\n",
      "Baseline models performance for multi-class classification:\n",
      "LogReg   AUC (cv): 0.746\n",
      "LogReg   Test score: 0.639\n",
      "LogReg   AUC (test, ovr-macro): 0.827\n",
      "SVC-rbf  AUC (cv): 0.801\n",
      "SVC-rbf  Test score: 0.574\n",
      "SVC-rbf  AUC (test, ovr-macro): 0.786\n",
      "RF       AUC (cv): 0.775\n",
      "RF       Test score: 0.525\n",
      "RF       AUC (test, ovr-macro): 0.754\n",
      "KNN      AUC (cv): 0.740\n",
      "KNN      Test score: 0.574\n",
      "KNN      AUC (test, ovr-macro): 0.714\n",
      "\n",
      " ---------------------------------------------------------------------------------------------------- \n",
      "\n",
      "Baseline models performance for regression models:\n",
      "Linear     RMSE (cv): 0.865\n",
      "Linear     Test RMSE: 0.656 | MAE: 0.624 | R2: 0.578\n",
      "Ridge      RMSE (cv): 0.864\n",
      "Ridge      Test RMSE: 0.651 | MAE: 0.622 | R2: 0.581\n",
      "Lasso      RMSE (cv): 0.868\n",
      "Lasso      Test RMSE: 0.649 | MAE: 0.619 | R2: 0.583\n",
      "SVR-rbf    RMSE (cv): 0.975\n",
      "SVR-rbf    Test RMSE: 0.865 | MAE: 0.746 | R2: 0.444\n",
      "RFReg      RMSE (cv): 0.903\n",
      "RFReg      Test RMSE: 0.736 | MAE: 0.658 | R2: 0.527\n",
      "KNNReg     RMSE (cv): 0.892\n",
      "KNNReg     Test RMSE: 0.711 | MAE: 0.601 | R2: 0.543\n"
     ]
    }
   ],
   "execution_count": 184
  },
  {
   "metadata": {},
   "cell_type": "markdown",
   "source": [
    "### Baseline Model Comparison - Conclusions\n",
    "\n",
    "*What the results say*:\n",
    "\n",
    "- Binary classification\n",
    "    - Highest AUC (test): KNN (0.959), closely followed by SVC-rbf (0.950), with SVC delivering the best accuracy (0.918).\n",
    "    - The decision boundary (SVC) is strong and although KNN’s probabilistic ranking is excellent (AUC), it may not be optimal for accuracy.\n",
    "- Multi-class classification (5 classes)\n",
    "    - Macro AUCs are decent (0.71–0.83), but accuracies are modest (0.52–0.64).\n",
    "    - This is a small data-set with 5 classes, macro-averaging punishes minority-class performance, and accuracy suffers if classes are imbalanced (which they are).\n",
    "- Regression on ordinal num as numeric target\n",
    "    - Linear/Ridge/Lasso lead with RMSE ~0.65 and R2 ~0.58, beating the SVR/RF/KNN regressors.\n",
    "    - This suggests the numeric target behaves nearly linearly in the engineered feature space (after one-hot + scaling), and the dataset size likely favors simpler models.\n",
    "\n",
    "*Next Steps*\n",
    "\n",
    "If time permittied, criticality of decisions demanded it, then time could be spent to tune all the models and re-evaluate. However, for the purposes of this project, I will simplify the next steps to:\n",
    "\n",
    "1. Keep SVC-rbf as the preferred classifier for Binary classification and look at how tuning the parameters can improve performance further.\n",
    "2. Discard multi-class classification as a way forward, but use threshold optimization to map linear regression results to classes\n",
    "3. Keep the linear regression model and look at what we can learn about the coefficients to improve the model further. Whilst both Ridge and Lasso performed slightly better in the baseline comparison, I want to keep the coefficients as interpretable as possible."
   ],
   "id": "34de80a6b871b3d6"
  },
  {
   "metadata": {},
   "cell_type": "markdown",
   "source": [
    "### Model Optimisation and Evaluation - Binary Classification\n",
    "1. Use GridSearchCV to tune SVC-rbf parameters (C and gamma)\n",
    "2. Use SVC threshold calibration to optimise F1 score\n",
    "4. Evaluate on test with ROC/PR, confusion matrix, classification report"
   ],
   "id": "47d5a6caa0fc8b0b"
  },
  {
   "metadata": {
    "ExecuteTime": {
     "end_time": "2025-09-13T15:14:59.454231Z",
     "start_time": "2025-09-13T15:14:57.939590Z"
    }
   },
   "cell_type": "code",
   "source": [
    "param_grid={\n",
    "    \"clf_svc__C\": [0.5, 1, 3, 10, 30],\n",
    "    \"clf_svc__gamma\": [\"scale\", 0.01, 0.03, 0.1, 0.3, 1.0]}\n",
    "\n",
    "svc_grid = GridSearchCV(\n",
    "        estimator=svc_rbf,\n",
    "        param_grid=param_grid,\n",
    "        scoring=\"roc_auc\",\n",
    "        cv=cv,\n",
    "        n_jobs=-1,\n",
    "        verbose=1,\n",
    "        refit=True,\n",
    "        return_train_score=False,\n",
    "    )\n",
    "svc_grid.fit(X_train, y_bin_train)\n",
    "svc_best = svc_grid.best_estimator_\n",
    "print(\"Best params:\", svc_grid.best_params_)\n",
    "print(\"Best CV score:\", f\"{svc_grid.best_score_:.4f}\")"
   ],
   "id": "d07eb7fbf8ae73b",
   "outputs": [
    {
     "name": "stdout",
     "output_type": "stream",
     "text": [
      "Fitting 5 folds for each of 30 candidates, totalling 150 fits\n",
      "Best params: {'clf_svc__C': 3, 'clf_svc__gamma': 0.01}\n",
      "Best CV score: 0.9038\n"
     ]
    }
   ],
   "execution_count": 213
  },
  {
   "metadata": {
    "ExecuteTime": {
     "end_time": "2025-09-13T16:46:31.792959Z",
     "start_time": "2025-09-13T16:46:31.720189Z"
    }
   },
   "cell_type": "code",
   "source": [
    "pos_idx = 1 # Might need to change this if we have more than 2 classes or  = TRUE\n",
    "\n",
    "def show_metrics_summary(y_true, y_pred, y_score, title=None):\n",
    "\n",
    "    print(f\"Metrics summary for: {title}\\n\")\n",
    "    print(\"Test roc_auc:\", round(roc_auc_score(y_true, y_score),4))\n",
    "\n",
    "    print(classification_report(y_true, y_pred))\n",
    "    cm = confusion_matrix(y_true, y_pred)\n",
    "    sns.heatmap(cm, annot=True, fmt=\"d\", cmap=\"Blues\")\n",
    "    plt.xlabel(\"Predicted\"); plt.ylabel(\"True\")\n",
    "    plt.show()\n",
    "\n",
    "y_pred = svc_best.predict(X_test)\n",
    "y_pred_proba = svc_best.predict_proba(X_test)\n",
    "y_score = y_pred_proba[:, pos_idx]\n",
    "\n",
    "show_metrics_summary(y_bin_test, y_pred, y_score, title=f\"best SVC with {svc_grid.best_params_}\")\n"
   ],
   "id": "b6a2874c9fed5220",
   "outputs": [
    {
     "name": "stdout",
     "output_type": "stream",
     "text": [
      "Metrics summary for: best SVC with {'clf_svc__C': 3, 'clf_svc__gamma': 0.01}\n",
      "\n",
      "Test roc_auc: 0.9416\n",
      "              precision    recall  f1-score   support\n",
      "\n",
      "       False       0.91      0.88      0.89        33\n",
      "        True       0.86      0.89      0.88        28\n",
      "\n",
      "    accuracy                           0.89        61\n",
      "   macro avg       0.88      0.89      0.88        61\n",
      "weighted avg       0.89      0.89      0.89        61\n",
      "\n"
     ]
    },
    {
     "data": {
      "text/plain": [
       "<Figure size 960x600 with 2 Axes>"
      ],
      "image/png": "[encoded data removed]"
     },
     "metadata": {},
     "output_type": "display_data",
     "jetTransient": {
      "display_id": null
     }
    }
   ],
   "execution_count": 237
  },
  {
   "metadata": {},
   "cell_type": "markdown",
   "source": [
    "With the GridSearchCV parameters, there is limited/no improvement over the defaults used originally.\n",
    "\n",
    "My internet/chatGPT research suggested that I should also try optimising the threshold. This is new to me, but I have understood that:\n",
    "- The threshold is a hyperparameter, and can be tuned to improve performance.\n",
    "- Threshold changes the classification boundary in score space, not the trained model parameters. C and gamma shape the score distribution; threshold chooses where to cut it.\n",
    "- The cut-off probability is being calculated by \"CalibratedClassifierCV\" (see below) and in my implementation is being set to optimise F1 score.\n"
   ],
   "id": "685148679767a297"
  },
  {
   "metadata": {
    "ExecuteTime": {
     "end_time": "2025-09-13T16:47:01.167490Z",
     "start_time": "2025-09-13T16:47:00.687468Z"
    }
   },
   "cell_type": "code",
   "source": [
    "def calibrate_svc_and_select_threshold(\n",
    "    base_pipeline,\n",
    "    X_train,\n",
    "    y_train,\n",
    "    *,\n",
    "    valid_size=0.25,\n",
    "    random_state=42,\n",
    "    calibration_cv=5,\n",
    "    calibration_method=\"sigmoid\", # for now assume sigmoid, but could be isotonic or isotonic-regression\n",
    "    threshold_strategy=\"f1\"  # for now assume \"f1\", but could also be \"youden\"\n",
    "):\n",
    "    \"\"\"\n",
    "    Calibrate an SVC pipeline and select an optimal probability threshold on a validation split.\n",
    "\n",
    "    Returns:\n",
    "        calibrated_model: fitted CalibratedClassifierCV wrapping the pipeline\n",
    "        best_threshold: float in [0,1]\n",
    "        val_summary: dict with validation metrics at best threshold\n",
    "    \"\"\"\n",
    "    # Split off a validation set from the training data\n",
    "    X_tr, X_val, y_tr, y_val = train_test_split(\n",
    "        X_train, y_train, test_size=valid_size, random_state=random_state, stratify=y_train\n",
    "    )\n",
    "\n",
    "    # Wrap the pipeline with calibration\n",
    "    # Note: We pass the entire pipeline as the base_estimator so preprocessing is included.\n",
    "    calibrated_model = CalibratedClassifierCV(\n",
    "        estimator=base_pipeline,\n",
    "        method=calibration_method,\n",
    "        cv=StratifiedKFold(n_splits=calibration_cv, shuffle=True, random_state=random_state)\n",
    "    )\n",
    "    calibrated_model.fit(X_tr, y_tr)\n",
    "\n",
    "    # Validation probabilities\n",
    "    y_proba = calibrated_model.predict_proba(X_val)\n",
    "    y_score = y_proba[:, pos_idx]\n",
    "\n",
    "    # threshold_strategy is \"f1\" but could also be \"youden\" - which would require changing this section of my code\n",
    "    thresholds = np.linspace(0.0, 1.0, 501)\n",
    "    scores = []\n",
    "    for t in thresholds:\n",
    "        y_pred = (y_score >= t).astype(y_val.dtype)\n",
    "        scores.append(f1_score(y_val, y_pred))\n",
    "    best_idx = int(np.nanargmax(scores))\n",
    "\n",
    "    best_threshold = float(thresholds[best_idx])\n",
    "    y_val_pred = (y_score >= best_threshold).astype(y_val.dtype)\n",
    "\n",
    "    val_summary = {\n",
    "        \"threshold\": best_threshold,\n",
    "        \"accuracy\": accuracy_score(y_val, y_val_pred),\n",
    "        \"f1\": f1_score(y_val, y_val_pred),\n",
    "        \"precision\": precision_score(y_val, y_val_pred),\n",
    "        \"recall\": recall_score(y_val, y_val_pred),\n",
    "        \"roc_auc\": roc_auc_score(y_val, y_score),\n",
    "    }\n",
    "    return calibrated_model, best_threshold, val_summary\n",
    "\n",
    "cal_svc, best_thr, val_metrics = calibrate_svc_and_select_threshold(\n",
    "    base_pipeline=svc_best,\n",
    "    X_train=X_train,\n",
    "    y_train=y_bin_train,\n",
    "    valid_size=0.25,\n",
    "    random_state=SEED,\n",
    "    calibration_cv=5,\n",
    "    calibration_method=\"sigmoid\",\n",
    ")\n",
    "\n",
    "print(\"Validation metrics at best threshold:\")\n",
    "for name, score in val_metrics.items():\n",
    "    print(f\"{name}: {score:.4f}\")\n",
    "\n",
    "# Evaluate on the test set using the chosen threshold\n",
    "y_test_proba = cal_svc.predict_proba(X_test)\n",
    "y_test_score = y_test_proba[:, pos_idx]\n",
    "y_test_pred = (y_test_score >= best_thr).astype(y_bin_test.dtype)\n",
    "\n",
    "show_metrics_summary(y_bin_test, y_test_pred, y_test_score, title=f\"SVC (calibrated) — threshold={best_thr:.3f}\")\n"
   ],
   "id": "54ac34600ed387de",
   "outputs": [
    {
     "name": "stdout",
     "output_type": "stream",
     "text": [
      "Validation metrics at best threshold:\n",
      "threshold: 0.4420\n",
      "accuracy: 0.9180\n",
      "f1: 0.9153\n",
      "precision: 0.8710\n",
      "recall: 0.9643\n",
      "roc_auc: 0.9654\n",
      "Metrics summary for: SVC (calibrated) — threshold=0.442\n",
      "\n",
      "Test roc_auc: 0.9502\n",
      "              precision    recall  f1-score   support\n",
      "\n",
      "       False       0.93      0.82      0.87        33\n",
      "        True       0.81      0.93      0.87        28\n",
      "\n",
      "    accuracy                           0.87        61\n",
      "   macro avg       0.87      0.87      0.87        61\n",
      "weighted avg       0.88      0.87      0.87        61\n",
      "\n"
     ]
    },
    {
     "data": {
      "text/plain": [
       "<Figure size 960x600 with 2 Axes>"
      ],
      "image/png": "[encoded data removed]"
     },
     "metadata": {},
     "output_type": "display_data",
     "jetTransient": {
      "display_id": null
     }
    }
   ],
   "execution_count": 238
  },
  {
   "metadata": {},
   "cell_type": "markdown",
   "source": [
    "The calibrated version has fewer false negatives on the test set. Given the relative costs of FP and FN in cancer treatment, this seems preferable even if the accuracy metric 0.87 is slightly lower than the uncalibrated model.\n",
    "\n",
    "It has a slighly higher AUC score at 0.95 vs 0.94 for the uncalibrated model."
   ],
   "id": "47cfd81f674e19ff"
  },
  {
   "metadata": {},
   "cell_type": "markdown",
   "source": [
    "### Model Optimisation and Evaluation - Linear Regression (also for multi-class)\n",
    "1. Use GridSearchCV to tune SVC-rbf parameters (C and gamma)\n",
    "2. Use SVC threshold calibration to optimise F1 score\n",
    "4. Evaluate on test with ROC/PR, confusion matrix, classification report"
   ],
   "id": "3f87f86d2f607132"
  },
  {
   "metadata": {
    "ExecuteTime": {
     "end_time": "2025-09-13T17:25:24.536901Z",
     "start_time": "2025-09-13T17:25:24.268163Z"
    }
   },
   "cell_type": "code",
   "source": [
    "### Linear Regression to Ordinal Classes via Thresholds - using selected model linreg\n",
    "def predict_classes_from_thresholds(y_hat, thresholds):\n",
    "    \"\"\"\n",
    "    Map continuous predictions to ordinal classes using ascending thresholds.\n",
    "    thresholds: list/array of length (n_classes - 1)\n",
    "    \"\"\"\n",
    "    thresholds = np.asarray(thresholds, dtype=float)\n",
    "    return np.digitize(y_hat, thresholds, right=False)  # bins define 0..n_classes-1\n",
    "\n",
    "\n",
    "def macro_f1(y_true, y_pred):\n",
    "    return f1_score(y_true, y_pred, average=\"macro\")\n",
    "\n",
    "\n",
    "def optimize_thresholds_coordinate_descent(y_true, y_hat, n_classes=5, metric=\"macro_f1\", max_iter=10):\n",
    "    \"\"\"\n",
    "    Coordinate-descent threshold optimization with monotonicity constraints.\n",
    "    - Initializes thresholds from class-conditional means (or percentiles as fallback).\n",
    "    - Iteratively optimizes each boundary over a set of candidate cut points.\n",
    "    Returns: thresholds (ascending list of length n_classes-1), history\n",
    "    \"\"\"\n",
    "    assert n_classes >= 2\n",
    "    y_true = np.asarray(y_true)\n",
    "    y_hat = np.asarray(y_hat, dtype=float)\n",
    "\n",
    "    # Candidate cut points between sorted unique predictions\n",
    "    yh = np.sort(np.unique(y_hat))\n",
    "    mids = (yh[:-1] + yh[1:]) / 2.0\n",
    "    if len(mids) == 0:\n",
    "        # Degenerate case: all predictions equal\n",
    "        return [float(yh[0])] * (n_classes - 1), []\n",
    "\n",
    "    # Initialize thresholds using class means (fallback to quantiles if needed)\n",
    "    init = []\n",
    "    try:\n",
    "        class_means = [np.median(y_hat[y_true == c]) for c in range(n_classes)]\n",
    "        class_means = np.array(class_means, dtype=float)\n",
    "        # Monotone means; midpoints between adjacent means\n",
    "        for c in range(n_classes - 1):\n",
    "            init.append((class_means[c] + class_means[c + 1]) / 2.0)\n",
    "    except Exception:\n",
    "        qs = np.linspace(0, 1, n_classes + 1)\n",
    "        qvals = np.quantile(y_hat, qs)\n",
    "        init = [float((qvals[i] + qvals[i + 1]) / 2.0) for i in range(1, n_classes)]\n",
    "\n",
    "    # Ensure sorted and within [min(mids), max(mids)]\n",
    "    lo, hi = mids.min(), mids.max()\n",
    "    thr = np.clip(np.sort(np.asarray(init[:-1] + [init[-1]])), lo, hi)\n",
    "\n",
    "    def eval_metric(thresholds):\n",
    "        y_pred = predict_classes_from_thresholds(y_hat, thresholds)\n",
    "        if metric == \"accuracy\":\n",
    "            return accuracy_score(y_true, y_pred)\n",
    "        return macro_f1(y_true, y_pred)\n",
    "\n",
    "    history = []\n",
    "    best_score = eval_metric(thr)\n",
    "    history.append((\"init\", best_score, thr.copy()))\n",
    "\n",
    "    for it in range(max_iter):\n",
    "        improved = False\n",
    "        for k in range(n_classes - 1):\n",
    "            # Define allowed region for threshold k based on neighbors\n",
    "            left_bound = lo if k == 0 else thr[k - 1] + 1e-8\n",
    "            right_bound = hi if k == (n_classes - 2) else thr[k + 1] - 1e-8\n",
    "\n",
    "            # Candidates within bounds\n",
    "            cand = mids[(mids >= left_bound) & (mids <= right_bound)]\n",
    "            if cand.size == 0:\n",
    "                continue\n",
    "\n",
    "            # Scan candidates and pick best\n",
    "            local_best_score, local_best_t = -np.inf, thr[k]\n",
    "            for t in cand:\n",
    "                thr_try = thr.copy()\n",
    "                thr_try[k] = t\n",
    "                s = eval_metric(thr_try)\n",
    "                if s > local_best_score:\n",
    "                    local_best_score, local_best_t = s, t\n",
    "\n",
    "            if local_best_score > best_score + 1e-12:\n",
    "                thr[k] = local_best_t\n",
    "                best_score = local_best_score\n",
    "                improved = True\n",
    "                history.append((f\"iter{it}-k{k}\", best_score, thr.copy()))\n",
    "\n",
    "        if not improved:\n",
    "            break\n",
    "\n",
    "    return thr.tolist(), history\n",
    "\n",
    "\n",
    "# 1) Split off a validation subset from the training data to learn thresholds\n",
    "X_tr, X_val, y_tr, y_val = train_test_split(\n",
    "    X_train, y_reg_train, test_size=0.25, random_state=SEED, stratify=y_reg_train\n",
    ")\n",
    "\n",
    "linreg.fit(X_tr, y_tr)\n",
    "y_val_hat = linreg.predict(X_val)\n",
    "\n",
    "# 2) Optimize thresholds on the validation set to maximize macro-F1\n",
    "thr_opt, hist = optimize_thresholds_coordinate_descent(\n",
    "    y_true=y_val, y_hat=y_val_hat, n_classes=5, metric=\"macro_f1\", max_iter=10\n",
    ")\n",
    "print(\"Optimized thresholds (t0 < t1 < t2 < t3):\", [round(t, 4) for t in thr_opt])\n",
    "\n",
    "# 3) Evaluate on validation\n",
    "y_val_pred_cls = predict_classes_from_thresholds(y_val_hat, thr_opt)\n",
    "print(\"Validation — Accuracy:\", round(accuracy_score(y_val, y_val_pred_cls), 4),\n",
    "      \"Macro-F1:\", round(f1_score(y_val, y_val_pred_cls, average=\"macro\"), 4))\n",
    "print(\"\\nValidation classification report:\")\n",
    "print(classification_report(y_val, y_val_pred_cls, zero_division=0, digits=3))\n",
    "sns.heatmap(confusion_matrix(y_val, y_val_pred_cls), annot=True, fmt=\"d\", cmap=\"Blues\")\n",
    "plt.title(\"Validation Confusion Matrix — Linear + Thresholds\")\n",
    "plt.xlabel(\"Predicted\");\n",
    "plt.ylabel(\"True\");\n",
    "plt.show()\n",
    "\n",
    "# 4) Final fit on full training set and evaluate on test\n",
    "linreg.fit(X_train, y_reg_train)\n",
    "y_test_hat = linreg.predict(X_test)\n",
    "y_test_pred_cls = predict_classes_from_thresholds(y_test_hat, thr_opt)\n",
    "\n",
    "print(\"Test — Regression metrics on numeric y (for reference)\")\n",
    "print(\"RMSE:\", round(mean_squared_error(y_reg_test, y_test_hat), 4),\n",
    "      \"MAE:\", round(mean_absolute_error(y_reg_test, y_test_hat), 4),\n",
    "      \"R2:\", round(r2_score(y_reg_test, y_test_hat), 4))\n",
    "\n",
    "print(\"\\nTest — Ordinal classification metrics via thresholds\")\n",
    "print(\"Accuracy:\", round(accuracy_score(y_reg_test, y_test_pred_cls), 4),\n",
    "      \"Macro-F1:\", round(f1_score(y_reg_test, y_test_pred_cls, average='macro'), 4))\n",
    "print(\"\\nTest classification report:\")\n",
    "print(classification_report(y_reg_test, y_test_pred_cls, zero_division=0, digits=3))\n",
    "sns.heatmap(confusion_matrix(y_reg_test, y_test_pred_cls), annot=True, fmt=\"d\", cmap=\"Blues\")\n",
    "plt.title(\"Test Confusion Matrix — Linear + Thresholds\")\n",
    "plt.xlabel(\"Predicted\");\n",
    "plt.ylabel(\"True\");\n",
    "plt.show()\n"
   ],
   "id": "71e1d2c37d302021",
   "outputs": [
    {
     "name": "stdout",
     "output_type": "stream",
     "text": [
      "Optimized thresholds (t0 < t1 < t2 < t3): [1.0136, 1.4955, 1.5607, 1.81]\n",
      "Validation — Accuracy: 0.6557 Macro-F1: 0.4406\n",
      "\n",
      "Validation classification report:\n",
      "              precision    recall  f1-score   support\n",
      "\n",
      "           0      0.939     0.939     0.939        33\n",
      "           1      0.364     0.364     0.364        11\n",
      "           2      1.000     0.143     0.250         7\n",
      "           3      0.667     0.286     0.400         7\n",
      "           4      0.154     0.667     0.250         3\n",
      "\n",
      "    accuracy                          0.656        61\n",
      "   macro avg      0.625     0.480     0.441        61\n",
      "weighted avg      0.773     0.656     0.661        61\n",
      "\n"
     ]
    },
    {
     "data": {
      "text/plain": [
       "<Figure size 960x600 with 2 Axes>"
      ],
      "image/png": "[encoded data removed]"
     },
     "metadata": {},
     "output_type": "display_data",
     "jetTransient": {
      "display_id": null
     }
    },
    {
     "name": "stdout",
     "output_type": "stream",
     "text": [
      "Test — Regression metrics on numeric y (for reference)\n",
      "RMSE: 0.6561 MAE: 0.6241 R2: 0.5781\n",
      "\n",
      "Test — Ordinal classification metrics via thresholds\n",
      "Accuracy: 0.5738 Macro-F1: 0.3014\n",
      "\n",
      "Test classification report:\n",
      "              precision    recall  f1-score   support\n",
      "\n",
      "           0      0.833     0.909     0.870        33\n",
      "           1      0.333     0.182     0.235        11\n",
      "           2      0.000     0.000     0.000         7\n",
      "           3      0.200     0.143     0.167         7\n",
      "           4      0.143     0.667     0.235         3\n",
      "\n",
      "    accuracy                          0.574        61\n",
      "   macro avg      0.302     0.380     0.301        61\n",
      "weighted avg      0.541     0.574     0.544        61\n",
      "\n"
     ]
    },
    {
     "data": {
      "text/plain": [
       "<Figure size 960x600 with 2 Axes>"
      ],
      "image/png": "[encoded data removed]"
     },
     "metadata": {},
     "output_type": "display_data",
     "jetTransient": {
      "display_id": null
     }
    }
   ],
   "execution_count": 250
  },
  {
   "cell_type": "markdown",
   "id": "ba958d97",
   "metadata": {},
   "source": [
    "## Interpretation\n",
    "- Coefficients (for linear models)\n",
    "- Feature importance (tree-based)\n",
    "- Optional: partial dependence or permutation importance"
   ]
  },
  {
   "cell_type": "code",
   "id": "8bb60b8a",
   "metadata": {
    "ExecuteTime": {
     "end_time": "2025-09-13T17:26:44.540263Z",
     "start_time": "2025-09-13T17:26:44.499220Z"
    }
   },
   "source": [
    "def try_show_importance(model, X_cols):\n",
    "    try:\n",
    "        # If pipeline, get final step\n",
    "        final_est = model[-1] if isinstance(model, Pipeline) else model\n",
    "    except Exception:\n",
    "        final_est = model\n",
    "\n",
    "    if hasattr(final_est, \"coef_\"):\n",
    "        coefs = pd.Series(final_est.coef_.ravel(), index=X_cols)\n",
    "        display(coefs.sort_values(ascending=False).head(10))\n",
    "        display(coefs.sort_values(ascending=True).head(10))\n",
    "    elif hasattr(final_est, \"feature_importances_\"):\n",
    "        importances = pd.Series(final_est.feature_importances_, index=X_cols)\n",
    "        display(importances.sort_values(ascending=False).head(10))\n",
    "    else:\n",
    "        print(\"No coefficients or feature_importances_ available.\")\n",
    "\n",
    "try_show_importance(linreg, X_train.columns)"
   ],
   "outputs": [
    {
     "ename": "ValueError",
     "evalue": "Length of values (30) does not match length of index (15)",
     "output_type": "error",
     "traceback": [
      "\u001B[0;31m---------------------------------------------------------------------------\u001B[0m",
      "\u001B[0;31mValueError\u001B[0m                                Traceback (most recent call last)",
      "Cell \u001B[0;32mIn[251], line 18\u001B[0m\n\u001B[1;32m     15\u001B[0m     \u001B[38;5;28;01melse\u001B[39;00m:\n\u001B[1;32m     16\u001B[0m         \u001B[38;5;28mprint\u001B[39m(\u001B[38;5;124m\"\u001B[39m\u001B[38;5;124mNo coefficients or feature_importances_ available.\u001B[39m\u001B[38;5;124m\"\u001B[39m)\n\u001B[0;32m---> 18\u001B[0m \u001B[43mtry_show_importance\u001B[49m\u001B[43m(\u001B[49m\u001B[43mlinreg\u001B[49m\u001B[43m,\u001B[49m\u001B[43m \u001B[49m\u001B[43mX_train\u001B[49m\u001B[38;5;241;43m.\u001B[39;49m\u001B[43mcolumns\u001B[49m\u001B[43m)\u001B[49m\n",
      "Cell \u001B[0;32mIn[251], line 9\u001B[0m, in \u001B[0;36mtry_show_importance\u001B[0;34m(model, X_cols)\u001B[0m\n\u001B[1;32m      6\u001B[0m     final_est \u001B[38;5;241m=\u001B[39m model\n\u001B[1;32m      8\u001B[0m \u001B[38;5;28;01mif\u001B[39;00m \u001B[38;5;28mhasattr\u001B[39m(final_est, \u001B[38;5;124m\"\u001B[39m\u001B[38;5;124mcoef_\u001B[39m\u001B[38;5;124m\"\u001B[39m):\n\u001B[0;32m----> 9\u001B[0m     coefs \u001B[38;5;241m=\u001B[39m \u001B[43mpd\u001B[49m\u001B[38;5;241;43m.\u001B[39;49m\u001B[43mSeries\u001B[49m\u001B[43m(\u001B[49m\u001B[43mfinal_est\u001B[49m\u001B[38;5;241;43m.\u001B[39;49m\u001B[43mcoef_\u001B[49m\u001B[38;5;241;43m.\u001B[39;49m\u001B[43mravel\u001B[49m\u001B[43m(\u001B[49m\u001B[43m)\u001B[49m\u001B[43m,\u001B[49m\u001B[43m \u001B[49m\u001B[43mindex\u001B[49m\u001B[38;5;241;43m=\u001B[39;49m\u001B[43mX_cols\u001B[49m\u001B[43m)\u001B[49m\n\u001B[1;32m     10\u001B[0m     display(coefs\u001B[38;5;241m.\u001B[39msort_values(ascending\u001B[38;5;241m=\u001B[39m\u001B[38;5;28;01mFalse\u001B[39;00m)\u001B[38;5;241m.\u001B[39mhead(\u001B[38;5;241m10\u001B[39m))\n\u001B[1;32m     11\u001B[0m     display(coefs\u001B[38;5;241m.\u001B[39msort_values(ascending\u001B[38;5;241m=\u001B[39m\u001B[38;5;28;01mTrue\u001B[39;00m)\u001B[38;5;241m.\u001B[39mhead(\u001B[38;5;241m10\u001B[39m))\n",
      "File \u001B[0;32m~/PycharmProjects/ML_course/.venv-3.11/lib/python3.11/site-packages/pandas/core/series.py:575\u001B[0m, in \u001B[0;36mSeries.__init__\u001B[0;34m(self, data, index, dtype, name, copy, fastpath)\u001B[0m\n\u001B[1;32m    573\u001B[0m     index \u001B[38;5;241m=\u001B[39m default_index(\u001B[38;5;28mlen\u001B[39m(data))\n\u001B[1;32m    574\u001B[0m \u001B[38;5;28;01melif\u001B[39;00m is_list_like(data):\n\u001B[0;32m--> 575\u001B[0m     \u001B[43mcom\u001B[49m\u001B[38;5;241;43m.\u001B[39;49m\u001B[43mrequire_length_match\u001B[49m\u001B[43m(\u001B[49m\u001B[43mdata\u001B[49m\u001B[43m,\u001B[49m\u001B[43m \u001B[49m\u001B[43mindex\u001B[49m\u001B[43m)\u001B[49m\n\u001B[1;32m    577\u001B[0m \u001B[38;5;66;03m# create/copy the manager\u001B[39;00m\n\u001B[1;32m    578\u001B[0m \u001B[38;5;28;01mif\u001B[39;00m \u001B[38;5;28misinstance\u001B[39m(data, (SingleBlockManager, SingleArrayManager)):\n",
      "File \u001B[0;32m~/PycharmProjects/ML_course/.venv-3.11/lib/python3.11/site-packages/pandas/core/common.py:573\u001B[0m, in \u001B[0;36mrequire_length_match\u001B[0;34m(data, index)\u001B[0m\n\u001B[1;32m    569\u001B[0m \u001B[38;5;250m\u001B[39m\u001B[38;5;124;03m\"\"\"\u001B[39;00m\n\u001B[1;32m    570\u001B[0m \u001B[38;5;124;03mCheck the length of data matches the length of the index.\u001B[39;00m\n\u001B[1;32m    571\u001B[0m \u001B[38;5;124;03m\"\"\"\u001B[39;00m\n\u001B[1;32m    572\u001B[0m \u001B[38;5;28;01mif\u001B[39;00m \u001B[38;5;28mlen\u001B[39m(data) \u001B[38;5;241m!=\u001B[39m \u001B[38;5;28mlen\u001B[39m(index):\n\u001B[0;32m--> 573\u001B[0m     \u001B[38;5;28;01mraise\u001B[39;00m \u001B[38;5;167;01mValueError\u001B[39;00m(\n\u001B[1;32m    574\u001B[0m         \u001B[38;5;124m\"\u001B[39m\u001B[38;5;124mLength of values \u001B[39m\u001B[38;5;124m\"\u001B[39m\n\u001B[1;32m    575\u001B[0m         \u001B[38;5;124mf\u001B[39m\u001B[38;5;124m\"\u001B[39m\u001B[38;5;124m(\u001B[39m\u001B[38;5;132;01m{\u001B[39;00m\u001B[38;5;28mlen\u001B[39m(data)\u001B[38;5;132;01m}\u001B[39;00m\u001B[38;5;124m) \u001B[39m\u001B[38;5;124m\"\u001B[39m\n\u001B[1;32m    576\u001B[0m         \u001B[38;5;124m\"\u001B[39m\u001B[38;5;124mdoes not match length of index \u001B[39m\u001B[38;5;124m\"\u001B[39m\n\u001B[1;32m    577\u001B[0m         \u001B[38;5;124mf\u001B[39m\u001B[38;5;124m\"\u001B[39m\u001B[38;5;124m(\u001B[39m\u001B[38;5;132;01m{\u001B[39;00m\u001B[38;5;28mlen\u001B[39m(index)\u001B[38;5;132;01m}\u001B[39;00m\u001B[38;5;124m)\u001B[39m\u001B[38;5;124m\"\u001B[39m\n\u001B[1;32m    578\u001B[0m     )\n",
      "\u001B[0;31mValueError\u001B[0m: Length of values (30) does not match length of index (15)"
     ]
    }
   ],
   "execution_count": 251
  },
  {
   "cell_type": "markdown",
   "id": "4431a2ae",
   "metadata": {},
   "source": [
    "## Conclusions and Next Steps\n",
    "- Summary of findings\n",
    "- What worked best and why\n",
    "- Ideas for future improvements (feature engineering, calibration, fairness checks, external validation)"
   ]
  },
  {
   "cell_type": "markdown",
   "id": "8245a2db",
   "metadata": {},
   "source": [
    "## Appendix\n",
    "- Full parameter settings\n",
    "- Utility functions\n",
    "- Links to dataset and documentation\n",
    "\n",
    "Style and usability tips:\n",
    "- Use JupyterLab’s Table of Contents (View > Table of Contents) to keep sections navigable.\n",
    "- Keep figures consistent by setting seaborn theme and matplotlib rcParams.\n",
    "- Save key figures to a `figs` folder for reuse in reports.\n",
    "- Limit long prints; prefer concise tables/plots."
   ]
  },
  {
   "metadata": {
    "ExecuteTime": {
     "end_time": "2025-09-13T18:05:39.191797Z",
     "start_time": "2025-09-13T18:05:39.073740Z"
    }
   },
   "cell_type": "code",
   "source": [
    "def get_linear_coefs_from_pipeline(pipeline):\n",
    "    # returns a series with feature names as index and coefficients as values\n",
    "    prep = pipeline.named_steps[\"prep\"]\n",
    "    est = pipeline.named_steps[\"reg_lr\"]\n",
    "    coefs = np.asarray(est.coef_)\n",
    "    feat_names = prep.get_feature_names_out()\n",
    "    coefficients = pd.Series(coefs, index=feat_names)\n",
    "\n",
    "    return coefficients\n",
    "\n",
    "linear_coefficients = get_linear_coefs_from_pipeline(linreg)\n",
    "\n",
    "top_pos = linear_coefficients[linear_coefficients > 0].nlargest(10)\n",
    "top_neg = linear_coefficients[linear_coefficients < 0].nsmallest(10)\n",
    "\n",
    "# Combine and sort for nicer barh order\n",
    "subset = pd.concat([top_pos, top_neg]).sort_values()\n",
    "\n",
    "# Colors by sign\n",
    "colors = [\"crimson\" if v < 0 else \"steelblue\" for v in subset.values]\n",
    "\n",
    "plt.figure(figsize=(8, 6))\n",
    "plt.barh(subset.index.astype(str), subset.values, color=colors)\n",
    "plt.axvline(0, color=\"black\", linewidth=1)\n",
    "plt.xlabel(\"Coefficient Value\")\n",
    "plt.ylabel(\"Feature\")\n",
    "plt.title(\"Top 10 Positive and Top 10 Negative Coefficients\")\n",
    "plt.tight_layout()\n",
    "plt.show()\n"
   ],
   "id": "ea5e5cd2b6e145b9",
   "outputs": [
    {
     "data": {
      "text/plain": [
       "<Figure size 960x720 with 1 Axes>"
      ],
      "image/png": "[encoded data removed]"
     },
     "metadata": {},
     "output_type": "display_data",
     "jetTransient": {
      "display_id": null
     }
    }
   ],
   "execution_count": 269
  },
  {
   "metadata": {},
   "cell_type": "code",
   "outputs": [],
   "execution_count": null,
   "source": "",
   "id": "8d72792766e604bb"
  }
 ],
 "metadata": {
  "kernelspec": {
   "display_name": "Python 3",
   "language": "python",
   "name": "python3"
  },
  "language_info": {
   "name": "python",
   "version": "3.11"
  }
 },
 "nbformat": 4,
 "nbformat_minor": 5
}
