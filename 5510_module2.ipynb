{
 "cells": [
  {
   "cell_type": "markdown",
   "metadata": {
    "deletable": false,
    "editable": false,
    "id": "local-marketing",
    "nbgrader": {
     "cell_type": "markdown",
     "checksum": "412c0fbff4d9e5401141ed5f953ba132",
     "grade": false,
     "grade_id": "cell-539bfe3db5c0f774",
     "locked": true,
     "schema_version": 3,
     "solution": false,
     "task": false
    }
   },
   "source": [
    "# Clustering RNA sequences to identify cancer types\n",
    "\n",
    "In this assignment, we will use clustering algorithms on RNA sequence data to identify cancer types.\n",
    "Since the [whole data](https://www.synapse.org/#!Synapse:syn4301332) (from [Cancer Genome Atlas Pan-Cancer project](https://www.ncbi.nlm.nih.gov/pmc/articles/PMC3919969/)) is very big, we will use a [subset data from UCI Machine Learning repository](https://archive.ics.uci.edu/ml/datasets/gene+expression+cancer+RNA-Seq#). The subset data contains only 5 labels; BRCA, KIRC, COAD, LUAD and PRAD. The meanings of those labels are as below.\n",
    "\n",
    "|Abbreviation|Cancer|\n",
    "|:----:|:-------:|\n",
    "|LUSC|Lung squamous cell carcinoma |\n",
    "|READ |Rectum adenocarcinoma |\n",
    "|GBM |Glioblastoma multiforme|\n",
    "|BLCA |Bladder Urothelial Carcinoma|\n",
    "|UCEC |Uterine Corpus Endometrioid Carcinoma|\n",
    "|COAD |Colon adenocarcinoma|\n",
    "|OV |Ovarian serous cystadenocarcinoma|\n",
    "|LAML |Acute Myeloid Leukemia|\n",
    "|HNSC |Head and Neck squamous cell carcinoma|\n",
    "|LUAD |Lung adenocarcinoma|\n",
    "|BRCA |Breast invasive carcinoma|\n",
    "|KIRC |Kidney renal clear cell carcinoma|\n",
    "\n",
    "Although we can use the data for supervised learning model training, we will not use these labels for training, but use them for evaluation."
   ],
   "id": "527d9f92d6571536"
  },
  {
   "cell_type": "code",
   "metadata": {
    "deletable": false,
    "editable": false,
    "id": "ordered-pasta",
    "nbgrader": {
     "cell_type": "code",
     "checksum": "deb30e3992bd6264bc0999a631f4f249",
     "grade": false,
     "grade_id": "cell-aae50706a878da7b",
     "locked": true,
     "schema_version": 3,
     "solution": false,
     "task": false
    },
    "ExecuteTime": {
     "end_time": "2025-09-17T10:19:39.547255Z",
     "start_time": "2025-09-17T10:19:36.720577Z"
    }
   },
   "source": [
    "import pandas as pd\n",
    "import matplotlib.pyplot as plt\n",
    "import numpy as np\n",
    "from sklearn.cluster import AgglomerativeClustering, KMeans\n",
    "from sklearn.metrics import accuracy_score, confusion_matrix\n",
    "import time\n",
    "\n",
    "from sklearn.model_selection import GridSearchCV"
   ],
   "id": "eb9e6620179c44ea",
   "outputs": [],
   "execution_count": 1
  },
  {
   "cell_type": "code",
   "metadata": {
    "deletable": false,
    "editable": false,
    "id": "forbidden-patrol",
    "nbgrader": {
     "cell_type": "code",
     "checksum": "7d54524a953add3d7536b6f813e910b6",
     "grade": false,
     "grade_id": "cell-0349e5e5a7302cd2",
     "locked": true,
     "schema_version": 3,
     "solution": false,
     "task": false
    },
    "ExecuteTime": {
     "end_time": "2025-09-17T10:19:51.448645Z",
     "start_time": "2025-09-17T10:19:49.009480Z"
    }
   },
   "source": [
    "# Read data. Do not change the variable names (data, label)\n",
    "data = pd.read_csv('data/data_m2.csv')\n",
    "label = pd.read_csv('data/labels_m2.csv')\n",
    "data=data.drop('Unnamed: 0',axis=1)\n",
    "label=label.drop('Unnamed: 0',axis=1)"
   ],
   "id": "be2f143e0671c9ea",
   "outputs": [],
   "execution_count": 2
  },
  {
   "cell_type": "markdown",
   "metadata": {
    "deletable": false,
    "editable": false,
    "id": "universal-consultancy",
    "nbgrader": {
     "cell_type": "markdown",
     "checksum": "70fad3bc72f0de4ef37faa39dbc1aca1",
     "grade": false,
     "grade_id": "cell-a2791930798cf4eb",
     "locked": true,
     "schema_version": 3,
     "solution": false,
     "task": false
    }
   },
   "source": [
    "### A. [Peer Review] Perform basic data inspection or EDA on the pandas dataframe.\n",
    "- How many observations?\n",
    "- How many features?"
   ],
   "id": "d8d0a451a2700b5d"
  },
  {
   "cell_type": "code",
   "metadata": {
    "deletable": false,
    "nbgrader": {
     "cell_type": "code",
     "checksum": "3b9a724c90825ae8d7bc9a7d59a37620",
     "grade": false,
     "grade_id": "cell-2958c08df1714546",
     "locked": false,
     "schema_version": 3,
     "solution": true,
     "task": false
    },
    "ExecuteTime": {
     "end_time": "2025-09-18T09:35:46.438024Z",
     "start_time": "2025-09-18T09:35:46.429129Z"
    }
   },
   "source": [
    "# perform basic data inspection such as getting the number of observations and number of features\n",
    "# you can also display part of the dataframe or run data.info() \n",
    "print(f'Observations: {data.shape[0]}, features: {data.shape[1]}')\n",
    "print(f\"Class Labels are: {label['Class'].unique().tolist()}\")\n",
    "print(\"-\"*60)\n",
    "data.head()\n"
   ],
   "id": "9b8f792ee841841b",
   "outputs": [
    {
     "name": "stdout",
     "output_type": "stream",
     "text": [
      "Observations: 801, features: 20531\n",
      "Class Labels are: ['PRAD', 'LUAD', 'BRCA', 'KIRC', 'COAD']\n",
      "------------------------------------------------------------\n"
     ]
    },
    {
     "data": {
      "text/plain": [
       "   gene_0    gene_1    gene_2    gene_3     gene_4  gene_5    gene_6  \\\n",
       "0     0.0  2.017209  3.265527  5.478487  10.431999     0.0  7.175175   \n",
       "1     0.0  0.592732  1.588421  7.586157   9.623011     0.0  6.816049   \n",
       "2     0.0  3.511759  4.327199  6.881787   9.870730     0.0  6.972130   \n",
       "3     0.0  3.663618  4.507649  6.659068  10.196184     0.0  7.843375   \n",
       "4     0.0  2.655741  2.821547  6.539454   9.738265     0.0  6.566967   \n",
       "\n",
       "     gene_7  gene_8  gene_9  ...  gene_20521  gene_20522  gene_20523  \\\n",
       "0  0.591871     0.0     0.0  ...    4.926711    8.210257    9.723516   \n",
       "1  0.000000     0.0     0.0  ...    4.593372    7.323865    9.740931   \n",
       "2  0.452595     0.0     0.0  ...    5.125213    8.127123   10.908640   \n",
       "3  0.434882     0.0     0.0  ...    6.076566    8.792959   10.141520   \n",
       "4  0.360982     0.0     0.0  ...    5.996032    8.891425   10.373790   \n",
       "\n",
       "   gene_20524  gene_20525  gene_20526  gene_20527  gene_20528  gene_20529  \\\n",
       "0    7.220030    9.119813   12.003135    9.650743    8.921326    5.286759   \n",
       "1    6.256586    8.381612   12.674552   10.517059    9.397854    2.094168   \n",
       "2    5.401607    9.911597    9.045255    9.788359   10.090470    1.683023   \n",
       "3    8.942805    9.601208   11.392682    9.694814    9.684365    3.292001   \n",
       "4    7.181162    9.846910   11.922439    9.217749    9.461191    5.110372   \n",
       "\n",
       "   gene_20530  \n",
       "0         0.0  \n",
       "1         0.0  \n",
       "2         0.0  \n",
       "3         0.0  \n",
       "4         0.0  \n",
       "\n",
       "[5 rows x 20531 columns]"
      ],
      "text/html": [
       "<div>\n",
       "<style scoped>\n",
       "    .dataframe tbody tr th:only-of-type {\n",
       "        vertical-align: middle;\n",
       "    }\n",
       "\n",
       "    .dataframe tbody tr th {\n",
       "        vertical-align: top;\n",
       "    }\n",
       "\n",
       "    .dataframe thead th {\n",
       "        text-align: right;\n",
       "    }\n",
       "</style>\n",
       "<table border=\"1\" class=\"dataframe\">\n",
       "  <thead>\n",
       "    <tr style=\"text-align: right;\">\n",
       "      <th></th>\n",
       "      <th>gene_0</th>\n",
       "      <th>gene_1</th>\n",
       "      <th>gene_2</th>\n",
       "      <th>gene_3</th>\n",
       "      <th>gene_4</th>\n",
       "      <th>gene_5</th>\n",
       "      <th>gene_6</th>\n",
       "      <th>gene_7</th>\n",
       "      <th>gene_8</th>\n",
       "      <th>gene_9</th>\n",
       "      <th>...</th>\n",
       "      <th>gene_20521</th>\n",
       "      <th>gene_20522</th>\n",
       "      <th>gene_20523</th>\n",
       "      <th>gene_20524</th>\n",
       "      <th>gene_20525</th>\n",
       "      <th>gene_20526</th>\n",
       "      <th>gene_20527</th>\n",
       "      <th>gene_20528</th>\n",
       "      <th>gene_20529</th>\n",
       "      <th>gene_20530</th>\n",
       "    </tr>\n",
       "  </thead>\n",
       "  <tbody>\n",
       "    <tr>\n",
       "      <th>0</th>\n",
       "      <td>0.0</td>\n",
       "      <td>2.017209</td>\n",
       "      <td>3.265527</td>\n",
       "      <td>5.478487</td>\n",
       "      <td>10.431999</td>\n",
       "      <td>0.0</td>\n",
       "      <td>7.175175</td>\n",
       "      <td>0.591871</td>\n",
       "      <td>0.0</td>\n",
       "      <td>0.0</td>\n",
       "      <td>...</td>\n",
       "      <td>4.926711</td>\n",
       "      <td>8.210257</td>\n",
       "      <td>9.723516</td>\n",
       "      <td>7.220030</td>\n",
       "      <td>9.119813</td>\n",
       "      <td>12.003135</td>\n",
       "      <td>9.650743</td>\n",
       "      <td>8.921326</td>\n",
       "      <td>5.286759</td>\n",
       "      <td>0.0</td>\n",
       "    </tr>\n",
       "    <tr>\n",
       "      <th>1</th>\n",
       "      <td>0.0</td>\n",
       "      <td>0.592732</td>\n",
       "      <td>1.588421</td>\n",
       "      <td>7.586157</td>\n",
       "      <td>9.623011</td>\n",
       "      <td>0.0</td>\n",
       "      <td>6.816049</td>\n",
       "      <td>0.000000</td>\n",
       "      <td>0.0</td>\n",
       "      <td>0.0</td>\n",
       "      <td>...</td>\n",
       "      <td>4.593372</td>\n",
       "      <td>7.323865</td>\n",
       "      <td>9.740931</td>\n",
       "      <td>6.256586</td>\n",
       "      <td>8.381612</td>\n",
       "      <td>12.674552</td>\n",
       "      <td>10.517059</td>\n",
       "      <td>9.397854</td>\n",
       "      <td>2.094168</td>\n",
       "      <td>0.0</td>\n",
       "    </tr>\n",
       "    <tr>\n",
       "      <th>2</th>\n",
       "      <td>0.0</td>\n",
       "      <td>3.511759</td>\n",
       "      <td>4.327199</td>\n",
       "      <td>6.881787</td>\n",
       "      <td>9.870730</td>\n",
       "      <td>0.0</td>\n",
       "      <td>6.972130</td>\n",
       "      <td>0.452595</td>\n",
       "      <td>0.0</td>\n",
       "      <td>0.0</td>\n",
       "      <td>...</td>\n",
       "      <td>5.125213</td>\n",
       "      <td>8.127123</td>\n",
       "      <td>10.908640</td>\n",
       "      <td>5.401607</td>\n",
       "      <td>9.911597</td>\n",
       "      <td>9.045255</td>\n",
       "      <td>9.788359</td>\n",
       "      <td>10.090470</td>\n",
       "      <td>1.683023</td>\n",
       "      <td>0.0</td>\n",
       "    </tr>\n",
       "    <tr>\n",
       "      <th>3</th>\n",
       "      <td>0.0</td>\n",
       "      <td>3.663618</td>\n",
       "      <td>4.507649</td>\n",
       "      <td>6.659068</td>\n",
       "      <td>10.196184</td>\n",
       "      <td>0.0</td>\n",
       "      <td>7.843375</td>\n",
       "      <td>0.434882</td>\n",
       "      <td>0.0</td>\n",
       "      <td>0.0</td>\n",
       "      <td>...</td>\n",
       "      <td>6.076566</td>\n",
       "      <td>8.792959</td>\n",
       "      <td>10.141520</td>\n",
       "      <td>8.942805</td>\n",
       "      <td>9.601208</td>\n",
       "      <td>11.392682</td>\n",
       "      <td>9.694814</td>\n",
       "      <td>9.684365</td>\n",
       "      <td>3.292001</td>\n",
       "      <td>0.0</td>\n",
       "    </tr>\n",
       "    <tr>\n",
       "      <th>4</th>\n",
       "      <td>0.0</td>\n",
       "      <td>2.655741</td>\n",
       "      <td>2.821547</td>\n",
       "      <td>6.539454</td>\n",
       "      <td>9.738265</td>\n",
       "      <td>0.0</td>\n",
       "      <td>6.566967</td>\n",
       "      <td>0.360982</td>\n",
       "      <td>0.0</td>\n",
       "      <td>0.0</td>\n",
       "      <td>...</td>\n",
       "      <td>5.996032</td>\n",
       "      <td>8.891425</td>\n",
       "      <td>10.373790</td>\n",
       "      <td>7.181162</td>\n",
       "      <td>9.846910</td>\n",
       "      <td>11.922439</td>\n",
       "      <td>9.217749</td>\n",
       "      <td>9.461191</td>\n",
       "      <td>5.110372</td>\n",
       "      <td>0.0</td>\n",
       "    </tr>\n",
       "  </tbody>\n",
       "</table>\n",
       "<p>5 rows × 20531 columns</p>\n",
       "</div>"
      ]
     },
     "execution_count": 98,
     "metadata": {},
     "output_type": "execute_result"
    }
   ],
   "execution_count": 98
  },
  {
   "cell_type": "markdown",
   "metadata": {
    "deletable": false,
    "editable": false,
    "nbgrader": {
     "cell_type": "markdown",
     "checksum": "65492cc771478d0c9c26f1a73857843a",
     "grade": false,
     "grade_id": "cell-bde1524da0e9a63f",
     "locked": true,
     "schema_version": 3,
     "solution": false,
     "task": false
    }
   },
   "source": [
    "- Draw histograms of mean, max and min values in each feature. You may see numbers around 0-20. What do those numbers mean? (We do not expect students to know or figure out the meanings, but if you do know by chance, feel free to discuss them with the class on the discussion board.) <br>\n",
    "Answer the Peer Review question about this section. "
   ],
   "id": "cf22a33491b7ecfc"
  },
  {
   "cell_type": "code",
   "metadata": {
    "deletable": false,
    "nbgrader": {
     "cell_type": "code",
     "checksum": "b4abf73a9c24337560f0e0557bb0f7df",
     "grade": false,
     "grade_id": "cell-dcce43bb9bf942c0",
     "locked": false,
     "schema_version": 3,
     "solution": true,
     "task": false
    },
    "ExecuteTime": {
     "end_time": "2025-09-17T10:56:27.031649Z",
     "start_time": "2025-09-17T10:56:26.198567Z"
    }
   },
   "source": [
    "# draw histograms of mean, max and min values in each feature \n",
    "plot_data = {}\n",
    "for col in data.columns:\n",
    "    plot_data[col] = [data[col].mean(),data[col].max(),data[col].min()]\n",
    "plot_df = pd.DataFrame(plot_data).T\n",
    "plot_df.columns = ['mean','max','min']\n",
    "\n",
    "# Plot histograms of the stats across features\n",
    "n = 3\n",
    "fig, axes = plt.subplots(1,n, figsize=(n * 4.5,  3.5))\n",
    "colours = ['steelblue', 'seagreen', 'salmon']\n",
    "titles = ['Distribution of feature means', 'Distribution of feature maxima', 'Distribution of feature minima']\n",
    "for i, col in enumerate(plot_df.columns):\n",
    "    axes[i].hist(plot_df[col].values, bins=40, color=colours[i])\n",
    "    axes[i].set_xlabel(col)\n",
    "    axes[i].set_ylabel('Count')\n",
    "    axes[i].set_title(titles[i])\n",
    "\n",
    "plt.tight_layout()\n",
    "plt.show()"
   ],
   "id": "252e4426f3e17445",
   "outputs": [
    {
     "data": {
      "text/plain": [
       "<Figure size 1350x350 with 3 Axes>"
      ],
      "image/png": "[encoded data removed]"
     },
     "metadata": {},
     "output_type": "display_data",
     "jetTransient": {
      "display_id": null
     }
    }
   ],
   "execution_count": 17
  },
  {
   "cell_type": "markdown",
   "metadata": {
    "deletable": false,
    "editable": false,
    "nbgrader": {
     "cell_type": "markdown",
     "checksum": "f10e915af8708dc8de4c6a2a8ca51108",
     "grade": false,
     "grade_id": "cell-6736f47726a243e7",
     "locked": true,
     "schema_version": 3,
     "solution": false,
     "task": false
    }
   },
   "source": [
    "- If we were to train a \"supervised\" learning model, how would you deal with such large feature dimension? \n",
    "- Even after feature dimension reduction, still the number of useful features may be enormous. How it would impact performance or runtime of certain supervised learning algorithms? Which algorithms would suffer from high dimension features than others and why? \n",
    "- How it would impact performance or runtime of an unsupervised learning algorithm?\n",
    "- Draw histograms of mean, max and min values in each feature. You may see numbers around 0-20. What those numbers mean? (We do not expect students to know or figure out the meanings, but if you do know by chance, feel free to discuss them with the class on the discussion board.) <br> <br>\n",
    "Anwer these questions in this week's Peer Review assignment."
   ],
   "id": "5053f9fdb3086eda"
  },
  {
   "metadata": {},
   "cell_type": "markdown",
   "source": [
    "## 1. Dealing with Large Feature Dimensions in Supervised Learning\n",
    "\n",
    "### Dimensionality Reduction Techniques:\n",
    "- **PCA (Principal Component Analysis)**: Reduces to components explaining most variance\n",
    "- **Feature Selection**: Statistical tests (chi-square, ANOVA F-test)\n",
    "- **Domain-specific reduction**: For gene expression data, focus on known biomarkers or differentially expressed genes\n",
    "- **Feature extraction**: Create new features from combinations of existing ones\n",
    "\n",
    "### Regularization Methods:\n",
    "- **L1 (Lasso)**: Drives irrelevant feature coefficients to zero\n",
    "- **L2 (Ridge)**: Shrinks coefficients but keeps all features\n",
    "- **Elastic Net**: Combines L1 and L2 penalties\n",
    "\n",
    "## 2. Impact on Supervised Learning Algorithms\n",
    "\n",
    "### Algorithms Most Affected by High Dimensions:\n",
    "\n",
    "**K-Nearest Neighbors (KNN)**:\n",
    "- **Why suffers**: Distance metrics become less meaningful in high dimensions (curse of dimensionality)\n",
    "- **Impact**: All points become equidistant, making neighbor selection arbitrary\n",
    "- **Runtime**: O(nd) for each prediction, where n=samples, d=dimensions\n",
    "\n",
    "**Naive Bayes**:\n",
    "- **Why suffers**: Assumes feature independence, which becomes less realistic with many features\n",
    "- **Impact**: Overconfident predictions, poor calibration\n",
    "\n",
    "**Decision Trees**:\n",
    "- **Why suffers**: Prone to overfitting with many features\n",
    "- **Impact**: Deep trees that don't generalize well\n",
    "- **Runtime**: Feature selection at each split becomes expensive\n",
    "\n",
    "### Algorithms More Robust to High Dimensions:\n",
    "\n",
    "**Support Vector Machines (SVM)**:\n",
    "- **Why robust**: Works well in high dimensions, especially with RBF kernel\n",
    "- **But**: Runtime is O(n²) to O(n³), becomes slow with many samples\n",
    "\n",
    "**Random Forest**:\n",
    "- **Why robust**: Built-in feature selection through random sampling\n",
    "- **Advantage**: Can handle irrelevant features naturally\n",
    "\n",
    "**Linear Models (Logistic Regression with regularization)**:\n",
    "- **Why robust**: Regularization prevents overfitting\n",
    "- **Runtime**: Efficient even with many features\n",
    "\n",
    "**Neural Networks**:\n",
    "- **Why robust**: Can learn complex feature interactions\n",
    "- **But**: Need more data and careful regularization\n",
    "\n",
    "## 3. Impact on Unsupervised Learning\n",
    "\n",
    "### K-Means Clustering:\n",
    "- **Suffers severely**: Euclidean distance becomes less meaningful\n",
    "- **All points become equidistant**: Makes cluster centers arbitrary\n",
    "- **Solution**: PCA or feature selection before clustering\n",
    "\n",
    "### Hierarchical Clustering:\n",
    "- **Similar issues**: Distance-based, suffers from curse of dimensionality\n",
    "- **Runtime**: O(n³) becomes prohibitive with many features\n",
    "\n",
    "### DBSCAN:\n",
    "- **Very sensitive**: Density estimation fails in high dimensions\n",
    "- **Impact**: Either everything is noise or everything is one cluster\n",
    "\n",
    "### Algorithms More Robust:\n",
    "- **Spectral Clustering**: Can work better in high dimensions\n",
    "- **Gaussian Mixture Models**: With proper regularization\n",
    "\n",
    "## 4. What the Numbers 0-20 Mean in Gene Expression Data\n",
    "\n",
    "The values you see (0-20 range) in RNA-seq data typically represent:\n",
    "\n",
    "### **Log2-transformed expression values**:\n",
    "- **Raw counts**: Original RNA-seq gives discrete read counts (0, 1, 2, 3, ...)\n",
    "- **Normalization**: Usually RPKM, FPKM, or TPM normalized\n",
    "- **Log transformation**: log2(count + 1) to make data more normally distributed\n",
    "- **Result**: Values typically range from 0-20\n",
    "\n",
    "### **Biological meaning**:\n",
    "- **0-1**: Very low or no expression (gene likely \"off\")\n",
    "- **5-10**: Moderate expression\n",
    "- **15-20**: High expression (highly active genes)\n",
    "- **>20**: Very highly expressed genes (often housekeeping genes)\n",
    "\n",
    "### **Why this matters for ML**:\n",
    "- **Scale differences**: Some genes vary 0-2, others 10-20\n",
    "- **Need scaling**: StandardScaler or robust scaling essential\n",
    "- **Log scale**: Already somewhat normalized, but still need feature scaling\n",
    "\n",
    "## Summary for Peer Review:\n",
    "\n",
    "1. **High dimensions require**: Regularization, feature selection, or dimensionality reduction\n",
    "2. **Most affected algorithms**: KNN, Naive Bayes, basic Decision Trees\n",
    "3. **Most robust algorithms**: SVM, Random Forest, regularized linear models\n",
    "4. **Unsupervised suffers more**: Distance-based methods break down completely\n",
    "5. **Gene expression values**: Log2-transformed read counts, requiring careful preprocessing\n",
    "\n",
    "The key insight is that the **curse of dimensionality** affects distance-based algorithms most severely, while regularized methods and ensemble approaches tend to be more robust."
   ],
   "id": "6171171ef2e806f3"
  },
  {
   "cell_type": "markdown",
   "metadata": {
    "deletable": false,
    "editable": false,
    "nbgrader": {
     "cell_type": "markdown",
     "checksum": "36d2fc3f5b54ad32960f5d4ae52f2100",
     "grade": false,
     "grade_id": "cell-f89786ce6c22a413",
     "locked": true,
     "schema_version": 3,
     "solution": false,
     "task": false
    }
   },
   "source": [
    "### B. [Peer Review] Build a hierarchical clustering model\n",
    "Let's build a model using hierarchical clustering. Hierarchical clustering module is available from `sklearn.cluster.AgglomerativeClustering`. You can choose linkage type and metric. Please check its documentation for more details."
   ],
   "id": "ca4151ca02afb81a"
  },
  {
   "cell_type": "markdown",
   "metadata": {
    "deletable": false,
    "editable": false,
    "nbgrader": {
     "cell_type": "markdown",
     "checksum": "944b291a4ed47f6acd91034c448514b9",
     "grade": false,
     "grade_id": "cell-20bd5000b96709cd",
     "locked": true,
     "schema_version": 3,
     "solution": false,
     "task": false
    }
   },
   "source": [
    "**a) Number of clusters vs distance threshold**\n",
    "Oftentimes hierarchical clustering does not need to know the number of clusters in advance. Instead, one needs to choose threshold distance/similarity to cut the dendrogram later. The AgglomerativeClustering module lets you specify either the number of clusters (n_clusters) or the threshold (distance_threshold). Based on our data, which should we choose to set to which value and why? <br> <br>\n",
    "Answer this question in the Peer Review assignment. "
   ],
   "id": "9fd248ae81316b31"
  },
  {
   "cell_type": "markdown",
   "metadata": {
    "deletable": false,
    "editable": false,
    "nbgrader": {
     "cell_type": "markdown",
     "checksum": "479da534d14157edc6cab3a8c6dce4b6",
     "grade": false,
     "grade_id": "cell-1dcb3a4ab605373a",
     "locked": true,
     "schema_version": 3,
     "solution": false,
     "task": false
    }
   },
   "source": [
    "#### b) Guess which metric?\n",
    "Can you guess which metric to use (distance-based vs. similarity-based) and why? \n",
    "This question is not graded, but we encourage you to share your thoughts with the class. See the ungraded discussion prompt for this week's material. "
   ],
   "id": "b4772e36d0bbe332"
  },
  {
   "cell_type": "markdown",
   "metadata": {
    "deletable": false,
    "editable": false,
    "nbgrader": {
     "cell_type": "markdown",
     "checksum": "e2681cdcd943f508b334d717be6461f4",
     "grade": false,
     "grade_id": "cell-3bdcbf312ff9cbef",
     "locked": true,
     "schema_version": 3,
     "solution": false,
     "task": false
    }
   },
   "source": [
    "#### c) Build a model\n",
    "Build a model using n_clusters=5 option. Choose any metric and linkage type at first. Display the clustering result labels (you can just print out the result). Do not change the variable (model) name. Answer the question about this section in the Peer Review."
   ],
   "id": "277887d039256e0e"
  },
  {
   "cell_type": "code",
   "metadata": {
    "deletable": false,
    "nbgrader": {
     "cell_type": "code",
     "checksum": "7a026cf9b5831deeb187d3b6279c2cbd",
     "grade": false,
     "grade_id": "cell-a182891914c1787d",
     "locked": false,
     "schema_version": 3,
     "solution": true,
     "task": false
    },
    "ExecuteTime": {
     "end_time": "2025-09-18T09:24:07.646548Z",
     "start_time": "2025-09-18T09:24:05.890865Z"
    }
   },
   "source": [
    "# build a model using n_clusters=5 option\n",
    "model=AgglomerativeClustering(n_clusters=5, linkage='complete', metric='euclidean')\n",
    "start = time.time()\n",
    "model.fit(data)\n",
    "end = time.time()\n",
    "print(f\"Agglomerative Clustering took {end-start:.2f} seconds\\n\")\n",
    "print(model.labels_)"
   ],
   "id": "52ab8a763a1b5402",
   "outputs": [
    {
     "name": "stdout",
     "output_type": "stream",
     "text": [
      "Agglomerative Clustering took 1.75 seconds\n",
      "\n",
      "[4 3 1 4 1 4 0 4 1 4 1 0 4 2 1 1 3 0 0 4 1 0 3 1 0 3 2 1 1 1 1 1 0 3 4 1 0\n",
      " 3 1 3 0 4 4 0 0 1 4 2 1 3 1 3 1 4 2 1 1 3 0 1 3 0 1 3 4 2 1 4 0 1 0 1 1 3\n",
      " 1 3 1 0 4 2 1 4 1 1 4 4 1 1 0 1 4 4 1 3 1 4 2 1 4 1 1 0 1 0 3 0 3 3 3 3 4\n",
      " 1 3 4 1 0 0 0 1 1 3 0 3 1 4 4 4 1 0 1 2 1 2 1 1 0 3 1 0 2 1 4 1 0 3 2 4 1\n",
      " 3 3 3 3 1 1 3 1 1 4 4 3 4 3 0 1 4 3 2 0 3 1 0 3 1 3 1 1 1 4 1 0 2 0 1 4 4\n",
      " 4 3 3 1 3 3 0 3 4 3 1 3 1 3 3 1 0 0 0 0 4 2 4 1 3 3 1 4 1 4 1 1 1 3 1 0 3\n",
      " 0 0 3 1 0 4 1 3 3 4 2 2 0 4 0 3 1 0 0 3 4 4 3 3 0 1 1 2 1 4 3 1 4 0 4 4 4\n",
      " 1 3 2 3 2 3 4 3 1 1 0 0 1 2 4 0 4 1 1 0 1 1 1 2 3 3 1 1 1 0 0 0 0 3 1 1 0\n",
      " 1 1 3 4 1 1 2 3 4 1 1 1 2 1 4 1 2 3 3 4 0 1 0 0 3 3 0 1 1 1 3 0 1 1 4 3 0\n",
      " 1 3 4 0 1 4 2 1 1 1 3 3 3 1 1 4 3 1 0 1 2 3 3 1 0 1 1 1 2 3 2 0 4 0 1 1 0\n",
      " 3 2 4 3 4 3 0 4 1 2 0 0 2 2 4 1 3 3 0 3 4 1 1 1 3 3 0 3 3 0 2 4 1 3 4 1 2\n",
      " 1 3 1 1 4 1 4 2 1 3 1 1 3 1 1 1 0 3 4 1 4 0 1 0 2 1 4 3 0 1 1 0 1 3 3 1 4\n",
      " 2 1 0 3 4 1 4 1 1 1 1 0 3 1 0 1 1 3 3 0 3 4 2 1 0 0 1 4 0 3 3 3 1 4 4 1 4\n",
      " 3 0 4 1 3 4 3 1 1 2 3 0 2 3 1 4 1 1 4 1 2 1 2 0 1 1 3 3 3 3 0 3 3 1 1 0 4\n",
      " 3 4 1 0 1 0 0 4 4 3 1 0 2 2 1 0 0 1 1 4 0 3 1 1 2 3 1 1 1 0 4 3 3 1 0 2 0\n",
      " 0 1 4 3 0 1 2 3 3 3 4 3 0 1 1 2 4 3 1 1 0 3 3 1 4 3 3 1 0 4 2 3 4 2 3 2 0\n",
      " 0 1 1 0 0 3 1 1 4 4 0 1 3 3 1 2 1 4 4 3 1 2 1 0 1 1 3 1 4 1 1 0 4 3 1 1 0\n",
      " 3 1 1 1 2 2 3 3 3 1 1 4 1 1 0 3 3 0 0 3 0 2 1 2 0 1 1 4 4 4 3 4 4 2 1 1 3\n",
      " 3 0 1 0 2 1 1 1 4 3 0 1 4 0 4 1 3 0 4 3 4 4 2 0 4 3 2 3 1 1 1 3 0 0 0 1 3\n",
      " 0 4 1 3 4 1 4 1 0 1 3 4 4 0 4 0 1 3 3 1 3 0 1 1 1 1 0 0 4 3 0 3 3 0 1 3 1\n",
      " 1 4 3 4 1 2 1 1 0 3 1 1 4 1 4 3 1 1 1 3 1 3 1 3 0 0 3 3 1 1 1 3 1 3 0 1 3\n",
      " 0 3 3 3 0 1 4 1 1 0 1 4 0 1 1 1 1 4 3 1 3 3 4 4]\n"
     ]
    }
   ],
   "execution_count": 94
  },
  {
   "cell_type": "markdown",
   "metadata": {
    "deletable": false,
    "editable": false,
    "nbgrader": {
     "cell_type": "markdown",
     "checksum": "fa88212d918a8521a87412958a95f3ef",
     "grade": false,
     "grade_id": "cell-14da739b5647db81",
     "locked": true,
     "schema_version": 3,
     "solution": false,
     "task": false
    }
   },
   "source": [
    "#### d) Label permuation\n",
    "In clustering, the labels get assigned randomly, so the label numbering won't match the ground truth necessarily. Write a function below to find best matching label ordering based on the accuracy. Do not change the variable names. Answer the question about this section in the Peer Review. "
   ],
   "id": "d8e470f716d2ed08"
  },
  {
   "cell_type": "code",
   "metadata": {
    "deletable": false,
    "nbgrader": {
     "cell_type": "code",
     "checksum": "f47665d2983a53c6a92c098e5070fc63",
     "grade": false,
     "grade_id": "cell-82b20e00978bc5e6",
     "locked": false,
     "schema_version": 3,
     "solution": true,
     "task": false
    },
    "ExecuteTime": {
     "end_time": "2025-09-18T10:08:31.479039Z",
     "start_time": "2025-09-18T10:08:31.474960Z"
    }
   },
   "source": [
    "import itertools\n",
    "\n",
    "def label_permute_compare(ytdf,yp,n=5):\n",
    "    \"\"\"\n",
    "    ytdf: labels dataframe object\n",
    "    yp: clustering label prediction output\n",
    "    Returns permuted label order and accuracy. \n",
    "    Example output: (3, 4, 1, 2, 0), 0.74 \n",
    "    \"\"\"\n",
    "    yp = np.asarray(yp, dtype=int)\n",
    "    y_true = pd.Categorical(ytdf['Class']).codes\n",
    "\n",
    "    best_perm = tuple(range(n))\n",
    "    best_acc = -1.0\n",
    "\n",
    "    for perm in itertools.permutations(range(n),n):\n",
    "        mapping = np.array(perm, dtype=int)\n",
    "        mapped = mapping[yp] # i.e. get the indeces of mapping from yp, which changes yp labels to mapped labels\n",
    "        acc = float((mapped == y_true).mean()) # compare mapped labels to y_true\n",
    "        if acc > best_acc:\n",
    "            best_acc = acc\n",
    "            best_perm = perm\n",
    "    return best_perm, best_acc"
   ],
   "id": "db0d0d21a7c03008",
   "outputs": [],
   "execution_count": 99
  },
  {
   "cell_type": "code",
   "metadata": {
    "deletable": false,
    "editable": false,
    "nbgrader": {
     "cell_type": "code",
     "checksum": "cf8892a7991eab729501b9f12fa11ae1",
     "grade": false,
     "grade_id": "cell-e59b3dddfdc36871",
     "locked": true,
     "schema_version": 3,
     "solution": false,
     "task": false
    },
    "ExecuteTime": {
     "end_time": "2025-09-18T09:18:01.976739Z",
     "start_time": "2025-09-18T09:18:01.973444Z"
    }
   },
   "source": [
    "labelorder, acc = label_permute_compare(label, model.labels_)\n",
    "print(labelorder, acc)"
   ],
   "id": "e4f32c318b78cfae",
   "outputs": [
    {
     "name": "stdout",
     "output_type": "stream",
     "text": [
      "(2, 0, 1, 3, 4) 0.9313358302122348\n"
     ]
    }
   ],
   "execution_count": 82
  },
  {
   "metadata": {
    "ExecuteTime": {
     "end_time": "2025-09-18T10:28:29.662985Z",
     "start_time": "2025-09-18T10:28:29.657320Z"
    }
   },
   "cell_type": "code",
   "source": [
    "# Debug your current implementation\n",
    "def debug_label_permute_compare(ytdf, yp, n=5):\n",
    "    yp = np.asarray(yp, dtype=int)\n",
    "    y_true = pd.Categorical(ytdf['Class']).codes\n",
    "\n",
    "    print(f\"Unique cluster labels: {np.unique(yp)}\")\n",
    "    print(f\"Unique true labels: {np.unique(y_true)}\")\n",
    "    print(f\"yp range: {yp.min()} to {yp.max()}\")\n",
    "    print(f\"y_true range: {y_true.min()} to {y_true.max()}\")\n",
    "    print(f\"n parameter: {n}\")\n",
    "    print(f\"yp shape: {yp.shape}, y_true shape: {y_true.shape}\")\n",
    "\n",
    "    # Check a simple identity mapping first\n",
    "    identity_acc = (yp == y_true).mean()\n",
    "    print(f\"Identity mapping accuracy: {identity_acc:.4f}\")\n",
    "\n",
    "    return label_permute_compare(ytdf, yp, n)\n",
    "\n",
    "# Test it\n",
    "labelorder, acc = debug_label_permute_compare(label, model.labels_)\n",
    "print(f\"Best permutation: {labelorder}, Best accuracy: {acc:.4f}\")"
   ],
   "id": "8fc29524fd510bf3",
   "outputs": [
    {
     "name": "stdout",
     "output_type": "stream",
     "text": [
      "Unique cluster labels: [0 1 2 3 4]\n",
      "Unique true labels: [0 1 2 3 4]\n",
      "yp range: 0 to 4\n",
      "y_true range: 0 to 4\n",
      "n parameter: 5\n",
      "yp shape: (801,), y_true shape: (801,)\n",
      "Identity mapping accuracy: 0.3421\n",
      "Best permutation: (2, 0, 1, 3, 4), Best accuracy: 0.9313\n"
     ]
    }
   ],
   "execution_count": 100
  },
  {
   "cell_type": "markdown",
   "metadata": {
    "deletable": false,
    "editable": false,
    "nbgrader": {
     "cell_type": "markdown",
     "checksum": "246f7bd7bd4cacc06d3d8e7b0811e06b",
     "grade": false,
     "grade_id": "cell-2dee0f590af15ca1",
     "locked": true,
     "schema_version": 3,
     "solution": false,
     "task": false
    }
   },
   "source": [
    "#### e) Check confusion matrix\n",
    "Use sklearn's confusion matrix and display the results. Answer the Peer Review question about this section.  "
   ],
   "id": "8cf524d96ba0da1c"
  },
  {
   "cell_type": "code",
   "metadata": {
    "deletable": false,
    "nbgrader": {
     "cell_type": "code",
     "checksum": "7db659d69e66d44725a24b1f90796541",
     "grade": false,
     "grade_id": "cell-b7fe98331f7b544f",
     "locked": false,
     "schema_version": 3,
     "solution": true,
     "task": false
    },
    "ExecuteTime": {
     "end_time": "2025-09-18T09:18:51.591821Z",
     "start_time": "2025-09-18T09:18:51.588187Z"
    }
   },
   "source": [
    "from sklearn.metrics import ConfusionMatrixDisplay\n",
    "# Build mapping: cluster index (from model.labels_) -> class name\n",
    "\n",
    "def build_class_mapping(label, model, verbose = True):\n",
    "    cat = pd.Categorical(label['Class'])\n",
    "    class_names = list(cat.categories)\n",
    "    labelorder, acc = label_permute_compare(label, model.labels_)# names aligned with codes used in label_permute_compare\n",
    "    cluster_to_class = {cluster: class_names[code] for cluster, code in enumerate(labelorder)}\n",
    "\n",
    "    y_pred_names = np.array([cluster_to_class[k] for k in model.labels_])\n",
    "    model_type = type(model).__name__\n",
    "    param_dict = model.get_params()\n",
    "    if model_type == 'AgglomerativeClustering':\n",
    "        title_text = f'Agglomerative Clustering (linkage: {param_dict[\"linkage\"]}, metric: {param_dict[\"metric\"]})'\n",
    "    elif model_type == 'KMeans':\n",
    "        title_text = f'KMeans (n_clusters: {param_dict[\"n_clusters\"]})'\n",
    "    else:\n",
    "        title_text = model_type\n",
    "\n",
    "    if verbose == True:\n",
    "        print(\"Cluster -> Class mapping:\")\n",
    "        for k, v in cluster_to_class.items():\n",
    "            print(f\"{k} -> {v}\")\n",
    "        cm = confusion_matrix(label, y_pred_names)\n",
    "        disp_cm = ConfusionMatrixDisplay(confusion_matrix=cm, display_labels=class_names)\n",
    "        disp_cm.plot(cmap='Blues')\n",
    "        disp_cm.ax_.set_title(f'Confusion Matrix for {title_text}, \\nAccuracy: {acc:.4f}')\n",
    "        plt.show()\n",
    "\n",
    "    return cluster_to_class, y_pred_names, acc"
   ],
   "id": "b4c1309d5400bf10",
   "outputs": [],
   "execution_count": 86
  },
  {
   "metadata": {
    "ExecuteTime": {
     "end_time": "2025-09-18T09:18:52.661242Z",
     "start_time": "2025-09-18T09:18:52.584050Z"
    }
   },
   "cell_type": "code",
   "source": "cluster_to_class, y_pred_names, acc = build_class_mapping(label, model, verbose = True)",
   "id": "cfe22fed89655ada",
   "outputs": [
    {
     "name": "stdout",
     "output_type": "stream",
     "text": [
      "Cluster -> Class mapping:\n",
      "0 -> KIRC\n",
      "1 -> BRCA\n",
      "2 -> COAD\n",
      "3 -> LUAD\n",
      "4 -> PRAD\n"
     ]
    },
    {
     "data": {
      "text/plain": [
       "<Figure size 640x480 with 2 Axes>"
      ],
      "image/png": "[encoded data removed]"
     },
     "metadata": {},
     "output_type": "display_data",
     "jetTransient": {
      "display_id": null
     }
    }
   ],
   "execution_count": 87
  },
  {
   "cell_type": "markdown",
   "metadata": {
    "deletable": false,
    "editable": false,
    "nbgrader": {
     "cell_type": "markdown",
     "checksum": "49b995d1748051a814f09ae8878096cd",
     "grade": false,
     "grade_id": "cell-b51181ebab84b037",
     "locked": true,
     "schema_version": 3,
     "solution": false,
     "task": false
    }
   },
   "source": [
    "#### f) Change linkage method and distance metric. Which ones lead the best performance? Print out the accuracy and confusion matrix for the best model.\n",
    "<br> Answer the Peer Review questions about this section. "
   ],
   "id": "a474422f19a57068"
  },
  {
   "cell_type": "code",
   "metadata": {
    "deletable": false,
    "nbgrader": {
     "cell_type": "code",
     "checksum": "a13e0521cb941ebbe96ef06b0f48bf8c",
     "grade": false,
     "grade_id": "cell-03953f78e5852c9a",
     "locked": false,
     "schema_version": 3,
     "solution": true,
     "task": false
    },
    "ExecuteTime": {
     "end_time": "2025-09-18T09:19:58.292207Z",
     "start_time": "2025-09-18T09:19:09.240624Z"
    }
   },
   "source": [
    "# programmatically evaluate which linkage method and distance metric lead to the best performance\n",
    "param_grid = [\n",
    "    # Ward only works with euclidean\n",
    "    {'linkage': ['ward'], 'metric': ['euclidean']},\n",
    "    # Other linkages with various metrics\n",
    "    {'linkage': ['complete', 'average', 'single'],\n",
    "     'metric': ['euclidean', 'manhattan', 'cosine']}\n",
    "]\n",
    "results = []\n",
    "best_score = -1.0\n",
    "best_params = None\n",
    "best_model = None\n",
    "\n",
    "for param_dict in param_grid:\n",
    "    keys = param_dict.keys()\n",
    "    values = param_dict.values()\n",
    "\n",
    "    # Generate all combinations\n",
    "    for combination in itertools.product(*values):\n",
    "        params = dict(zip(keys, combination))\n",
    "\n",
    "        try:\n",
    "            # Create and fit model\n",
    "            model = AgglomerativeClustering(n_clusters=5, **params)\n",
    "            cluster_labels = model.fit_predict(data)\n",
    "\n",
    "            _, acc = label_permute_compare(label, cluster_labels)\n",
    "\n",
    "            results.append({\n",
    "                'linkage': params['linkage'],\n",
    "                'metric': params['metric'],\n",
    "                'accuracy': acc\n",
    "            })\n",
    "\n",
    "            print(f\"Linkage: {params['linkage']:8s} | Metric: {params['metric']:9s} | Accuracy: {acc:.4f}\")\n",
    "\n",
    "            # Track best model\n",
    "            if acc > best_score:\n",
    "                best_score = acc\n",
    "                best_params = params\n",
    "                best_model = model\n",
    "\n",
    "        except Exception as e:\n",
    "            print(f\"Error with {params}: {e}\")\n",
    "\n",
    "print(\"-\" * 60)\n",
    "print(f\"Best combination: {best_params}\")\n",
    "print(f\"Best accuracy: {best_score:.4f}\")\n",
    "print(\"-\" * 60)\n",
    "cluster_to_class, y_pred_names, acc = build_class_mapping(label, best_model, verbose = True)"
   ],
   "id": "202f18889840a4d8",
   "outputs": [
    {
     "name": "stdout",
     "output_type": "stream",
     "text": [
      "Linkage: ward     | Metric: euclidean | Accuracy: 0.9950\n",
      "Linkage: complete | Metric: euclidean | Accuracy: 0.9313\n",
      "Linkage: complete | Metric: manhattan | Accuracy: 0.7228\n",
      "Linkage: complete | Metric: cosine    | Accuracy: 0.7403\n",
      "Linkage: average  | Metric: euclidean | Accuracy: 0.3645\n",
      "Linkage: average  | Metric: manhattan | Accuracy: 0.3658\n",
      "Linkage: average  | Metric: cosine    | Accuracy: 0.3645\n",
      "Linkage: single   | Metric: euclidean | Accuracy: 0.3758\n",
      "Linkage: single   | Metric: manhattan | Accuracy: 0.3745\n",
      "Linkage: single   | Metric: cosine    | Accuracy: 0.3758\n",
      "------------------------------------------------------------\n",
      "Best combination: {'linkage': 'ward', 'metric': 'euclidean'}\n",
      "Best accuracy: 0.9950\n",
      "------------------------------------------------------------\n",
      "Cluster -> Class mapping:\n",
      "0 -> BRCA\n",
      "1 -> KIRC\n",
      "2 -> PRAD\n",
      "3 -> LUAD\n",
      "4 -> COAD\n"
     ]
    },
    {
     "data": {
      "text/plain": [
       "<Figure size 640x480 with 2 Axes>"
      ],
      "image/png": "[encoded data removed]"
     },
     "metadata": {},
     "output_type": "display_data",
     "jetTransient": {
      "display_id": null
     }
    }
   ],
   "execution_count": 88
  },
  {
   "metadata": {},
   "cell_type": "markdown",
   "source": [
    "**Ward linkage** is a method for measuring the distance between clusters in agglomerative clustering. Here's how to understand it:\n",
    "\n",
    "## What Ward Linkage Does\n",
    "Ward linkage minimizes the **within-cluster sum of squares** (WCSS) when merging clusters. It asks: \"Which two clusters, when merged, will increase the total variance within clusters the least?\"\n",
    "\n",
    "## How It Works\n",
    "1. **Start**: Each point is its own cluster\n",
    "2. **At each step**: Consider all possible pairs of clusters to merge\n",
    "3. **Merge criterion**: Choose the pair that results in the smallest increase in total within-cluster variance\n",
    "4. **Continue**: Until you have the desired number of clusters\n",
    "\n",
    "## Mathematical Intuition\n",
    "- **Within-cluster variance** = sum of squared distances from each point to its cluster centroid\n",
    "- Ward linkage tries to keep clusters \"compact\" by minimizing this variance\n",
    "- This tends to create clusters that are roughly spherical and similar in size\n",
    "\n",
    "## Why Only Euclidean Distance?\n",
    "Ward linkage requires Euclidean distance because:\n",
    "- It needs to calculate centroids (cluster centers)\n",
    "- The variance calculation depends on squared Euclidean distances\n",
    "- Other distance metrics (Manhattan, cosine) don't have the geometric properties needed for the variance calculation\n",
    "\n",
    "## Comparison with Other Linkages\n",
    "- **Complete**: Merges clusters with smallest maximum distance between any two points\n",
    "- **Average**: Merges clusters with smallest average distance between all point pairs\n",
    "- **Single**: Merges clusters with smallest minimum distance between any two points\n",
    "- **Ward**: Merges clusters that minimize increase in within-cluster variance\n",
    "\n",
    "## When to Use Ward\n",
    "- **Good for**: Creating compact, roughly equal-sized clusters\n",
    "- **Works well**: When clusters are expected to be spherical/round\n",
    "- **Not ideal**: For elongated clusters or when clusters have very different sizes\n",
    "- **Best with**: Standardized/normalized features (since it uses Euclidean distance)\n",
    "\n",
    "## Practical Example\n",
    "If you have customer data and want to segment customers into groups, Ward linkage would try to create segments where customers within each segment are as similar as possible to each other (low variance), while being different from other segments.\n",
    "\n",
    "Ward is often a good default choice for agglomerative clustering because it tends to produce well-balanced, interpretable clusters."
   ],
   "id": "fcd26ada1170a4cb"
  },
  {
   "cell_type": "markdown",
   "metadata": {
    "deletable": false,
    "editable": false,
    "nbgrader": {
     "cell_type": "markdown",
     "checksum": "9eeef63c833a862a824bd957b4569d81",
     "grade": false,
     "grade_id": "cell-6cd5993178e6f606",
     "locked": true,
     "schema_version": 3,
     "solution": false,
     "task": false
    }
   },
   "source": [
    "### C. What about k-means clustering?\n",
    "Can we apply kmeans clustering on this data? Which clustering methods give a better performance? Is kmeans faster or slower?"
   ],
   "id": "e13ce1f9e7363bda"
  },
  {
   "cell_type": "code",
   "metadata": {
    "deletable": false,
    "nbgrader": {
     "cell_type": "code",
     "checksum": "ff50d6cc5b9fbf0fface11dad35bfaba",
     "grade": false,
     "grade_id": "cell-2f77201b65ef6a7a",
     "locked": false,
     "schema_version": 3,
     "solution": true,
     "task": false
    },
    "ExecuteTime": {
     "end_time": "2025-09-18T09:19:58.565076Z",
     "start_time": "2025-09-18T09:19:58.314043Z"
    }
   },
   "source": [
    "# try to apply kmeans clustering on this data\n",
    "# time kmeans to compare to hierarchical clustering \n",
    "model_kmeans = KMeans(n_clusters=5)\n",
    "start = time.time()\n",
    "model_kmeans.fit(data)\n",
    "end = time.time()\n",
    "print(f\"Kmeans took {end-start:.2f} seconds\")\n",
    "cluster_to_class, y_pred_names, acc = build_class_mapping(label, model_kmeans, verbose = True)\n"
   ],
   "id": "fe3a77e7596911fc",
   "outputs": [
    {
     "name": "stdout",
     "output_type": "stream",
     "text": [
      "Kmeans took 0.19 seconds\n",
      "Cluster -> Class mapping:\n",
      "0 -> BRCA\n",
      "1 -> PRAD\n",
      "2 -> COAD\n",
      "3 -> LUAD\n",
      "4 -> KIRC\n"
     ]
    },
    {
     "data": {
      "text/plain": [
       "<Figure size 640x480 with 2 Axes>"
      ],
      "image/png": "[encoded data removed]"
     },
     "metadata": {},
     "output_type": "display_data",
     "jetTransient": {
      "display_id": null
     }
    }
   ],
   "execution_count": 89
  },
  {
   "metadata": {},
   "cell_type": "markdown",
   "source": [
    "## Trying to improve KMeans Clustering\n",
    "- **Scaling**: Prevents features with larger ranges from dominating\n",
    "- **PCA**: Removes noise and focuses on main patterns\n",
    "- **Better params**: More stable convergence and better local minima avoidance\n"
   ],
   "id": "19b18034de56e6e4"
  },
  {
   "metadata": {
    "ExecuteTime": {
     "end_time": "2025-09-18T09:22:02.905806Z",
     "start_time": "2025-09-18T09:22:01.700478Z"
    }
   },
   "cell_type": "code",
   "source": [
    "from sklearn.preprocessing import StandardScaler\n",
    "from sklearn.decomposition import PCA\n",
    "\n",
    "# Step 1: Scale the data\n",
    "scaler = StandardScaler()\n",
    "data_scaled = scaler.fit_transform(data)\n",
    "\n",
    "# Step 2: Dimensionality reduction (optional but recommended)\n",
    "pca = PCA(n_components=100, random_state=42)\n",
    "data_pca = pca.fit_transform(data_scaled)\n",
    "\n",
    "# Step 3: KMeans with better parameters\n",
    "model_kmeans_pca = KMeans(\n",
    "    n_clusters=5,\n",
    "    init='k-means++',\n",
    "    n_init=20,\n",
    "    max_iter=500,\n",
    "    random_state=42\n",
    ")\n",
    "\n",
    "start_time = time.time()\n",
    "model_kmeans_pca.fit(data_pca)\n",
    "kmeans_time = time.time() - start_time\n",
    "\n",
    "# Evaluate\n",
    "print(f\"KMeans time: {kmeans_time:.2f} seconds\")\n",
    "cluster_to_class, y_pred_names, acc = build_class_mapping(label, model_kmeans_pca, verbose = True)"
   ],
   "id": "3f8311379c7bd810",
   "outputs": [
    {
     "name": "stdout",
     "output_type": "stream",
     "text": [
      "KMeans time: 0.28 seconds\n",
      "Cluster -> Class mapping:\n",
      "0 -> BRCA\n",
      "1 -> KIRC\n",
      "2 -> LUAD\n",
      "3 -> PRAD\n",
      "4 -> COAD\n"
     ]
    },
    {
     "data": {
      "text/plain": [
       "<Figure size 640x480 with 2 Axes>"
      ],
      "image/png": "[encoded data removed]"
     },
     "metadata": {},
     "output_type": "display_data",
     "jetTransient": {
      "display_id": null
     }
    }
   ],
   "execution_count": 91
  },
  {
   "metadata": {},
   "cell_type": "code",
   "outputs": [],
   "execution_count": null,
   "source": "",
   "id": "5727fb738af9b9eb"
  }
 ],
 "metadata": {
  "colab": {
   "name": "HW2-clustering.ipynb",
   "provenance": []
  },
  "kernelspec": {
   "display_name": "Python 3",
   "language": "python",
   "name": "python3"
  },
  "language_info": {
   "codemirror_mode": {
    "name": "ipython",
    "version": 3
   },
   "file_extension": ".py",
   "mimetype": "text/x-python",
   "name": "python",
   "nbconvert_exporter": "python",
   "pygments_lexer": "ipython3",
   "version": "3.7.6"
  }
 },
 "nbformat": 4,
 "nbformat_minor": 5
}
