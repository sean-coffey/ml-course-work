{
 "cells": [
  {
   "cell_type": "code",
   "id": "initial_id",
   "metadata": {
    "collapsed": true,
    "ExecuteTime": {
     "end_time": "2025-09-18T16:36:28.950073Z",
     "start_time": "2025-09-18T16:36:28.948070Z"
    }
   },
   "source": [
    "import numpy as np\n",
    "import pandas as pd\n",
    "import itertools"
   ],
   "outputs": [],
   "execution_count": 46
  },
  {
   "metadata": {
    "ExecuteTime": {
     "end_time": "2025-09-18T16:35:07.212073Z",
     "start_time": "2025-09-18T16:35:07.203282Z"
    }
   },
   "cell_type": "code",
   "source": [
    "import pandas as pd\n",
    "df = pd.read_csv('data/similar.csv', sep = ',')\n",
    "df.set_index('userID/game',inplace=True)\n",
    "df_jacc = df.mask(df > 0, 1).fillna(0)\n",
    "display(df_jacc)"
   ],
   "id": "fd29c0a5f9aba47f",
   "outputs": [
    {
     "data": {
      "text/plain": [
       "             WatchDog  GTAV  PUBG  StarCraft  CallOfDuty  FIFA  WOW  MineCraft\n",
       "userID/game                                                                   \n",
       "firechicken       1.0   1.0   1.0        0.0         1.0   1.0  1.0        0.0\n",
       "mike0702          1.0   1.0   1.0        1.0         1.0   0.0  0.0        1.0\n",
       "zephyros          0.0   1.0   0.0        1.0         0.0   0.0  1.0        1.0\n",
       "dadvador          1.0   0.0   0.0        1.0         0.0   1.0  1.0        1.0"
      ],
      "text/html": [
       "<div>\n",
       "<style scoped>\n",
       "    .dataframe tbody tr th:only-of-type {\n",
       "        vertical-align: middle;\n",
       "    }\n",
       "\n",
       "    .dataframe tbody tr th {\n",
       "        vertical-align: top;\n",
       "    }\n",
       "\n",
       "    .dataframe thead th {\n",
       "        text-align: right;\n",
       "    }\n",
       "</style>\n",
       "<table border=\"1\" class=\"dataframe\">\n",
       "  <thead>\n",
       "    <tr style=\"text-align: right;\">\n",
       "      <th></th>\n",
       "      <th>WatchDog</th>\n",
       "      <th>GTAV</th>\n",
       "      <th>PUBG</th>\n",
       "      <th>StarCraft</th>\n",
       "      <th>CallOfDuty</th>\n",
       "      <th>FIFA</th>\n",
       "      <th>WOW</th>\n",
       "      <th>MineCraft</th>\n",
       "    </tr>\n",
       "    <tr>\n",
       "      <th>userID/game</th>\n",
       "      <th></th>\n",
       "      <th></th>\n",
       "      <th></th>\n",
       "      <th></th>\n",
       "      <th></th>\n",
       "      <th></th>\n",
       "      <th></th>\n",
       "      <th></th>\n",
       "    </tr>\n",
       "  </thead>\n",
       "  <tbody>\n",
       "    <tr>\n",
       "      <th>firechicken</th>\n",
       "      <td>1.0</td>\n",
       "      <td>1.0</td>\n",
       "      <td>1.0</td>\n",
       "      <td>0.0</td>\n",
       "      <td>1.0</td>\n",
       "      <td>1.0</td>\n",
       "      <td>1.0</td>\n",
       "      <td>0.0</td>\n",
       "    </tr>\n",
       "    <tr>\n",
       "      <th>mike0702</th>\n",
       "      <td>1.0</td>\n",
       "      <td>1.0</td>\n",
       "      <td>1.0</td>\n",
       "      <td>1.0</td>\n",
       "      <td>1.0</td>\n",
       "      <td>0.0</td>\n",
       "      <td>0.0</td>\n",
       "      <td>1.0</td>\n",
       "    </tr>\n",
       "    <tr>\n",
       "      <th>zephyros</th>\n",
       "      <td>0.0</td>\n",
       "      <td>1.0</td>\n",
       "      <td>0.0</td>\n",
       "      <td>1.0</td>\n",
       "      <td>0.0</td>\n",
       "      <td>0.0</td>\n",
       "      <td>1.0</td>\n",
       "      <td>1.0</td>\n",
       "    </tr>\n",
       "    <tr>\n",
       "      <th>dadvador</th>\n",
       "      <td>1.0</td>\n",
       "      <td>0.0</td>\n",
       "      <td>0.0</td>\n",
       "      <td>1.0</td>\n",
       "      <td>0.0</td>\n",
       "      <td>1.0</td>\n",
       "      <td>1.0</td>\n",
       "      <td>1.0</td>\n",
       "    </tr>\n",
       "  </tbody>\n",
       "</table>\n",
       "</div>"
      ]
     },
     "metadata": {},
     "output_type": "display_data",
     "jetTransient": {
      "display_id": null
     }
    }
   ],
   "execution_count": 44
  },
  {
   "metadata": {
    "ExecuteTime": {
     "end_time": "2025-09-18T17:07:17.934664Z",
     "start_time": "2025-09-18T17:07:17.929666Z"
    }
   },
   "cell_type": "code",
   "source": [
    "#print(df_jacc.loc['firechicken'])\n",
    "result = []\n",
    "for item in list(itertools.combinations(df_jacc.index, 2)):\n",
    "    a = df_jacc.loc[item[0]].values\n",
    "    b = df_jacc.loc[item[1]].values\n",
    "    intersection = np.sum(a * b)\n",
    "    union = np.sum(a + b > 0)\n",
    "    jacc_dist = 1- intersection/union\n",
    "    result.append({\"user1\":item[0], \"user2\":item[1], \"smilarity\":jacc_dist})\n",
    "df_result = pd.DataFrame(result)\n",
    "display(df_result)"
   ],
   "id": "7a36f1cd738beaea",
   "outputs": [
    {
     "data": {
      "text/plain": [
       "         user1     user2  smilarity\n",
       "0  firechicken  mike0702   0.500000\n",
       "1  firechicken  zephyros   0.750000\n",
       "2  firechicken  dadvador   0.625000\n",
       "3     mike0702  zephyros   0.571429\n",
       "4     mike0702  dadvador   0.625000\n",
       "5     zephyros  dadvador   0.500000"
      ],
      "text/html": [
       "<div>\n",
       "<style scoped>\n",
       "    .dataframe tbody tr th:only-of-type {\n",
       "        vertical-align: middle;\n",
       "    }\n",
       "\n",
       "    .dataframe tbody tr th {\n",
       "        vertical-align: top;\n",
       "    }\n",
       "\n",
       "    .dataframe thead th {\n",
       "        text-align: right;\n",
       "    }\n",
       "</style>\n",
       "<table border=\"1\" class=\"dataframe\">\n",
       "  <thead>\n",
       "    <tr style=\"text-align: right;\">\n",
       "      <th></th>\n",
       "      <th>user1</th>\n",
       "      <th>user2</th>\n",
       "      <th>smilarity</th>\n",
       "    </tr>\n",
       "  </thead>\n",
       "  <tbody>\n",
       "    <tr>\n",
       "      <th>0</th>\n",
       "      <td>firechicken</td>\n",
       "      <td>mike0702</td>\n",
       "      <td>0.500000</td>\n",
       "    </tr>\n",
       "    <tr>\n",
       "      <th>1</th>\n",
       "      <td>firechicken</td>\n",
       "      <td>zephyros</td>\n",
       "      <td>0.750000</td>\n",
       "    </tr>\n",
       "    <tr>\n",
       "      <th>2</th>\n",
       "      <td>firechicken</td>\n",
       "      <td>dadvador</td>\n",
       "      <td>0.625000</td>\n",
       "    </tr>\n",
       "    <tr>\n",
       "      <th>3</th>\n",
       "      <td>mike0702</td>\n",
       "      <td>zephyros</td>\n",
       "      <td>0.571429</td>\n",
       "    </tr>\n",
       "    <tr>\n",
       "      <th>4</th>\n",
       "      <td>mike0702</td>\n",
       "      <td>dadvador</td>\n",
       "      <td>0.625000</td>\n",
       "    </tr>\n",
       "    <tr>\n",
       "      <th>5</th>\n",
       "      <td>zephyros</td>\n",
       "      <td>dadvador</td>\n",
       "      <td>0.500000</td>\n",
       "    </tr>\n",
       "  </tbody>\n",
       "</table>\n",
       "</div>"
      ]
     },
     "metadata": {},
     "output_type": "display_data",
     "jetTransient": {
      "display_id": null
     }
    }
   ],
   "execution_count": 68
  },
  {
   "metadata": {},
   "cell_type": "code",
   "outputs": [],
   "execution_count": null,
   "source": [
    "\n",
    "row"
   ],
   "id": "831b7edb18f65316"
  }
 ],
 "metadata": {
  "kernelspec": {
   "display_name": "Python 3",
   "language": "python",
   "name": "python3"
  },
  "language_info": {
   "codemirror_mode": {
    "name": "ipython",
    "version": 2
   },
   "file_extension": ".py",
   "mimetype": "text/x-python",
   "name": "python",
   "nbconvert_exporter": "python",
   "pygments_lexer": "ipython2",
   "version": "2.7.6"
  }
 },
 "nbformat": 4,
 "nbformat_minor": 5
}
