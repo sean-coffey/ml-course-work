{
 "cells": [
  {
   "cell_type": "markdown",
   "metadata": {
    "deletable": false,
    "editable": false,
    "nbgrader": {
     "cell_type": "markdown",
     "checksum": "32e45eb6bcc8c7d1db2d846fc120d426",
     "grade": false,
     "grade_id": "cell-e212d9fd41f03b18",
     "locked": true,
     "schema_version": 3,
     "solution": false,
     "task": false
    }
   },
   "source": [
    "# Building Recommender Systems for Movie Rating Prediction\n",
    "\n",
    "In this assignment, we will build a recommender systems that predict movie ratings. [MovieLense](https://grouplens.org/datasets/movielens/) has currently 25 million user-movie ratings.  Since the entire data is too big, we use  a 1 million ratings subset [MovieLens 1M](https://www.kaggle.com/odedgolden/movielens-1m-dataset), and we reformatted the data to make it more convenient to use."
   ]
  },
  {
   "cell_type": "code",
   "metadata": {
    "deletable": false,
    "editable": false,
    "nbgrader": {
     "cell_type": "code",
     "checksum": "069f66d81507ea520c1fe5098352b437",
     "grade": false,
     "grade_id": "cell-ea989c7a4eb25b70",
     "locked": true,
     "schema_version": 3,
     "solution": false,
     "task": false
    },
    "ExecuteTime": {
     "end_time": "2025-09-21T08:14:56.935402Z",
     "start_time": "2025-09-21T08:14:55.693290Z"
    }
   },
   "source": [
    "from dataclasses import asdict\n",
    "\n",
    "import pandas as pd\n",
    "import matplotlib.pyplot as plt\n",
    "import numpy as np\n",
    "import time\n",
    "from sklearn.model_selection import train_test_split\n",
    "from scipy.sparse import coo_matrix, csr_matrix, diags\n",
    "from scipy.spatial.distance import jaccard, cosine, pdist, squareform\n",
    "from sklearn.metrics.pairwise import cosine_similarity\n",
    "from pytest import approx"
   ],
   "outputs": [],
   "execution_count": 1
  },
  {
   "cell_type": "code",
   "metadata": {
    "deletable": false,
    "editable": false,
    "nbgrader": {
     "cell_type": "code",
     "checksum": "cdeafa5886528c497f33ffde32d9b7bb",
     "grade": false,
     "grade_id": "cell-476e59a408937946",
     "locked": true,
     "schema_version": 3,
     "solution": false,
     "task": false
    },
    "ExecuteTime": {
     "end_time": "2025-09-21T08:14:57.029005Z",
     "start_time": "2025-09-21T08:14:56.939204Z"
    }
   },
   "source": [
    "MV_users = pd.read_csv('data/users_m3.csv')\n",
    "MV_movies = pd.read_csv('data/movies_m3.csv')\n",
    "train = pd.read_csv('data/train_m3.csv')\n",
    "test = pd.read_csv('data/test_m3.csv')"
   ],
   "outputs": [],
   "execution_count": 2
  },
  {
   "cell_type": "code",
   "metadata": {
    "deletable": false,
    "editable": false,
    "nbgrader": {
     "cell_type": "code",
     "checksum": "a0ddf339d993a9dfb1046fa9c762eb28",
     "grade": false,
     "grade_id": "cell-9dea5c452642998d",
     "locked": true,
     "schema_version": 3,
     "solution": false,
     "task": false
    },
    "ExecuteTime": {
     "end_time": "2025-09-21T08:14:57.034339Z",
     "start_time": "2025-09-21T08:14:57.032437Z"
    }
   },
   "source": [
    "from collections import namedtuple\n",
    "Data = namedtuple('Data', ['users','movies','train','test'])\n",
    "data = Data(MV_users, MV_movies, train, test)"
   ],
   "outputs": [],
   "execution_count": 3
  },
  {
   "cell_type": "markdown",
   "metadata": {
    "deletable": false,
    "editable": false,
    "nbgrader": {
     "cell_type": "markdown",
     "checksum": "58249f70f1dc6b13ee151e49b58c073b",
     "grade": false,
     "grade_id": "cell-ee6ea083a19e98e4",
     "locked": true,
     "schema_version": 3,
     "solution": false,
     "task": false
    }
   },
   "source": [
    "### Starter codes\n",
    "Now, we will be building a recommender system which has various techniques to predict ratings. \n",
    "The `class RecSys` has baseline prediction methods (such as predicting everything to 3 or to average rating of each user) and other utility functions. `class ContentBased` and `class Collaborative` inherit `class RecSys` and further add methods calculating item-item similarity matrix. You will be completing those functions using what we learned about content-based filtering and collaborative filtering.\n",
    "\n",
    "`RecSys`'s `rating_matrix` method converts the (user id, movie id, rating) triplet from the train data (train data's ratings are known) into a utility matrix for 6040 users and 3883 movies.    \n",
    "Here, we create the utility matrix as a dense matrix (numpy.array) format for convenience. But in a real world data where hundreds of millions of users and items may exist, we won't be able to create the utility matrix in a dense matrix format (For those who are curious why, try measuring the dense matrix self.Mr using .nbytes()). In that case, we may use sparse matrix operations as much as possible and distributed file systems and distributed computing will be needed. Fortunately, our data is small enough to fit in a laptop/pc memory. Also, we will use numpy and scipy.sparse, which allow significantly faster calculations than calculating on pandas.DataFrame object.    \n",
    "In the `rating_matrix` method, pay attention to the index mapping as user IDs and movie IDs are not the same as array index."
   ]
  },
  {
   "cell_type": "code",
   "metadata": {
    "deletable": false,
    "nbgrader": {
     "cell_type": "code",
     "checksum": "b203240e52b0e6e18286e3797922e639",
     "grade": false,
     "grade_id": "cell-f9c7ee3867550bb6",
     "locked": false,
     "schema_version": 3,
     "solution": true,
     "task": false
    },
    "ExecuteTime": {
     "end_time": "2025-09-21T08:14:57.084360Z",
     "start_time": "2025-09-21T08:14:57.037864Z"
    }
   },
   "source": [
    "class RecSys():\n",
    "    def __init__(self, data):\n",
    "        self.data = data\n",
    "        self.allusers = list(self.data.users['uID'])\n",
    "        self.allmovies = list(self.data.movies['mID'])\n",
    "        self.genres = list(self.data.movies.columns.drop(['mID', 'title', 'year']))\n",
    "        self.mid2idx = dict(zip(self.data.movies.mID, list(range(len(self.data.movies)))))\n",
    "        self.uid2idx = dict(zip(self.data.users.uID, list(range(len(self.data.users)))))\n",
    "        self.Mr = self.rating_matrix()\n",
    "        self.Mm = None\n",
    "        self.sim = np.zeros((len(self.allmovies), len(self.allmovies)))\n",
    "\n",
    "    def rating_matrix(self):\n",
    "        \"\"\"\n",
    "        Convert the rating matrix to numpy array of shape (#allusers,#allmovies)\n",
    "        \"\"\"\n",
    "        ind_movie = [self.mid2idx[x] for x in self.data.train.mID]\n",
    "        ind_user = [self.uid2idx[x] for x in self.data.train.uID]\n",
    "        rating_train = list(self.data.train.rating)\n",
    "\n",
    "        return np.array(coo_matrix((rating_train, (ind_user, ind_movie)),\n",
    "                                   shape=(len(self.allusers), len(self.allmovies))).toarray())\n",
    "\n",
    "    def predict_everything_to_3(self):\n",
    "        \"\"\"\n",
    "        Predict everything to 3 for the test data\n",
    "        \"\"\"\n",
    "        return np.ones(len(self.data.test)) * 3\n",
    "\n",
    "    def predict_to_user_average(self):\n",
    "        \"\"\"\n",
    "        Predict to average rating for the user.\n",
    "        Returns numpy array of shape (#users,)\n",
    "        \"\"\"\n",
    "        user_averages = np.zeros(len(self.data.users))\n",
    "        for i, uid in enumerate(self.data.users.uID):\n",
    "            user_ratings = self.Mr[self.uid2idx[uid], :]\n",
    "            num_rated = user_ratings.sum()\n",
    "            if num_rated > 0:\n",
    "                user_movieset = self.Mr[self.uid2idx[uid], :] > 0\n",
    "                user_averages[i] = user_ratings.sum() / user_movieset.sum()\n",
    "            else:\n",
    "                user_averages[i] = 3\n",
    "\n",
    "        # Now map test users to their averages\n",
    "        test_predictions = np.zeros(len(self.data.test))\n",
    "        for i, uid in enumerate(self.data.test.uID):\n",
    "            user_idx = self.uid2idx[uid]\n",
    "            test_predictions[i] = user_averages[user_idx]\n",
    "\n",
    "        return test_predictions\n",
    "\n",
    "    def predict_from_sim(self, uid, mid):\n",
    "        \"\"\"\n",
    "        Predict a user rating on a movie given userID and movieID\n",
    "        \"\"\"\n",
    "        user_idx = self.uid2idx[uid]\n",
    "        movie_idx = self.mid2idx[mid]\n",
    "        user_ratings = self.Mr[user_idx]\n",
    "        movie_sim = self.sim[movie_idx]\n",
    "\n",
    "        user_average = 3\n",
    "\n",
    "        unweighted_ratings = user_ratings @ movie_sim\n",
    "        rated_movies = user_ratings > 0\n",
    "        weighting = np.dot(movie_sim, rated_movies)\n",
    "        if weighting == 0:\n",
    "            num_rated = user_ratings.sum()\n",
    "            if num_rated > 0:\n",
    "                user_movieset = user_ratings > 0\n",
    "                user_average = num_rated / user_movieset.sum()\n",
    "\n",
    "            user_pred = user_average\n",
    "        else:\n",
    "            user_pred = unweighted_ratings / weighting\n",
    "\n",
    "        return user_pred\n",
    "\n",
    "    def predict(self):\n",
    "        \"\"\"\n",
    "        Predict ratings in the test data. Returns predicted rating in a numpy array of size (# of rows in testdata,)\n",
    "        \"\"\"\n",
    "        predicted_ratings = np.zeros(len(self.data.test))\n",
    "        for i in range(len(self.data.test)):\n",
    "            uid = self.data.test.uID[i]\n",
    "            mid = self.data.test.mID[i]\n",
    "            predicted_ratings[i] = self.predict_from_sim(uid, mid)\n",
    "        return predicted_ratings\n",
    "\n",
    "    def rmse(self, yp):\n",
    "        yp[np.isnan(yp)] = 3  #In case there is nan values in prediction, it will impute to 3.\n",
    "        yt = np.array(self.data.test.rating)\n",
    "        return np.sqrt(((yt - yp) ** 2).mean())\n",
    "\n",
    "\n",
    "class ContentBased(RecSys):\n",
    "    def __init__(self, data):\n",
    "        super().__init__(data)\n",
    "        self.data = data\n",
    "        self.Mm = self.calc_movie_feature_matrix()\n",
    "\n",
    "    def calc_movie_feature_matrix(self):\n",
    "        \"\"\"\n",
    "        Create movie feature matrix in a numpy array of shape (#allmovies, #genres) \n",
    "        \"\"\"\n",
    "        # your code here\n",
    "\n",
    "        return np.asarray(self.data.movies[self.data.movies.columns[3:]])\n",
    "\n",
    "    def calc_item_item_similarity(self):\n",
    "        #Create item-item similarity using Jaccard similarity\n",
    "\n",
    "        # Method 1: Using dense matrix\n",
    "        start = time.perf_counter_ns()\n",
    "        jaccard_dist = pdist(self.Mm, metric='jaccard')\n",
    "        dense_sim = 1 - squareform(jaccard_dist)\n",
    "        end = time.perf_counter_ns()\n",
    "        print(f\"Method 1 with dense matrix took {(end - start)/1000000:,.0f} milli seconds\")\n",
    "\n",
    "        # Method 2: Sparse implementation\n",
    "        start = time.perf_counter_ns()\n",
    "        # Convert to sparse\n",
    "        Mm_sparse = csr_matrix(self.Mm, dtype=np.float32)\n",
    "        # Calculate intersection matrix\n",
    "        intersection = Mm_sparse @ Mm_sparse.T\n",
    "        # Get movie sizes (number of genres)\n",
    "        movie_sizes = np.array(Mm_sparse.sum(axis=1)).flatten()\n",
    "        # Broadcast to create union matrix\n",
    "        union = movie_sizes[:, None] + movie_sizes[None, :] - intersection.toarray()\n",
    "        # Avoid division by zero\n",
    "        union = np.maximum(union, 1)\n",
    "        # Calculate Jaccard similarity\n",
    "        sparse_sim = intersection.toarray() / union\n",
    "        # Ensure diagonal is 1\n",
    "        np.fill_diagonal(sparse_sim, 1.0)\n",
    "        end = time.perf_counter_ns()\n",
    "        print(f\"Method 2 with sparse matrix took {(end - start)/1000000:,.0f} milli seconds\")\n",
    "\n",
    "        # Verification: Check if both methods produce identical results\n",
    "        if np.allclose(dense_sim, sparse_sim, rtol=1e-7, atol=1e-7):\n",
    "            print(\"✓ Dense and sparse methods produce the same result with rtol=1e-7 and atol=1e-7!\")\n",
    "        else:\n",
    "            print(\"✗ Warning: Dense and sparse methods produce different results!\")\n",
    "            print(f\"Max difference: {np.max(np.abs(dense_sim - sparse_sim))}\")\n",
    "            print(f\"Mean difference: {np.mean(np.abs(dense_sim - sparse_sim))}\")\n",
    "\n",
    "        # Use the sparse result (more efficient)\n",
    "        self.sim = sparse_sim\n",
    "\n",
    "\n",
    "class Collaborative(RecSys):\n",
    "    def __init__(self, data):\n",
    "        super().__init__(data)\n",
    "\n",
    "    def calc_item_item_similarity(self, simfunction, *X):\n",
    "        \"\"\"\n",
    "        Create item-item similarity using similarity function.\n",
    "        X is an optional transformed matrix of Mr\n",
    "        \"\"\"\n",
    "        # General function that calculates item-item similarity based on the sim function and data inputed\n",
    "        if len(X) == 0:\n",
    "            self.sim = simfunction()\n",
    "        else:\n",
    "            self.sim = simfunction(X[0])  # *X passes in a tuple format of (X,), to X[0] will be the actual transformed matrix\n",
    "\n",
    "    def cossim(self):\n",
    "        \"\"\"\n",
    "        Calculates item-item similarity for all pairs of items using cosine similarity (values from 0 to 1) on utility matrix\n",
    "        Returns a cosine similarity matrix of size (#all movies, #all movies)\n",
    "        \"\"\"\n",
    "        # Return a sim matrix by calculating item-item similarity for all pairs of items using Jaccard similarity\n",
    "        # Cosine Similarity: C(A, B) = (A.B) / (||A||.||B||)\n",
    "\n",
    "        #####\n",
    "        # Method 1 - using dense matrix (including centering and normalisation)\n",
    "        start_time = time.perf_counter()\n",
    "        Xd = self.Mr.copy().astype(np.float64)     #(users, movies)\n",
    "        # calculate user averages\n",
    "        user_means = np.zeros(Xd.shape[0])\n",
    "        for i in range(Xd.shape[0]):\n",
    "            rated_movies = Xd[i,:] > 0\n",
    "            if rated_movies.sum() > 0:\n",
    "                user_means[i] = Xd[i,rated_movies].mean()\n",
    "            else:\n",
    "                user_means[i] = 3.0\n",
    "        # replace 0s with user averages\n",
    "        for i in range(Xd.shape[0]):\n",
    "            zero_mask = Xd[i,:] == 0\n",
    "            Xd[i,zero_mask] = user_means[i]\n",
    "        # Centre the data\n",
    "        Xd = Xd - user_means[:,np.newaxis]  # converts user means to column vector of shape (users, 1) before centering\n",
    "        # Transpose to get movies as rows and users as columns\n",
    "        Xd = Xd.T     #(movies, users)\n",
    "        # Normalise the data\n",
    "        norms = np.linalg.norm(Xd, axis=1, keepdims=True)\n",
    "        norms = np.maximum(norms, 1e-10)  # Avoid divide by zero\n",
    "        Xd_norm = Xd / norms\n",
    "        # Calc simularity matrix\n",
    "        sim_dense = Xd_norm @ Xd_norm.T     #Cosine similarity = (A.B) / (||A||.||B||)\n",
    "        # Rescale to be 0~1\n",
    "        sim_dense = (sim_dense + 1) / 2\n",
    "        # Handle NaNs and ensure diagonal is 1\n",
    "        sim_dense = np.nan_to_num(sim_dense, nan=0.5)\n",
    "        np.fill_diagonal(sim_dense, 1.0)\n",
    "        dense_time = time.perf_counter() - start_time\n",
    "        print(f\"Dense matrix method took {dense_time:.4f} seconds\")\n",
    "\n",
    "        ###\n",
    "        # Method 2 - using sparse matrix (including centering and normalisation)\n",
    "        ### I tried with a sparse matrix implementation but it was slower than the dense matrix implementation\n",
    "        ## As this is very new to me and I didn't fully understand the implementation, decided to delete it.\n",
    "        ## As a reference, see the next cell in the notebook. Note: this function is not my original work, I made heavy use of AI here.\n",
    "\n",
    "        return sim_dense\n",
    "\n",
    "\n",
    "    def jacsim(self, Xr):\n",
    "        \"\"\"\n",
    "        Calculates item-item similarity for all pairs of items using jaccard similarity (values from 0 to 1)\n",
    "        Xr is the transformed rating matrix. Shape: (users, movies)\n",
    "        \"\"\"\n",
    "        n = Xr.shape[1]  # Number of movies\n",
    "        maxr = int(Xr.max())  # Maximum rating value\n",
    "\n",
    "        if maxr > 1: # Multi-category case\n",
    "            intersection = np.zeros((n, n)).astype(int)\n",
    "            union = np.zeros((n, n)).astype(int)\n",
    "\n",
    "            for i in range(1, maxr + 1): # intersections and unions for each rating level\n",
    "                rating_level = (Xr == i).astype(int)\n",
    "                csr = csr_matrix(rating_level)\n",
    "                # Intersection for this rating level\n",
    "                level_intersection = np.array(csr.T.dot(csr).toarray()).astype(int)\n",
    "                intersection += level_intersection\n",
    "                # Union for this rating level (users who gave rating i to either movie)\n",
    "                rowsum = rating_level.sum(axis=0)  # Movies with rating i\n",
    "                level_union = rowsum[:, None] + rowsum[None, :] - level_intersection\n",
    "                union += level_union\n",
    "\n",
    "        else: # Binary case\n",
    "            csr0 = csr_matrix((Xr > 0).astype(int))\n",
    "            intersection = np.array(csr0.T.dot(csr0).toarray()).astype(int)\n",
    "            A = (Xr > 0).astype(bool)\n",
    "            rowsum = A.sum(axis=0)\n",
    "            union = rowsum[:, None] + rowsum[None, :] - intersection\n",
    "\n",
    "        # Calculate Jaccard similarity\n",
    "        union = np.maximum(union, 1)\n",
    "        similarity = intersection.astype(float) / union.astype(float)\n",
    "\n",
    "        # Boundary checks\n",
    "        similarity = np.nan_to_num(similarity, nan=0.0, posinf=0.0, neginf=0.0)\n",
    "        np.fill_diagonal(similarity, 1.0)\n",
    "\n",
    "        return similarity\n"
   ],
   "outputs": [],
   "execution_count": 4
  },
  {
   "cell_type": "markdown",
   "metadata": {
    "deletable": false,
    "editable": false,
    "nbgrader": {
     "cell_type": "markdown",
     "checksum": "7da30c84f0fadd1ae2193af99888f526",
     "grade": false,
     "grade_id": "cell-5efe89bc06f7e6c5",
     "locked": true,
     "schema_version": 3,
     "solution": false,
     "task": false
    }
   },
   "source": [
    "# Q1. Baseline models [15 pts]\n",
    "\n",
    "### 1a. Complete the function `predict_everything_to_3` in the class `RecSys`  [5 pts]"
   ]
  },
  {
   "cell_type": "code",
   "metadata": {
    "deletable": false,
    "editable": false,
    "nbgrader": {
     "cell_type": "code",
     "checksum": "bdd5d6c687c352a1ea45cfed3c7380eb",
     "grade": false,
     "grade_id": "cell-749c77774f53cfe1",
     "locked": true,
     "schema_version": 3,
     "solution": false,
     "task": false
    },
    "ExecuteTime": {
     "end_time": "2025-09-21T08:14:57.093813Z",
     "start_time": "2025-09-21T08:14:57.089848Z"
    }
   },
   "source": [
    "# Creating Sample test data\n",
    "np.random.seed(42)\n",
    "sample_train = train[:30000]\n",
    "sample_test = test[:30000]\n",
    "\n",
    "sample_MV_users = MV_users[(MV_users.uID.isin(sample_train.uID)) | (MV_users.uID.isin(sample_test.uID))]\n",
    "sample_MV_movies = MV_movies[(MV_movies.mID.isin(sample_train.mID)) | (MV_movies.mID.isin(sample_test.mID))]\n",
    "\n",
    "sample_data = Data(sample_MV_users, sample_MV_movies, sample_train, sample_test)"
   ],
   "outputs": [],
   "execution_count": 5
  },
  {
   "metadata": {
    "deletable": false,
    "editable": false,
    "nbgrader": {
     "cell_type": "code",
     "checksum": "6a92dff8931c33032133faadb8a1b370",
     "grade": true,
     "grade_id": "cell-75645797e3541a77",
     "locked": true,
     "points": 1,
     "schema_version": 3,
     "solution": false,
     "task": false
    },
    "ExecuteTime": {
     "end_time": "2025-09-21T08:14:57.142617Z",
     "start_time": "2025-09-21T08:14:57.104325Z"
    }
   },
   "cell_type": "code",
   "source": [
    "# Sample tests predict_everything_to_3 in class RecSys\n",
    "\n",
    "sample_rs = RecSys(sample_data)\n",
    "sample_yp = sample_rs.predict_everything_to_3()\n",
    "print(sample_rs.rmse(sample_yp))\n",
    "assert sample_rs.rmse(sample_yp)==approx(1.2642784503423288, abs=1e-3), \"Did you predict everything to 3 for the test data?\""
   ],
   "outputs": [
    {
     "name": "stdout",
     "output_type": "stream",
     "text": [
      "1.2642784503423288\n"
     ]
    }
   ],
   "execution_count": 6
  },
  {
   "cell_type": "code",
   "metadata": {
    "deletable": false,
    "editable": false,
    "nbgrader": {
     "cell_type": "code",
     "checksum": "15f5468947b1c6e116c2fa0fd70f70c8",
     "grade": true,
     "grade_id": "cell-52f19a05e8a8b1a3",
     "locked": true,
     "points": 5,
     "schema_version": 3,
     "solution": false,
     "task": false
    },
    "ExecuteTime": {
     "end_time": "2025-09-21T08:14:57.408662Z",
     "start_time": "2025-09-21T08:14:57.159951Z"
    }
   },
   "source": [
    "# Hidden tests predict_everything_to_3 in class RecSys\n",
    "rs = RecSys(data)\n",
    "yp = rs.predict_everything_to_3()\n",
    "print(rs.rmse(yp))"
   ],
   "outputs": [
    {
     "name": "stdout",
     "output_type": "stream",
     "text": [
      "1.2585510334053043\n"
     ]
    }
   ],
   "execution_count": 7
  },
  {
   "metadata": {
    "ExecuteTime": {
     "end_time": "2025-09-21T08:14:57.418960Z",
     "start_time": "2025-09-21T08:14:57.415993Z"
    }
   },
   "cell_type": "code",
   "source": [
    "# build dictionary for comparison of RMSE values of all approaches\n",
    "dict_compare = {}\n",
    "\n",
    "rmse_val_sample = sample_rs.rmse(sample_yp)\n",
    "rmse_val_data = rs.rmse(yp)\n",
    "dict_compare['Baseline 3'] = {'sample rmse':rmse_val_sample, 'data rmse':rmse_val_data}\n",
    "print(dict_compare)"
   ],
   "outputs": [
    {
     "name": "stdout",
     "output_type": "stream",
     "text": [
      "{'Baseline 3': {'sample rmse': np.float64(1.2642784503423288), 'data rmse': np.float64(1.2585510334053043)}}\n"
     ]
    }
   ],
   "execution_count": 8
  },
  {
   "cell_type": "markdown",
   "metadata": {
    "deletable": false,
    "editable": false,
    "nbgrader": {
     "cell_type": "markdown",
     "checksum": "38a23786301e38ef9c85f0c3620a0a9b",
     "grade": false,
     "grade_id": "cell-e32e46bf9f33dbb3",
     "locked": true,
     "schema_version": 3,
     "solution": false,
     "task": false
    }
   },
   "source": [
    "### 1b. Complete the function predict_to_user_average in the class RecSys [10 pts]\n",
    "Hint: Include rated items only when averaging"
   ]
  },
  {
   "cell_type": "code",
   "metadata": {
    "deletable": false,
    "editable": false,
    "nbgrader": {
     "cell_type": "code",
     "checksum": "7939100c207d632a6588064be95e86d1",
     "grade": true,
     "grade_id": "cell-5f918ef5c3068eb7",
     "locked": true,
     "points": 1,
     "schema_version": 3,
     "solution": false,
     "task": false
    },
    "ExecuteTime": {
     "end_time": "2025-09-21T08:14:57.487234Z",
     "start_time": "2025-09-21T08:14:57.452112Z"
    }
   },
   "source": [
    "# Sample tests predict_to_user_average in the class RecSys\n",
    "sample_yp = sample_rs.predict_to_user_average()\n",
    "print(sample_rs.rmse(sample_yp))\n",
    "assert sample_rs.rmse(sample_yp)==approx(1.1429596846619763, abs=1e-3), \"Check predict_to_user_average in the RecSys class. Did you predict to average rating for the user?\""
   ],
   "outputs": [
    {
     "name": "stdout",
     "output_type": "stream",
     "text": [
      "1.1429596846619763\n"
     ]
    }
   ],
   "execution_count": 9
  },
  {
   "cell_type": "code",
   "metadata": {
    "deletable": false,
    "editable": false,
    "nbgrader": {
     "cell_type": "code",
     "checksum": "870acf1d0ebd4b98fe4d170503948eb7",
     "grade": true,
     "grade_id": "cell-dbe3ae17d138f001",
     "locked": true,
     "points": 10,
     "schema_version": 3,
     "solution": false,
     "task": false
    },
    "ExecuteTime": {
     "end_time": "2025-09-21T08:14:57.583055Z",
     "start_time": "2025-09-21T08:14:57.504489Z"
    }
   },
   "source": [
    "# Hidden tests predict_to_user_average in the class RecSys\n",
    "yp = rs.predict_to_user_average()\n",
    "print(rs.rmse(yp))"
   ],
   "outputs": [
    {
     "name": "stdout",
     "output_type": "stream",
     "text": [
      "1.0352910334228647\n"
     ]
    }
   ],
   "execution_count": 10
  },
  {
   "metadata": {
    "ExecuteTime": {
     "end_time": "2025-09-21T08:14:57.590496Z",
     "start_time": "2025-09-21T08:14:57.587894Z"
    }
   },
   "cell_type": "code",
   "source": [
    "rmse_val_sample = sample_rs.rmse(sample_yp)\n",
    "rmse_val_data = rs.rmse(yp)\n",
    "dict_compare['Baseline User Average'] = {'sample rmse':rmse_val_sample, 'data rmse':rmse_val_data}"
   ],
   "outputs": [],
   "execution_count": 11
  },
  {
   "cell_type": "markdown",
   "metadata": {
    "deletable": false,
    "editable": false,
    "nbgrader": {
     "cell_type": "markdown",
     "checksum": "531bc11d4bb9ad16238bb3c6436cf1de",
     "grade": false,
     "grade_id": "cell-2e517f5f3bb7bc8e",
     "locked": true,
     "schema_version": 3,
     "solution": false,
     "task": false
    }
   },
   "source": [
    "# Q2. Content-Based model [25 pts]\n",
    "\n",
    "### 2a. Complete the function calc_movie_feature_matrix in the class ContentBased [5 pts]"
   ]
  },
  {
   "cell_type": "code",
   "metadata": {
    "deletable": false,
    "editable": false,
    "nbgrader": {
     "cell_type": "code",
     "checksum": "9f4e132a376edada87d141fbcbabcdf9",
     "grade": false,
     "grade_id": "cell-0fd9bcbcf2e542fd",
     "locked": true,
     "schema_version": 3,
     "solution": false,
     "task": false
    },
    "ExecuteTime": {
     "end_time": "2025-09-21T08:14:57.857197Z",
     "start_time": "2025-09-21T08:14:57.606051Z"
    }
   },
   "source": "cb = ContentBased(data)",
   "outputs": [],
   "execution_count": 12
  },
  {
   "cell_type": "code",
   "metadata": {
    "deletable": false,
    "editable": false,
    "nbgrader": {
     "cell_type": "code",
     "checksum": "16dc8acd6f1516386ebd64246d791bcc",
     "grade": true,
     "grade_id": "cell-232d6022e1da2f62",
     "locked": true,
     "points": 5,
     "schema_version": 3,
     "solution": false,
     "task": false
    },
    "ExecuteTime": {
     "end_time": "2025-09-21T08:14:57.862387Z",
     "start_time": "2025-09-21T08:14:57.860649Z"
    }
   },
   "source": [
    "# tests calc_movie_feature_matrix in the class ContentBased \n",
    "assert(cb.Mm.shape==(3883, 18))"
   ],
   "outputs": [],
   "execution_count": 13
  },
  {
   "cell_type": "markdown",
   "metadata": {
    "deletable": false,
    "editable": false,
    "nbgrader": {
     "cell_type": "markdown",
     "checksum": "e149458337a6465af9cdafbef0cb872d",
     "grade": false,
     "grade_id": "cell-a959245b68dc1033",
     "locked": true,
     "schema_version": 3,
     "solution": false,
     "task": false
    }
   },
   "source": [
    "### 2b. Complete the function calc_item_item_similarity in the class ContentBased [10 pts]\n",
    "This function updates `self.sim` and does not return a value.    \n",
    "Some factors to think about:     \n",
    "1. The movie feature matrix has binary elements. Which similarity metric should be used?\n",
    "2. What is the computation complexity (time complexity) on similarity calcuation?      \n",
    "Hint: You may use functions in the `scipy.spatial.distance` module on the dense matrix, but it is quite slow (think about the time complexity). If you want to speed up, you may try using functions in the `scipy.sparse` module."
   ]
  },
  {
   "cell_type": "code",
   "metadata": {
    "ExecuteTime": {
     "end_time": "2025-09-21T08:14:58.170948Z",
     "start_time": "2025-09-21T08:14:57.866822Z"
    }
   },
   "source": [
    "cb.calc_item_item_similarity()"
   ],
   "outputs": [
    {
     "name": "stdout",
     "output_type": "stream",
     "text": [
      "Method 1 with dense matrix took 187 milli seconds\n",
      "Method 2 with sparse matrix took 50 milli seconds\n",
      "✓ Dense and sparse methods produce the same result with rtol=1e-7 and atol=1e-7!\n"
     ]
    }
   ],
   "execution_count": 14
  },
  {
   "cell_type": "code",
   "metadata": {
    "deletable": false,
    "editable": false,
    "nbgrader": {
     "cell_type": "code",
     "checksum": "7bfb32e08a1d2ecab886c4926f35af4b",
     "grade": true,
     "grade_id": "cell-b88ed74a662c75ac",
     "locked": true,
     "points": 1,
     "schema_version": 3,
     "solution": false,
     "task": false
    },
    "ExecuteTime": {
     "end_time": "2025-09-21T08:14:58.389332Z",
     "start_time": "2025-09-21T08:14:58.182887Z"
    }
   },
   "source": [
    "# Sample tests calc_item_item_similarity in ContentBased class \n",
    "\n",
    "sample_cb = ContentBased(sample_data)\n",
    "sample_cb.calc_item_item_similarity() \n",
    "\n",
    "# print(np.trace(sample_cb.sim))\n",
    "# print(sample_cb.sim[10:13,10:13])\n",
    "assert(sample_cb.sim.sum() > 0), \"Check calc_item_item_similarity.\"\n",
    "assert(np.trace(sample_cb.sim) == 3152), \"Check calc_item_item_similarity. What do you think np.trace(cb.sim) should be?\"\n",
    "\n",
    "\n",
    "ans = np.array([[1, 0.25, 0.],[0.25, 1, 0.],[0., 0., 1]])\n",
    "for pred, true in zip(sample_cb.sim[10:13, 10:13], ans):\n",
    "    assert approx(pred, 0.01) == true, \"Check calc_item_item_similarity. Look at cb.sim\""
   ],
   "outputs": [
    {
     "name": "stdout",
     "output_type": "stream",
     "text": [
      "Method 1 with dense matrix took 110 milli seconds\n",
      "Method 2 with sparse matrix took 30 milli seconds\n",
      "✓ Dense and sparse methods produce the same result with rtol=1e-7 and atol=1e-7!\n"
     ]
    }
   ],
   "execution_count": 15
  },
  {
   "cell_type": "code",
   "metadata": {
    "deletable": false,
    "editable": false,
    "nbgrader": {
     "cell_type": "code",
     "checksum": "86d346bdb7d00d615f915bc87c7c0e8b",
     "grade": true,
     "grade_id": "cell-b1260c5ba472d43b",
     "locked": true,
     "points": 2,
     "schema_version": 3,
     "solution": false,
     "task": false
    },
    "ExecuteTime": {
     "end_time": "2025-09-21T08:14:58.396141Z",
     "start_time": "2025-09-21T08:14:58.394695Z"
    }
   },
   "source": "# tests calc_item_item_similarity in ContentBased class",
   "outputs": [],
   "execution_count": 16
  },
  {
   "cell_type": "code",
   "metadata": {
    "deletable": false,
    "editable": false,
    "nbgrader": {
     "cell_type": "code",
     "checksum": "7b236c6f66a5cd271b27120fadb39cfa",
     "grade": true,
     "grade_id": "cell-4a8dc462fa8d33f0",
     "locked": true,
     "points": 3,
     "schema_version": 3,
     "solution": false,
     "task": false
    },
    "ExecuteTime": {
     "end_time": "2025-09-21T08:14:58.416323Z",
     "start_time": "2025-09-21T08:14:58.414800Z"
    }
   },
   "source": "# additional tests for calc_item_item_similarity in ContentBased class",
   "outputs": [],
   "execution_count": 17
  },
  {
   "cell_type": "code",
   "metadata": {
    "deletable": false,
    "editable": false,
    "nbgrader": {
     "cell_type": "code",
     "checksum": "cffd601726e01f148136dccbd545d8fc",
     "grade": true,
     "grade_id": "cell-3b1eb8e79527f012",
     "locked": true,
     "points": 1,
     "schema_version": 3,
     "solution": false,
     "task": false
    },
    "ExecuteTime": {
     "end_time": "2025-09-21T08:14:58.422959Z",
     "start_time": "2025-09-21T08:14:58.421390Z"
    }
   },
   "source": [
    "# additional tests for calc_item_item_similarity in ContentBased class"
   ],
   "outputs": [],
   "execution_count": 18
  },
  {
   "cell_type": "code",
   "metadata": {
    "deletable": false,
    "editable": false,
    "nbgrader": {
     "cell_type": "code",
     "checksum": "475617bb2e9c2f8ef44e29fd789e3bed",
     "grade": true,
     "grade_id": "cell-64689afe942eba5a",
     "locked": true,
     "points": 1,
     "schema_version": 3,
     "solution": false,
     "task": false
    },
    "ExecuteTime": {
     "end_time": "2025-09-21T08:14:58.438861Z",
     "start_time": "2025-09-21T08:14:58.437382Z"
    }
   },
   "source": [
    "# additional tests for calc_item_item_similarity in ContentBased class"
   ],
   "outputs": [],
   "execution_count": 19
  },
  {
   "cell_type": "code",
   "metadata": {
    "deletable": false,
    "editable": false,
    "nbgrader": {
     "cell_type": "code",
     "checksum": "d36bff79d05688a58351743d920c579e",
     "grade": true,
     "grade_id": "cell-a7be29cab0d2e38a",
     "locked": true,
     "points": 3,
     "schema_version": 3,
     "solution": false,
     "task": false
    },
    "ExecuteTime": {
     "end_time": "2025-09-21T08:14:58.454372Z",
     "start_time": "2025-09-21T08:14:58.452597Z"
    }
   },
   "source": [
    "# additional tests for calc_item_item_similarity in ContentBased class"
   ],
   "outputs": [],
   "execution_count": 20
  },
  {
   "cell_type": "markdown",
   "metadata": {
    "deletable": false,
    "editable": false,
    "nbgrader": {
     "cell_type": "markdown",
     "checksum": "6e97e513ad0659d93e513354f7d6a1bd",
     "grade": false,
     "grade_id": "cell-eec0c5d6e29e72f5",
     "locked": true,
     "schema_version": 3,
     "solution": false,
     "task": false
    }
   },
   "source": [
    "### 2c. Complete the function predict_from_sim in the class RecSys [5 pts]"
   ]
  },
  {
   "cell_type": "code",
   "metadata": {
    "deletable": false,
    "editable": false,
    "nbgrader": {
     "cell_type": "code",
     "checksum": "2c791b828031bb24a9c0df5af8102a25",
     "grade": true,
     "grade_id": "cell-2d79f53ecabb1abf",
     "locked": true,
     "points": 1,
     "schema_version": 3,
     "solution": false,
     "task": false
    },
    "ExecuteTime": {
     "end_time": "2025-09-21T08:14:58.459359Z",
     "start_time": "2025-09-21T08:14:58.457273Z"
    }
   },
   "source": [
    "# for a, b in zip(sample_MV_users.uID, sample_MV_movies.mID):\n",
    "#     print(a, b, sample_cb.predict_from_sim(a,b))\n",
    "\n",
    "# Sample tests for predict_from_sim in RecSys class \n",
    "assert(sample_cb.predict_from_sim(245,276)==approx(2.5128205128205128,abs=1e-2)), \"Check predict_from_sim. Look at how you predicted a user rating on a movie given UserID and movieID.\"\n",
    "assert(sample_cb.predict_from_sim(2026,2436)==approx(2.785714285714286,abs=1e-2)), \"Check predict_from_sim. Look at how you predicted a user rating on a movie given UserID and movieID.\""
   ],
   "outputs": [],
   "execution_count": 21
  },
  {
   "cell_type": "code",
   "metadata": {
    "deletable": false,
    "editable": false,
    "nbgrader": {
     "cell_type": "code",
     "checksum": "55a16fffbf7cbf657fc0133973bddc59",
     "grade": true,
     "grade_id": "cell-a83193bd93c45044",
     "locked": true,
     "points": 5,
     "schema_version": 3,
     "solution": false,
     "task": false
    },
    "ExecuteTime": {
     "end_time": "2025-09-21T08:14:58.463451Z",
     "start_time": "2025-09-21T08:14:58.462022Z"
    }
   },
   "source": "# tests for predict_from_sim in RecSys class",
   "outputs": [],
   "execution_count": 22
  },
  {
   "cell_type": "markdown",
   "metadata": {
    "deletable": false,
    "editable": false,
    "nbgrader": {
     "cell_type": "markdown",
     "checksum": "1dfb42c210f38f2b616193822663af52",
     "grade": false,
     "grade_id": "cell-4dbdef2549c27d3b",
     "locked": true,
     "schema_version": 3,
     "solution": false,
     "task": false
    }
   },
   "source": [
    "### 2d. Complete the function predict in the class RecSys [5 pts]\n",
    "After completing the predict method in the RecSys class, run the cell below to calculate rating prediction and RMSE. How much does the performance increase compared to the baseline results from above?"
   ]
  },
  {
   "cell_type": "code",
   "metadata": {
    "deletable": false,
    "editable": false,
    "nbgrader": {
     "cell_type": "code",
     "checksum": "e8c34be7bd867ea3521024fb6ab4a03c",
     "grade": true,
     "grade_id": "cell-7d6e299ec837ac9e",
     "locked": true,
     "points": 1,
     "schema_version": 3,
     "solution": false,
     "task": false
    },
    "ExecuteTime": {
     "end_time": "2025-09-21T08:14:59.137136Z",
     "start_time": "2025-09-21T08:14:58.470430Z"
    }
   },
   "source": [
    "# Sample tests method predict in the RecSys class \n",
    "\n",
    "sample_yp = sample_cb.predict()\n",
    "sample_rmse = sample_cb.rmse(sample_yp)\n",
    "print(sample_rmse)\n",
    "\n",
    "assert(sample_rmse==approx(1.1962537249116723, abs=1e-2)), \"Check method predict in the RecSys class.\""
   ],
   "outputs": [
    {
     "name": "stdout",
     "output_type": "stream",
     "text": [
      "1.1966092788717029\n"
     ]
    }
   ],
   "execution_count": 23
  },
  {
   "cell_type": "code",
   "metadata": {
    "deletable": false,
    "editable": false,
    "nbgrader": {
     "cell_type": "code",
     "checksum": "00c2f93e788dd22360e67f5ef88521a7",
     "grade": false,
     "grade_id": "cell-3232e0e311e56e19",
     "locked": true,
     "schema_version": 3,
     "solution": false,
     "task": false
    },
    "ExecuteTime": {
     "end_time": "2025-09-21T08:15:05.275322Z",
     "start_time": "2025-09-21T08:14:59.141485Z"
    }
   },
   "source": [
    "# Hidden tests method predict in the RecSys class \n",
    "\n",
    "yp = cb.predict()\n",
    "rmse = cb.rmse(yp)\n",
    "print(rmse)"
   ],
   "outputs": [
    {
     "name": "stdout",
     "output_type": "stream",
     "text": [
      "1.0125028201623478\n"
     ]
    }
   ],
   "execution_count": 24
  },
  {
   "metadata": {
    "ExecuteTime": {
     "end_time": "2025-09-21T08:15:05.345812Z",
     "start_time": "2025-09-21T08:15:05.342607Z"
    }
   },
   "cell_type": "code",
   "source": [
    "rmse_val_sample = sample_rs.rmse(sample_yp)\n",
    "rmse_val_data = rs.rmse(yp)\n",
    "dict_compare['Content Based Item-Item'] = {'sample rmse':rmse_val_sample, 'data rmse':rmse_val_data}"
   ],
   "outputs": [],
   "execution_count": 25
  },
  {
   "cell_type": "code",
   "metadata": {
    "deletable": false,
    "editable": false,
    "nbgrader": {
     "cell_type": "code",
     "checksum": "fec9587776c5364a637967f5ec7067cf",
     "grade": true,
     "grade_id": "cell-a8a3fa60da47abcf",
     "locked": true,
     "points": 5,
     "schema_version": 3,
     "solution": false,
     "task": false
    },
    "ExecuteTime": {
     "end_time": "2025-09-21T08:15:05.355963Z",
     "start_time": "2025-09-21T08:15:05.354496Z"
    }
   },
   "source": "# tests method predict in the RecSys class",
   "outputs": [],
   "execution_count": 26
  },
  {
   "cell_type": "markdown",
   "metadata": {
    "deletable": false,
    "editable": false,
    "nbgrader": {
     "cell_type": "markdown",
     "checksum": "44f2a6ef3ef78c7ffa924dd74e309beb",
     "grade": false,
     "grade_id": "cell-563e07a0cadec0db",
     "locked": true,
     "schema_version": 3,
     "solution": false,
     "task": false
    }
   },
   "source": [
    "# Q3. Collaborative Filtering\n",
    "\n",
    "### 3a. Complete the function cossim in the class Collaborative [10 pts]\n",
    "**To Do:**    \n",
    "1.Impute the unrated entries in self.Mr to the user's average rating then subtract by the user mean, call this matrix X.   \n",
    "2.Calculate cosine similarity for all item-item pairs. Don't forget to rescale the cosine similarity to be 0~1.    \n",
    "You might encounter divide by zero warning (numpy will fill nan value for that entry). In that case, you can fill those with appropriate values.    \n",
    "\n",
    "Hint: Let's say a movie item has not been rated by anyone. When you calculate similarity of this vector to anoter, you will get $\\vec{0}$=[0,0,0,....,0]. When you normalize this vector, you'll get divide by zero warning and it will make nan value in self.sim matrix. Theoretically what should the similarity value for $\\vec{x}_i \\cdot \\vec{x}_i$ when $\\vec{x}_i = \\vec{0}$? What about $\\vec{x}_i \\cdot \\vec{x}_j$ when $\\vec{x}_i = \\vec{0}$ and $\\vec{x}_j$ is an any vector?     \n",
    "\n",
    "Hint: You may use `scipy.spatial.distance.cosine`, but it will be slow because its cosine function does vector-vector operation whereas you can implement matrix-matrix operation using numpy to calculate all cosines all at once (it can be 100 times faster than vector-vector operation in our data). Also pay attention to the definition. The scipy.spatial.distance provides distance, not similarity. \n",
    "\n",
    "3. Run the below cell that calculate yp and RMSE."
   ]
  },
  {
   "cell_type": "code",
   "metadata": {
    "deletable": false,
    "editable": false,
    "nbgrader": {
     "cell_type": "code",
     "checksum": "4b6366ed3397587780416b7fa65f1456",
     "grade": true,
     "grade_id": "cell-054a0416525e124f",
     "locked": true,
     "points": 1,
     "schema_version": 3,
     "solution": false,
     "task": false
    },
    "ExecuteTime": {
     "end_time": "2025-09-21T08:15:06.197480Z",
     "start_time": "2025-09-21T08:15:05.365023Z"
    }
   },
   "source": [
    "# Sample tests cossim method in the Collaborative class\n",
    "\n",
    "sample_cf = Collaborative(sample_data)\n",
    "sample_cf.calc_item_item_similarity(sample_cf.cossim)\n",
    "sample_yp = sample_cf.predict()\n",
    "sample_rmse = sample_cf.rmse(sample_yp)\n",
    "\n",
    "assert(np.trace(sample_cf.sim)==3152), \"Check cossim method in the Collaborative class. What should np.trace(cf.sim) equal?\"\n",
    "assert(sample_rmse==approx(1.1429596846619763, abs=5e-3)), \"Check cossim method in the Collaborative class. rmse result is not as expected.\"\n",
    "assert(sample_cf.sim[0,:3]==approx([1., 0.5, 0.5],abs=1e-2)), \"Check cossim method in the Collaborative class. cf.sim isn't giving the expected results.\""
   ],
   "outputs": [
    {
     "name": "stdout",
     "output_type": "stream",
     "text": [
      "Dense matrix method took 0.3585 seconds\n"
     ]
    }
   ],
   "execution_count": 27
  },
  {
   "cell_type": "code",
   "metadata": {
    "deletable": false,
    "editable": false,
    "nbgrader": {
     "cell_type": "code",
     "checksum": "5eb656568ac143aa7e40c212d53eb020",
     "grade": false,
     "grade_id": "cell-49a2c83fd032cee6",
     "locked": true,
     "schema_version": 3,
     "solution": false,
     "task": false
    },
    "ExecuteTime": {
     "end_time": "2025-09-21T08:15:11.530957Z",
     "start_time": "2025-09-21T08:15:06.225516Z"
    }
   },
   "source": [
    "# Hidden tests cossim method in the Collaborative class\n",
    "\n",
    "cf = Collaborative(data)\n",
    "cf.calc_item_item_similarity(cf.cossim)\n",
    "yp = cf.predict()\n",
    "rmse = cf.rmse(yp)\n",
    "print(rmse)"
   ],
   "outputs": [
    {
     "name": "stdout",
     "output_type": "stream",
     "text": [
      "Dense matrix method took 0.5234 seconds\n",
      "1.0263081874204125\n"
     ]
    }
   ],
   "execution_count": 28
  },
  {
   "metadata": {
    "ExecuteTime": {
     "end_time": "2025-09-21T08:15:11.560648Z",
     "start_time": "2025-09-21T08:15:11.557690Z"
    }
   },
   "cell_type": "code",
   "source": [
    "rmse_val_sample = sample_rs.rmse(sample_yp)\n",
    "rmse_val_data = rs.rmse(yp)\n",
    "dict_compare['Collaborative Cosine Similarity'] = {'sample rmse':rmse_val_sample, 'data rmse':rmse_val_data}"
   ],
   "outputs": [],
   "execution_count": 29
  },
  {
   "cell_type": "code",
   "metadata": {
    "deletable": false,
    "editable": false,
    "nbgrader": {
     "cell_type": "code",
     "checksum": "31b5a8be7a888dea0fba0148175c7622",
     "grade": true,
     "grade_id": "cell-126fb0d12b2c66e7",
     "locked": true,
     "points": 1,
     "schema_version": 3,
     "solution": false,
     "task": false
    },
    "ExecuteTime": {
     "end_time": "2025-09-21T08:15:11.572310Z",
     "start_time": "2025-09-21T08:15:11.570621Z"
    }
   },
   "source": "# tests cossim method in the Collaborative class",
   "outputs": [],
   "execution_count": 30
  },
  {
   "cell_type": "code",
   "metadata": {
    "deletable": false,
    "editable": false,
    "nbgrader": {
     "cell_type": "code",
     "checksum": "800ff371c38a877b0285b0f45cc18f1a",
     "grade": true,
     "grade_id": "cell-9e6bc1c31e566d76",
     "locked": true,
     "points": 2,
     "schema_version": 3,
     "solution": false,
     "task": false
    },
    "ExecuteTime": {
     "end_time": "2025-09-21T08:15:11.583496Z",
     "start_time": "2025-09-21T08:15:11.581952Z"
    }
   },
   "source": [
    "# additional tests for cossim method in the Collaborative class"
   ],
   "outputs": [],
   "execution_count": 31
  },
  {
   "cell_type": "code",
   "metadata": {
    "deletable": false,
    "editable": false,
    "nbgrader": {
     "cell_type": "code",
     "checksum": "d85d53d1945355c60edbd3eb99a2223a",
     "grade": true,
     "grade_id": "cell-7b9c0acd25eaadda",
     "locked": true,
     "points": 1,
     "schema_version": 3,
     "solution": false,
     "task": false
    },
    "ExecuteTime": {
     "end_time": "2025-09-21T08:15:11.592683Z",
     "start_time": "2025-09-21T08:15:11.591325Z"
    }
   },
   "source": [
    "# additional tests for cossim method in the Collaborative class"
   ],
   "outputs": [],
   "execution_count": 32
  },
  {
   "cell_type": "code",
   "metadata": {
    "deletable": false,
    "editable": false,
    "nbgrader": {
     "cell_type": "code",
     "checksum": "a7bd4b4a85ca2d4efa551f602bde298f",
     "grade": true,
     "grade_id": "cell-369189aa9a403a0f",
     "locked": true,
     "points": 2,
     "schema_version": 3,
     "solution": false,
     "task": false
    },
    "ExecuteTime": {
     "end_time": "2025-09-21T08:15:11.602532Z",
     "start_time": "2025-09-21T08:15:11.601050Z"
    }
   },
   "source": [
    "# additional tests for cossim method in the Collaborative class"
   ],
   "outputs": [],
   "execution_count": 33
  },
  {
   "cell_type": "code",
   "metadata": {
    "deletable": false,
    "editable": false,
    "nbgrader": {
     "cell_type": "code",
     "checksum": "b337a1c35dade446f7572c74d2a14fe6",
     "grade": true,
     "grade_id": "cell-bfde47a18fccd03d",
     "locked": true,
     "points": 2,
     "schema_version": 3,
     "solution": false,
     "task": false
    },
    "ExecuteTime": {
     "end_time": "2025-09-21T08:15:11.611863Z",
     "start_time": "2025-09-21T08:15:11.610111Z"
    }
   },
   "source": [
    "# additional tests for cossim method in the Collaborative class"
   ],
   "outputs": [],
   "execution_count": 34
  },
  {
   "cell_type": "code",
   "metadata": {
    "deletable": false,
    "editable": false,
    "nbgrader": {
     "cell_type": "code",
     "checksum": "3ff727b57a52eb37221feb12d09e0f7a",
     "grade": true,
     "grade_id": "cell-cb7766e929ce12ef",
     "locked": true,
     "points": 2,
     "schema_version": 3,
     "solution": false,
     "task": false
    },
    "ExecuteTime": {
     "end_time": "2025-09-21T08:15:11.621211Z",
     "start_time": "2025-09-21T08:15:11.619503Z"
    }
   },
   "source": [
    "# additional tests for cossim method in the Collaborative class"
   ],
   "outputs": [],
   "execution_count": 35
  },
  {
   "cell_type": "markdown",
   "metadata": {
    "deletable": false,
    "editable": false,
    "nbgrader": {
     "cell_type": "markdown",
     "checksum": "15dbe8e3743dd847b4292cc46184e163",
     "grade": false,
     "grade_id": "cell-6dd829484cdb0a9f",
     "locked": true,
     "schema_version": 3,
     "solution": false,
     "task": false
    }
   },
   "source": [
    "### 3b. Complete the function jacsim in the class Collaborative [15 pts]\n",
    "**3b [15 pts] = 3b-i) [5 pts]+3b-ii) [5 pts]+ 3b-iii) [5 pts]**\n",
    "\n",
    "Function `jacsim` calculates jaccard similarity between items using collaborative filtering method. When we have a rating matrix `self.Mr`, the entries of Mr matrix are 0 to 5 (0: unrated, 1-5: rating). We are interested to see which threshold method works better when we use jaccard dimilarity in the collaborative filtering.    \n",
    "We may treat any rating 3 or above to be 1 and the negatively rated (below 3) and no-rating as 0. Or, we may treat movies with any ratings to be 1 and ones that has no rating as 0. In this question, we will complete a function jacsim that takes a transformed rating matrix X and calculate and returns a jaccard similarity matrix.     \n",
    "Let's consider these input cases for the utility matrix $M_r$ with ratings 1-5 and 0s for no-rating.    \n",
    "1. $M_r \\geq 3$ \n",
    "2. $M_r \\geq 0$ \n",
    "3. $M_r$, no transform.\n",
    "\n",
    "Things to think about: \n",
    "- The cases 1 and 2 are straightforward to calculate Jaccard, but what does Jaccard mean for multicategory data?\n",
    "- Time complexity: The matrix $M_r$ is much bigger than the item feature matrix $M_m$, therefore it will take very long time if we calculate on dense matrix.     \n",
    "Hint: Use sparse matrix.\n",
    "- Which method will give the best performance?"
   ]
  },
  {
   "cell_type": "markdown",
   "metadata": {
    "deletable": false,
    "editable": false,
    "nbgrader": {
     "cell_type": "markdown",
     "checksum": "4e73ce8798c3e0387a575fb5b47b628c",
     "grade": false,
     "grade_id": "cell-3cc4678686ede231",
     "locked": true,
     "schema_version": 3,
     "solution": false,
     "task": false
    }
   },
   "source": [
    "### 3b-i)  When $M_r\\geq3$ [5 pts]\n",
    "After you've implemented the jacsim function, run the code below. If implemented correctly, you'll have RMSE below 0.99."
   ]
  },
  {
   "cell_type": "code",
   "metadata": {
    "deletable": false,
    "editable": false,
    "nbgrader": {
     "cell_type": "code",
     "checksum": "d80694c2f4ea5b45f954a89f29d4e9a1",
     "grade": false,
     "grade_id": "cell-e0d9354a7b488cca",
     "locked": true,
     "schema_version": 3,
     "solution": false,
     "task": false
    },
    "ExecuteTime": {
     "end_time": "2025-09-21T08:15:24.589030Z",
     "start_time": "2025-09-21T08:15:11.630643Z"
    }
   },
   "source": [
    "cf = Collaborative(data)\n",
    "Xr = cf.Mr>=3\n",
    "t0=time.perf_counter()\n",
    "cf.calc_item_item_similarity(cf.jacsim,Xr)\n",
    "t1=time.perf_counter()\n",
    "time_sim = t1-t0\n",
    "print('similarity calculation time',time_sim)\n",
    "yp = cf.predict()\n",
    "rmse = cf.rmse(yp)\n",
    "print(rmse)\n",
    "assert(rmse<0.99)"
   ],
   "outputs": [
    {
     "name": "stdout",
     "output_type": "stream",
     "text": [
      "similarity calculation time 0.6451340829953551\n",
      "0.9819500134453443\n"
     ]
    }
   ],
   "execution_count": 36
  },
  {
   "metadata": {
    "ExecuteTime": {
     "end_time": "2025-09-21T08:15:24.619962Z",
     "start_time": "2025-09-21T08:15:24.617565Z"
    }
   },
   "cell_type": "code",
   "source": [
    "rmse_val_sample = None\n",
    "rmse_val_data = rs.rmse(yp)\n",
    "dict_compare['Jacsim - Rating > 3'] = {'sample rmse':rmse_val_sample, 'data rmse':rmse_val_data}"
   ],
   "outputs": [],
   "execution_count": 37
  },
  {
   "cell_type": "code",
   "metadata": {
    "deletable": false,
    "editable": false,
    "nbgrader": {
     "cell_type": "code",
     "checksum": "71319b1d93a7f9232023bf05ea90202e",
     "grade": true,
     "grade_id": "cell-a80d917298a5c254",
     "locked": true,
     "points": 2,
     "schema_version": 3,
     "solution": false,
     "task": false
    },
    "ExecuteTime": {
     "end_time": "2025-09-21T08:15:24.632343Z",
     "start_time": "2025-09-21T08:15:24.630902Z"
    }
   },
   "source": [
    "# tests RMSE for jacsim implementation"
   ],
   "outputs": [],
   "execution_count": 38
  },
  {
   "cell_type": "code",
   "metadata": {
    "deletable": false,
    "editable": false,
    "nbgrader": {
     "cell_type": "code",
     "checksum": "4997d897c391218cac8f5c3aaf2bcc07",
     "grade": true,
     "grade_id": "cell-fdebe2b922817f71",
     "locked": true,
     "points": 1,
     "schema_version": 3,
     "solution": false,
     "task": false
    },
    "ExecuteTime": {
     "end_time": "2025-09-21T08:15:24.641653Z",
     "start_time": "2025-09-21T08:15:24.639974Z"
    }
   },
   "source": [
    "# additional tests for RMSE for jacsim implementation"
   ],
   "outputs": [],
   "execution_count": 39
  },
  {
   "cell_type": "code",
   "metadata": {
    "deletable": false,
    "editable": false,
    "nbgrader": {
     "cell_type": "code",
     "checksum": "3f81809af169f5c527bca4a1738f646f",
     "grade": true,
     "grade_id": "cell-ba2fba2da48d3160",
     "locked": true,
     "points": 1,
     "schema_version": 3,
     "solution": false,
     "task": false
    },
    "ExecuteTime": {
     "end_time": "2025-09-21T08:15:24.651455Z",
     "start_time": "2025-09-21T08:15:24.649580Z"
    }
   },
   "source": [
    "# additional tests for jacsim implementation"
   ],
   "outputs": [],
   "execution_count": 40
  },
  {
   "cell_type": "code",
   "metadata": {
    "deletable": false,
    "editable": false,
    "nbgrader": {
     "cell_type": "code",
     "checksum": "49c97e825ef7bd0b32ab4ad5bc378458",
     "grade": true,
     "grade_id": "cell-f7e1c6f239e3155f",
     "locked": true,
     "points": 1,
     "schema_version": 3,
     "solution": false,
     "task": false
    },
    "ExecuteTime": {
     "end_time": "2025-09-21T08:15:24.660764Z",
     "start_time": "2025-09-21T08:15:24.659100Z"
    }
   },
   "source": [
    "# additional tests for jacsim implementation"
   ],
   "outputs": [],
   "execution_count": 41
  },
  {
   "cell_type": "markdown",
   "metadata": {
    "deletable": false,
    "editable": false,
    "nbgrader": {
     "cell_type": "markdown",
     "checksum": "d7d6ac2ac83c2e4a79834f05debd3de5",
     "grade": false,
     "grade_id": "cell-0f2cf5a834bcb81f",
     "locked": true,
     "schema_version": 3,
     "solution": false,
     "task": false
    }
   },
   "source": [
    "### 3b-ii)  When $M_r\\geq1$ [5 pts]\n",
    "After you've implemented the jacsim function, run the code below. If implemented correctly, you'll have RMSE below 1.0."
   ]
  },
  {
   "cell_type": "code",
   "metadata": {
    "deletable": false,
    "editable": false,
    "nbgrader": {
     "cell_type": "code",
     "checksum": "2bf9d8963779b9a06356ce350d21d918",
     "grade": false,
     "grade_id": "cell-4477a51f4899a012",
     "locked": true,
     "schema_version": 3,
     "solution": false,
     "task": false
    },
    "ExecuteTime": {
     "end_time": "2025-09-21T08:15:37.754014Z",
     "start_time": "2025-09-21T08:15:24.668027Z"
    }
   },
   "source": [
    "cf = Collaborative(data)\n",
    "Xr = cf.Mr>=1\n",
    "t0=time.perf_counter()\n",
    "cf.calc_item_item_similarity(cf.jacsim,Xr)\n",
    "t1=time.perf_counter()\n",
    "time_sim = t1-t0\n",
    "print('similarity calculation time',time_sim)\n",
    "yp = cf.predict()\n",
    "rmse = cf.rmse(yp)\n",
    "print(rmse)\n",
    "assert(rmse<1.0)"
   ],
   "outputs": [
    {
     "name": "stdout",
     "output_type": "stream",
     "text": [
      "similarity calculation time 0.7642687910120003\n",
      "0.9913535741888877\n"
     ]
    }
   ],
   "execution_count": 42
  },
  {
   "metadata": {
    "ExecuteTime": {
     "end_time": "2025-09-21T08:15:37.785948Z",
     "start_time": "2025-09-21T08:15:37.783167Z"
    }
   },
   "cell_type": "code",
   "source": [
    "rmse_val_sample = None\n",
    "rmse_val_data = rs.rmse(yp)\n",
    "dict_compare['Jacsim - Rating > 1'] = {'sample rmse':rmse_val_sample, 'data rmse':rmse_val_data}"
   ],
   "outputs": [],
   "execution_count": 43
  },
  {
   "cell_type": "code",
   "metadata": {
    "deletable": false,
    "editable": false,
    "nbgrader": {
     "cell_type": "code",
     "checksum": "56d514e593a1e32c7b57a3d18da9495f",
     "grade": true,
     "grade_id": "cell-6103dd685a33c891",
     "locked": true,
     "points": 2,
     "schema_version": 3,
     "solution": false,
     "task": false
    },
    "ExecuteTime": {
     "end_time": "2025-09-21T08:15:37.795942Z",
     "start_time": "2025-09-21T08:15:37.794334Z"
    }
   },
   "source": "# tests RMSE for jacsim implementation",
   "outputs": [],
   "execution_count": 44
  },
  {
   "cell_type": "code",
   "metadata": {
    "deletable": false,
    "editable": false,
    "nbgrader": {
     "cell_type": "code",
     "checksum": "d6d254c087d53c6f60890bae47c586d8",
     "grade": true,
     "grade_id": "cell-905be3dcffdd989b",
     "locked": true,
     "points": 1,
     "schema_version": 3,
     "solution": false,
     "task": false
    },
    "ExecuteTime": {
     "end_time": "2025-09-21T08:15:37.806142Z",
     "start_time": "2025-09-21T08:15:37.804337Z"
    }
   },
   "source": [
    "# tests RMSE for jacsim implementation"
   ],
   "outputs": [],
   "execution_count": 45
  },
  {
   "cell_type": "code",
   "metadata": {
    "deletable": false,
    "editable": false,
    "nbgrader": {
     "cell_type": "code",
     "checksum": "f9f6e370bf396f1ba575f3fdc485aedb",
     "grade": true,
     "grade_id": "cell-53a7044088d56bae",
     "locked": true,
     "points": 1,
     "schema_version": 3,
     "solution": false,
     "task": false
    },
    "ExecuteTime": {
     "end_time": "2025-09-21T08:15:37.815316Z",
     "start_time": "2025-09-21T08:15:37.813631Z"
    }
   },
   "source": [
    "# tests jacsim implementation"
   ],
   "outputs": [],
   "execution_count": 46
  },
  {
   "cell_type": "code",
   "metadata": {
    "deletable": false,
    "editable": false,
    "nbgrader": {
     "cell_type": "code",
     "checksum": "21d48bfa341828a102aba1dd7124a762",
     "grade": true,
     "grade_id": "cell-113417d673195815",
     "locked": true,
     "points": 1,
     "schema_version": 3,
     "solution": false,
     "task": false
    },
    "ExecuteTime": {
     "end_time": "2025-09-21T08:15:37.826818Z",
     "start_time": "2025-09-21T08:15:37.825100Z"
    }
   },
   "source": [
    "# tests performance of jacsim implementation"
   ],
   "outputs": [],
   "execution_count": 47
  },
  {
   "cell_type": "markdown",
   "metadata": {
    "deletable": false,
    "editable": false,
    "nbgrader": {
     "cell_type": "markdown",
     "checksum": "140c251a8429e18078d9837647376db1",
     "grade": false,
     "grade_id": "cell-e75eac7e52ab8be3",
     "locked": true,
     "schema_version": 3,
     "solution": false,
     "task": false
    }
   },
   "source": [
    "### 3b-iii)  When $M_r$; no transform [5 pts]\n",
    "After you've implemented the jacsim function, run the code below. If implemented correctly, you'll have RMSE below 0.96"
   ]
  },
  {
   "cell_type": "code",
   "metadata": {
    "deletable": false,
    "editable": false,
    "nbgrader": {
     "cell_type": "code",
     "checksum": "724694f71418cc260320e7a8ab1326f9",
     "grade": false,
     "grade_id": "cell-4089ff635a4df681",
     "locked": true,
     "schema_version": 3,
     "solution": false,
     "task": false
    },
    "ExecuteTime": {
     "end_time": "2025-09-21T08:15:44.494989Z",
     "start_time": "2025-09-21T08:15:37.834568Z"
    }
   },
   "source": [
    "cf = Collaborative(data)\n",
    "Xr = cf.Mr.astype(int)\n",
    "t0=time.perf_counter()\n",
    "cf.calc_item_item_similarity(cf.jacsim,Xr)\n",
    "t1=time.perf_counter()\n",
    "time_sim = t1-t0\n",
    "print('similarity calculation time',time_sim)\n",
    "yp = cf.predict()\n",
    "rmse = cf.rmse(yp)\n",
    "print(rmse)\n",
    "assert(rmse<0.96)"
   ],
   "outputs": [
    {
     "name": "stdout",
     "output_type": "stream",
     "text": [
      "similarity calculation time 1.9543431669590063\n",
      "0.9516555951928918\n"
     ]
    }
   ],
   "execution_count": 48
  },
  {
   "metadata": {
    "ExecuteTime": {
     "end_time": "2025-09-21T08:15:44.527012Z",
     "start_time": "2025-09-21T08:15:44.524548Z"
    }
   },
   "cell_type": "code",
   "source": [
    "rmse_val_sample = None\n",
    "rmse_val_data = rs.rmse(yp)\n",
    "dict_compare['Jacsim - Multiclass'] = {'sample rmse':rmse_val_sample, 'data rmse':rmse_val_data}"
   ],
   "outputs": [],
   "execution_count": 49
  },
  {
   "cell_type": "code",
   "metadata": {
    "deletable": false,
    "editable": false,
    "nbgrader": {
     "cell_type": "code",
     "checksum": "decd4b7938aa6ca5248052b9de6d5ba9",
     "grade": true,
     "grade_id": "cell-576df690bad55235",
     "locked": true,
     "points": 2,
     "schema_version": 3,
     "solution": false,
     "task": false
    },
    "ExecuteTime": {
     "end_time": "2025-09-21T08:15:44.533175Z",
     "start_time": "2025-09-21T08:15:44.531761Z"
    }
   },
   "source": [
    "# tests jacsim implementation RMSE"
   ],
   "outputs": [],
   "execution_count": 50
  },
  {
   "cell_type": "code",
   "metadata": {
    "deletable": false,
    "editable": false,
    "nbgrader": {
     "cell_type": "code",
     "checksum": "ab5eff4a5d76bd09aa79f9d3cacb640a",
     "grade": true,
     "grade_id": "cell-270a003313f847ff",
     "locked": true,
     "points": 1,
     "schema_version": 3,
     "solution": false,
     "task": false
    },
    "ExecuteTime": {
     "end_time": "2025-09-21T08:15:44.544636Z",
     "start_time": "2025-09-21T08:15:44.542886Z"
    }
   },
   "source": [
    "# tests jacsim implementation RMSE"
   ],
   "outputs": [],
   "execution_count": 51
  },
  {
   "cell_type": "code",
   "metadata": {
    "deletable": false,
    "editable": false,
    "nbgrader": {
     "cell_type": "code",
     "checksum": "909dc277376a171f715521bde6ee0300",
     "grade": true,
     "grade_id": "cell-a5efeaa7f4bf26a9",
     "locked": true,
     "points": 1,
     "schema_version": 3,
     "solution": false,
     "task": false
    },
    "ExecuteTime": {
     "end_time": "2025-09-21T08:15:44.554764Z",
     "start_time": "2025-09-21T08:15:44.553049Z"
    }
   },
   "source": [
    "# tests jacsim implementation"
   ],
   "outputs": [],
   "execution_count": 52
  },
  {
   "cell_type": "code",
   "metadata": {
    "deletable": false,
    "editable": false,
    "nbgrader": {
     "cell_type": "code",
     "checksum": "dababdf06535f7785735f1a51c358118",
     "grade": true,
     "grade_id": "cell-15304b41c7ed15d3",
     "locked": true,
     "points": 1,
     "schema_version": 3,
     "solution": false,
     "task": false
    },
    "ExecuteTime": {
     "end_time": "2025-09-21T08:15:44.564829Z",
     "start_time": "2025-09-21T08:15:44.563127Z"
    }
   },
   "source": [
    "# tests jacsim implementation performance"
   ],
   "outputs": [],
   "execution_count": 53
  },
  {
   "cell_type": "markdown",
   "metadata": {
    "deletable": false,
    "editable": false,
    "nbgrader": {
     "cell_type": "markdown",
     "checksum": "1fefd36b83885e756dd5056f3e3fdf52",
     "grade": false,
     "grade_id": "cell-f384dc5e284c5165",
     "locked": true,
     "schema_version": 3,
     "solution": false,
     "task": false
    }
   },
   "source": [
    "### 3.C Discussion [Peer Review]\n",
    "Answer the questions below in this week's Peer Review assignment. <br>\n",
    "1. Summarize the methods and performances: Below is a template/example.\n",
    "\n",
    "|Method|RMSE|\n",
    "|:----|:--------:|\n",
    "|Baseline, $Y_p$=3| |\n",
    "|Baseline, $Y_p=\\mu_u$| |\n",
    "|Content based, item-item| |\n",
    "|Collaborative, cosine| |\n",
    "|Collaborative, jaccard, $M_r\\geq 3$|  |\n",
    "|Collaborative, jaccard, $M_r\\geq 1$|  |\n",
    "|Collaborative, jaccard, $M_r$|  |\n",
    "\n",
    "2. Discuss which method(s) work better than others and why."
   ]
  },
  {
   "cell_type": "code",
   "metadata": {
    "ExecuteTime": {
     "end_time": "2025-09-21T08:15:44.581705Z",
     "start_time": "2025-09-21T08:15:44.575419Z"
    }
   },
   "source": [
    "df_compare = pd.DataFrame(dict_compare).T.reset_index()\n",
    "df_compare.columns.name = None  # Remove the column name 'index'\n",
    "df_compare = df_compare.rename(columns={'index': 'Method'})\n",
    "display(df_compare)"
   ],
   "outputs": [
    {
     "data": {
      "text/plain": [
       "                            Method  sample rmse  data rmse\n",
       "0                       Baseline 3     1.264278   1.258551\n",
       "1            Baseline User Average     1.142960   1.035291\n",
       "2          Content Based Item-Item     1.196609   1.012503\n",
       "3  Collaborative Cosine Similarity     1.142693   1.026308\n",
       "4              Jacsim - Rating > 3          NaN   0.981950\n",
       "5              Jacsim - Rating > 1          NaN   0.991354\n",
       "6              Jacsim - Multiclass          NaN   0.951656"
      ],
      "text/html": [
       "<div>\n",
       "<style scoped>\n",
       "    .dataframe tbody tr th:only-of-type {\n",
       "        vertical-align: middle;\n",
       "    }\n",
       "\n",
       "    .dataframe tbody tr th {\n",
       "        vertical-align: top;\n",
       "    }\n",
       "\n",
       "    .dataframe thead th {\n",
       "        text-align: right;\n",
       "    }\n",
       "</style>\n",
       "<table border=\"1\" class=\"dataframe\">\n",
       "  <thead>\n",
       "    <tr style=\"text-align: right;\">\n",
       "      <th></th>\n",
       "      <th>Method</th>\n",
       "      <th>sample rmse</th>\n",
       "      <th>data rmse</th>\n",
       "    </tr>\n",
       "  </thead>\n",
       "  <tbody>\n",
       "    <tr>\n",
       "      <th>0</th>\n",
       "      <td>Baseline 3</td>\n",
       "      <td>1.264278</td>\n",
       "      <td>1.258551</td>\n",
       "    </tr>\n",
       "    <tr>\n",
       "      <th>1</th>\n",
       "      <td>Baseline User Average</td>\n",
       "      <td>1.142960</td>\n",
       "      <td>1.035291</td>\n",
       "    </tr>\n",
       "    <tr>\n",
       "      <th>2</th>\n",
       "      <td>Content Based Item-Item</td>\n",
       "      <td>1.196609</td>\n",
       "      <td>1.012503</td>\n",
       "    </tr>\n",
       "    <tr>\n",
       "      <th>3</th>\n",
       "      <td>Collaborative Cosine Similarity</td>\n",
       "      <td>1.142693</td>\n",
       "      <td>1.026308</td>\n",
       "    </tr>\n",
       "    <tr>\n",
       "      <th>4</th>\n",
       "      <td>Jacsim - Rating &gt; 3</td>\n",
       "      <td>NaN</td>\n",
       "      <td>0.981950</td>\n",
       "    </tr>\n",
       "    <tr>\n",
       "      <th>5</th>\n",
       "      <td>Jacsim - Rating &gt; 1</td>\n",
       "      <td>NaN</td>\n",
       "      <td>0.991354</td>\n",
       "    </tr>\n",
       "    <tr>\n",
       "      <th>6</th>\n",
       "      <td>Jacsim - Multiclass</td>\n",
       "      <td>NaN</td>\n",
       "      <td>0.951656</td>\n",
       "    </tr>\n",
       "  </tbody>\n",
       "</table>\n",
       "</div>"
      ]
     },
     "metadata": {},
     "output_type": "display_data",
     "jetTransient": {
      "display_id": null
     }
    }
   ],
   "execution_count": 54
  },
  {
   "metadata": {},
   "cell_type": "markdown",
   "source": [
    "## Appendix\n",
    "\n",
    "Contents\n",
    "- RMSE in a recommender context - AI generated explanation\n",
    "- AI generated ultra-sparse implemention of cossim (didn't fully understad it, so didn't use it)\n",
    "- Old versions of jacsim function for reference only."
   ]
  },
  {
   "metadata": {},
   "cell_type": "markdown",
   "source": [
    "\n",
    "\n",
    "## What is RMSE?\n",
    "\n",
    "**RMSE (Root Mean Squared Error)** is a metric that measures how well your recommender system predicts movie ratings compared to the actual ratings users gave.\n",
    "\n",
    "Looking at your code:\n",
    "\n",
    "```python\n",
    "def rmse(self, yp):\n",
    "    yp[np.isnan(yp)] = 3  # In case there is nan values in prediction, it will impute to 3.\n",
    "    yt = np.array(self.data.test.rating)  # Actual ratings from test data\n",
    "    return np.sqrt(((yt - yp) ** 2).mean())  # RMSE calculation\n",
    "```\n",
    "\n",
    "\n",
    "## Breaking Down the Formula:\n",
    "\n",
    "1. **`yt - yp`**: Difference between actual ratings and predicted ratings (prediction errors)\n",
    "2. **`(yt - yp) ** 2`**: Square each error (makes all errors positive and penalizes large errors more)\n",
    "3. **`((yt - yp) ** 2).mean()`**: Mean of all squared errors (MSE - Mean Squared Error)\n",
    "4. **`np.sqrt(...)`**: Take square root to get back to original rating scale (RMSE)\n",
    "\n",
    "## What RMSE Means in Practice:\n",
    "\n",
    "- **Scale**: RMSE is in the same units as your ratings (1-5 stars)\n",
    "- **Lower = Better**: Smaller RMSE means better predictions\n",
    "- **Interpretation**: RMSE ≈ 1.0 means your predictions are typically off by about 1 star\n",
    "\n",
    "## Example:\n",
    "\n",
    "```python\n",
    "# Actual ratings from test data\n",
    "actual_ratings = [4, 3, 5, 2, 1]\n",
    "\n",
    "# Your model's predictions\n",
    "predicted_ratings = [3.8, 3.2, 4.5, 2.3, 1.5]\n",
    "\n",
    "# Errors for each prediction\n",
    "errors = [4-3.8, 3-3.2, 5-4.5, 2-2.3, 1-1.5]\n",
    "#      = [0.2, -0.2, 0.5, -0.3, -0.5]\n",
    "\n",
    "# Squared errors\n",
    "squared_errors = [0.04, 0.04, 0.25, 0.09, 0.25]\n",
    "\n",
    "# Mean squared error\n",
    "mse = (0.04 + 0.04 + 0.25 + 0.09 + 0.25) / 5 = 0.134\n",
    "\n",
    "# RMSE\n",
    "rmse = sqrt(0.134) ≈ 0.366\n",
    "```\n",
    "\n",
    "\n",
    "This means your predictions are typically off by about 0.37 stars.\n",
    "\n",
    "## In Your Recommender System Context:\n",
    "\n",
    "- **RMSE ≈ 0.5**: Excellent predictions (half-star accuracy)\n",
    "- **RMSE ≈ 1.0**: Good predictions (one-star accuracy)\n",
    "- **RMSE ≈ 1.5**: Moderate predictions\n",
    "- **RMSE ≈ 2.0+**: Poor predictions\n",
    "\n",
    "## Why RMSE is Used:\n",
    "\n",
    "1. **Interpretable**: Easy to understand in rating scale terms\n",
    "2. **Penalizes large errors**: Squaring makes big mistakes much worse than small ones\n",
    "3. **Standard metric**: Commonly used for comparing recommendation algorithms\n",
    "4. **Smooth**: Differentiable for optimization algorithms\n",
    "\n",
    "## Your Baseline Results Context:\n",
    "\n",
    "When you run:\n",
    "```python\n",
    "rs = RecSys(data)\n",
    "yp = rs.predict_everything_to_3()\n",
    "print(rs.rmse(yp))  # Shows ~1.26\n",
    "```\n",
    "\n",
    "\n",
    "This tells you that predicting everything as 3 stars gives you an RMSE of about 1.26, meaning you're typically off by 1.26 stars. Any sophisticated algorithm should beat this baseline!\n",
    "\n",
    "The goal of your content-based and collaborative filtering methods is to achieve a much lower RMSE by making smarter, personalized predictions."
   ]
  },
  {
   "metadata": {
    "ExecuteTime": {
     "end_time": "2025-09-21T08:15:44.592913Z",
     "start_time": "2025-09-21T08:15:44.588992Z"
    }
   },
   "cell_type": "code",
   "source": [
    "def cossim_ultra_sparse(self):\n",
    "    \"\"\"\n",
    "    Ultra-optimized sparse cosine similarity implementation\n",
    "    \"\"\"\n",
    "    from scipy.sparse import diags\n",
    "\n",
    "    # Convert to sparse and work entirely in sparse domain\n",
    "    Xs = csr_matrix(self.Mr.astype(np.float64))  # (users, movies)\n",
    "\n",
    "    # Calculate user means efficiently\n",
    "    user_sums = np.array(Xs.sum(axis=1)).flatten()\n",
    "    user_counts = np.array((Xs > 0).sum(axis=1)).flatten()\n",
    "    user_means = np.divide(user_sums, user_counts,\n",
    "                          out=np.full_like(user_sums, 3.0),\n",
    "                          where=user_counts!=0)\n",
    "\n",
    "    # Create mean-filled matrix more efficiently\n",
    "    # This is still the challenging part with pure sparse operations\n",
    "    X_dense = Xs.toarray()  # Convert to dense for centering\n",
    "\n",
    "    # Fill zeros with user means\n",
    "    for i in range(X_dense.shape[0]):\n",
    "        zero_mask = X_dense[i, :] == 0\n",
    "        X_dense[i, zero_mask] = user_means[i]\n",
    "\n",
    "    # Center and transpose\n",
    "    X_centered = (X_dense - user_means[:, np.newaxis]).T  # (movies, users)\n",
    "\n",
    "    # Convert back to sparse\n",
    "    X_sparse = csr_matrix(X_centered)\n",
    "\n",
    "    # Efficient normalization using sparse operations\n",
    "    norms = np.sqrt(np.array(X_sparse.multiply(X_sparse).sum(axis=1)).flatten())\n",
    "    norms = np.maximum(norms, 1e-10)\n",
    "\n",
    "    # Use sparse diagonal matrix for normalization\n",
    "    norm_diag = diags(1.0 / norms, format='csr')\n",
    "    X_normalized = norm_diag @ X_sparse\n",
    "\n",
    "    # Calculate similarity\n",
    "    similarity = X_normalized @ X_normalized.T\n",
    "    similarity_dense = similarity.toarray()\n",
    "\n",
    "    # Final processing\n",
    "    similarity_dense = (similarity_dense + 1) / 2\n",
    "    similarity_dense = np.nan_to_num(similarity_dense, nan=0.5)\n",
    "    np.fill_diagonal(similarity_dense, 1.0)\n",
    "\n",
    "    return similarity_dense\n"
   ],
   "outputs": [],
   "execution_count": 55
  },
  {
   "metadata": {
    "ExecuteTime": {
     "end_time": "2025-09-21T08:15:44.678216Z",
     "start_time": "2025-09-21T08:15:44.671449Z"
    }
   },
   "cell_type": "code",
   "source": [
    "def jacsim_old_v1(self, Xr):\n",
    "    \"\"\"\n",
    "    Calculates item-item similarity for all pairs of items using jaccard similarity (values from 0 to 1)\n",
    "    Handles both binary and multi-category data efficiently with sparse operations.\n",
    "    Xr is the transformed rating matrix.\n",
    "    \"\"\"\n",
    "    # Convert to sparse matrix and transpose to get (movies, users)\n",
    "    Mr_sparse = csr_matrix(Xr.T, dtype=np.float32)\n",
    "\n",
    "    # Detect if data is binary or multicategory\n",
    "    max_value = Mr_sparse.max()\n",
    "    is_binary = max_value <= 1.0\n",
    "\n",
    "    if is_binary:\n",
    "        print(\"Binary data detected.\")\n",
    "        # Binary Jaccard: J(A,B) = |A∩B| / |A∪B|\n",
    "        # For binary data: intersection = A@B, union = |A| + |B| - |A∩B|\n",
    "        # Calculate intersection matrix (dot product for binary data)\n",
    "        intersection = Mr_sparse @ Mr_sparse.T\n",
    "        # Get number of 1s for each movie (row sums)\n",
    "        movie_counts = np.array(Mr_sparse.sum(axis=1)).flatten()\n",
    "        # Calculate union using inclusion-exclusion principle\n",
    "        union = movie_counts[:, None] + movie_counts[None, :] - intersection.toarray()\n",
    "        # Avoid division by zero\n",
    "        union = np.maximum(union, 1)\n",
    "        # Calculate Jaccard similarity\n",
    "        similarity_matrix = intersection.toarray() / union\n",
    "\n",
    "    else:\n",
    "        print(\"Multi-category data detected.\")\n",
    "        # Multi-category Jaccard: J(A,B) = Σmin(Ai,Bi) / Σmax(Ai,Bi)\n",
    "        # Need to use broadcasting for min/max operations\n",
    "        # For large sparse matrices, we can optimize by only computing for non-zero pairs\n",
    "        # But for moderate sizes, dense broadcasting is efficient\n",
    "        Mr_dense = Mr_sparse.toarray()\n",
    "        n_movies = Mr_dense.shape[0]\n",
    "        similarity_matrix = np.zeros((n_movies, n_movies), dtype=np.float32)\n",
    "\n",
    "        # Compute similarities row by row to avoid huge memory usage\n",
    "        for i in range(n_movies):\n",
    "            if i % 500 == 0:  # Progress indicator\n",
    "                print(f\"Processing movie {i}/{n_movies}\")\n",
    "\n",
    "            # Get current movie's ratings\n",
    "            movie_i = Mr_dense[i:i+1]  # Shape: (1, users)\n",
    "\n",
    "            # Compute min and max with all other movies\n",
    "            min_vals = np.minimum(movie_i, Mr_dense)  # Shape: (movies, users)\n",
    "            max_vals = np.maximum(movie_i, Mr_dense)  # Shape: (movies, users)\n",
    "\n",
    "            # Sum across users\n",
    "            intersection = np.sum(min_vals, axis=1)  # Shape: (movies,)\n",
    "            union = np.sum(max_vals, axis=1)        # Shape: (movies,)\n",
    "\n",
    "            # Calculate similarities for this row\n",
    "            similarities = np.divide(intersection, union,\n",
    "                                   out=np.zeros_like(intersection),\n",
    "                                   where=union!=0)\n",
    "\n",
    "            similarity_matrix[i] = similarities\n",
    "\n",
    "\n",
    "    # Ensure diagonal is 1 for both cases\n",
    "    np.fill_diagonal(similarity_matrix, 1.0)\n",
    "\n",
    "    return similarity_matrix\n",
    "\n",
    "def jacsim_v1(self, Xr):\n",
    "    \"\"\"\n",
    "    Calculates item-item similarity for all pairs of items using jaccard similarity\n",
    "    Xr is the transformed rating matrix.\n",
    "    \"\"\"\n",
    "    n = Xr.shape[1]  # Number of movies\n",
    "    maxr = int(Xr.max())  # Maximum rating value\n",
    "\n",
    "    if maxr > 1:\n",
    "        # Multicategory case: sum intersections for each rating level\n",
    "        intersection = np.zeros((n, n)).astype(int)\n",
    "        for i in range(1, maxr + 1):\n",
    "            # Create binary matrix for rating level i\n",
    "            rating_level = (Xr == i).astype(int)\n",
    "            csr = csr_matrix(rating_level)\n",
    "            # Add intersection for this rating level\n",
    "            intersection = intersection + np.array(csr.T.dot(csr).toarray()).astype(int)\n",
    "    else:\n",
    "        # Binary case: direct intersection calculation\n",
    "        intersection = np.zeros((n, n)).astype(int)\n",
    "\n",
    "    # Convert to binary matrix (rated vs not rated)\n",
    "    csr0 = csr_matrix((Xr > 0).astype(int))\n",
    "    # Calculate intersection of non-zero ratings\n",
    "    nz_inter = np.array(csr0.T.dot(csr0).toarray()).astype(int)\n",
    "\n",
    "    # For multicategory, use the sum of rating-level intersections\n",
    "    if maxr > 1:\n",
    "        intersection = intersection\n",
    "    else:\n",
    "        intersection = nz_inter\n",
    "\n",
    "    # Calculate union using inclusion-exclusion principle\n",
    "    # A = movies that have been rated (binary)\n",
    "    A = (Xr > 0).astype(bool)\n",
    "    rowsum = A.sum(axis=0)  # Number of users who rated each movie\n",
    "    rsumtile = np.repeat(rowsum.reshape((n, 1)), n, axis=1)\n",
    "    union = rsumtile.T + rsumtile - nz_inter\n",
    "\n",
    "    # Calculate Jaccard similarity: intersection / union\n",
    "    # Avoid division by zero\n",
    "    union = np.maximum(union, 1)\n",
    "    similarity = intersection.astype(float) / union.astype(float)\n",
    "\n",
    "    # 1. Set NaNs and infs to 0\n",
    "    similarity = np.nan_to_num(similarity, nan=0.0, posinf=0.0, neginf=0.0)\n",
    "\n",
    "    # 2. Set diagonal to 1 (perfect self-similarity)\n",
    "    np.fill_diagonal(similarity, 1.0)\n",
    "\n",
    "    return similarity\n"
   ],
   "outputs": [],
   "execution_count": 56
  }
 ],
 "metadata": {
  "kernelspec": {
   "display_name": "Python 3",
   "language": "python",
   "name": "python3"
  },
  "language_info": {
   "codemirror_mode": {
    "name": "ipython",
    "version": 3
   },
   "file_extension": ".py",
   "mimetype": "text/x-python",
   "name": "python",
   "nbconvert_exporter": "python",
   "pygments_lexer": "ipython3",
   "version": "3.7.6"
  }
 },
 "nbformat": 4,
 "nbformat_minor": 4
}
